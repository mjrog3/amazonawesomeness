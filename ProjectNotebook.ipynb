{
 "cells": [
  {
   "attachments": {},
   "cell_type": "markdown",
   "metadata": {},
   "source": [
    "**Imports**\n",
    "\n",
    "Data"
   ]
  },
  {
   "cell_type": "code",
   "execution_count": 263,
   "metadata": {},
   "outputs": [
    {
     "name": "stdout",
     "output_type": "stream",
     "text": [
      "c:\\Users\\zachg\\Documents\\Programming\\School\\cs349_ML\\test\\amazonawesomeness\n"
     ]
    }
   ],
   "source": [
    "import pandas as pd\n",
    "import os\n",
    "print(os.getcwd())\n",
    "current_folder = os.getcwd()\n",
    "datasetFolder = 'Toys_and_Games' #CDs_and_Vinyl #Grocery_and_Gourmet_Food\n",
    "\n",
    "# Open and load json training files\n",
    "x = pd.read_json(os.path.join(current_folder, datasetFolder, 'train', 'review_training.json'))\n",
    "y = pd.read_json(os.path.join(current_folder, datasetFolder, 'train', 'product_training.json'))"
   ]
  },
  {
   "attachments": {},
   "cell_type": "markdown",
   "metadata": {},
   "source": [
    "Other"
   ]
  },
  {
   "cell_type": "code",
   "execution_count": 397,
   "metadata": {},
   "outputs": [],
   "source": [
    "import numpy as np\n",
    "from nltk import sentiment\n",
    "from nltk.corpus import stopwords\n",
    "from nltk.tokenize import word_tokenize\n",
    "from nltk.stem import WordNetLemmatizer\n",
    "from sklearn.model_selection import cross_validate\n",
    "from sklearn import metrics\n",
    "import matplotlib\n",
    "import matplotlib.pyplot as plt\n",
    "plt.style.use('Solarize_Light2')\n",
    "from sklearn.model_selection import train_test_split"
   ]
  },
  {
   "attachments": {},
   "cell_type": "markdown",
   "metadata": {},
   "source": [
    "PATCH TO SPEED UP (ONLY IF INTEL CHIP) "
   ]
  },
  {
   "cell_type": "code",
   "execution_count": 201,
   "metadata": {},
   "outputs": [
    {
     "name": "stderr",
     "output_type": "stream",
     "text": [
      "Intel(R) Extension for Scikit-learn* enabled (https://github.com/intel/scikit-learn-intelex)\n"
     ]
    }
   ],
   "source": [
    "from sklearnex import patch_sklearn \n",
    "\n",
    "patch_sklearn()"
   ]
  },
  {
   "cell_type": "code",
   "execution_count": null,
   "metadata": {},
   "outputs": [],
   "source": [
    "x #770786 rows <- # reviews\n",
    "y #073082 rows <- # products"
   ]
  },
  {
   "attachments": {},
   "cell_type": "markdown",
   "metadata": {},
   "source": [
    "# Feature creation "
   ]
  },
  {
   "attachments": {},
   "cell_type": "markdown",
   "metadata": {},
   "source": [
    "Making a sample set to test features:"
   ]
  },
  {
   "cell_type": "code",
   "execution_count": null,
   "metadata": {},
   "outputs": [],
   "source": [
    "#ts = test sample 2 thousand reviews long\n",
    "ts = x[:2000]\n",
    "ts"
   ]
  },
  {
   "attachments": {},
   "cell_type": "markdown",
   "metadata": {},
   "source": [
    "Review Count"
   ]
  },
  {
   "cell_type": "code",
   "execution_count": 264,
   "metadata": {},
   "outputs": [],
   "source": [
    "dropUnverified = x[x.verified == True]\n",
    "reviewCount = x.groupby('asin')[\"reviewerID\"].count()\n",
    "reviewCount = reviewCount.rename(\"Review_Count\")"
   ]
  },
  {
   "cell_type": "code",
   "execution_count": null,
   "metadata": {},
   "outputs": [],
   "source": [
    "dropUnverified.groupby('asin')['unixReviewTime'].mean() #63401 rows! -> some products don't have ANY verified reviews"
   ]
  },
  {
   "attachments": {},
   "cell_type": "markdown",
   "metadata": {},
   "source": [
    "Percent verified"
   ]
  },
  {
   "cell_type": "code",
   "execution_count": 265,
   "metadata": {},
   "outputs": [],
   "source": [
    "percent_verified = dropUnverified.groupby(\"asin\")[\"reviewerID\"].count()\n",
    "percent_verified = percent_verified/reviewCount\n",
    "percent_verified = percent_verified.apply(lambda x: x if x > 0  else 0)\n",
    "percent_verified = percent_verified.rename(\"%_Verified\")"
   ]
  },
  {
   "attachments": {},
   "cell_type": "markdown",
   "metadata": {},
   "source": [
    "Dropping bots by time of post\n",
    "\n",
    "All the comments are encoded with the date only, no time, so this is not possible"
   ]
  },
  {
   "cell_type": "code",
   "execution_count": null,
   "metadata": {},
   "outputs": [],
   "source": [
    "droppedBots = x[x.unixReviewTime % 100 != 0]"
   ]
  },
  {
   "attachments": {},
   "cell_type": "markdown",
   "metadata": {},
   "source": [
    "Total number of votes across reviews"
   ]
  },
  {
   "cell_type": "code",
   "execution_count": 266,
   "metadata": {},
   "outputs": [
    {
     "data": {
      "text/plain": [
       "0         0.0\n",
       "1         0.0\n",
       "2         0.0\n",
       "3         0.0\n",
       "4         0.0\n",
       "         ... \n",
       "640558    2.0\n",
       "640559    0.0\n",
       "640560    0.0\n",
       "640561    0.0\n",
       "640562    0.0\n",
       "Name: vote, Length: 640563, dtype: float64"
      ]
     },
     "execution_count": 266,
     "metadata": {},
     "output_type": "execute_result"
    }
   ],
   "source": [
    "x_copy = x.copy(deep=True)\n",
    "total_review_num = x_copy.vote\n",
    "total_review_num = total_review_num.apply(lambda x: float(x.replace(\",\", \"\")) if type(x) == str  else 0)\n",
    "total_review_num #= total_review_num.rename(\"vote\").to_frame()\n",
    "# x_copy[\"vote\"] = total_review_num[\"vote\"]\n",
    "# total_votes = x_copy.groupby('asin')[\"vote\"].sum(\"vote\")\n",
    "# total_votes = total_votes.rename(\"Total_Votes\")"
   ]
  },
  {
   "attachments": {},
   "cell_type": "markdown",
   "metadata": {},
   "source": [
    "Percent of reviews with images"
   ]
  },
  {
   "cell_type": "code",
   "execution_count": 267,
   "metadata": {},
   "outputs": [],
   "source": [
    "with_image = x[x.image.astype('string') != \"None\"]\n",
    "with_image = with_image.groupby('asin')[\"image\"].count()\n",
    "with_image_percentage = with_image/reviewCount\n",
    "with_image_percentage = with_image_percentage.apply(lambda x: x if x > 0  else 0)\n",
    "#with_image_percentage = with_image_percentage[with_image_percentage > 0] # - to see how many reviews have at least one image\n",
    "with_image_percentage = with_image_percentage.rename(\"%_Image\")"
   ]
  },
  {
   "attachments": {},
   "cell_type": "markdown",
   "metadata": {},
   "source": [
    "# Helper Functions"
   ]
  },
  {
   "attachments": {},
   "cell_type": "markdown",
   "metadata": {},
   "source": [
    "clean up the vote type"
   ]
  },
  {
   "cell_type": "code",
   "execution_count": 233,
   "metadata": {},
   "outputs": [],
   "source": [
    "def clean_type(z):\n",
    "    if type(z) == str:\n",
    "        return float(z.replace(\",\", \"\"))   \n",
    "    elif type(z) == float:\n",
    "        return z \n",
    "    else:\n",
    "        return 0"
   ]
  },
  {
   "attachments": {},
   "cell_type": "markdown",
   "metadata": {},
   "source": [
    "vote weight"
   ]
  },
  {
   "cell_type": "code",
   "execution_count": 401,
   "metadata": {},
   "outputs": [],
   "source": [
    "def votew(vote):\n",
    "    if vote > 5 and vote < 20:\n",
    "        return 0.6\n",
    "    elif vote > 20:\n",
    "        return 1\n",
    "    return 0.3"
   ]
  },
  {
   "attachments": {},
   "cell_type": "markdown",
   "metadata": {},
   "source": [
    "image weight"
   ]
  },
  {
   "cell_type": "code",
   "execution_count": 402,
   "metadata": {},
   "outputs": [],
   "source": [
    "def imagew(image):\n",
    "    if image == None or image == 'None':\n",
    "        return 0.3\n",
    "    return 1"
   ]
  },
  {
   "attachments": {},
   "cell_type": "markdown",
   "metadata": {},
   "source": [
    "adding new things to x"
   ]
  },
  {
   "cell_type": "code",
   "execution_count": 403,
   "metadata": {},
   "outputs": [],
   "source": [
    "x['vote'] = x['vote'].apply(lambda x: clean_type(x))\n",
    "x['vote_weight'] = x['vote'].apply(lambda x: votew(x))\n",
    "x['image_weight'] = x['image'].apply(lambda x: imagew(x))\n",
    "# x"
   ]
  },
  {
   "attachments": {},
   "cell_type": "markdown",
   "metadata": {},
   "source": [
    "# Text Analysis"
   ]
  },
  {
   "attachments": {},
   "cell_type": "markdown",
   "metadata": {},
   "source": [
    "Small group to test text analyses"
   ]
  },
  {
   "cell_type": "code",
   "execution_count": null,
   "metadata": {},
   "outputs": [],
   "source": [
    "testdata = x.groupby(\"asin\").get_group(\"0000B049F5B33CD310EB1AB236E20191\")\n",
    "\n",
    "# np.mean(len(str(testdata[\"reviewText\"]).split()))"
   ]
  },
  {
   "attachments": {},
   "cell_type": "markdown",
   "metadata": {},
   "source": [
    "Length of Reviews Feature"
   ]
  },
  {
   "cell_type": "code",
   "execution_count": 269,
   "metadata": {},
   "outputs": [],
   "source": [
    "reviewlength = x.groupby('asin')[\"reviewText\"].apply(lambda x: x.str.split().str.len().mean())\n",
    "reviewlength = reviewlength.fillna(0).rename(\"Review_Length\")\n",
    "\n",
    "summarylength = x.groupby('asin')[\"summary\"].apply(lambda x: x.str.split().str.len().mean())\n",
    "summarylength = summarylength.fillna(0).rename(\"Summary_Length\")\n"
   ]
  },
  {
   "cell_type": "code",
   "execution_count": null,
   "metadata": {},
   "outputs": [],
   "source": [
    "# a= 1\n",
    "\n",
    "# def f(votes):\n",
    "#     if (votes>a):\n",
    "#         return 2\n",
    "#     return 344"
   ]
  },
  {
   "cell_type": "code",
   "execution_count": null,
   "metadata": {},
   "outputs": [],
   "source": [
    "# x=x[:200]\n",
    "# sia = sentiment.SentimentIntensityAnalyzer()\n",
    "# RSentiment = x[\"reviewText\"].apply(lambda x: sia.polarity_scores(x.to_string())[\"compound\"]) #sentiment per no avg\n",
    "# RSentiment = RSentiment.fillna(0).rename(\"Review_sentiment\") #make that col\n",
    "# #apply f(votes) to each element\n",
    "# #avg the result\n",
    "\n"
   ]
  },
  {
   "attachments": {},
   "cell_type": "markdown",
   "metadata": {},
   "source": [
    "Percentage Uppercase Feature:"
   ]
  },
  {
   "cell_type": "code",
   "execution_count": 270,
   "metadata": {},
   "outputs": [],
   "source": [
    "# def count_cap(str):\n",
    "#     stripped = ''.join(str.split())\n",
    "#     return sum(c.isupper() for c in ''.join(stripped))/len(stripped)\n",
    "\n",
    "RpercentCap = x.groupby('asin')[\"reviewText\"].apply(lambda x: (x.str.count(\"[A-Z]\")/x.str.len()).mean())\n",
    "RpercentCap = RpercentCap.fillna(0).rename(\"Review_Percent_Uppercase\")\n",
    "\n",
    "SpercentCap = x.groupby('asin')[\"summary\"].apply(lambda x: (x.str.count(\"[A-Z]\")/x.str.len()).mean())\n",
    "SpercentCap = SpercentCap.fillna(0).rename(\"Summary_Percent_Uppercase\")\n"
   ]
  },
  {
   "attachments": {},
   "cell_type": "markdown",
   "metadata": {},
   "source": [
    "Actual Awesomeness Feature: # times the word \"awesome\" is used per review"
   ]
  },
  {
   "cell_type": "code",
   "execution_count": null,
   "metadata": {},
   "outputs": [],
   "source": [
    "actualAwesomeness = x.groupby('asin')[\"reviewText\"].apply(lambda x: (x.str.count(\"[Aa]wesome\")).mean())\n",
    "actualAwesomeness = actualAwesomeness.fillna(0).rename(\"Actual_Awesomeness\")"
   ]
  },
  {
   "cell_type": "code",
   "execution_count": null,
   "metadata": {},
   "outputs": [],
   "source": [
    "actualAwesomeness"
   ]
  },
  {
   "attachments": {},
   "cell_type": "markdown",
   "metadata": {},
   "source": [
    "# Sentiment Analysis"
   ]
  },
  {
   "attachments": {},
   "cell_type": "markdown",
   "metadata": {},
   "source": [
    "downloads"
   ]
  },
  {
   "cell_type": "code",
   "execution_count": null,
   "metadata": {},
   "outputs": [],
   "source": [
    "import nltk\n",
    "nltk.download('stopwords')\n",
    "nltk.download('wordnet')\n",
    "nltk.download('punkt')"
   ]
  },
  {
   "cell_type": "code",
   "execution_count": 504,
   "metadata": {},
   "outputs": [
    {
     "name": "stdout",
     "output_type": "stream",
     "text": [
      "0.9557\n",
      "-0.927\n",
      "0.0\n"
     ]
    }
   ],
   "source": [
    "import re\n",
    "\n",
    "## Helper function for sentiment analysis testing\n",
    "def review_sentiment(text):\n",
    "    sia = sentiment.SentimentIntensityAnalyzer()\n",
    "    return sia.polarity_scores(text)[\"compound\"]\n",
    "\n",
    "## just some examples to gut check\n",
    "print(review_sentiment(\"LOVE BEST AWESOME !!!\"))\n",
    "print(review_sentiment(\"TERRIBLE DISGUSTING AWFUL !!!\"))\n",
    "print(review_sentiment(\"!\"))\n",
    "\n",
    "import string\n",
    "def preprocess(text):\n",
    "    if (text == None): return \"\"\n",
    "    lemmatizer = WordNetLemmatizer()\n",
    "    # text = re.split(\"[?.!] \",text)\n",
    "    # text = \"\".join([char for char in text.lower() if char not in string.punctuation])\n",
    "    words = [word for word in word_tokenize(text) if word not in stopwords.words(\"english\")]\n",
    "    tokens = [lemmatizer.lemmatize(token) for token in words]\n",
    "    return \" \".join(tokens)"
   ]
  },
  {
   "attachments": {},
   "cell_type": "markdown",
   "metadata": {},
   "source": [
    "preprocess, save to external file"
   ]
  },
  {
   "cell_type": "code",
   "execution_count": 505,
   "metadata": {},
   "outputs": [],
   "source": [
    "x[\"processedTest\"] = x[\"reviewText\"].apply(preprocess)\n",
    "x[\"processedTest\"].to_json(\"../processedReviewsFOOD.json\")\n",
    "x[\"processedSums\"] = x[\"summary\"].apply(preprocess)\n",
    "x[\"processedSums\"].to_json(\"../processedSummaryFOOD.json\")"
   ]
  },
  {
   "attachments": {},
   "cell_type": "markdown",
   "metadata": {},
   "source": [
    "Read from the jsons"
   ]
  },
  {
   "cell_type": "code",
   "execution_count": 417,
   "metadata": {},
   "outputs": [],
   "source": [
    "revtext = pd.read_json(\"../processedReviewsFood.json\",typ='series')\n",
    "revtext.to_frame('processedText')\n",
    "x[\"processedText\"] = revtext.fillna(\"\")\n",
    "\n",
    "sumtext = pd.read_json(\"../processedSummaryFood.json\",typ='series')\n",
    "sumtext.to_frame('processedSums')\n",
    "x[\"processedSums\"] = sumtext.fillna(\"\")"
   ]
  },
  {
   "attachments": {},
   "cell_type": "markdown",
   "metadata": {},
   "source": [
    "Getting concatenated corpus of all reviewTexts for each product"
   ]
  },
  {
   "cell_type": "code",
   "execution_count": null,
   "metadata": {},
   "outputs": [],
   "source": [
    "x[\"concatReviews\"] = x.groupby(['asin'],as_index=False).agg({'processedText': ' '.join})['processedText']\n",
    "x[\"concatSums\"] = x.groupby(['asin'],as_index=False).agg({'processedSums': ' '.join})['processedSums']"
   ]
  },
  {
   "cell_type": "code",
   "execution_count": null,
   "metadata": {},
   "outputs": [],
   "source": [
    "\n",
    "q = x[[\"asin\",\"concatReviews\",\"concatSums\"]]\n",
    "q=q.dropna()\n",
    "# q=q.to_frame()\n",
    "q\n",
    "\n",
    "#replace x with q, processedText with concatReviews, and processedSums with concatSums in the cell below \n",
    "# to get sentiment analysis of concatenated corpuses"
   ]
  },
  {
   "attachments": {},
   "cell_type": "markdown",
   "metadata": {},
   "source": [
    "##### Replace words related to # of stars with actual value so sentiment analysis can pick up on them"
   ]
  },
  {
   "attachments": {},
   "cell_type": "markdown",
   "metadata": {},
   "source": [
    "Manual replacement"
   ]
  },
  {
   "cell_type": "code",
   "execution_count": 295,
   "metadata": {},
   "outputs": [],
   "source": [
    "def starReplacer(text):\n",
    "    t= text.lower() \n",
    "    if (\"five star\" in t):\n",
    "        return text + \" excellent\"\n",
    "    elif (\"four star\" in t):\n",
    "        return text + \" okay\"\n",
    "    elif (\"three star\" in t):\n",
    "        return text + \" terrible\"\n",
    "    elif (\"two star\" in t):\n",
    "        return text + \" terrible\"\n",
    "    elif (\"one star\" in t):\n",
    "        return text + \" terrible\"\n",
    "    else: return text"
   ]
  },
  {
   "cell_type": "code",
   "execution_count": 296,
   "metadata": {},
   "outputs": [],
   "source": [
    "x[\"processedSums\"] = x[\"processedSums\"].apply(lambda x: starReplacer(x))"
   ]
  },
  {
   "attachments": {},
   "cell_type": "markdown",
   "metadata": {},
   "source": [
    "Bag of Words word replacement\n",
    "\n",
    "- the idea is to split the data into reviews for an AWESOME product and NOT AWESOME product, and find the words most common (and unique) to each\n",
    "- then replace those words in all reviews with things like \"AMAZING, LOVED IT, MASTERPIECE\" if awesome or \"TERRIBLE, AWFUL, DISGUSTING\" if not so that the sentiment analysis will pick up on the awesomeness based on reviews better!\n",
    "- try this with different n-grams to try to pick up on things like \"five stars\" or \"couldn't stop eating\""
   ]
  },
  {
   "cell_type": "code",
   "execution_count": 412,
   "metadata": {},
   "outputs": [],
   "source": [
    "#split data into pos, neg reviews\n",
    "data_w_awesomeness = x.merge(y,\"inner\",\"asin\")\n",
    "pos_revs = data_w_awesomeness.query(\"awesomeness==1\")\n",
    "neg_revs = data_w_awesomeness.query(\"awesomeness==0\")"
   ]
  },
  {
   "cell_type": "code",
   "execution_count": 411,
   "metadata": {},
   "outputs": [],
   "source": [
    "def replaceWords(text, pos_words, neg_words):\n",
    "    pos_message = \"love best awesome\"\n",
    "    neg_message = \"terrible disgusting awful\"\n",
    "\n",
    "    #replace\n",
    "    for pw in pos_words:\n",
    "        text = text.replace(\" \"+pw,\" \"+pos_message)\n",
    "    for nw in neg_words:\n",
    "        text = text.replace(\" \"+nw,\" \"+neg_message)\n",
    "\n",
    "#spaces added to prevent replacing parts of words. \n",
    "# Still could replace ends of words, but probs not that much of an issue\n",
    "\n",
    "    #append\n",
    "    # for pw in pos_words:\n",
    "    #     if (\" \"+pw) in text: text += \" \"+pos_message \n",
    "    # for nw in neg_words:\n",
    "    #     if (\" \"+nw) in text: text += \" \"+neg_message \n",
    "\n",
    "    return text\n",
    "\n",
    "def get_disjoint_elements(arr1,arr2):\n",
    "    return [[e for e in arr1 if e not in arr2],[e for e in arr2 if e not in arr1]]"
   ]
  },
  {
   "cell_type": "code",
   "execution_count": 423,
   "metadata": {},
   "outputs": [
    {
     "name": "stdout",
     "output_type": "stream",
     "text": [
      "Review positive words: loved, amazing, masterpiece, amazing loved, it, loved it, it masterpiece, terrible, awful, disgusting, awful disgusting, terrible awful, awesome, masterpiece awesome, trash, disgusting trash, good, great, taste, like, love, flavor, tea, product, one, use, make, coffee, price, time, really, get, best, buy, much, would, delicious, dont, bag, sugar, also, chocolate, little, well, better, ive, brand, im, favorite, used\n",
      "Review negative words: awful, terrible, disgusting, terrible awful, awful disgusting, trash, disgusting trash, loved, amazing, masterpiece, amazing loved, it masterpiece, loved it, it, awesome, masterpiece awesome, taste, good, like, flavor, great, coffee, love, one, product, tea, make, really, would, get, use, dont, much, time, buy, price, little, sugar, better, im, also, bag, chocolate, best, delicious, well, ive, sweet, tried, brand\n",
      "Summary positive words: star, five, five star, amazing, loved, great, masterpiece, amazing loved, it masterpiece, loved it, it, good, masterpiece amazing, awesome, masterpiece awesome, love, taste, best, product, tea, four, flavor, four star, delicious, like, coffee, price, terrible, excellent, awful, disgusting, awful disgusting, terrible awful, trash, disgusting trash, yummy, tasty, favorite, quality, nice, stuff, one, snack, great product, perfect, buy, yum, better, fresh, chocolate\n",
      "Summary negative words: star, five, five star, good, great, amazing, loved, masterpiece, amazing loved, it, it masterpiece, loved it, taste, love, masterpiece amazing, awesome, flavor, like, masterpiece awesome, terrible, four, four star, awful, disgusting, coffee, awful disgusting, terrible awful, trash, disgusting trash, best, product, delicious, tea, one, tasty, three, three star, yummy, price, nice, excellent, favorite, snack, better, really, sweet, one star, buy, stuff, yum\n",
      "UNIQUE Review positive words: favorite, used\n",
      "UNIQUE Review negative words: sweet, tried\n",
      "UNIQUE Summary positive words: quality, great product, perfect, fresh, chocolate\n",
      "UNIQUE Summary negative words: three, three star, really, sweet, one star\n"
     ]
    }
   ],
   "source": [
    "from sklearn.feature_extraction.text import CountVectorizer\n",
    "\n",
    "#use count vectorizer on all reviews, summaries\n",
    "\n",
    "def count_and_getMostCommon(textdf):\n",
    "    cv = CountVectorizer(ngram_range=(1,2), max_features=50) #max_features itself gets most common, but not sorted\n",
    "    #sum the resulting sparse matrices to get total counts\n",
    "    counts = cv.fit_transform(textdf).toarray().sum(axis=0)\n",
    "    #argsort to order by MOST COMMON \n",
    "    return cv.get_feature_names_out()[np.argsort(counts)[::-1]]\n",
    "\n",
    "#get the words corresponding to the indexes\n",
    "# put them into an array of pos_words, neg_words\n",
    "rpos_words = count_and_getMostCommon(pos_revs[\"processedText\"])\n",
    "rneg_words = count_and_getMostCommon(neg_revs[\"processedText\"])\n",
    "spos_words = count_and_getMostCommon(pos_revs[\"processedSums\"])\n",
    "sneg_words = count_and_getMostCommon(neg_revs[\"processedSums\"])\n",
    "\n",
    "print(\"Review positive words: \"+\", \".join(rpos_words))\n",
    "print(\"Review negative words: \"+\", \".join(rneg_words))\n",
    "\n",
    "print(\"Summary positive words: \"+\", \".join(spos_words))\n",
    "print(\"Summary negative words: \"+\", \".join(sneg_words))\n",
    "\n",
    "\n",
    "#remove common words\n",
    "\n",
    "[rpos_words,rneg_words] = get_disjoint_elements(rpos_words,rneg_words)\n",
    "[spos_words,sneg_words] = get_disjoint_elements(spos_words,sneg_words)\n",
    "\n",
    "print(\"UNIQUE Review positive words: \"+\", \".join(rpos_words))\n",
    "print(\"UNIQUE Review negative words: \"+\", \".join(rneg_words))\n",
    "\n",
    "print(\"UNIQUE Summary positive words: \"+\", \".join(spos_words))\n",
    "print(\"UNIQUE Summary negative words: \"+\", \".join(sneg_words))\n",
    "\n",
    "\n",
    "#could also try getting most common words and just deleting them ?"
   ]
  },
  {
   "cell_type": "code",
   "execution_count": 425,
   "metadata": {},
   "outputs": [],
   "source": [
    "# replace every use of the words in x sums/reviews by running replaceWords(text, pos_words, neg_words)\n",
    "x[\"processedSums\"] = x[\"processedSums\"].apply(lambda text: replaceWords(text, spos_words, sneg_words))\n",
    "x[\"processedText\"] = x[\"processedText\"].apply(lambda text: replaceWords(text, rpos_words, rneg_words))"
   ]
  },
  {
   "attachments": {},
   "cell_type": "markdown",
   "metadata": {},
   "source": [
    "TFIDF word replacement\n",
    "\n",
    "- similar to bag of words replacement, but now for most IMPORTANT and nonoverlapping words instead of just most common"
   ]
  },
  {
   "cell_type": "code",
   "execution_count": 422,
   "metadata": {},
   "outputs": [
    {
     "name": "stdout",
     "output_type": "stream",
     "text": [
      "Review positive words: add, also, amazing, awesome, awful, bag, best, better, brand, buy, chocolate, coffee, delicious, disgusting, dont, even, favorite, find, flavor, get, go, good, great, im, it, ive, like, little, love, loved, make, masterpiece, much, nice, one, price, product, really, sugar, sweet, taste, tea, terrible, time, trash, tried, use, used, well, would\n",
      "Review negative words: add, also, amazing, awesome, awful, bag, best, better, brand, buy, chocolate, coffee, delicious, disgusting, dont, eat, even, favorite, find, flavor, get, good, great, im, it, ive, like, little, love, loved, make, masterpiece, much, nice, one, price, product, really, sugar, sweet, taste, tea, terrible, time, trash, tried, use, used, well, would\n",
      "Summary positive words: amazing, awesome, awful, best, better, buy, chocolate, coffee, delicious, disgusting, easy, ever, excellent, favorite, five, flavor, four, free, fresh, good, great, healthy, it, like, love, loved, make, masterpiece, nice, one, perfect, price, product, quality, really, snack, star, stuff, sugar, sweet, taste, tasting, tasty, tea, terrible, three, trash, wonderful, yum, yummy\n",
      "Summary negative words: amazing, awesome, awful, best, better, buy, chocolate, coffee, delicious, disgusting, ever, excellent, favorite, five, flavor, four, free, fresh, good, great, healthy, it, like, love, loved, make, masterpiece, nice, ok, one, perfect, price, product, quality, really, snack, star, stuff, sugar, sweet, taste, tasting, tasty, tea, terrible, three, trash, two, yum, yummy\n",
      "UNIQUE Review positive words: go\n",
      "UNIQUE Review negative words: eat\n",
      "UNIQUE Summary positive words: easy, wonderful\n",
      "UNIQUE Summary negative words: ok, two\n"
     ]
    }
   ],
   "source": [
    "from sklearn.feature_extraction.text import TfidfVectorizer\n",
    "\n",
    "def tfidf_train_and_getfeatures(textdf):\n",
    "    tfidf = TfidfVectorizer(max_features=50)\n",
    "    tfidf.fit_transform(textdf)\n",
    "    return tfidf.get_feature_names_out()\n",
    "\n",
    "#fit tfidf to all reviews, summaries\n",
    "#get_features_out (? or _vocab? or smth?) to get the words corresponding to #?# most important UNIQUE words\n",
    "# put them into an array of words\n",
    "\n",
    "rpos_words = tfidf_train_and_getfeatures(pos_revs[\"processedText\"])\n",
    "rneg_words = tfidf_train_and_getfeatures(neg_revs[\"processedText\"])\n",
    "spos_words = tfidf_train_and_getfeatures(pos_revs[\"processedSums\"])\n",
    "sneg_words = tfidf_train_and_getfeatures(neg_revs[\"processedSums\"])\n",
    "\n",
    "print(\"Review positive words: \"+\", \".join(rpos_words))\n",
    "print(\"Review negative words: \"+\", \".join(rneg_words))\n",
    "\n",
    "print(\"Summary positive words: \"+\", \".join(spos_words))\n",
    "print(\"Summary negative words: \"+\", \".join(sneg_words))\n",
    "\n",
    "#remove common words\n",
    "\n",
    "[rpos_words,rneg_words] = get_disjoint_elements(rpos_words,rneg_words)\n",
    "[spos_words,sneg_words] = get_disjoint_elements(spos_words,sneg_words)\n",
    "\n",
    "print(\"UNIQUE Review positive words: \"+\", \".join(rpos_words))\n",
    "print(\"UNIQUE Review negative words: \"+\", \".join(rneg_words))\n",
    "\n",
    "print(\"UNIQUE Summary positive words: \"+\", \".join(spos_words))\n",
    "print(\"UNIQUE Summary negative words: \"+\", \".join(sneg_words))\n",
    "\n",
    "#could also try getting most common words and just deleting them ?"
   ]
  },
  {
   "cell_type": "code",
   "execution_count": 361,
   "metadata": {},
   "outputs": [],
   "source": [
    "# replace every use of the words in x sums/reviews by running replaceWords(text, pos_words, neg_words)\n",
    "x[\"processedSums\"] = x[\"processedSums\"].apply(lambda text: replaceWords(text, spos_words, sneg_words))\n",
    "x[\"processedText\"] = x[\"processedText\"].apply(lambda text: replaceWords(text, rpos_words, rneg_words))"
   ]
  },
  {
   "attachments": {},
   "cell_type": "markdown",
   "metadata": {},
   "source": [
    "##### Apply sentiment analysis to data"
   ]
  },
  {
   "cell_type": "code",
   "execution_count": 418,
   "metadata": {},
   "outputs": [],
   "source": [
    "sia = sentiment.SentimentIntensityAnalyzer()\n",
    "x[\"rsent\"] = x[\"processedText\"].apply(lambda y: np.mean(sia.polarity_scores(y)[\"compound\"]))\n",
    "# x.loc[:, [\"rsent\"]] = x.loc[:,['rsent']].multiply(x.loc[:, 'vote_weight'], axis=\"index\")\n",
    "# x.loc[:, [\"rsent\"]] = x.loc[:,['rsent']].multiply(x.loc[:, 'image_weight'], axis=\"index\")\n",
    "RavgSentiment = x.groupby(\"asin\")[\"rsent\"].mean()\n",
    "RavgSentiment = RavgSentiment.rename(\"Review_Avg_Sentiment\")\n",
    "\n",
    "x['sumsent'] = x[\"processedSums\"].apply(lambda y: np.mean(sia.polarity_scores(y)[\"compound\"]))\n",
    "# x.loc[:, [\"sumsent\"]] = x.loc[:,['sumsent']].multiply(x.loc[:, 'vote_weight'], axis=\"index\")\n",
    "# x.loc[:, [\"sumsent\"]] = x.loc[:,['sumsent']].multiply(x.loc[:, 'image_weight'], axis=\"index\")\n",
    "SavgSentiment = x.groupby(\"asin\")[\"sumsent\"].mean()\n",
    "SavgSentiment = SavgSentiment.rename(\"Summary_Avg_Sentiment\")\n"
   ]
  },
  {
   "cell_type": "code",
   "execution_count": null,
   "metadata": {},
   "outputs": [],
   "source": [
    "# sia = sentiment.SentimentIntensityAnalyzer()\n",
    "# ts[\"sumsent\"] = ts[\"processedSums\"].apply(lambda x: sia.polarity_scores(x)[\"compound\"])\n",
    "# ts.loc[:, [\"sumsent\"]] = ts.loc[:,['sumsent']].multiply(ts.loc[:, 'vote_weight'], axis=\"index\")\n",
    "# ts.loc[:, [\"sumsent\"]] = ts.loc[:,['sumsent']].multiply(ts.loc[:, 'image_weight'], axis=\"index\")\n",
    "# t = ts.groupby('asin').mean()['sumsent']\n",
    "# t\n",
    "#ts.groupby(\"asin\").mean()[\"sumsent\"]\n",
    "# Rtest = Rtest.rename(\"Review_Avg_Sentiment\")\n",
    "\n",
    "# Stest = x.groupby('asin')[\"processedSums\"].fillna(\"\").apply(lambda x: np.mean(sia.polarity_scores(x)[\"compound\"]))\n",
    "# Stest = Stest.rename(\"Summary_Avg_Sentiment\")"
   ]
  },
  {
   "attachments": {},
   "cell_type": "markdown",
   "metadata": {},
   "source": [
    "# tfidf feature vector"
   ]
  },
  {
   "cell_type": "code",
   "execution_count": null,
   "metadata": {},
   "outputs": [],
   "source": [
    "# tfidf for reviews\n",
    "\n",
    "from sklearn.feature_extraction.text import TfidfVectorizer\n",
    "tfidf = TfidfVectorizer(vocabulary=np.concatenate(rpos_words,rneg_words))\n",
    "# \n",
    "# x[\"processedText\"] = revtext\n",
    "tfidf_DF = x[[\"asin\",\"processedText\"]]\n",
    "\n",
    "\n",
    "\n",
    "# tfidf_DF[\"processedText\"] = \n",
    "# tfidf_DF[\"processedTest\"] = tfidf_DF[\"processedTest\"].fillna(\"\")\n",
    "# tfidf_DF[\"processedRevs\"] = tfidf_DF[\"reviewText\"].fillna(\"\").apply(preprocess)\n",
    "\n",
    "tfidf.fit_transform(tfidf_DF[\"processedText\"])\n",
    "# tfidffeatures.toarray()\n",
    "feature_names = tfidf.get_feature_names_out()\n",
    "\n",
    "tfidf2 = TfidfVectorizer(vocabulary=tfidf.vocabulary_)\n",
    "tfidfarray = tfidf2.fit_transform(tfidf_DF[\"processedText\"]).toarray()\n",
    "\n",
    "featuredf = pd.DataFrame(tfidfarray,columns = feature_names)\n",
    "tfidf_DF = pd.concat([tfidf_DF,featuredf],axis=1)\n",
    "RtfidfFeature = tfidf_DF.groupby(\"asin\")[feature_names].mean()\n",
    "\n",
    "RtfidfFeature"
   ]
  },
  {
   "cell_type": "code",
   "execution_count": 426,
   "metadata": {},
   "outputs": [
    {
     "data": {
      "text/html": [
       "<div>\n",
       "<style scoped>\n",
       "    .dataframe tbody tr th:only-of-type {\n",
       "        vertical-align: middle;\n",
       "    }\n",
       "\n",
       "    .dataframe tbody tr th {\n",
       "        vertical-align: top;\n",
       "    }\n",
       "\n",
       "    .dataframe thead th {\n",
       "        text-align: right;\n",
       "    }\n",
       "</style>\n",
       "<table border=\"1\" class=\"dataframe\">\n",
       "  <thead>\n",
       "    <tr style=\"text-align: right;\">\n",
       "      <th></th>\n",
       "      <th>best</th>\n",
       "      <th>flavor</th>\n",
       "      <th>good</th>\n",
       "      <th>great</th>\n",
       "      <th>like</th>\n",
       "      <th>love</th>\n",
       "      <th>one</th>\n",
       "      <th>product</th>\n",
       "      <th>taste</th>\n",
       "      <th>tea</th>\n",
       "    </tr>\n",
       "    <tr>\n",
       "      <th>asin</th>\n",
       "      <th></th>\n",
       "      <th></th>\n",
       "      <th></th>\n",
       "      <th></th>\n",
       "      <th></th>\n",
       "      <th></th>\n",
       "      <th></th>\n",
       "      <th></th>\n",
       "      <th></th>\n",
       "      <th></th>\n",
       "    </tr>\n",
       "  </thead>\n",
       "  <tbody>\n",
       "    <tr>\n",
       "      <th>00004C1575E00FDAB2DF85DA99F0891E</th>\n",
       "      <td>0.000000</td>\n",
       "      <td>0.333333</td>\n",
       "      <td>0.000000</td>\n",
       "      <td>0.000000</td>\n",
       "      <td>0.000000</td>\n",
       "      <td>0.000000</td>\n",
       "      <td>0.000000</td>\n",
       "      <td>0.000000</td>\n",
       "      <td>0.000000</td>\n",
       "      <td>0.000000</td>\n",
       "    </tr>\n",
       "    <tr>\n",
       "      <th>000056B2BB04C27DBA74979B4DBCC516</th>\n",
       "      <td>0.104386</td>\n",
       "      <td>0.167539</td>\n",
       "      <td>0.288169</td>\n",
       "      <td>0.179331</td>\n",
       "      <td>0.095769</td>\n",
       "      <td>0.333333</td>\n",
       "      <td>0.224654</td>\n",
       "      <td>0.000000</td>\n",
       "      <td>0.091727</td>\n",
       "      <td>0.000000</td>\n",
       "    </tr>\n",
       "    <tr>\n",
       "      <th>000069AC93D31A15BC5707FCA696C52C</th>\n",
       "      <td>0.138188</td>\n",
       "      <td>0.000000</td>\n",
       "      <td>0.000000</td>\n",
       "      <td>0.000000</td>\n",
       "      <td>0.507123</td>\n",
       "      <td>0.115571</td>\n",
       "      <td>0.148700</td>\n",
       "      <td>0.000000</td>\n",
       "      <td>0.364289</td>\n",
       "      <td>0.000000</td>\n",
       "    </tr>\n",
       "    <tr>\n",
       "      <th>000147A59EA421EE494EA6CD56CA25ED</th>\n",
       "      <td>0.000000</td>\n",
       "      <td>0.046795</td>\n",
       "      <td>0.097886</td>\n",
       "      <td>0.041817</td>\n",
       "      <td>0.103169</td>\n",
       "      <td>0.000000</td>\n",
       "      <td>0.000000</td>\n",
       "      <td>0.000000</td>\n",
       "      <td>0.331200</td>\n",
       "      <td>0.000000</td>\n",
       "    </tr>\n",
       "    <tr>\n",
       "      <th>00017A51C0C1C48D832D4F91B9309D81</th>\n",
       "      <td>0.046173</td>\n",
       "      <td>0.340831</td>\n",
       "      <td>0.250000</td>\n",
       "      <td>0.179015</td>\n",
       "      <td>0.084723</td>\n",
       "      <td>0.077233</td>\n",
       "      <td>0.049686</td>\n",
       "      <td>0.109714</td>\n",
       "      <td>0.172713</td>\n",
       "      <td>0.372605</td>\n",
       "    </tr>\n",
       "    <tr>\n",
       "      <th>...</th>\n",
       "      <td>...</td>\n",
       "      <td>...</td>\n",
       "      <td>...</td>\n",
       "      <td>...</td>\n",
       "      <td>...</td>\n",
       "      <td>...</td>\n",
       "      <td>...</td>\n",
       "      <td>...</td>\n",
       "      <td>...</td>\n",
       "      <td>...</td>\n",
       "    </tr>\n",
       "    <tr>\n",
       "      <th>FFF6F20B63DF25745DF400A0CEDD1DD6</th>\n",
       "      <td>0.000000</td>\n",
       "      <td>0.153055</td>\n",
       "      <td>0.000000</td>\n",
       "      <td>0.158036</td>\n",
       "      <td>0.396084</td>\n",
       "      <td>0.133168</td>\n",
       "      <td>0.000000</td>\n",
       "      <td>0.193713</td>\n",
       "      <td>0.000000</td>\n",
       "      <td>0.000000</td>\n",
       "    </tr>\n",
       "    <tr>\n",
       "      <th>FFFAAE22940D23D6658C88F3B2C3D090</th>\n",
       "      <td>0.064393</td>\n",
       "      <td>0.299048</td>\n",
       "      <td>0.159877</td>\n",
       "      <td>0.175560</td>\n",
       "      <td>0.154846</td>\n",
       "      <td>0.151965</td>\n",
       "      <td>0.153157</td>\n",
       "      <td>0.029574</td>\n",
       "      <td>0.140320</td>\n",
       "      <td>0.000000</td>\n",
       "    </tr>\n",
       "    <tr>\n",
       "      <th>FFFC86C6682DF835CC048EFD41E7D093</th>\n",
       "      <td>0.166667</td>\n",
       "      <td>0.083333</td>\n",
       "      <td>0.134795</td>\n",
       "      <td>0.083333</td>\n",
       "      <td>0.000000</td>\n",
       "      <td>0.000000</td>\n",
       "      <td>0.000000</td>\n",
       "      <td>0.065545</td>\n",
       "      <td>0.000000</td>\n",
       "      <td>0.000000</td>\n",
       "    </tr>\n",
       "    <tr>\n",
       "      <th>FFFCEFD192C5978D7758157193AAD455</th>\n",
       "      <td>0.442686</td>\n",
       "      <td>0.000000</td>\n",
       "      <td>0.221599</td>\n",
       "      <td>0.000000</td>\n",
       "      <td>0.138313</td>\n",
       "      <td>0.000000</td>\n",
       "      <td>0.000000</td>\n",
       "      <td>0.000000</td>\n",
       "      <td>0.198713</td>\n",
       "      <td>0.000000</td>\n",
       "    </tr>\n",
       "    <tr>\n",
       "      <th>FFFE23EB6569D7A88516C951C30FCF25</th>\n",
       "      <td>0.138896</td>\n",
       "      <td>0.425626</td>\n",
       "      <td>0.000000</td>\n",
       "      <td>0.502284</td>\n",
       "      <td>0.273524</td>\n",
       "      <td>0.116163</td>\n",
       "      <td>0.000000</td>\n",
       "      <td>0.146242</td>\n",
       "      <td>0.127115</td>\n",
       "      <td>0.000000</td>\n",
       "    </tr>\n",
       "  </tbody>\n",
       "</table>\n",
       "<p>41002 rows × 10 columns</p>\n",
       "</div>"
      ],
      "text/plain": [
       "                                      best    flavor      good     great   \n",
       "asin                                                                       \n",
       "00004C1575E00FDAB2DF85DA99F0891E  0.000000  0.333333  0.000000  0.000000  \\\n",
       "000056B2BB04C27DBA74979B4DBCC516  0.104386  0.167539  0.288169  0.179331   \n",
       "000069AC93D31A15BC5707FCA696C52C  0.138188  0.000000  0.000000  0.000000   \n",
       "000147A59EA421EE494EA6CD56CA25ED  0.000000  0.046795  0.097886  0.041817   \n",
       "00017A51C0C1C48D832D4F91B9309D81  0.046173  0.340831  0.250000  0.179015   \n",
       "...                                    ...       ...       ...       ...   \n",
       "FFF6F20B63DF25745DF400A0CEDD1DD6  0.000000  0.153055  0.000000  0.158036   \n",
       "FFFAAE22940D23D6658C88F3B2C3D090  0.064393  0.299048  0.159877  0.175560   \n",
       "FFFC86C6682DF835CC048EFD41E7D093  0.166667  0.083333  0.134795  0.083333   \n",
       "FFFCEFD192C5978D7758157193AAD455  0.442686  0.000000  0.221599  0.000000   \n",
       "FFFE23EB6569D7A88516C951C30FCF25  0.138896  0.425626  0.000000  0.502284   \n",
       "\n",
       "                                      like      love       one   product   \n",
       "asin                                                                       \n",
       "00004C1575E00FDAB2DF85DA99F0891E  0.000000  0.000000  0.000000  0.000000  \\\n",
       "000056B2BB04C27DBA74979B4DBCC516  0.095769  0.333333  0.224654  0.000000   \n",
       "000069AC93D31A15BC5707FCA696C52C  0.507123  0.115571  0.148700  0.000000   \n",
       "000147A59EA421EE494EA6CD56CA25ED  0.103169  0.000000  0.000000  0.000000   \n",
       "00017A51C0C1C48D832D4F91B9309D81  0.084723  0.077233  0.049686  0.109714   \n",
       "...                                    ...       ...       ...       ...   \n",
       "FFF6F20B63DF25745DF400A0CEDD1DD6  0.396084  0.133168  0.000000  0.193713   \n",
       "FFFAAE22940D23D6658C88F3B2C3D090  0.154846  0.151965  0.153157  0.029574   \n",
       "FFFC86C6682DF835CC048EFD41E7D093  0.000000  0.000000  0.000000  0.065545   \n",
       "FFFCEFD192C5978D7758157193AAD455  0.138313  0.000000  0.000000  0.000000   \n",
       "FFFE23EB6569D7A88516C951C30FCF25  0.273524  0.116163  0.000000  0.146242   \n",
       "\n",
       "                                     taste       tea  \n",
       "asin                                                  \n",
       "00004C1575E00FDAB2DF85DA99F0891E  0.000000  0.000000  \n",
       "000056B2BB04C27DBA74979B4DBCC516  0.091727  0.000000  \n",
       "000069AC93D31A15BC5707FCA696C52C  0.364289  0.000000  \n",
       "000147A59EA421EE494EA6CD56CA25ED  0.331200  0.000000  \n",
       "00017A51C0C1C48D832D4F91B9309D81  0.172713  0.372605  \n",
       "...                                    ...       ...  \n",
       "FFF6F20B63DF25745DF400A0CEDD1DD6  0.000000  0.000000  \n",
       "FFFAAE22940D23D6658C88F3B2C3D090  0.140320  0.000000  \n",
       "FFFC86C6682DF835CC048EFD41E7D093  0.000000  0.000000  \n",
       "FFFCEFD192C5978D7758157193AAD455  0.198713  0.000000  \n",
       "FFFE23EB6569D7A88516C951C30FCF25  0.127115  0.000000  \n",
       "\n",
       "[41002 rows x 10 columns]"
      ]
     },
     "execution_count": 426,
     "metadata": {},
     "output_type": "execute_result"
    }
   ],
   "source": [
    "# tfidf for summary\n",
    "\n",
    "from sklearn.feature_extraction.text import TfidfVectorizer\n",
    "tfidf = TfidfVectorizer(vocabulary=np.concatenate(spos_words,sneg_words))\n",
    "# \n",
    "# x[\"processedText\"] = revtext\n",
    "tfidf_DF = x[[\"asin\",\"processedSums\"]]\n",
    "\n",
    "\n",
    "\n",
    "# tfidf_DF[\"processedText\"] = \n",
    "# tfidf_DF[\"processedTest\"] = tfidf_DF[\"processedTest\"].fillna(\"\")\n",
    "# tfidf_DF[\"processedRevs\"] = tfidf_DF[\"reviewText\"].fillna(\"\").apply(preprocess)\n",
    "\n",
    "tfidf.fit_transform(tfidf_DF[\"processedSums\"])\n",
    "# tfidffeatures.toarray()\n",
    "feature_names = tfidf.get_feature_names_out()\n",
    "\n",
    "tfidf2 = TfidfVectorizer(vocabulary=tfidf.vocabulary_)\n",
    "tfidfarray = tfidf2.fit_transform(tfidf_DF[\"processedSums\"]).toarray()\n",
    "\n",
    "featuredf = pd.DataFrame(tfidfarray,columns = feature_names)\n",
    "tfidf_DF = pd.concat([tfidf_DF,featuredf],axis=1)\n",
    "StfidfFeature = tfidf_DF.groupby(\"asin\")[feature_names].mean()\n",
    "\n",
    "StfidfFeature\n"
   ]
  },
  {
   "cell_type": "code",
   "execution_count": null,
   "metadata": {},
   "outputs": [],
   "source": [
    "tfidf max features 5 on good\n",
    "5 on bad\n",
    "-> enter that as new vocab"
   ]
  },
  {
   "attachments": {},
   "cell_type": "markdown",
   "metadata": {},
   "source": [
    "# Testing prep\n",
    "\n",
    "Feature vectors must have format: col 1 as 'asin'"
   ]
  },
  {
   "attachments": {},
   "cell_type": "markdown",
   "metadata": {},
   "source": [
    "Currently using features:\n",
    "\n",
    "Name                    |     Column Name\n",
    "\n",
    "reviewCount                    Review_Count\n",
    "\n",
    "~~with_image_percentage          %_Image~~\n",
    "\n",
    "percent_verified               %_Verified\n",
    "\n",
    "total_votes                    Total_Votes\n",
    "\n",
    "reviewlength                   Review_Length\n",
    "\n",
    "summarylength                  Summary_Length\n",
    "\n",
    "RpercentCap                    Review_%_Uppercase\n",
    "\n",
    "SpercentCap                    Summary_%_Uppercase\n",
    "\n",
    "~~actualAwesomeness              Actual_Awesomeness~~\n",
    "\n",
    "RavgSentiment                  Review_Avg_Sentiment\n",
    "\n",
    "SavgSentiment                  Summary_Avg_Sentiment"
   ]
  },
  {
   "cell_type": "code",
   "execution_count": 415,
   "metadata": {},
   "outputs": [],
   "source": [
    "#combine all individual features into one dataFrame\n",
    "\n",
    "#enter any features to be combined here! \n",
    "#   They must be pd dataFrames with the 'asin' column for this to work\n",
    "features = [RavgSentiment,SavgSentiment,RpercentCap,SpercentCap,reviewlength,summarylength,reviewCount]\n",
    "\n",
    "z = x['asin']\n",
    "for f in features:\n",
    "    z = pd.merge(z,f,'inner','asin')\n",
    "\n",
    "# add tfidf feature\n",
    "for i in range(tfidfFeature.shape[1]):\n",
    "    z = pd.merge(z,tfidfFeature[feature_names[i]],'inner','asin')\n",
    "\n",
    "\n",
    "\n",
    "#combine resultant data with correct answers \n",
    "temp = pd.merge(z,y,'inner','asin') \n",
    "temp = temp.groupby(\"asin\").mean()\n",
    "\n",
    "\n",
    "#split into features (x) and awesomeness (y)\n",
    "merged_x = temp.drop(['awesomeness'], axis=1)\n",
    "merged_y = temp[\"awesomeness\"]"
   ]
  },
  {
   "attachments": {},
   "cell_type": "markdown",
   "metadata": {},
   "source": [
    "# Looking At Features"
   ]
  },
  {
   "cell_type": "code",
   "execution_count": 378,
   "metadata": {},
   "outputs": [
    {
     "data": {
      "text/html": [
       "<div>\n",
       "<style scoped>\n",
       "    .dataframe tbody tr th:only-of-type {\n",
       "        vertical-align: middle;\n",
       "    }\n",
       "\n",
       "    .dataframe tbody tr th {\n",
       "        vertical-align: top;\n",
       "    }\n",
       "\n",
       "    .dataframe thead th {\n",
       "        text-align: right;\n",
       "    }\n",
       "</style>\n",
       "<table border=\"1\" class=\"dataframe\">\n",
       "  <thead>\n",
       "    <tr style=\"text-align: right;\">\n",
       "      <th></th>\n",
       "      <th>Review_Avg_Sentiment</th>\n",
       "      <th>Summary_Avg_Sentiment</th>\n",
       "      <th>Review_Percent_Uppercase</th>\n",
       "      <th>Summary_Percent_Uppercase</th>\n",
       "      <th>Review_Length</th>\n",
       "      <th>Summary_Length</th>\n",
       "      <th>Review_Count</th>\n",
       "      <th>amazing</th>\n",
       "      <th>awesome</th>\n",
       "      <th>awful</th>\n",
       "      <th>disgusting</th>\n",
       "      <th>good</th>\n",
       "      <th>it</th>\n",
       "      <th>loved</th>\n",
       "      <th>masterpiece</th>\n",
       "      <th>terrible</th>\n",
       "      <th>trash</th>\n",
       "      <th>awesomeness</th>\n",
       "    </tr>\n",
       "    <tr>\n",
       "      <th>asin</th>\n",
       "      <th></th>\n",
       "      <th></th>\n",
       "      <th></th>\n",
       "      <th></th>\n",
       "      <th></th>\n",
       "      <th></th>\n",
       "      <th></th>\n",
       "      <th></th>\n",
       "      <th></th>\n",
       "      <th></th>\n",
       "      <th></th>\n",
       "      <th></th>\n",
       "      <th></th>\n",
       "      <th></th>\n",
       "      <th></th>\n",
       "      <th></th>\n",
       "      <th></th>\n",
       "      <th></th>\n",
       "    </tr>\n",
       "  </thead>\n",
       "  <tbody>\n",
       "    <tr>\n",
       "      <th>00004C1575E00FDAB2DF85DA99F0891E</th>\n",
       "      <td>0.006376</td>\n",
       "      <td>0.004404</td>\n",
       "      <td>0.090514</td>\n",
       "      <td>0.121212</td>\n",
       "      <td>36.666667</td>\n",
       "      <td>2.333333</td>\n",
       "      <td>3.0</td>\n",
       "      <td>0.000000</td>\n",
       "      <td>0.000000</td>\n",
       "      <td>0.192341</td>\n",
       "      <td>0.192701</td>\n",
       "      <td>0.000000</td>\n",
       "      <td>0.000000</td>\n",
       "      <td>0.333333</td>\n",
       "      <td>0.000000</td>\n",
       "      <td>0.192308</td>\n",
       "      <td>0.000000</td>\n",
       "      <td>0.0</td>\n",
       "    </tr>\n",
       "    <tr>\n",
       "      <th>6BE7DDB9BEA83215AC2DA2CA8E31B1A5</th>\n",
       "      <td>0.017097</td>\n",
       "      <td>0.015759</td>\n",
       "      <td>0.036432</td>\n",
       "      <td>0.081872</td>\n",
       "      <td>40.200000</td>\n",
       "      <td>4.000000</td>\n",
       "      <td>5.0</td>\n",
       "      <td>0.170631</td>\n",
       "      <td>0.091407</td>\n",
       "      <td>0.178500</td>\n",
       "      <td>0.178833</td>\n",
       "      <td>0.083073</td>\n",
       "      <td>0.089754</td>\n",
       "      <td>0.087910</td>\n",
       "      <td>0.089750</td>\n",
       "      <td>0.178468</td>\n",
       "      <td>0.188517</td>\n",
       "      <td>0.0</td>\n",
       "    </tr>\n",
       "    <tr>\n",
       "      <th>CB6143D1942C4F1905523ACEC25CC137</th>\n",
       "      <td>0.104338</td>\n",
       "      <td>-0.052812</td>\n",
       "      <td>0.023095</td>\n",
       "      <td>0.050274</td>\n",
       "      <td>109.625000</td>\n",
       "      <td>5.687500</td>\n",
       "      <td>16.0</td>\n",
       "      <td>0.055427</td>\n",
       "      <td>0.064586</td>\n",
       "      <td>0.197160</td>\n",
       "      <td>0.197529</td>\n",
       "      <td>0.330777</td>\n",
       "      <td>0.056308</td>\n",
       "      <td>0.055151</td>\n",
       "      <td>0.056305</td>\n",
       "      <td>0.197126</td>\n",
       "      <td>0.192422</td>\n",
       "      <td>0.0</td>\n",
       "    </tr>\n",
       "    <tr>\n",
       "      <th>6BE129E00E63A3DE0BE94FFA65E1A0B2</th>\n",
       "      <td>0.013592</td>\n",
       "      <td>0.015476</td>\n",
       "      <td>0.045314</td>\n",
       "      <td>0.088699</td>\n",
       "      <td>15.500000</td>\n",
       "      <td>3.000000</td>\n",
       "      <td>4.0</td>\n",
       "      <td>0.000000</td>\n",
       "      <td>0.000000</td>\n",
       "      <td>0.000000</td>\n",
       "      <td>0.000000</td>\n",
       "      <td>0.000000</td>\n",
       "      <td>0.000000</td>\n",
       "      <td>0.000000</td>\n",
       "      <td>0.000000</td>\n",
       "      <td>0.000000</td>\n",
       "      <td>0.000000</td>\n",
       "      <td>0.0</td>\n",
       "    </tr>\n",
       "    <tr>\n",
       "      <th>6BDB77F7B26916C7271C486486EA00E4</th>\n",
       "      <td>0.105046</td>\n",
       "      <td>0.038617</td>\n",
       "      <td>0.021973</td>\n",
       "      <td>0.114394</td>\n",
       "      <td>140.250000</td>\n",
       "      <td>3.500000</td>\n",
       "      <td>4.0</td>\n",
       "      <td>0.078928</td>\n",
       "      <td>0.081659</td>\n",
       "      <td>0.199878</td>\n",
       "      <td>0.200252</td>\n",
       "      <td>0.079688</td>\n",
       "      <td>0.080182</td>\n",
       "      <td>0.078535</td>\n",
       "      <td>0.080179</td>\n",
       "      <td>0.199843</td>\n",
       "      <td>0.211095</td>\n",
       "      <td>0.0</td>\n",
       "    </tr>\n",
       "    <tr>\n",
       "      <th>...</th>\n",
       "      <td>...</td>\n",
       "      <td>...</td>\n",
       "      <td>...</td>\n",
       "      <td>...</td>\n",
       "      <td>...</td>\n",
       "      <td>...</td>\n",
       "      <td>...</td>\n",
       "      <td>...</td>\n",
       "      <td>...</td>\n",
       "      <td>...</td>\n",
       "      <td>...</td>\n",
       "      <td>...</td>\n",
       "      <td>...</td>\n",
       "      <td>...</td>\n",
       "      <td>...</td>\n",
       "      <td>...</td>\n",
       "      <td>...</td>\n",
       "      <td>...</td>\n",
       "    </tr>\n",
       "    <tr>\n",
       "      <th>7314256DFEF05C6332E33CE0888B1B13</th>\n",
       "      <td>0.016280</td>\n",
       "      <td>0.009870</td>\n",
       "      <td>0.021988</td>\n",
       "      <td>0.015625</td>\n",
       "      <td>17.500000</td>\n",
       "      <td>2.500000</td>\n",
       "      <td>2.0</td>\n",
       "      <td>0.000000</td>\n",
       "      <td>0.000000</td>\n",
       "      <td>0.000000</td>\n",
       "      <td>0.000000</td>\n",
       "      <td>0.500000</td>\n",
       "      <td>0.000000</td>\n",
       "      <td>0.000000</td>\n",
       "      <td>0.000000</td>\n",
       "      <td>0.000000</td>\n",
       "      <td>0.000000</td>\n",
       "      <td>1.0</td>\n",
       "    </tr>\n",
       "    <tr>\n",
       "      <th>731106ACFB37A1ACCCC56CE5547C6B8E</th>\n",
       "      <td>0.052528</td>\n",
       "      <td>0.026099</td>\n",
       "      <td>0.050342</td>\n",
       "      <td>0.169489</td>\n",
       "      <td>14.666667</td>\n",
       "      <td>1.666667</td>\n",
       "      <td>9.0</td>\n",
       "      <td>0.111111</td>\n",
       "      <td>0.000000</td>\n",
       "      <td>0.000000</td>\n",
       "      <td>0.000000</td>\n",
       "      <td>0.333333</td>\n",
       "      <td>0.000000</td>\n",
       "      <td>0.000000</td>\n",
       "      <td>0.000000</td>\n",
       "      <td>0.000000</td>\n",
       "      <td>0.000000</td>\n",
       "      <td>1.0</td>\n",
       "    </tr>\n",
       "    <tr>\n",
       "      <th>730F7191CC547134CA435DD22D3CE2A8</th>\n",
       "      <td>-0.042965</td>\n",
       "      <td>0.100890</td>\n",
       "      <td>0.027758</td>\n",
       "      <td>0.092999</td>\n",
       "      <td>25.750000</td>\n",
       "      <td>4.500000</td>\n",
       "      <td>4.0</td>\n",
       "      <td>0.000000</td>\n",
       "      <td>0.063434</td>\n",
       "      <td>0.387605</td>\n",
       "      <td>0.388329</td>\n",
       "      <td>0.000000</td>\n",
       "      <td>0.000000</td>\n",
       "      <td>0.127178</td>\n",
       "      <td>0.000000</td>\n",
       "      <td>0.387536</td>\n",
       "      <td>0.125840</td>\n",
       "      <td>1.0</td>\n",
       "    </tr>\n",
       "    <tr>\n",
       "      <th>73679A3AB49722E28EC153A04655143B</th>\n",
       "      <td>0.003749</td>\n",
       "      <td>0.006369</td>\n",
       "      <td>0.017375</td>\n",
       "      <td>0.211111</td>\n",
       "      <td>27.000000</td>\n",
       "      <td>2.000000</td>\n",
       "      <td>2.0</td>\n",
       "      <td>0.000000</td>\n",
       "      <td>0.000000</td>\n",
       "      <td>0.246369</td>\n",
       "      <td>0.246829</td>\n",
       "      <td>0.000000</td>\n",
       "      <td>0.000000</td>\n",
       "      <td>0.000000</td>\n",
       "      <td>0.000000</td>\n",
       "      <td>0.246325</td>\n",
       "      <td>0.260195</td>\n",
       "      <td>1.0</td>\n",
       "    </tr>\n",
       "    <tr>\n",
       "      <th>FFFE23EB6569D7A88516C951C30FCF25</th>\n",
       "      <td>0.216832</td>\n",
       "      <td>0.007184</td>\n",
       "      <td>0.026675</td>\n",
       "      <td>0.080859</td>\n",
       "      <td>70.000000</td>\n",
       "      <td>3.000000</td>\n",
       "      <td>3.0</td>\n",
       "      <td>0.262703</td>\n",
       "      <td>0.391242</td>\n",
       "      <td>0.164246</td>\n",
       "      <td>0.164553</td>\n",
       "      <td>0.000000</td>\n",
       "      <td>0.266879</td>\n",
       "      <td>0.261397</td>\n",
       "      <td>0.266868</td>\n",
       "      <td>0.164217</td>\n",
       "      <td>0.173463</td>\n",
       "      <td>1.0</td>\n",
       "    </tr>\n",
       "  </tbody>\n",
       "</table>\n",
       "<p>41002 rows × 18 columns</p>\n",
       "</div>"
      ],
      "text/plain": [
       "                                  Review_Avg_Sentiment  Summary_Avg_Sentiment   \n",
       "asin                                                                            \n",
       "00004C1575E00FDAB2DF85DA99F0891E              0.006376               0.004404  \\\n",
       "6BE7DDB9BEA83215AC2DA2CA8E31B1A5              0.017097               0.015759   \n",
       "CB6143D1942C4F1905523ACEC25CC137              0.104338              -0.052812   \n",
       "6BE129E00E63A3DE0BE94FFA65E1A0B2              0.013592               0.015476   \n",
       "6BDB77F7B26916C7271C486486EA00E4              0.105046               0.038617   \n",
       "...                                                ...                    ...   \n",
       "7314256DFEF05C6332E33CE0888B1B13              0.016280               0.009870   \n",
       "731106ACFB37A1ACCCC56CE5547C6B8E              0.052528               0.026099   \n",
       "730F7191CC547134CA435DD22D3CE2A8             -0.042965               0.100890   \n",
       "73679A3AB49722E28EC153A04655143B              0.003749               0.006369   \n",
       "FFFE23EB6569D7A88516C951C30FCF25              0.216832               0.007184   \n",
       "\n",
       "                                  Review_Percent_Uppercase   \n",
       "asin                                                         \n",
       "00004C1575E00FDAB2DF85DA99F0891E                  0.090514  \\\n",
       "6BE7DDB9BEA83215AC2DA2CA8E31B1A5                  0.036432   \n",
       "CB6143D1942C4F1905523ACEC25CC137                  0.023095   \n",
       "6BE129E00E63A3DE0BE94FFA65E1A0B2                  0.045314   \n",
       "6BDB77F7B26916C7271C486486EA00E4                  0.021973   \n",
       "...                                                    ...   \n",
       "7314256DFEF05C6332E33CE0888B1B13                  0.021988   \n",
       "731106ACFB37A1ACCCC56CE5547C6B8E                  0.050342   \n",
       "730F7191CC547134CA435DD22D3CE2A8                  0.027758   \n",
       "73679A3AB49722E28EC153A04655143B                  0.017375   \n",
       "FFFE23EB6569D7A88516C951C30FCF25                  0.026675   \n",
       "\n",
       "                                  Summary_Percent_Uppercase  Review_Length   \n",
       "asin                                                                         \n",
       "00004C1575E00FDAB2DF85DA99F0891E                   0.121212      36.666667  \\\n",
       "6BE7DDB9BEA83215AC2DA2CA8E31B1A5                   0.081872      40.200000   \n",
       "CB6143D1942C4F1905523ACEC25CC137                   0.050274     109.625000   \n",
       "6BE129E00E63A3DE0BE94FFA65E1A0B2                   0.088699      15.500000   \n",
       "6BDB77F7B26916C7271C486486EA00E4                   0.114394     140.250000   \n",
       "...                                                     ...            ...   \n",
       "7314256DFEF05C6332E33CE0888B1B13                   0.015625      17.500000   \n",
       "731106ACFB37A1ACCCC56CE5547C6B8E                   0.169489      14.666667   \n",
       "730F7191CC547134CA435DD22D3CE2A8                   0.092999      25.750000   \n",
       "73679A3AB49722E28EC153A04655143B                   0.211111      27.000000   \n",
       "FFFE23EB6569D7A88516C951C30FCF25                   0.080859      70.000000   \n",
       "\n",
       "                                  Summary_Length  Review_Count   amazing   \n",
       "asin                                                                       \n",
       "00004C1575E00FDAB2DF85DA99F0891E        2.333333           3.0  0.000000  \\\n",
       "6BE7DDB9BEA83215AC2DA2CA8E31B1A5        4.000000           5.0  0.170631   \n",
       "CB6143D1942C4F1905523ACEC25CC137        5.687500          16.0  0.055427   \n",
       "6BE129E00E63A3DE0BE94FFA65E1A0B2        3.000000           4.0  0.000000   \n",
       "6BDB77F7B26916C7271C486486EA00E4        3.500000           4.0  0.078928   \n",
       "...                                          ...           ...       ...   \n",
       "7314256DFEF05C6332E33CE0888B1B13        2.500000           2.0  0.000000   \n",
       "731106ACFB37A1ACCCC56CE5547C6B8E        1.666667           9.0  0.111111   \n",
       "730F7191CC547134CA435DD22D3CE2A8        4.500000           4.0  0.000000   \n",
       "73679A3AB49722E28EC153A04655143B        2.000000           2.0  0.000000   \n",
       "FFFE23EB6569D7A88516C951C30FCF25        3.000000           3.0  0.262703   \n",
       "\n",
       "                                   awesome     awful  disgusting      good   \n",
       "asin                                                                         \n",
       "00004C1575E00FDAB2DF85DA99F0891E  0.000000  0.192341    0.192701  0.000000  \\\n",
       "6BE7DDB9BEA83215AC2DA2CA8E31B1A5  0.091407  0.178500    0.178833  0.083073   \n",
       "CB6143D1942C4F1905523ACEC25CC137  0.064586  0.197160    0.197529  0.330777   \n",
       "6BE129E00E63A3DE0BE94FFA65E1A0B2  0.000000  0.000000    0.000000  0.000000   \n",
       "6BDB77F7B26916C7271C486486EA00E4  0.081659  0.199878    0.200252  0.079688   \n",
       "...                                    ...       ...         ...       ...   \n",
       "7314256DFEF05C6332E33CE0888B1B13  0.000000  0.000000    0.000000  0.500000   \n",
       "731106ACFB37A1ACCCC56CE5547C6B8E  0.000000  0.000000    0.000000  0.333333   \n",
       "730F7191CC547134CA435DD22D3CE2A8  0.063434  0.387605    0.388329  0.000000   \n",
       "73679A3AB49722E28EC153A04655143B  0.000000  0.246369    0.246829  0.000000   \n",
       "FFFE23EB6569D7A88516C951C30FCF25  0.391242  0.164246    0.164553  0.000000   \n",
       "\n",
       "                                        it     loved  masterpiece  terrible   \n",
       "asin                                                                          \n",
       "00004C1575E00FDAB2DF85DA99F0891E  0.000000  0.333333     0.000000  0.192308  \\\n",
       "6BE7DDB9BEA83215AC2DA2CA8E31B1A5  0.089754  0.087910     0.089750  0.178468   \n",
       "CB6143D1942C4F1905523ACEC25CC137  0.056308  0.055151     0.056305  0.197126   \n",
       "6BE129E00E63A3DE0BE94FFA65E1A0B2  0.000000  0.000000     0.000000  0.000000   \n",
       "6BDB77F7B26916C7271C486486EA00E4  0.080182  0.078535     0.080179  0.199843   \n",
       "...                                    ...       ...          ...       ...   \n",
       "7314256DFEF05C6332E33CE0888B1B13  0.000000  0.000000     0.000000  0.000000   \n",
       "731106ACFB37A1ACCCC56CE5547C6B8E  0.000000  0.000000     0.000000  0.000000   \n",
       "730F7191CC547134CA435DD22D3CE2A8  0.000000  0.127178     0.000000  0.387536   \n",
       "73679A3AB49722E28EC153A04655143B  0.000000  0.000000     0.000000  0.246325   \n",
       "FFFE23EB6569D7A88516C951C30FCF25  0.266879  0.261397     0.266868  0.164217   \n",
       "\n",
       "                                     trash  awesomeness  \n",
       "asin                                                     \n",
       "00004C1575E00FDAB2DF85DA99F0891E  0.000000          0.0  \n",
       "6BE7DDB9BEA83215AC2DA2CA8E31B1A5  0.188517          0.0  \n",
       "CB6143D1942C4F1905523ACEC25CC137  0.192422          0.0  \n",
       "6BE129E00E63A3DE0BE94FFA65E1A0B2  0.000000          0.0  \n",
       "6BDB77F7B26916C7271C486486EA00E4  0.211095          0.0  \n",
       "...                                    ...          ...  \n",
       "7314256DFEF05C6332E33CE0888B1B13  0.000000          1.0  \n",
       "731106ACFB37A1ACCCC56CE5547C6B8E  0.000000          1.0  \n",
       "730F7191CC547134CA435DD22D3CE2A8  0.125840          1.0  \n",
       "73679A3AB49722E28EC153A04655143B  0.260195          1.0  \n",
       "FFFE23EB6569D7A88516C951C30FCF25  0.173463          1.0  \n",
       "\n",
       "[41002 rows x 18 columns]"
      ]
     },
     "execution_count": 378,
     "metadata": {},
     "output_type": "execute_result"
    }
   ],
   "source": [
    "temp.sort_values(\"awesomeness\")"
   ]
  },
  {
   "cell_type": "code",
   "execution_count": 419,
   "metadata": {},
   "outputs": [
    {
     "data": {
      "image/png": "[encoded data removed]",
      "text/plain": [
       "<Figure size 720x720 with 2 Axes>"
      ]
     },
     "metadata": {},
     "output_type": "display_data"
    }
   ],
   "source": [
    "from pandas import plotting\n",
    "\n",
    "# display a graph of Summary Sentiment vs Review Sentiment where color shows awesomeness.\n",
    "# This should somewhat separate out datapoints of different awesomeness (there should be some correlation)\n",
    "\n",
    "# import matplotlib.cm as cm\n",
    "# import matplotlib.colormaps #<- not working I have no clue why\n",
    "# cmap = matplotlib.colormaps['YlGn']\n",
    "ax = temp.plot.scatter(x='Review_Avg_Sentiment', y='Summary_Avg_Sentiment',c='awesomeness')#,cmap = cmap)\n",
    "# plt.xlim(-0.1,.2)\n",
    "# plt.ylim(-.1,.2)\n",
    "plt.show()"
   ]
  },
  {
   "cell_type": "code",
   "execution_count": 95,
   "metadata": {},
   "outputs": [
    {
     "data": {
      "text/html": [
       "<div>\n",
       "<style scoped>\n",
       "    .dataframe tbody tr th:only-of-type {\n",
       "        vertical-align: middle;\n",
       "    }\n",
       "\n",
       "    .dataframe tbody tr th {\n",
       "        vertical-align: top;\n",
       "    }\n",
       "\n",
       "    .dataframe thead th {\n",
       "        text-align: right;\n",
       "    }\n",
       "</style>\n",
       "<table border=\"1\" class=\"dataframe\">\n",
       "  <thead>\n",
       "    <tr style=\"text-align: right;\">\n",
       "      <th></th>\n",
       "      <th>Review_Avg_Sentiment</th>\n",
       "      <th>Summary_Avg_Sentiment</th>\n",
       "      <th>Review_Percent_Uppercase</th>\n",
       "      <th>Summary_Percent_Uppercase</th>\n",
       "      <th>Review_Length</th>\n",
       "      <th>Summary_Length</th>\n",
       "      <th>Review_Count</th>\n",
       "    </tr>\n",
       "    <tr>\n",
       "      <th>asin</th>\n",
       "      <th></th>\n",
       "      <th></th>\n",
       "      <th></th>\n",
       "      <th></th>\n",
       "      <th></th>\n",
       "      <th></th>\n",
       "      <th></th>\n",
       "    </tr>\n",
       "  </thead>\n",
       "  <tbody>\n",
       "    <tr>\n",
       "      <th>00004C1575E00FDAB2DF85DA99F0891E</th>\n",
       "      <td>0.640333</td>\n",
       "      <td>0.222233</td>\n",
       "      <td>0.090514</td>\n",
       "      <td>0.121212</td>\n",
       "      <td>36.666667</td>\n",
       "      <td>2.333333</td>\n",
       "      <td>3.0</td>\n",
       "    </tr>\n",
       "    <tr>\n",
       "      <th>000056B2BB04C27DBA74979B4DBCC516</th>\n",
       "      <td>0.853533</td>\n",
       "      <td>0.585133</td>\n",
       "      <td>0.040913</td>\n",
       "      <td>0.117500</td>\n",
       "      <td>32.333333</td>\n",
       "      <td>5.333333</td>\n",
       "      <td>3.0</td>\n",
       "    </tr>\n",
       "    <tr>\n",
       "      <th>000069AC93D31A15BC5707FCA696C52C</th>\n",
       "      <td>0.947633</td>\n",
       "      <td>0.358933</td>\n",
       "      <td>0.052513</td>\n",
       "      <td>0.318239</td>\n",
       "      <td>217.333333</td>\n",
       "      <td>14.000000</td>\n",
       "      <td>3.0</td>\n",
       "    </tr>\n",
       "    <tr>\n",
       "      <th>000147A59EA421EE494EA6CD56CA25ED</th>\n",
       "      <td>0.096171</td>\n",
       "      <td>0.072729</td>\n",
       "      <td>0.049544</td>\n",
       "      <td>0.114688</td>\n",
       "      <td>12.571429</td>\n",
       "      <td>4.857143</td>\n",
       "      <td>7.0</td>\n",
       "    </tr>\n",
       "    <tr>\n",
       "      <th>00017A51C0C1C48D832D4F91B9309D81</th>\n",
       "      <td>0.813300</td>\n",
       "      <td>0.220075</td>\n",
       "      <td>0.029834</td>\n",
       "      <td>0.095148</td>\n",
       "      <td>61.500000</td>\n",
       "      <td>5.500000</td>\n",
       "      <td>4.0</td>\n",
       "    </tr>\n",
       "    <tr>\n",
       "      <th>0001914458A028F40D4B4DFCE2A135E3</th>\n",
       "      <td>0.671045</td>\n",
       "      <td>0.430336</td>\n",
       "      <td>0.048311</td>\n",
       "      <td>0.162315</td>\n",
       "      <td>14.181818</td>\n",
       "      <td>2.454545</td>\n",
       "      <td>11.0</td>\n",
       "    </tr>\n",
       "    <tr>\n",
       "      <th>00023FA16762C953E70F939F232A352C</th>\n",
       "      <td>0.298533</td>\n",
       "      <td>0.668400</td>\n",
       "      <td>0.064614</td>\n",
       "      <td>0.103324</td>\n",
       "      <td>5.666667</td>\n",
       "      <td>4.000000</td>\n",
       "      <td>3.0</td>\n",
       "    </tr>\n",
       "    <tr>\n",
       "      <th>000A58EFC2DCFB0F84BC517FFEFBBA4B</th>\n",
       "      <td>0.590327</td>\n",
       "      <td>0.376264</td>\n",
       "      <td>0.046021</td>\n",
       "      <td>0.157686</td>\n",
       "      <td>25.363636</td>\n",
       "      <td>4.545455</td>\n",
       "      <td>11.0</td>\n",
       "    </tr>\n",
       "    <tr>\n",
       "      <th>000AF123A46E5BC3F8A6508AB9886084</th>\n",
       "      <td>0.520667</td>\n",
       "      <td>0.436600</td>\n",
       "      <td>0.040363</td>\n",
       "      <td>0.154606</td>\n",
       "      <td>10.833333</td>\n",
       "      <td>2.777778</td>\n",
       "      <td>18.0</td>\n",
       "    </tr>\n",
       "    <tr>\n",
       "      <th>000ED0EC3B8CBAE683316A13215B565B</th>\n",
       "      <td>0.463225</td>\n",
       "      <td>0.366038</td>\n",
       "      <td>0.083646</td>\n",
       "      <td>0.111700</td>\n",
       "      <td>31.125000</td>\n",
       "      <td>3.250000</td>\n",
       "      <td>8.0</td>\n",
       "    </tr>\n",
       "  </tbody>\n",
       "</table>\n",
       "</div>"
      ],
      "text/plain": [
       "                                  Review_Avg_Sentiment  Summary_Avg_Sentiment   \n",
       "asin                                                                            \n",
       "00004C1575E00FDAB2DF85DA99F0891E              0.640333               0.222233  \\\n",
       "000056B2BB04C27DBA74979B4DBCC516              0.853533               0.585133   \n",
       "000069AC93D31A15BC5707FCA696C52C              0.947633               0.358933   \n",
       "000147A59EA421EE494EA6CD56CA25ED              0.096171               0.072729   \n",
       "00017A51C0C1C48D832D4F91B9309D81              0.813300               0.220075   \n",
       "0001914458A028F40D4B4DFCE2A135E3              0.671045               0.430336   \n",
       "00023FA16762C953E70F939F232A352C              0.298533               0.668400   \n",
       "000A58EFC2DCFB0F84BC517FFEFBBA4B              0.590327               0.376264   \n",
       "000AF123A46E5BC3F8A6508AB9886084              0.520667               0.436600   \n",
       "000ED0EC3B8CBAE683316A13215B565B              0.463225               0.366038   \n",
       "\n",
       "                                  Review_Percent_Uppercase   \n",
       "asin                                                         \n",
       "00004C1575E00FDAB2DF85DA99F0891E                  0.090514  \\\n",
       "000056B2BB04C27DBA74979B4DBCC516                  0.040913   \n",
       "000069AC93D31A15BC5707FCA696C52C                  0.052513   \n",
       "000147A59EA421EE494EA6CD56CA25ED                  0.049544   \n",
       "00017A51C0C1C48D832D4F91B9309D81                  0.029834   \n",
       "0001914458A028F40D4B4DFCE2A135E3                  0.048311   \n",
       "00023FA16762C953E70F939F232A352C                  0.064614   \n",
       "000A58EFC2DCFB0F84BC517FFEFBBA4B                  0.046021   \n",
       "000AF123A46E5BC3F8A6508AB9886084                  0.040363   \n",
       "000ED0EC3B8CBAE683316A13215B565B                  0.083646   \n",
       "\n",
       "                                  Summary_Percent_Uppercase  Review_Length   \n",
       "asin                                                                         \n",
       "00004C1575E00FDAB2DF85DA99F0891E                   0.121212      36.666667  \\\n",
       "000056B2BB04C27DBA74979B4DBCC516                   0.117500      32.333333   \n",
       "000069AC93D31A15BC5707FCA696C52C                   0.318239     217.333333   \n",
       "000147A59EA421EE494EA6CD56CA25ED                   0.114688      12.571429   \n",
       "00017A51C0C1C48D832D4F91B9309D81                   0.095148      61.500000   \n",
       "0001914458A028F40D4B4DFCE2A135E3                   0.162315      14.181818   \n",
       "00023FA16762C953E70F939F232A352C                   0.103324       5.666667   \n",
       "000A58EFC2DCFB0F84BC517FFEFBBA4B                   0.157686      25.363636   \n",
       "000AF123A46E5BC3F8A6508AB9886084                   0.154606      10.833333   \n",
       "000ED0EC3B8CBAE683316A13215B565B                   0.111700      31.125000   \n",
       "\n",
       "                                  Summary_Length  Review_Count  \n",
       "asin                                                            \n",
       "00004C1575E00FDAB2DF85DA99F0891E        2.333333           3.0  \n",
       "000056B2BB04C27DBA74979B4DBCC516        5.333333           3.0  \n",
       "000069AC93D31A15BC5707FCA696C52C       14.000000           3.0  \n",
       "000147A59EA421EE494EA6CD56CA25ED        4.857143           7.0  \n",
       "00017A51C0C1C48D832D4F91B9309D81        5.500000           4.0  \n",
       "0001914458A028F40D4B4DFCE2A135E3        2.454545          11.0  \n",
       "00023FA16762C953E70F939F232A352C        4.000000           3.0  \n",
       "000A58EFC2DCFB0F84BC517FFEFBBA4B        4.545455          11.0  \n",
       "000AF123A46E5BC3F8A6508AB9886084        2.777778          18.0  \n",
       "000ED0EC3B8CBAE683316A13215B565B        3.250000           8.0  "
      ]
     },
     "execution_count": 95,
     "metadata": {},
     "output_type": "execute_result"
    }
   ],
   "source": [
    "merged_x[:10]"
   ]
  },
  {
   "attachments": {},
   "cell_type": "markdown",
   "metadata": {},
   "source": [
    "# Models\n",
    "\n",
    "(choose one)"
   ]
  },
  {
   "attachments": {},
   "cell_type": "markdown",
   "metadata": {},
   "source": [
    "Support Vector Machine (SVM)"
   ]
  },
  {
   "cell_type": "code",
   "execution_count": null,
   "metadata": {},
   "outputs": [],
   "source": [
    "from sklearn import svm\n",
    "\n",
    "#kernel type\n",
    "#‘linear’, ‘poly’, ‘rbf’, ‘sigmoid’, ‘precomputed’\n",
    "kernel = 'linear'\n",
    "\n",
    "#if kernel type = 'poly', degree of poly\n",
    "degree = 4\n",
    "\n",
    "#whether to enable probability estimates (will slow it down a lot)\n",
    "probability = False\n",
    "\n",
    "#tau - penalty for errors is inversely proportional to C\n",
    "C = 0.2\n",
    "\n",
    "param_grid = [{'kernel': ['linear','poly','rbf','sigmoid'],\n",
    "             'C': [0.25,0.5,0.75,1]}]\n",
    "\n",
    "# param_grid = [{'kernel': ['poly','rbf','sigmoid'],\n",
    "#             'C': [0.25,0.5,0.75,1]}]\n",
    "# -> {'C': 0.75, 'kernel': 'poly'}\n",
    "# f1: 0.694757392846268\n",
    "\n",
    "# param_grid = [{'degree': [2,3,4,5],\n",
    "#              'C': [0.7,0.75,0.8]}]\n",
    "# -> {'C': 0.75, 'degree': 4}\n",
    "# f1: 0.6805724352995487\n",
    "\n",
    "svm_model = svm.SVC(C=C, kernel=kernel, degree=degree, probability=probability)"
   ]
  },
  {
   "attachments": {},
   "cell_type": "markdown",
   "metadata": {},
   "source": [
    "Linear SVC (linear svm, but scales better with large datasets)"
   ]
  },
  {
   "cell_type": "code",
   "execution_count": 331,
   "metadata": {},
   "outputs": [],
   "source": [
    "from sklearn.svm import LinearSVC\n",
    "\n",
    "#penalty norm calculation method\n",
    "#\"l1\",\"l2\"\n",
    "penalty = \"l2\"\n",
    "\n",
    "#loss function\n",
    "#\"hinge\", \"squared_hinge\"\n",
    "loss = \"hinge\"\n",
    "\n",
    "#tolerance for stopping criteria\n",
    "tol = 0.1\n",
    "\n",
    "#tau - inversely proportional to C, error penalty\n",
    "C = .5\n",
    "\n",
    "# apply weights to classes inversely proportional to class frequency \n",
    "#   (balance for class freq in input data)\n",
    "# dictionary, \"balanced\", or None\n",
    "class_weight = None\n",
    "\n",
    "#max-iterations\n",
    "max_iter = 10000\n",
    "\n",
    "# param_grid = [{'penalty': ['l1','l2'],\n",
    "#                'loss': ['hinge','squared_hinge'],\n",
    "#                'tol': [1e-4,1e-3,1e-2,1e-1,1],\n",
    "#                'C': [0.25,0.5,0.75,1],\n",
    "#                'class_weight': ['balanced',None],\n",
    "#                'max_iter': [500,1000,2000]}]\n",
    "# {'C': 0.5, 'class_weight': None, 'loss': 'hinge', 'max_iter': 2000, 'penalty': 'l2', 'tol': 0.1}\n",
    "# 0.624863855609149\n",
    "\n",
    "# param_grid = [{\n",
    "#                'loss': ['hinge','squared_hinge'],\n",
    "#                'tol': [1e-4,1e-3,1e-2,1e-1,1],\n",
    "#                'C': [0.25,0.5,0.75,1],\n",
    "#                'class_weight': ['balanced',None],\n",
    "#                'max_iter': [500,1000,2000]}]\n",
    "\n",
    "\n",
    "linearsvc_model = LinearSVC(penalty=penalty,loss=loss,tol=tol,C=C,class_weight=class_weight,max_iter=max_iter)"
   ]
  },
  {
   "cell_type": "code",
   "execution_count": null,
   "metadata": {},
   "outputs": [],
   "source": [
    "from sklearn.linear_model import SGDClassifier\n",
    "\n",
    "sgd_model = SGDClassifier(early_stopping=True, n_jobs=-1)\n",
    "\n",
    "# not sure if this is legal it has a perceptron option so is it ok???"
   ]
  },
  {
   "attachments": {},
   "cell_type": "markdown",
   "metadata": {},
   "source": [
    "Kernel approximation options (nonlinear transformations of input features)"
   ]
  },
  {
   "cell_type": "code",
   "execution_count": 420,
   "metadata": {},
   "outputs": [],
   "source": [
    "from sklearn.kernel_approximation import RBFSampler #radial basis function kernel\n",
    "\n",
    "rbfsampler = RBFSampler()"
   ]
  },
  {
   "attachments": {},
   "cell_type": "markdown",
   "metadata": {},
   "source": [
    "Basic Gaussian Naive Bayes"
   ]
  },
  {
   "cell_type": "code",
   "execution_count": null,
   "metadata": {},
   "outputs": [],
   "source": [
    "from sklearn.naive_bayes import GaussianNB\n",
    "\n",
    "model = GaussianNB()"
   ]
  },
  {
   "attachments": {},
   "cell_type": "markdown",
   "metadata": {},
   "source": [
    "Decision Tree"
   ]
  },
  {
   "cell_type": "code",
   "execution_count": null,
   "metadata": {},
   "outputs": [],
   "source": [
    "from sklearn import tree\n",
    "\n",
    "#choose from 'entropy', 'gini', 'log_loss'\n",
    "criterion = 'gini'\n",
    "\n",
    "    ###STOPPING CONDITIONS\n",
    "#max height/depth of the tree OR None if no limit\n",
    "max_depth = 5\n",
    "\n",
    "#if sat(N) < n_samples*this, don't try to split it any further\n",
    "min_samples_split = .05\n",
    "\n",
    "    ###OTHER\n",
    "#if min(sat(nodes after a split)) < n_samples*this, split not considered \n",
    "#       (aka model isnt allowed to create leaf nodes with < n_samples*this samples)\n",
    "#       (smooths the model, avoids splits like 2000 -> 1999 vs 1)\n",
    "min_samples_leaf = 0.01\n",
    "\n",
    "# param_grid = [{'criterion': ['entropy','gini','log_loss'],\n",
    "#             'max_depth': [None,5,10,15,20],\n",
    "#             'min_samples_split': [2,10,20,0.01,0.05,0.1,0.2],\n",
    "#             'min_samples_leaf':[2,10,20,0.01,0.05,0.1,0.2]}]\n",
    "# -> {'criterion': 'gini', 'max_depth': 5, 'min_samples_leaf': 0.01, 'min_samples_split': 0.05}\n",
    "# f1: 0.6440347415923986\n",
    "\n",
    "dtree_model = tree.DecisionTreeClassifier(criterion=criterion, max_depth=max_depth, min_samples_split=min_samples_split, min_samples_leaf=min_samples_leaf)"
   ]
  },
  {
   "attachments": {},
   "cell_type": "markdown",
   "metadata": {},
   "source": [
    "Decision Tree - See what it looks like! \n",
    "\n",
    "(only run if the model is a decision tree)\n",
    "\n",
    "*note: this trains the model on the whole dataset, so don't do before testing!*"
   ]
  },
  {
   "cell_type": "code",
   "execution_count": null,
   "metadata": {},
   "outputs": [],
   "source": [
    "dtree_model.fit(merged_x,merged_y)\n",
    "tree.plot_tree(dtree_model)"
   ]
  },
  {
   "attachments": {},
   "cell_type": "markdown",
   "metadata": {},
   "source": [
    "K-Nearest Neighbors"
   ]
  },
  {
   "cell_type": "code",
   "execution_count": 177,
   "metadata": {},
   "outputs": [],
   "source": [
    "from sklearn.neighbors import KNeighborsClassifier\n",
    "\n",
    "#number of neighbors\n",
    "n_neighbors = 7\n",
    "\n",
    "#do you want proximity to effect influence neighbors have or not\n",
    "# 'uniform' or 'distance'\n",
    "weights='distance'\n",
    "\n",
    "#leaf size passed to trees\n",
    "leaf_size=3\n",
    "\n",
    "# param_grid = [{'n_neighbors': [5,7,9,11],\n",
    "#             'weights': ['uniform','distance'],\n",
    "#             'leaf_size':[15,20,25,30]}] -> f1: 0.67, {'leaf_size': 15, 'n_neighbors': 11, 'weights': 'uniform'}\n",
    "\n",
    "# param_grid = [{'n_neighbors': [9,11,15,19,23],\n",
    "#              'weights': ['uniform','distance'],\n",
    "#              'leaf_size':[5,10,15,20]}] -> f1: 0.65, {'leaf_size': 5, 'n_neighbors': 23, 'weights': 'uniform'}\n",
    "\n",
    "# param_grid = [{'n_neighbors': [11,22,33,44,55],\n",
    "#              'weights': ['uniform','distance'],\n",
    "#              'leaf_size':[1,2,3,4,5,6,7,8,9,10,11,12]}] \n",
    "# -> {'leaf_size': 1, 'n_neighbors': 55, 'weights': 'uniform'}\n",
    "# f1: 0.63\n",
    "\n",
    "# param_grid = [{'n_neighbors': [11,22,33,44,55],\n",
    "#              'weights': ['uniform','distance'],\n",
    "#              'leaf_size':[1,2,3,4,5,6,7,8,9,10,11,12]}]\n",
    "# -> {'leaf_size': 3, 'n_neighbors': 55, 'weights': 'distance'}\n",
    "# f1: 0.6115\n",
    "\n",
    "# param_grid = [{'n_neighbors': [1000,1500,2000,2500]}]\n",
    "# -> {'n_neighbors': 2500}\n",
    "\n",
    "knn_model = KNeighborsClassifier(n_neighbors=n_neighbors, weights=weights, leaf_size=leaf_size, n_jobs=-1)"
   ]
  },
  {
   "attachments": {},
   "cell_type": "markdown",
   "metadata": {},
   "source": [
    "Logistic Regression"
   ]
  },
  {
   "cell_type": "code",
   "execution_count": 176,
   "metadata": {},
   "outputs": [],
   "source": [
    "from sklearn.linear_model import LogisticRegression\n",
    "\n",
    "#norm of the penalty\n",
    "#‘l1’, ‘l2’, ‘elasticnet’, None\n",
    "penalty = 'l2'\n",
    "\n",
    "#inverse of regulation strength tau - how much do errors cost?\n",
    "C = 0.35\n",
    "\n",
    "#algorithm to compute optimization problem. Probs wont do much other than speed\n",
    "#‘lbfgs’, ‘liblinear’, ‘newton-cg’, ‘newton-cholesky’, ‘sag’, ‘saga’\n",
    "solver = 'sag'\n",
    "\n",
    "max_iter=500\n",
    "\n",
    "param_grid = [{'penalty': ['l1','l2','elasticnet',None],\n",
    "            'C': [0.25,0.5,0.75,1],\n",
    "            'solver': ['lbfgs','newton-cg','newton-cholesky','sag','saga'],\n",
    "            'max_iter': [1000,500,100]}]        \n",
    "# -> {'C': 0.5, 'max_iter': 500, 'penalty': 'l2', 'solver': 'sag'}\n",
    "# f1: 0.6916044272473679\n",
    "\n",
    "# param_grid = [{'C': [0.4,0.45,0.5,0.55,0.6],\n",
    "#             'solver': ['lbfgs','newton-cg','newton-cholesky','sag','saga'],\n",
    "#             'max_iter': [700,600,500,400,300]}]\n",
    "# -> {'C': 0.4, 'max_iter': 500, 'solver': 'sag'}\n",
    "# f1: 0.6915982039214981\n",
    "\n",
    "# param_grid = [{'C': [0.3,0.35,0.4,0.45]}]\n",
    "# -> {'C': 0.35}\n",
    "# f1: 0.6915982039214981\n",
    "\n",
    "regression_model = LogisticRegression(penalty=penalty, C=C, solver=solver, max_iter=max_iter, n_jobs=-1)"
   ]
  },
  {
   "attachments": {},
   "cell_type": "markdown",
   "metadata": {},
   "source": [
    "Try nonlinear regression by manipulating given features:"
   ]
  },
  {
   "cell_type": "code",
   "execution_count": null,
   "metadata": {},
   "outputs": [],
   "source": [
    "#to nonlinearly transform features!\n",
    "#np.sqrt, np.log, np.square\n",
    "f = np.sqrt\n",
    "\n",
    "merged_x = merged_x.apply(lambda x: f(x+1))"
   ]
  },
  {
   "attachments": {},
   "cell_type": "markdown",
   "metadata": {},
   "source": [
    "Random Forest"
   ]
  },
  {
   "cell_type": "code",
   "execution_count": 126,
   "metadata": {},
   "outputs": [],
   "source": [
    "from sklearn.ensemble import RandomForestClassifier\n",
    "\n",
    "#number of trees, int\n",
    "n_estimators=50\n",
    "\n",
    "#Criteria to determine split quality\n",
    "#“gini”, “entropy”, “log_loss”\n",
    "criterion = 'log_loss'\n",
    "\n",
    "#max depth of each tree, int or None for infinite\n",
    "max_depth = 10\n",
    "\n",
    "#min #/% of samples to leave in a branch after a split\n",
    "min_samples_split = 0.01\n",
    "\n",
    "#min #/% of samples to be a leaf node\n",
    "min_samples_leaf = 2\n",
    "\n",
    "# param_grid = [{'n_estimators': [50,100,150],\n",
    "#             'criterion': ['gini','entropy','log_loss'],\n",
    "#             'max_depth':[None,10,15,20],\n",
    "#             'min_samples_split':[2,0.01,0.05,0.1,0.2],\n",
    "#             'min_samples_leaf':[2,0.01,0.05,0.1,0.2]}]\n",
    "# {'criterion': 'log_loss', 'max_depth': 10, 'min_samples_leaf': 2, 'min_samples_split': 0.01, 'n_estimators': 50}\n",
    "# 0.660806071960417\n",
    "\n",
    "param_grid = [{'n_estimators': [30,40,50,60],\n",
    "            'max_depth':[8,9,10,11],\n",
    "            'min_samples_split':[0.005,0.01,0.015],\n",
    "            'min_samples_leaf':[2,7,10]}]\n",
    "# {'max_depth': 9, 'min_samples_leaf': 10, 'min_samples_split': 0.005, 'n_estimators': 40}\n",
    "# 0.6679347567644682\n",
    "\n",
    "randomforest_model = RandomForestClassifier(n_estimators=n_estimators, criterion=criterion, max_depth=max_depth, min_samples_split=min_samples_split, min_samples_leaf=min_samples_leaf, n_jobs=-1)"
   ]
  },
  {
   "attachments": {},
   "cell_type": "markdown",
   "metadata": {},
   "source": [
    "# Boosting!\n",
    "make a model better! goes into *boosted_model*"
   ]
  },
  {
   "attachments": {},
   "cell_type": "markdown",
   "metadata": {},
   "source": [
    "AdaBoost"
   ]
  },
  {
   "attachments": {},
   "cell_type": "markdown",
   "metadata": {},
   "source": []
  },
  {
   "cell_type": "code",
   "execution_count": null,
   "metadata": {},
   "outputs": [],
   "source": [
    "from sklearn.ensemble import AdaBoostClassifier\n",
    "\n",
    "#model to build off of\n",
    "#estimator = model\n",
    "\n",
    "#max number of estimators to compute before terminating testing\n",
    "n_estimators = 20\n",
    "\n",
    "#weight applied to each classifier at each boosting iteration\n",
    "learning_rate = 1.0\n",
    "\n",
    "# param_grid = [{'n_estimators': [10,20,30],\n",
    "#             'learning_rate': [1,2,3]}]\n",
    "\n",
    "adaboosted_model = AdaBoostClassifier(estimator=regression_model, n_estimators=n_estimators, learning_rate=learning_rate)"
   ]
  },
  {
   "attachments": {},
   "cell_type": "markdown",
   "metadata": {},
   "source": [
    "Gradient Boosting"
   ]
  },
  {
   "cell_type": "code",
   "execution_count": 321,
   "metadata": {},
   "outputs": [],
   "source": [
    "from sklearn.ensemble import HistGradientBoostingClassifier\n",
    "\n",
    "#loss function to use in boosting process\n",
    "#‘log_loss’, ‘auto’, ‘binary_crossentropy’/depreciated, ‘categorical_crossentropy’\n",
    "loss = 'log_loss'\n",
    "\n",
    "#shrinkage - multiplicative value for leaves\n",
    "learning_rate=0.1\n",
    "\n",
    "#maximum iterations for boosting process\n",
    "max_iter=100\n",
    "\n",
    "#maximum leaf nodes/tree\n",
    "max_leaf_nodes=25\n",
    "\n",
    "#max depth/tree or None for infinite\n",
    "max_depth = None\n",
    "\n",
    "#min samples to be a leaf\n",
    "min_samples_leaf=20\n",
    "\n",
    "#regularization parameter, 0 for none\n",
    "l2_regularization=0.1\n",
    "\n",
    "param_grid = [{'learning_rate': [0.1,0.3,0.5,0.7,1],\n",
    "            'max_iter':[50,60],\n",
    "            'max_leaf_nodes':[25,30,35,40],\n",
    "            'max_depth':[None,10,15,20],\n",
    "            'min_samples_leaf':[20,0.01,0.05,0.1,0.2],\n",
    "            'l2_regularization':[0,0.1,0.2]}] \n",
    "# {'l2_regularization': 0.1, 'learning_rate': 0.1, 'max_depth': None, 'max_iter': 60, 'max_leaf_nodes': 25, 'min_samples_leaf': 20}\n",
    "# 0.6629585231359386\n",
    "\n",
    "gradient_boosted_model = HistGradientBoostingClassifier(loss=loss, learning_rate=learning_rate, max_iter=max_iter, max_leaf_nodes=max_leaf_nodes, max_depth=max_depth, min_samples_leaf=min_samples_leaf, l2_regularization=l2_regularization)"
   ]
  },
  {
   "attachments": {},
   "cell_type": "markdown",
   "metadata": {},
   "source": [
    "Bagging (for speed!)"
   ]
  },
  {
   "cell_type": "code",
   "execution_count": null,
   "metadata": {},
   "outputs": [],
   "source": [
    "from sklearn.ensemble import BaggingClassifier\n",
    "\n",
    "#number of estimators\n",
    "n_estimators = 10\n",
    "\n",
    "bagged_model = BaggingClassifier(svm_model, max_features=1/n_estimators, n_estimators=n_estimators, n_jobs=-1)"
   ]
  },
  {
   "attachments": {},
   "cell_type": "markdown",
   "metadata": {},
   "source": [
    "LATE FUSION"
   ]
  },
  {
   "cell_type": "code",
   "execution_count": 178,
   "metadata": {},
   "outputs": [],
   "source": [
    "from sklearn.ensemble import StackingClassifier\n",
    "\n",
    "#which models to use for primary predictions\n",
    "estimators = [('forest',randomforest_model),('knn',knn_model),('svc',linearsvc_model)]\n",
    "\n",
    "#which model to use for final prediction\n",
    "final_estimator = svm_model\n",
    "\n",
    "#k for cross validation for training of final_estimator\n",
    "cv = 10\n",
    "\n",
    "late_fused_model = StackingClassifier(estimators=estimators, final_estimator=final_estimator,cv=cv,n_jobs=-1)"
   ]
  },
  {
   "attachments": {},
   "cell_type": "markdown",
   "metadata": {},
   "source": [
    "Standard scaler pipeline"
   ]
  },
  {
   "cell_type": "code",
   "execution_count": 325,
   "metadata": {},
   "outputs": [],
   "source": [
    "from sklearn.preprocessing import StandardScaler\n",
    "from sklearn.pipeline import Pipeline\n",
    "\n",
    "pipeline = Pipeline([('scaler', StandardScaler()), ('model', gradient_boosted_model)])"
   ]
  },
  {
   "attachments": {},
   "cell_type": "markdown",
   "metadata": {},
   "source": [
    "# Testing"
   ]
  },
  {
   "attachments": {},
   "cell_type": "markdown",
   "metadata": {},
   "source": [
    "Combined K-Fold Testing + Result Displaying"
   ]
  },
  {
   "cell_type": "code",
   "execution_count": 332,
   "metadata": {},
   "outputs": [
    {
     "name": "stderr",
     "output_type": "stream",
     "text": [
      "c:\\Users\\zachg\\AppData\\Local\\Programs\\Python\\Python310\\lib\\site-packages\\sklearn\\svm\\_base.py:1244: ConvergenceWarning: Liblinear failed to converge, increase the number of iterations.\n",
      "  warnings.warn(\n",
      "c:\\Users\\zachg\\AppData\\Local\\Programs\\Python\\Python310\\lib\\site-packages\\sklearn\\svm\\_base.py:1244: ConvergenceWarning: Liblinear failed to converge, increase the number of iterations.\n",
      "  warnings.warn(\n",
      "c:\\Users\\zachg\\AppData\\Local\\Programs\\Python\\Python310\\lib\\site-packages\\sklearn\\svm\\_base.py:1244: ConvergenceWarning: Liblinear failed to converge, increase the number of iterations.\n",
      "  warnings.warn(\n",
      "c:\\Users\\zachg\\AppData\\Local\\Programs\\Python\\Python310\\lib\\site-packages\\sklearn\\svm\\_base.py:1244: ConvergenceWarning: Liblinear failed to converge, increase the number of iterations.\n",
      "  warnings.warn(\n",
      "c:\\Users\\zachg\\AppData\\Local\\Programs\\Python\\Python310\\lib\\site-packages\\sklearn\\svm\\_base.py:1244: ConvergenceWarning: Liblinear failed to converge, increase the number of iterations.\n",
      "  warnings.warn(\n",
      "c:\\Users\\zachg\\AppData\\Local\\Programs\\Python\\Python310\\lib\\site-packages\\sklearn\\svm\\_base.py:1244: ConvergenceWarning: Liblinear failed to converge, increase the number of iterations.\n",
      "  warnings.warn(\n",
      "c:\\Users\\zachg\\AppData\\Local\\Programs\\Python\\Python310\\lib\\site-packages\\sklearn\\svm\\_base.py:1244: ConvergenceWarning: Liblinear failed to converge, increase the number of iterations.\n",
      "  warnings.warn(\n",
      "c:\\Users\\zachg\\AppData\\Local\\Programs\\Python\\Python310\\lib\\site-packages\\sklearn\\svm\\_base.py:1244: ConvergenceWarning: Liblinear failed to converge, increase the number of iterations.\n",
      "  warnings.warn(\n",
      "c:\\Users\\zachg\\AppData\\Local\\Programs\\Python\\Python310\\lib\\site-packages\\sklearn\\svm\\_base.py:1244: ConvergenceWarning: Liblinear failed to converge, increase the number of iterations.\n",
      "  warnings.warn(\n"
     ]
    },
    {
     "name": "stdout",
     "output_type": "stream",
     "text": [
      "----------------------------------------\n",
      "\tAVG, STDEV TEST RESULTS\n",
      "----------------------------------------\n",
      "\t\tMEAN\t\tSTDEV\n",
      "f1:       \t0.6554\t\t0.012\n",
      "accuracy: \t0.6416\t\t0.0101\n",
      "precision:\t0.6241\t\t0.011\n",
      "recall:   \t0.6906\t\t0.0253\n"
     ]
    },
    {
     "name": "stderr",
     "output_type": "stream",
     "text": [
      "c:\\Users\\zachg\\AppData\\Local\\Programs\\Python\\Python310\\lib\\site-packages\\sklearn\\svm\\_base.py:1244: ConvergenceWarning: Liblinear failed to converge, increase the number of iterations.\n",
      "  warnings.warn(\n"
     ]
    }
   ],
   "source": [
    "#desired metrics\n",
    "scoring=['f1','accuracy','precision','recall']\n",
    "\n",
    "#number of \"folds\"\n",
    "k=10\n",
    "\n",
    "cv_results = cross_validate(linearsvc_model, merged_x, merged_y, cv=k, scoring=scoring)\n",
    "\n",
    "\n",
    "#print means, stdevs\n",
    "hline = (\"-\"*40)\n",
    "print(hline+\"\\n\\tAVG, STDEV TEST RESULTS\\n\"+hline)\n",
    "print(\"\\t\\tMEAN\\t\\tSTDEV\")\n",
    "for m in scoring:\n",
    "        ind = (\"test_\"+m)\n",
    "        test = (m+\":\").ljust(10)\n",
    "        print(f\"{test}\\t{np.round(cv_results[ind].mean(),4)}\\t\\t{np.round(cv_results[ind].std(),4)}\")"
   ]
  },
  {
   "attachments": {},
   "cell_type": "markdown",
   "metadata": {},
   "source": [
    "K-Fold testing"
   ]
  },
  {
   "cell_type": "code",
   "execution_count": 186,
   "metadata": {},
   "outputs": [],
   "source": [
    "#desired metrics\n",
    "scoring=['f1','accuracy','precision','recall']\n",
    "\n",
    "#number of \"folds\"\n",
    "k=10\n",
    "\n",
    "cv_results = cross_validate(gradient_boosted_model, merged_x, merged_y, cv=k, scoring=scoring)"
   ]
  },
  {
   "attachments": {},
   "cell_type": "markdown",
   "metadata": {},
   "source": [
    "Pretty printing results"
   ]
  },
  {
   "cell_type": "code",
   "execution_count": 191,
   "metadata": {},
   "outputs": [
    {
     "name": "stdout",
     "output_type": "stream",
     "text": [
      "----------------------------------------\n",
      "\tAVG, STDEV TEST RESULTS\n",
      "----------------------------------------\n",
      "\t\tMEAN\t\tSTDEV\n",
      "f1:       \t0.6681\t\t0.0094\n",
      "accuracy: \t0.6392\t\t0.0104\n",
      "precision:\t0.6121\t\t0.0097\n",
      "recall:   \t0.7356\t\t0.0148\n"
     ]
    }
   ],
   "source": [
    "hline = (\"-\"*40)\n",
    "\n",
    "#print means, stdevs\n",
    "print(hline+\"\\n\\tAVG, STDEV TEST RESULTS\\n\"+hline)\n",
    "print(\"\\t\\tMEAN\\t\\tSTDEV\")\n",
    "for m in scoring:\n",
    "        ind = (\"test_\"+m)\n",
    "        test = (m+\":\").ljust(10)\n",
    "        print(f\"{test}\\t{np.round(cv_results[ind].mean(),4)}\\t\\t{np.round(cv_results[ind].std(),4)}\")\n",
    "\n",
    "\n",
    "    ##print per test results (if you really want, uncomment)\n",
    "# print(\"\\n\")\n",
    "# print(hline+\"\\n\\tPER TEST RESULTS\\n\"+hline)\n",
    "# for i in range(k):\n",
    "#     print(f\"Test {i}:\")\n",
    "#     for m in scoring:\n",
    "#         ind = (\"test_\"+m)\n",
    "#         test = (m+\":\").ljust(10)\n",
    "#         print(f\"\\t{test} {np.round(cv_results[ind][i],5)}\")"
   ]
  },
  {
   "attachments": {},
   "cell_type": "markdown",
   "metadata": {},
   "source": [
    "# Grid Search"
   ]
  },
  {
   "attachments": {},
   "cell_type": "markdown",
   "metadata": {},
   "source": [
    "Testing Split"
   ]
  },
  {
   "cell_type": "code",
   "execution_count": 194,
   "metadata": {},
   "outputs": [],
   "source": [
    "x_train, x_test, y_train, y_test = train_test_split(merged_x, merged_y, test_size=0.5, random_state=2)"
   ]
  },
  {
   "attachments": {},
   "cell_type": "markdown",
   "metadata": {},
   "source": [
    "Grid Searching for Best Parameters\n",
    "\n",
    "must have parameters for variable in *param_grid*"
   ]
  },
  {
   "cell_type": "code",
   "execution_count": 196,
   "metadata": {},
   "outputs": [
    {
     "name": "stderr",
     "output_type": "stream",
     "text": [
      "c:\\Users\\zachg\\AppData\\Local\\Programs\\Python\\Python310\\lib\\site-packages\\sklearn\\model_selection\\_validation.py:378: FitFailedWarning: \n",
      "19200 fits failed out of a total of 24000.\n",
      "The score on these train-test partitions for these parameters will be set to nan.\n",
      "If these failures are not expected, you can try to debug them by setting error_score='raise'.\n",
      "\n",
      "Below are more details about the failures:\n",
      "--------------------------------------------------------------------------------\n",
      "4800 fits failed with the following error:\n",
      "Traceback (most recent call last):\n",
      "  File \"c:\\Users\\zachg\\AppData\\Local\\Programs\\Python\\Python310\\lib\\site-packages\\sklearn\\model_selection\\_validation.py\", line 686, in _fit_and_score\n",
      "    estimator.fit(X_train, y_train, **fit_params)\n",
      "  File \"c:\\Users\\zachg\\AppData\\Local\\Programs\\Python\\Python310\\lib\\site-packages\\sklearn\\ensemble\\_hist_gradient_boosting\\gradient_boosting.py\", line 353, in fit\n",
      "    self._validate_params()\n",
      "  File \"c:\\Users\\zachg\\AppData\\Local\\Programs\\Python\\Python310\\lib\\site-packages\\sklearn\\base.py\", line 600, in _validate_params\n",
      "    validate_parameter_constraints(\n",
      "  File \"c:\\Users\\zachg\\AppData\\Local\\Programs\\Python\\Python310\\lib\\site-packages\\sklearn\\utils\\_param_validation.py\", line 97, in validate_parameter_constraints\n",
      "    raise InvalidParameterError(\n",
      "sklearn.utils._param_validation.InvalidParameterError: The 'min_samples_leaf' parameter of HistGradientBoostingClassifier must be an int in the range [1, inf). Got 0.01 instead.\n",
      "\n",
      "--------------------------------------------------------------------------------\n",
      "4800 fits failed with the following error:\n",
      "Traceback (most recent call last):\n",
      "  File \"c:\\Users\\zachg\\AppData\\Local\\Programs\\Python\\Python310\\lib\\site-packages\\sklearn\\model_selection\\_validation.py\", line 686, in _fit_and_score\n",
      "    estimator.fit(X_train, y_train, **fit_params)\n",
      "  File \"c:\\Users\\zachg\\AppData\\Local\\Programs\\Python\\Python310\\lib\\site-packages\\sklearn\\ensemble\\_hist_gradient_boosting\\gradient_boosting.py\", line 353, in fit\n",
      "    self._validate_params()\n",
      "  File \"c:\\Users\\zachg\\AppData\\Local\\Programs\\Python\\Python310\\lib\\site-packages\\sklearn\\base.py\", line 600, in _validate_params\n",
      "    validate_parameter_constraints(\n",
      "  File \"c:\\Users\\zachg\\AppData\\Local\\Programs\\Python\\Python310\\lib\\site-packages\\sklearn\\utils\\_param_validation.py\", line 97, in validate_parameter_constraints\n",
      "    raise InvalidParameterError(\n",
      "sklearn.utils._param_validation.InvalidParameterError: The 'min_samples_leaf' parameter of HistGradientBoostingClassifier must be an int in the range [1, inf). Got 0.05 instead.\n",
      "\n",
      "--------------------------------------------------------------------------------\n",
      "4800 fits failed with the following error:\n",
      "Traceback (most recent call last):\n",
      "  File \"c:\\Users\\zachg\\AppData\\Local\\Programs\\Python\\Python310\\lib\\site-packages\\sklearn\\model_selection\\_validation.py\", line 686, in _fit_and_score\n",
      "    estimator.fit(X_train, y_train, **fit_params)\n",
      "  File \"c:\\Users\\zachg\\AppData\\Local\\Programs\\Python\\Python310\\lib\\site-packages\\sklearn\\ensemble\\_hist_gradient_boosting\\gradient_boosting.py\", line 353, in fit\n",
      "    self._validate_params()\n",
      "  File \"c:\\Users\\zachg\\AppData\\Local\\Programs\\Python\\Python310\\lib\\site-packages\\sklearn\\base.py\", line 600, in _validate_params\n",
      "    validate_parameter_constraints(\n",
      "  File \"c:\\Users\\zachg\\AppData\\Local\\Programs\\Python\\Python310\\lib\\site-packages\\sklearn\\utils\\_param_validation.py\", line 97, in validate_parameter_constraints\n",
      "    raise InvalidParameterError(\n",
      "sklearn.utils._param_validation.InvalidParameterError: The 'min_samples_leaf' parameter of HistGradientBoostingClassifier must be an int in the range [1, inf). Got 0.1 instead.\n",
      "\n",
      "--------------------------------------------------------------------------------\n",
      "4800 fits failed with the following error:\n",
      "Traceback (most recent call last):\n",
      "  File \"c:\\Users\\zachg\\AppData\\Local\\Programs\\Python\\Python310\\lib\\site-packages\\sklearn\\model_selection\\_validation.py\", line 686, in _fit_and_score\n",
      "    estimator.fit(X_train, y_train, **fit_params)\n",
      "  File \"c:\\Users\\zachg\\AppData\\Local\\Programs\\Python\\Python310\\lib\\site-packages\\sklearn\\ensemble\\_hist_gradient_boosting\\gradient_boosting.py\", line 353, in fit\n",
      "    self._validate_params()\n",
      "  File \"c:\\Users\\zachg\\AppData\\Local\\Programs\\Python\\Python310\\lib\\site-packages\\sklearn\\base.py\", line 600, in _validate_params\n",
      "    validate_parameter_constraints(\n",
      "  File \"c:\\Users\\zachg\\AppData\\Local\\Programs\\Python\\Python310\\lib\\site-packages\\sklearn\\utils\\_param_validation.py\", line 97, in validate_parameter_constraints\n",
      "    raise InvalidParameterError(\n",
      "sklearn.utils._param_validation.InvalidParameterError: The 'min_samples_leaf' parameter of HistGradientBoostingClassifier must be an int in the range [1, inf). Got 0.2 instead.\n",
      "\n",
      "  warnings.warn(some_fits_failed_message, FitFailedWarning)\n",
      "c:\\Users\\zachg\\AppData\\Local\\Programs\\Python\\Python310\\lib\\site-packages\\sklearn\\model_selection\\_search.py:952: UserWarning: One or more of the test scores are non-finite: [0.66657444        nan        nan ...        nan        nan        nan]\n",
      "  warnings.warn(\n"
     ]
    },
    {
     "name": "stdout",
     "output_type": "stream",
     "text": [
      "{'l2_regularization': 0.1, 'learning_rate': 0.1, 'max_depth': None, 'max_iter': 60, 'max_leaf_nodes': 25, 'min_samples_leaf': 20}\n",
      "0.6629585231359386\n"
     ]
    }
   ],
   "source": [
    "from sklearn.model_selection import GridSearchCV\n",
    "\n",
    "grid_search = GridSearchCV(gradient_boosted_model, param_grid=param_grid, scoring='f1', cv=10)\n",
    "grid_search.fit(x_train,y_train)\n",
    "print(grid_search.best_params_)\n",
    "print(grid_search.score(x_test,y_test))"
   ]
  },
  {
   "attachments": {},
   "cell_type": "markdown",
   "metadata": {},
   "source": [
    "Halving random grid search (for speed up)"
   ]
  },
  {
   "cell_type": "code",
   "execution_count": 181,
   "metadata": {},
   "outputs": [
    {
     "ename": "ValueError",
     "evalue": "Invalid parameter 'C' for estimator Pipeline(steps=[('scaler', StandardScaler()),\n                ('model',\n                 StackingClassifier(cv=10,\n                                    estimators=[('forest',\n                                                 RandomForestClassifier(criterion='log_loss',\n                                                                        max_depth=10,\n                                                                        min_samples_leaf=2,\n                                                                        min_samples_split=0.01,\n                                                                        n_estimators=50,\n                                                                        n_jobs=-1)),\n                                                ('knn',\n                                                 KNeighborsClassifier(leaf_size=3,\n                                                                      n_jobs=-1,\n                                                                      n_neighbors=7,\n                                                                      weights='distance')),\n                                                ('svc',\n                                                 LinearSVC(C=1, loss='hinge',\n                                                           max_iter=10000))],\n                                    final_estimator=SVC(C=0.2, degree=4,\n                                                        kernel='linear'),\n                                    n_jobs=-1))]). Valid parameters are: ['memory', 'steps', 'verbose'].",
     "output_type": "error",
     "traceback": [
      "\u001b[1;31m---------------------------------------------------------------------------\u001b[0m",
      "\u001b[1;31mValueError\u001b[0m                                Traceback (most recent call last)",
      "\u001b[1;32m~\\AppData\\Local\\Temp/ipykernel_5888/482145260.py\u001b[0m in \u001b[0;36m<module>\u001b[1;34m\u001b[0m\n\u001b[0;32m      3\u001b[0m \u001b[1;33m\u001b[0m\u001b[0m\n\u001b[0;32m      4\u001b[0m \u001b[0mhg_search\u001b[0m \u001b[1;33m=\u001b[0m \u001b[0mHalvingGridSearchCV\u001b[0m\u001b[1;33m(\u001b[0m\u001b[0mpipeline\u001b[0m\u001b[1;33m,\u001b[0m \u001b[0mparam_grid\u001b[0m\u001b[1;33m=\u001b[0m\u001b[0mparam_grid\u001b[0m\u001b[1;33m,\u001b[0m \u001b[0mscoring\u001b[0m\u001b[1;33m=\u001b[0m\u001b[1;34m'f1'\u001b[0m\u001b[1;33m,\u001b[0m \u001b[0mcv\u001b[0m\u001b[1;33m=\u001b[0m\u001b[1;36m10\u001b[0m\u001b[1;33m)\u001b[0m\u001b[1;33m\u001b[0m\u001b[1;33m\u001b[0m\u001b[0m\n\u001b[1;32m----> 5\u001b[1;33m \u001b[0mhg_search\u001b[0m\u001b[1;33m.\u001b[0m\u001b[0mfit\u001b[0m\u001b[1;33m(\u001b[0m\u001b[0mx_train\u001b[0m\u001b[1;33m,\u001b[0m\u001b[0my_train\u001b[0m\u001b[1;33m)\u001b[0m\u001b[1;33m\u001b[0m\u001b[1;33m\u001b[0m\u001b[0m\n\u001b[0m\u001b[0;32m      6\u001b[0m \u001b[0mprint\u001b[0m\u001b[1;33m(\u001b[0m\u001b[0mhg_search\u001b[0m\u001b[1;33m.\u001b[0m\u001b[0mbest_params_\u001b[0m\u001b[1;33m)\u001b[0m\u001b[1;33m\u001b[0m\u001b[1;33m\u001b[0m\u001b[0m\n\u001b[0;32m      7\u001b[0m \u001b[0mprint\u001b[0m\u001b[1;33m(\u001b[0m\u001b[0mhg_search\u001b[0m\u001b[1;33m.\u001b[0m\u001b[0mscore\u001b[0m\u001b[1;33m(\u001b[0m\u001b[0mx_test\u001b[0m\u001b[1;33m,\u001b[0m\u001b[0my_test\u001b[0m\u001b[1;33m)\u001b[0m\u001b[1;33m)\u001b[0m\u001b[1;33m\u001b[0m\u001b[1;33m\u001b[0m\u001b[0m\n",
      "\u001b[1;32mc:\\Users\\zachg\\AppData\\Local\\Programs\\Python\\Python310\\lib\\site-packages\\sklearn\\model_selection\\_search_successive_halving.py\u001b[0m in \u001b[0;36mfit\u001b[1;34m(self, X, y, groups, **fit_params)\u001b[0m\n\u001b[0;32m    271\u001b[0m         \u001b[0mself\u001b[0m\u001b[1;33m.\u001b[0m\u001b[0m_n_samples_orig\u001b[0m \u001b[1;33m=\u001b[0m \u001b[0m_num_samples\u001b[0m\u001b[1;33m(\u001b[0m\u001b[0mX\u001b[0m\u001b[1;33m)\u001b[0m\u001b[1;33m\u001b[0m\u001b[1;33m\u001b[0m\u001b[0m\n\u001b[0;32m    272\u001b[0m \u001b[1;33m\u001b[0m\u001b[0m\n\u001b[1;32m--> 273\u001b[1;33m         \u001b[0msuper\u001b[0m\u001b[1;33m(\u001b[0m\u001b[1;33m)\u001b[0m\u001b[1;33m.\u001b[0m\u001b[0mfit\u001b[0m\u001b[1;33m(\u001b[0m\u001b[0mX\u001b[0m\u001b[1;33m,\u001b[0m \u001b[0my\u001b[0m\u001b[1;33m=\u001b[0m\u001b[0my\u001b[0m\u001b[1;33m,\u001b[0m \u001b[0mgroups\u001b[0m\u001b[1;33m=\u001b[0m\u001b[0mgroups\u001b[0m\u001b[1;33m,\u001b[0m \u001b[1;33m**\u001b[0m\u001b[0mfit_params\u001b[0m\u001b[1;33m)\u001b[0m\u001b[1;33m\u001b[0m\u001b[1;33m\u001b[0m\u001b[0m\n\u001b[0m\u001b[0;32m    274\u001b[0m \u001b[1;33m\u001b[0m\u001b[0m\n\u001b[0;32m    275\u001b[0m         \u001b[1;31m# Set best_score_: BaseSearchCV does not set it, as refit is a callable\u001b[0m\u001b[1;33m\u001b[0m\u001b[1;33m\u001b[0m\u001b[0m\n",
      "\u001b[1;32mc:\\Users\\zachg\\AppData\\Local\\Programs\\Python\\Python310\\lib\\site-packages\\sklearn\\model_selection\\_search.py\u001b[0m in \u001b[0;36mfit\u001b[1;34m(self, X, y, groups, **fit_params)\u001b[0m\n\u001b[0;32m    872\u001b[0m                 \u001b[1;32mreturn\u001b[0m \u001b[0mresults\u001b[0m\u001b[1;33m\u001b[0m\u001b[1;33m\u001b[0m\u001b[0m\n\u001b[0;32m    873\u001b[0m \u001b[1;33m\u001b[0m\u001b[0m\n\u001b[1;32m--> 874\u001b[1;33m             \u001b[0mself\u001b[0m\u001b[1;33m.\u001b[0m\u001b[0m_run_search\u001b[0m\u001b[1;33m(\u001b[0m\u001b[0mevaluate_candidates\u001b[0m\u001b[1;33m)\u001b[0m\u001b[1;33m\u001b[0m\u001b[1;33m\u001b[0m\u001b[0m\n\u001b[0m\u001b[0;32m    875\u001b[0m \u001b[1;33m\u001b[0m\u001b[0m\n\u001b[0;32m    876\u001b[0m             \u001b[1;31m# multimetric is determined here because in the case of a callable\u001b[0m\u001b[1;33m\u001b[0m\u001b[1;33m\u001b[0m\u001b[0m\n",
      "\u001b[1;32mc:\\Users\\zachg\\AppData\\Local\\Programs\\Python\\Python310\\lib\\site-packages\\sklearn\\model_selection\\_search_successive_halving.py\u001b[0m in \u001b[0;36m_run_search\u001b[1;34m(self, evaluate_candidates)\u001b[0m\n\u001b[0;32m    376\u001b[0m             }\n\u001b[0;32m    377\u001b[0m \u001b[1;33m\u001b[0m\u001b[0m\n\u001b[1;32m--> 378\u001b[1;33m             results = evaluate_candidates(\n\u001b[0m\u001b[0;32m    379\u001b[0m                 \u001b[0mcandidate_params\u001b[0m\u001b[1;33m,\u001b[0m \u001b[0mcv\u001b[0m\u001b[1;33m,\u001b[0m \u001b[0mmore_results\u001b[0m\u001b[1;33m=\u001b[0m\u001b[0mmore_results\u001b[0m\u001b[1;33m\u001b[0m\u001b[1;33m\u001b[0m\u001b[0m\n\u001b[0;32m    380\u001b[0m             )\n",
      "\u001b[1;32mc:\\Users\\zachg\\AppData\\Local\\Programs\\Python\\Python310\\lib\\site-packages\\sklearn\\model_selection\\_search.py\u001b[0m in \u001b[0;36mevaluate_candidates\u001b[1;34m(candidate_params, cv, more_results)\u001b[0m\n\u001b[0;32m    819\u001b[0m                     )\n\u001b[0;32m    820\u001b[0m \u001b[1;33m\u001b[0m\u001b[0m\n\u001b[1;32m--> 821\u001b[1;33m                 out = parallel(\n\u001b[0m\u001b[0;32m    822\u001b[0m                     delayed(_fit_and_score)(\n\u001b[0;32m    823\u001b[0m                         \u001b[0mclone\u001b[0m\u001b[1;33m(\u001b[0m\u001b[0mbase_estimator\u001b[0m\u001b[1;33m)\u001b[0m\u001b[1;33m,\u001b[0m\u001b[1;33m\u001b[0m\u001b[1;33m\u001b[0m\u001b[0m\n",
      "\u001b[1;32mc:\\Users\\zachg\\AppData\\Local\\Programs\\Python\\Python310\\lib\\site-packages\\sklearn\\utils\\parallel.py\u001b[0m in \u001b[0;36m__call__\u001b[1;34m(self, iterable)\u001b[0m\n\u001b[0;32m     61\u001b[0m             \u001b[1;32mfor\u001b[0m \u001b[0mdelayed_func\u001b[0m\u001b[1;33m,\u001b[0m \u001b[0margs\u001b[0m\u001b[1;33m,\u001b[0m \u001b[0mkwargs\u001b[0m \u001b[1;32min\u001b[0m \u001b[0miterable\u001b[0m\u001b[1;33m\u001b[0m\u001b[1;33m\u001b[0m\u001b[0m\n\u001b[0;32m     62\u001b[0m         )\n\u001b[1;32m---> 63\u001b[1;33m         \u001b[1;32mreturn\u001b[0m \u001b[0msuper\u001b[0m\u001b[1;33m(\u001b[0m\u001b[1;33m)\u001b[0m\u001b[1;33m.\u001b[0m\u001b[0m__call__\u001b[0m\u001b[1;33m(\u001b[0m\u001b[0miterable_with_config\u001b[0m\u001b[1;33m)\u001b[0m\u001b[1;33m\u001b[0m\u001b[1;33m\u001b[0m\u001b[0m\n\u001b[0m\u001b[0;32m     64\u001b[0m \u001b[1;33m\u001b[0m\u001b[0m\n\u001b[0;32m     65\u001b[0m \u001b[1;33m\u001b[0m\u001b[0m\n",
      "\u001b[1;32mc:\\Users\\zachg\\AppData\\Local\\Programs\\Python\\Python310\\lib\\site-packages\\joblib\\parallel.py\u001b[0m in \u001b[0;36m__call__\u001b[1;34m(self, iterable)\u001b[0m\n\u001b[0;32m   1083\u001b[0m             \u001b[1;31m# remaining jobs.\u001b[0m\u001b[1;33m\u001b[0m\u001b[1;33m\u001b[0m\u001b[0m\n\u001b[0;32m   1084\u001b[0m             \u001b[0mself\u001b[0m\u001b[1;33m.\u001b[0m\u001b[0m_iterating\u001b[0m \u001b[1;33m=\u001b[0m \u001b[1;32mFalse\u001b[0m\u001b[1;33m\u001b[0m\u001b[1;33m\u001b[0m\u001b[0m\n\u001b[1;32m-> 1085\u001b[1;33m             \u001b[1;32mif\u001b[0m \u001b[0mself\u001b[0m\u001b[1;33m.\u001b[0m\u001b[0mdispatch_one_batch\u001b[0m\u001b[1;33m(\u001b[0m\u001b[0miterator\u001b[0m\u001b[1;33m)\u001b[0m\u001b[1;33m:\u001b[0m\u001b[1;33m\u001b[0m\u001b[1;33m\u001b[0m\u001b[0m\n\u001b[0m\u001b[0;32m   1086\u001b[0m                 \u001b[0mself\u001b[0m\u001b[1;33m.\u001b[0m\u001b[0m_iterating\u001b[0m \u001b[1;33m=\u001b[0m \u001b[0mself\u001b[0m\u001b[1;33m.\u001b[0m\u001b[0m_original_iterator\u001b[0m \u001b[1;32mis\u001b[0m \u001b[1;32mnot\u001b[0m \u001b[1;32mNone\u001b[0m\u001b[1;33m\u001b[0m\u001b[1;33m\u001b[0m\u001b[0m\n\u001b[0;32m   1087\u001b[0m \u001b[1;33m\u001b[0m\u001b[0m\n",
      "\u001b[1;32mc:\\Users\\zachg\\AppData\\Local\\Programs\\Python\\Python310\\lib\\site-packages\\joblib\\parallel.py\u001b[0m in \u001b[0;36mdispatch_one_batch\u001b[1;34m(self, iterator)\u001b[0m\n\u001b[0;32m    899\u001b[0m                 \u001b[1;32mreturn\u001b[0m \u001b[1;32mFalse\u001b[0m\u001b[1;33m\u001b[0m\u001b[1;33m\u001b[0m\u001b[0m\n\u001b[0;32m    900\u001b[0m             \u001b[1;32melse\u001b[0m\u001b[1;33m:\u001b[0m\u001b[1;33m\u001b[0m\u001b[1;33m\u001b[0m\u001b[0m\n\u001b[1;32m--> 901\u001b[1;33m                 \u001b[0mself\u001b[0m\u001b[1;33m.\u001b[0m\u001b[0m_dispatch\u001b[0m\u001b[1;33m(\u001b[0m\u001b[0mtasks\u001b[0m\u001b[1;33m)\u001b[0m\u001b[1;33m\u001b[0m\u001b[1;33m\u001b[0m\u001b[0m\n\u001b[0m\u001b[0;32m    902\u001b[0m                 \u001b[1;32mreturn\u001b[0m \u001b[1;32mTrue\u001b[0m\u001b[1;33m\u001b[0m\u001b[1;33m\u001b[0m\u001b[0m\n\u001b[0;32m    903\u001b[0m \u001b[1;33m\u001b[0m\u001b[0m\n",
      "\u001b[1;32mc:\\Users\\zachg\\AppData\\Local\\Programs\\Python\\Python310\\lib\\site-packages\\joblib\\parallel.py\u001b[0m in \u001b[0;36m_dispatch\u001b[1;34m(self, batch)\u001b[0m\n\u001b[0;32m    817\u001b[0m         \u001b[1;32mwith\u001b[0m \u001b[0mself\u001b[0m\u001b[1;33m.\u001b[0m\u001b[0m_lock\u001b[0m\u001b[1;33m:\u001b[0m\u001b[1;33m\u001b[0m\u001b[1;33m\u001b[0m\u001b[0m\n\u001b[0;32m    818\u001b[0m             \u001b[0mjob_idx\u001b[0m \u001b[1;33m=\u001b[0m \u001b[0mlen\u001b[0m\u001b[1;33m(\u001b[0m\u001b[0mself\u001b[0m\u001b[1;33m.\u001b[0m\u001b[0m_jobs\u001b[0m\u001b[1;33m)\u001b[0m\u001b[1;33m\u001b[0m\u001b[1;33m\u001b[0m\u001b[0m\n\u001b[1;32m--> 819\u001b[1;33m             \u001b[0mjob\u001b[0m \u001b[1;33m=\u001b[0m \u001b[0mself\u001b[0m\u001b[1;33m.\u001b[0m\u001b[0m_backend\u001b[0m\u001b[1;33m.\u001b[0m\u001b[0mapply_async\u001b[0m\u001b[1;33m(\u001b[0m\u001b[0mbatch\u001b[0m\u001b[1;33m,\u001b[0m \u001b[0mcallback\u001b[0m\u001b[1;33m=\u001b[0m\u001b[0mcb\u001b[0m\u001b[1;33m)\u001b[0m\u001b[1;33m\u001b[0m\u001b[1;33m\u001b[0m\u001b[0m\n\u001b[0m\u001b[0;32m    820\u001b[0m             \u001b[1;31m# A job can complete so quickly than its callback is\u001b[0m\u001b[1;33m\u001b[0m\u001b[1;33m\u001b[0m\u001b[0m\n\u001b[0;32m    821\u001b[0m             \u001b[1;31m# called before we get here, causing self._jobs to\u001b[0m\u001b[1;33m\u001b[0m\u001b[1;33m\u001b[0m\u001b[0m\n",
      "\u001b[1;32mc:\\Users\\zachg\\AppData\\Local\\Programs\\Python\\Python310\\lib\\site-packages\\joblib\\_parallel_backends.py\u001b[0m in \u001b[0;36mapply_async\u001b[1;34m(self, func, callback)\u001b[0m\n\u001b[0;32m    206\u001b[0m     \u001b[1;32mdef\u001b[0m \u001b[0mapply_async\u001b[0m\u001b[1;33m(\u001b[0m\u001b[0mself\u001b[0m\u001b[1;33m,\u001b[0m \u001b[0mfunc\u001b[0m\u001b[1;33m,\u001b[0m \u001b[0mcallback\u001b[0m\u001b[1;33m=\u001b[0m\u001b[1;32mNone\u001b[0m\u001b[1;33m)\u001b[0m\u001b[1;33m:\u001b[0m\u001b[1;33m\u001b[0m\u001b[1;33m\u001b[0m\u001b[0m\n\u001b[0;32m    207\u001b[0m         \u001b[1;34m\"\"\"Schedule a func to be run\"\"\"\u001b[0m\u001b[1;33m\u001b[0m\u001b[1;33m\u001b[0m\u001b[0m\n\u001b[1;32m--> 208\u001b[1;33m         \u001b[0mresult\u001b[0m \u001b[1;33m=\u001b[0m \u001b[0mImmediateResult\u001b[0m\u001b[1;33m(\u001b[0m\u001b[0mfunc\u001b[0m\u001b[1;33m)\u001b[0m\u001b[1;33m\u001b[0m\u001b[1;33m\u001b[0m\u001b[0m\n\u001b[0m\u001b[0;32m    209\u001b[0m         \u001b[1;32mif\u001b[0m \u001b[0mcallback\u001b[0m\u001b[1;33m:\u001b[0m\u001b[1;33m\u001b[0m\u001b[1;33m\u001b[0m\u001b[0m\n\u001b[0;32m    210\u001b[0m             \u001b[0mcallback\u001b[0m\u001b[1;33m(\u001b[0m\u001b[0mresult\u001b[0m\u001b[1;33m)\u001b[0m\u001b[1;33m\u001b[0m\u001b[1;33m\u001b[0m\u001b[0m\n",
      "\u001b[1;32mc:\\Users\\zachg\\AppData\\Local\\Programs\\Python\\Python310\\lib\\site-packages\\joblib\\_parallel_backends.py\u001b[0m in \u001b[0;36m__init__\u001b[1;34m(self, batch)\u001b[0m\n\u001b[0;32m    595\u001b[0m         \u001b[1;31m# Don't delay the application, to avoid keeping the input\u001b[0m\u001b[1;33m\u001b[0m\u001b[1;33m\u001b[0m\u001b[0m\n\u001b[0;32m    596\u001b[0m         \u001b[1;31m# arguments in memory\u001b[0m\u001b[1;33m\u001b[0m\u001b[1;33m\u001b[0m\u001b[0m\n\u001b[1;32m--> 597\u001b[1;33m         \u001b[0mself\u001b[0m\u001b[1;33m.\u001b[0m\u001b[0mresults\u001b[0m \u001b[1;33m=\u001b[0m \u001b[0mbatch\u001b[0m\u001b[1;33m(\u001b[0m\u001b[1;33m)\u001b[0m\u001b[1;33m\u001b[0m\u001b[1;33m\u001b[0m\u001b[0m\n\u001b[0m\u001b[0;32m    598\u001b[0m \u001b[1;33m\u001b[0m\u001b[0m\n\u001b[0;32m    599\u001b[0m     \u001b[1;32mdef\u001b[0m \u001b[0mget\u001b[0m\u001b[1;33m(\u001b[0m\u001b[0mself\u001b[0m\u001b[1;33m)\u001b[0m\u001b[1;33m:\u001b[0m\u001b[1;33m\u001b[0m\u001b[1;33m\u001b[0m\u001b[0m\n",
      "\u001b[1;32mc:\\Users\\zachg\\AppData\\Local\\Programs\\Python\\Python310\\lib\\site-packages\\joblib\\parallel.py\u001b[0m in \u001b[0;36m__call__\u001b[1;34m(self)\u001b[0m\n\u001b[0;32m    286\u001b[0m         \u001b[1;31m# change the default number of processes to -1\u001b[0m\u001b[1;33m\u001b[0m\u001b[1;33m\u001b[0m\u001b[0m\n\u001b[0;32m    287\u001b[0m         \u001b[1;32mwith\u001b[0m \u001b[0mparallel_backend\u001b[0m\u001b[1;33m(\u001b[0m\u001b[0mself\u001b[0m\u001b[1;33m.\u001b[0m\u001b[0m_backend\u001b[0m\u001b[1;33m,\u001b[0m \u001b[0mn_jobs\u001b[0m\u001b[1;33m=\u001b[0m\u001b[0mself\u001b[0m\u001b[1;33m.\u001b[0m\u001b[0m_n_jobs\u001b[0m\u001b[1;33m)\u001b[0m\u001b[1;33m:\u001b[0m\u001b[1;33m\u001b[0m\u001b[1;33m\u001b[0m\u001b[0m\n\u001b[1;32m--> 288\u001b[1;33m             return [func(*args, **kwargs)\n\u001b[0m\u001b[0;32m    289\u001b[0m                     for func, args, kwargs in self.items]\n\u001b[0;32m    290\u001b[0m \u001b[1;33m\u001b[0m\u001b[0m\n",
      "\u001b[1;32mc:\\Users\\zachg\\AppData\\Local\\Programs\\Python\\Python310\\lib\\site-packages\\joblib\\parallel.py\u001b[0m in \u001b[0;36m<listcomp>\u001b[1;34m(.0)\u001b[0m\n\u001b[0;32m    286\u001b[0m         \u001b[1;31m# change the default number of processes to -1\u001b[0m\u001b[1;33m\u001b[0m\u001b[1;33m\u001b[0m\u001b[0m\n\u001b[0;32m    287\u001b[0m         \u001b[1;32mwith\u001b[0m \u001b[0mparallel_backend\u001b[0m\u001b[1;33m(\u001b[0m\u001b[0mself\u001b[0m\u001b[1;33m.\u001b[0m\u001b[0m_backend\u001b[0m\u001b[1;33m,\u001b[0m \u001b[0mn_jobs\u001b[0m\u001b[1;33m=\u001b[0m\u001b[0mself\u001b[0m\u001b[1;33m.\u001b[0m\u001b[0m_n_jobs\u001b[0m\u001b[1;33m)\u001b[0m\u001b[1;33m:\u001b[0m\u001b[1;33m\u001b[0m\u001b[1;33m\u001b[0m\u001b[0m\n\u001b[1;32m--> 288\u001b[1;33m             return [func(*args, **kwargs)\n\u001b[0m\u001b[0;32m    289\u001b[0m                     for func, args, kwargs in self.items]\n\u001b[0;32m    290\u001b[0m \u001b[1;33m\u001b[0m\u001b[0m\n",
      "\u001b[1;32mc:\\Users\\zachg\\AppData\\Local\\Programs\\Python\\Python310\\lib\\site-packages\\sklearn\\utils\\parallel.py\u001b[0m in \u001b[0;36m__call__\u001b[1;34m(self, *args, **kwargs)\u001b[0m\n\u001b[0;32m    121\u001b[0m             \u001b[0mconfig\u001b[0m \u001b[1;33m=\u001b[0m \u001b[1;33m{\u001b[0m\u001b[1;33m}\u001b[0m\u001b[1;33m\u001b[0m\u001b[1;33m\u001b[0m\u001b[0m\n\u001b[0;32m    122\u001b[0m         \u001b[1;32mwith\u001b[0m \u001b[0mconfig_context\u001b[0m\u001b[1;33m(\u001b[0m\u001b[1;33m**\u001b[0m\u001b[0mconfig\u001b[0m\u001b[1;33m)\u001b[0m\u001b[1;33m:\u001b[0m\u001b[1;33m\u001b[0m\u001b[1;33m\u001b[0m\u001b[0m\n\u001b[1;32m--> 123\u001b[1;33m             \u001b[1;32mreturn\u001b[0m \u001b[0mself\u001b[0m\u001b[1;33m.\u001b[0m\u001b[0mfunction\u001b[0m\u001b[1;33m(\u001b[0m\u001b[1;33m*\u001b[0m\u001b[0margs\u001b[0m\u001b[1;33m,\u001b[0m \u001b[1;33m**\u001b[0m\u001b[0mkwargs\u001b[0m\u001b[1;33m)\u001b[0m\u001b[1;33m\u001b[0m\u001b[1;33m\u001b[0m\u001b[0m\n\u001b[0m",
      "\u001b[1;32mc:\\Users\\zachg\\AppData\\Local\\Programs\\Python\\Python310\\lib\\site-packages\\sklearn\\model_selection\\_validation.py\u001b[0m in \u001b[0;36m_fit_and_score\u001b[1;34m(estimator, X, y, scorer, train, test, verbose, parameters, fit_params, return_train_score, return_parameters, return_n_test_samples, return_times, return_estimator, split_progress, candidate_progress, error_score)\u001b[0m\n\u001b[0;32m    672\u001b[0m             \u001b[0mcloned_parameters\u001b[0m\u001b[1;33m[\u001b[0m\u001b[0mk\u001b[0m\u001b[1;33m]\u001b[0m \u001b[1;33m=\u001b[0m \u001b[0mclone\u001b[0m\u001b[1;33m(\u001b[0m\u001b[0mv\u001b[0m\u001b[1;33m,\u001b[0m \u001b[0msafe\u001b[0m\u001b[1;33m=\u001b[0m\u001b[1;32mFalse\u001b[0m\u001b[1;33m)\u001b[0m\u001b[1;33m\u001b[0m\u001b[1;33m\u001b[0m\u001b[0m\n\u001b[0;32m    673\u001b[0m \u001b[1;33m\u001b[0m\u001b[0m\n\u001b[1;32m--> 674\u001b[1;33m         \u001b[0mestimator\u001b[0m \u001b[1;33m=\u001b[0m \u001b[0mestimator\u001b[0m\u001b[1;33m.\u001b[0m\u001b[0mset_params\u001b[0m\u001b[1;33m(\u001b[0m\u001b[1;33m**\u001b[0m\u001b[0mcloned_parameters\u001b[0m\u001b[1;33m)\u001b[0m\u001b[1;33m\u001b[0m\u001b[1;33m\u001b[0m\u001b[0m\n\u001b[0m\u001b[0;32m    675\u001b[0m \u001b[1;33m\u001b[0m\u001b[0m\n\u001b[0;32m    676\u001b[0m     \u001b[0mstart_time\u001b[0m \u001b[1;33m=\u001b[0m \u001b[0mtime\u001b[0m\u001b[1;33m.\u001b[0m\u001b[0mtime\u001b[0m\u001b[1;33m(\u001b[0m\u001b[1;33m)\u001b[0m\u001b[1;33m\u001b[0m\u001b[1;33m\u001b[0m\u001b[0m\n",
      "\u001b[1;32mc:\\Users\\zachg\\AppData\\Local\\Programs\\Python\\Python310\\lib\\site-packages\\sklearn\\pipeline.py\u001b[0m in \u001b[0;36mset_params\u001b[1;34m(self, **kwargs)\u001b[0m\n\u001b[0;32m    209\u001b[0m             \u001b[0mPipeline\u001b[0m \u001b[1;32mclass\u001b[0m \u001b[0minstance\u001b[0m\u001b[1;33m.\u001b[0m\u001b[1;33m\u001b[0m\u001b[1;33m\u001b[0m\u001b[0m\n\u001b[0;32m    210\u001b[0m         \"\"\"\n\u001b[1;32m--> 211\u001b[1;33m         \u001b[0mself\u001b[0m\u001b[1;33m.\u001b[0m\u001b[0m_set_params\u001b[0m\u001b[1;33m(\u001b[0m\u001b[1;34m\"steps\"\u001b[0m\u001b[1;33m,\u001b[0m \u001b[1;33m**\u001b[0m\u001b[0mkwargs\u001b[0m\u001b[1;33m)\u001b[0m\u001b[1;33m\u001b[0m\u001b[1;33m\u001b[0m\u001b[0m\n\u001b[0m\u001b[0;32m    212\u001b[0m         \u001b[1;32mreturn\u001b[0m \u001b[0mself\u001b[0m\u001b[1;33m\u001b[0m\u001b[1;33m\u001b[0m\u001b[0m\n\u001b[0;32m    213\u001b[0m \u001b[1;33m\u001b[0m\u001b[0m\n",
      "\u001b[1;32mc:\\Users\\zachg\\AppData\\Local\\Programs\\Python\\Python310\\lib\\site-packages\\sklearn\\utils\\metaestimators.py\u001b[0m in \u001b[0;36m_set_params\u001b[1;34m(self, attr, **params)\u001b[0m\n\u001b[0;32m     68\u001b[0m \u001b[1;33m\u001b[0m\u001b[0m\n\u001b[0;32m     69\u001b[0m         \u001b[1;31m# 3. Step parameters and other initialisation arguments\u001b[0m\u001b[1;33m\u001b[0m\u001b[1;33m\u001b[0m\u001b[0m\n\u001b[1;32m---> 70\u001b[1;33m         \u001b[0msuper\u001b[0m\u001b[1;33m(\u001b[0m\u001b[1;33m)\u001b[0m\u001b[1;33m.\u001b[0m\u001b[0mset_params\u001b[0m\u001b[1;33m(\u001b[0m\u001b[1;33m**\u001b[0m\u001b[0mparams\u001b[0m\u001b[1;33m)\u001b[0m\u001b[1;33m\u001b[0m\u001b[1;33m\u001b[0m\u001b[0m\n\u001b[0m\u001b[0;32m     71\u001b[0m         \u001b[1;32mreturn\u001b[0m \u001b[0mself\u001b[0m\u001b[1;33m\u001b[0m\u001b[1;33m\u001b[0m\u001b[0m\n\u001b[0;32m     72\u001b[0m \u001b[1;33m\u001b[0m\u001b[0m\n",
      "\u001b[1;32mc:\\Users\\zachg\\AppData\\Local\\Programs\\Python\\Python310\\lib\\site-packages\\sklearn\\base.py\u001b[0m in \u001b[0;36mset_params\u001b[1;34m(self, **params)\u001b[0m\n\u001b[0;32m    203\u001b[0m             \u001b[1;32mif\u001b[0m \u001b[0mkey\u001b[0m \u001b[1;32mnot\u001b[0m \u001b[1;32min\u001b[0m \u001b[0mvalid_params\u001b[0m\u001b[1;33m:\u001b[0m\u001b[1;33m\u001b[0m\u001b[1;33m\u001b[0m\u001b[0m\n\u001b[0;32m    204\u001b[0m                 \u001b[0mlocal_valid_params\u001b[0m \u001b[1;33m=\u001b[0m \u001b[0mself\u001b[0m\u001b[1;33m.\u001b[0m\u001b[0m_get_param_names\u001b[0m\u001b[1;33m(\u001b[0m\u001b[1;33m)\u001b[0m\u001b[1;33m\u001b[0m\u001b[1;33m\u001b[0m\u001b[0m\n\u001b[1;32m--> 205\u001b[1;33m                 raise ValueError(\n\u001b[0m\u001b[0;32m    206\u001b[0m                     \u001b[1;34mf\"Invalid parameter {key!r} for estimator {self}. \"\u001b[0m\u001b[1;33m\u001b[0m\u001b[1;33m\u001b[0m\u001b[0m\n\u001b[0;32m    207\u001b[0m                     \u001b[1;34mf\"Valid parameters are: {local_valid_params!r}.\"\u001b[0m\u001b[1;33m\u001b[0m\u001b[1;33m\u001b[0m\u001b[0m\n",
      "\u001b[1;31mValueError\u001b[0m: Invalid parameter 'C' for estimator Pipeline(steps=[('scaler', StandardScaler()),\n                ('model',\n                 StackingClassifier(cv=10,\n                                    estimators=[('forest',\n                                                 RandomForestClassifier(criterion='log_loss',\n                                                                        max_depth=10,\n                                                                        min_samples_leaf=2,\n                                                                        min_samples_split=0.01,\n                                                                        n_estimators=50,\n                                                                        n_jobs=-1)),\n                                                ('knn',\n                                                 KNeighborsClassifier(leaf_size=3,\n                                                                      n_jobs=-1,\n                                                                      n_neighbors=7,\n                                                                      weights='distance')),\n                                                ('svc',\n                                                 LinearSVC(C=1, loss='hinge',\n                                                           max_iter=10000))],\n                                    final_estimator=SVC(C=0.2, degree=4,\n                                                        kernel='linear'),\n                                    n_jobs=-1))]). Valid parameters are: ['memory', 'steps', 'verbose']."
     ]
    }
   ],
   "source": [
    "from sklearn.experimental import enable_halving_search_cv\n",
    "from sklearn.model_selection import HalvingGridSearchCV\n",
    "\n",
    "hg_search = HalvingGridSearchCV(pipeline, param_grid=param_grid, scoring='f1', cv=10)\n",
    "hg_search.fit(x_train,y_train)\n",
    "print(hg_search.best_params_)\n",
    "print(hg_search.score(x_test,y_test))"
   ]
  },
  {
   "attachments": {},
   "cell_type": "markdown",
   "metadata": {},
   "source": [
    "# Feature Selection"
   ]
  },
  {
   "cell_type": "code",
   "execution_count": null,
   "metadata": {},
   "outputs": [],
   "source": [
    "from sklearn.feature_selection import RFECV\n",
    "\n",
    "selector = RFECV(randomforest_model, step=1, cv=10) \n",
    "selector = selector.fit(merged_x,merged_y)\n",
    "print(selector.support_)\n",
    "print(selector.ranking_)\n",
    "print(selector.feature_names_in_)"
   ]
  },
  {
   "cell_type": "code",
   "execution_count": null,
   "metadata": {},
   "outputs": [],
   "source": [
    "from sklearn.feature_selection import SelectKBest, chi2\n",
    "\n",
    "\n",
    "print(merged_x.shape)\n",
    "new_x = SelectKBest(chi2, k='all')\n",
    "absx = merged_x.apply(lambda x: x+1) #selectKBest requires all positive values, sentiment analysis is between -1 and 1 -> 0 and 2 now!\n",
    "out = new_x.fit_transform(absx, merged_y)\n",
    "print(new_x.scores_)\n",
    "print(new_x.feature_names_in_)\n",
    "print(out.shape)\n",
    "\n",
    "# SELECTKBEST: [3.25559172e+02 5.59255454e-03 2.75958219e+01 3.66946669e+02\n",
    "#  3.42079412e+01 4.36649522e+01 1.85080492e+04 6.30872323e+01\n",
    "#  7.68359033e-01 3.83305432e-01 1.04268202e-02]\n",
    "# -['Review_Count' '%_Image' '%_Verified' 'Total_Votes'\n",
    "#  'Review_Avg_Sentiment' 'Summary_Avg_Sentiment' 'Review_Length'\n",
    "#  'Summary_Length' 'Summary_Percent_Uppercase' 'Review_Percent_Uppercase'\n",
    "#  'Actual_Awesomeness']\n",
    "#-> RFECV: [1 3 1 1 1 1 1 1 1 2]\n",
    "\n",
    "# SO: \n",
    "# Seems like %_image, actual_awesomeness do the least. Percent_uppercases do the next worst.\n",
    "# -> lets try cutting them out!\n",
    "\n",
    "#->\n",
    "# [  325.55917172    27.59582185   366.94666861    34.20794125\n",
    "#     43.6649522  18508.04915683    63.08723227]\n",
    "# ['Review_Count' '%_Verified' 'Total_Votes' 'Review_Avg_Sentiment'\n",
    "#  'Summary_Avg_Sentiment' 'Review_Length' 'Summary_Length']\n",
    "# -> RFECV2: [4 1 5 1 1 3 2]\n",
    "#"
   ]
  },
  {
   "attachments": {},
   "cell_type": "markdown",
   "metadata": {},
   "source": [
    "# ROC Curve"
   ]
  },
  {
   "cell_type": "code",
   "execution_count": 396,
   "metadata": {},
   "outputs": [
    {
     "name": "stderr",
     "output_type": "stream",
     "text": [
      "c:\\Users\\zachg\\AppData\\Local\\Programs\\Python\\Python310\\lib\\site-packages\\sklearn\\svm\\_base.py:1244: ConvergenceWarning: Liblinear failed to converge, increase the number of iterations.\n",
      "  warnings.warn(\n"
     ]
    },
    {
     "data": {
      "image/png": "[encoded data removed]",
      "text/plain": [
       "<Figure size 720x720 with 1 Axes>"
      ]
     },
     "metadata": {},
     "output_type": "display_data"
    }
   ],
   "source": [
    "y_pred = linearsvc_model.fit(x_train, y_train).predict(x_test)\n",
    "\n",
    "fpr, tpr, thresholds = metrics.roc_curve(y_test,y_pred)\n",
    "AUROC = metrics.auc(fpr, tpr)\n",
    "\n",
    "disp = metrics.RocCurveDisplay(fpr=fpr,tpr=tpr,roc_auc=AUROC)\n",
    "\n",
    "\n",
    "\n",
    "fig = plt.figure()\n",
    "ax = fig.add_subplot()\n",
    "ax.tick_params(axis='x', colors='white') \n",
    "ax.tick_params(axis='y', colors='white') \n",
    "ax.spines['left'].set_color('white') \n",
    "ax.spines['bottom'].set_color('white') \n",
    "\n",
    "plt.rcParams['figure.figsize'] = [10, 10]\n",
    "plt.xlabel(\"X\",fontsize=20, color='white')\n",
    "plt.ylabel(\"Y\",fontsize=20, color='white')\n",
    "plt.title(\"Area Under ROC Curve\", fontsize = 20, color='white')\n",
    "\n",
    "disp.plot(ax)\n",
    "\n",
    "plt.show()"
   ]
  },
  {
   "attachments": {},
   "cell_type": "markdown",
   "metadata": {},
   "source": [
    "# Getting Prediction for Test Data"
   ]
  },
  {
   "attachments": {},
   "cell_type": "markdown",
   "metadata": {},
   "source": [
    "Loading in test data"
   ]
  },
  {
   "cell_type": "code",
   "execution_count": null,
   "metadata": {},
   "outputs": [],
   "source": [
    "x = pd.read_json('CDs_and_Vinyl/test1/review_test.json')\n",
    "test_y = pd.read_json('CDs_and_Vinyl/test1/product_test.json')"
   ]
  },
  {
   "attachments": {},
   "cell_type": "markdown",
   "metadata": {},
   "source": [
    "Rerun Variable Analyses! then..."
   ]
  },
  {
   "cell_type": "code",
   "execution_count": null,
   "metadata": {},
   "outputs": [],
   "source": [
    "#Again, combine all individual features into one dataFrame\n",
    "\n",
    "features = [reviewCount,percent_verified,total_votes,RavgSentiment,SavgSentiment,reviewlength,summarylength,RpercentCap,SpercentCap]\n",
    "\n",
    "test_merged_x = x['asin']\n",
    "for f in features:\n",
    "    test_merged_x = pd.merge(test_merged_x,f,'inner','asin')\n",
    "test_merged_x = test_merged_x.groupby(\"asin\").mean()"
   ]
  },
  {
   "attachments": {},
   "cell_type": "markdown",
   "metadata": {},
   "source": [
    "Make prediction"
   ]
  },
  {
   "cell_type": "code",
   "execution_count": null,
   "metadata": {},
   "outputs": [],
   "source": [
    "# Make prediction\n",
    "predictions = randomforest_model.predict(test_merged_x) \n",
    "\n",
    "# Rejoin to create output\n",
    "test_y.insert(1, \"predictions\", predictions)"
   ]
  },
  {
   "cell_type": "code",
   "execution_count": null,
   "metadata": {},
   "outputs": [],
   "source": [
    "test_y = pd.DataFrame(y_test)"
   ]
  },
  {
   "attachments": {},
   "cell_type": "markdown",
   "metadata": {},
   "source": [
    "Output predictions to file!"
   ]
  },
  {
   "cell_type": "code",
   "execution_count": null,
   "metadata": {},
   "outputs": [],
   "source": [
    "# Output predictions to file!\n",
    "  \n",
    "#turn predictions into json\n",
    "json_str = test_y.to_json()\n",
    "\n",
    "#output json to file\n",
    "with open('predictions.json', 'w') as f:\n",
    "    f.write(json_str)"
   ]
  }
 ],
 "metadata": {
  "kernelspec": {
   "display_name": "Python 3",
   "language": "python",
   "name": "python3"
  },
  "language_info": {
   "codemirror_mode": {
    "name": "ipython",
    "version": 3
   },
   "file_extension": ".py",
   "mimetype": "text/x-python",
   "name": "python",
   "nbconvert_exporter": "python",
   "pygments_lexer": "ipython3",
   "version": "3.10.1"
  },
  "orig_nbformat": 4,
  "vscode": {
   "interpreter": {
    "hash": "aee8b7b246df8f9039afb4144a1f6fd8d2ca17a180786b69acc140d282b71a49"
   }
  }
 },
 "nbformat": 4,
 "nbformat_minor": 2
}
