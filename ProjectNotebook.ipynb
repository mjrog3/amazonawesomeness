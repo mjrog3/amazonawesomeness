{
 "cells": [
  {
   "attachments": {},
   "cell_type": "markdown",
   "metadata": {},
   "source": [
    "**Imports**\n",
    "\n",
    "Data"
   ]
  },
  {
   "cell_type": "code",
   "execution_count": 46,
   "metadata": {},
   "outputs": [],
   "source": [
    "#enter the path to get to your CDs_and_Vinyl folder below\n",
    "PATH_TO_CDS = '../devided_dataset_v2/CDs_and_Vinyl/'\n",
    "\n",
    "import pandas as pd\n",
    "\n",
    "# Open and load json training files\n",
    "x = pd.read_json(PATH_TO_CDS + 'train/review_training.json')\n",
    "y = pd.read_json(PATH_TO_CDS + 'train/product_training.json')"
   ]
  },
  {
   "attachments": {},
   "cell_type": "markdown",
   "metadata": {},
   "source": [
    "Other"
   ]
  },
  {
   "cell_type": "code",
   "execution_count": 47,
   "metadata": {},
   "outputs": [],
   "source": [
    "import numpy as np\n",
    "from nltk import sentiment\n",
    "import re\n",
    "from sklearn.model_selection import cross_validate\n",
    "from sklearn import metrics\n",
    "import matplotlib.pyplot as plt\n",
    "from sklearn.model_selection import train_test_split"
   ]
  },
  {
   "attachments": {},
   "cell_type": "markdown",
   "metadata": {},
   "source": [
    "PATCH TO SPEED UP (ONLY IF INTEL CHIP) \n",
    "\n",
    "lmao rip daniel\n",
    "\n",
    "thanks guys -daniel"
   ]
  },
  {
   "cell_type": "code",
   "execution_count": 48,
   "metadata": {},
   "outputs": [
    {
     "name": "stderr",
     "output_type": "stream",
     "text": [
      "Intel(R) Extension for Scikit-learn* enabled (https://github.com/intel/scikit-learn-intelex)\n"
     ]
    }
   ],
   "source": [
    "from sklearnex import patch_sklearn \n",
    "\n",
    "patch_sklearn()"
   ]
  },
  {
   "cell_type": "markdown",
   "metadata": {},
   "source": [
    "**Pre Processing**"
   ]
  },
  {
   "cell_type": "code",
   "execution_count": null,
   "metadata": {},
   "outputs": [],
   "source": [
    "x #770786 entries\n",
    "y #073082 entries"
   ]
  },
  {
   "attachments": {},
   "cell_type": "markdown",
   "metadata": {},
   "source": [
    "# Feature creation "
   ]
  },
  {
   "attachments": {},
   "cell_type": "markdown",
   "metadata": {},
   "source": [
    "Making a sample set to test features:"
   ]
  },
  {
   "cell_type": "code",
   "execution_count": null,
   "metadata": {},
   "outputs": [],
   "source": [
    "#ts = test sample 2 thousand long\n",
    "ts = x[:2000]\n",
    "ts"
   ]
  },
  {
   "cell_type": "code",
   "execution_count": null,
   "metadata": {},
   "outputs": [],
   "source": [
    "unixReviewMean = x.groupby('asin')['unixReviewTime'].mean()\n",
    "unixReviewMean"
   ]
  },
  {
   "cell_type": "code",
   "execution_count": 43,
   "metadata": {},
   "outputs": [
    {
     "data": {
      "text/plain": [
       "asin\n",
       "0000B049F5B33CD310EB1AB236E20191    1.419682e+09\n",
       "00018184A9EC4D270219A296B2580303    1.445414e+09\n",
       "000281A9CAC43FF1F335726A390636DA    1.326499e+09\n",
       "00030884DF109F325638A6BFD5B13CFF    1.397896e+09\n",
       "000325BA25966B5FC701D5D2B5DBA4E0    1.363802e+09\n",
       "                                        ...     \n",
       "FFFDD3C72D23AF858D6E0ED92612370D    1.406650e+09\n",
       "FFFDDE284A73B29B320381487EC7DE9E    1.401192e+09\n",
       "FFFEB3EE2372807964F024707D50FB21    1.349050e+09\n",
       "FFFF4545AB232D81D0F9B208388BB7AA    1.434283e+09\n",
       "FFFF5A3D9CB0B40FF0FE6B95F05D26FE    1.498781e+09\n",
       "Name: unixReviewTime, Length: 63401, dtype: float64"
      ]
     },
     "execution_count": 43,
     "metadata": {},
     "output_type": "execute_result"
    }
   ],
   "source": [
    "dropUnverified.groupby('asin')['unixReviewTime'].mean() #63401 entries!"
   ]
  },
  {
   "attachments": {},
   "cell_type": "markdown",
   "metadata": {},
   "source": [
    "Making a single feature ex"
   ]
  },
  {
   "cell_type": "code",
   "execution_count": 50,
   "metadata": {},
   "outputs": [],
   "source": [
    "dropUnverified = x[x.verified == True]\n",
    "reviewCount = x.groupby('asin')[\"reviewerID\"].count()\n",
    "reviewCount = reviewCount.rename(\"Review_Count\")"
   ]
  },
  {
   "attachments": {},
   "cell_type": "markdown",
   "metadata": {},
   "source": [
    "Percent verified"
   ]
  },
  {
   "cell_type": "code",
   "execution_count": 51,
   "metadata": {},
   "outputs": [],
   "source": [
    "percent_verified = dropUnverified.groupby(\"asin\")[\"reviewerID\"].count()\n",
    "percent_verified = percent_verified/reviewCount\n",
    "percent_verified = percent_verified.apply(lambda x: x if x > 0  else 0)\n",
    "percent_verified = percent_verified.rename(\"%_Verified\")"
   ]
  },
  {
   "cell_type": "code",
   "execution_count": 45,
   "metadata": {},
   "outputs": [
    {
     "data": {
      "text/html": [
       "<div>\n",
       "<style scoped>\n",
       "    .dataframe tbody tr th:only-of-type {\n",
       "        vertical-align: middle;\n",
       "    }\n",
       "\n",
       "    .dataframe tbody tr th {\n",
       "        vertical-align: top;\n",
       "    }\n",
       "\n",
       "    .dataframe thead th {\n",
       "        text-align: right;\n",
       "    }\n",
       "</style>\n",
       "<table border=\"1\" class=\"dataframe\">\n",
       "  <thead>\n",
       "    <tr style=\"text-align: right;\">\n",
       "      <th></th>\n",
       "      <th>asin</th>\n",
       "      <th>reviewerID</th>\n",
       "      <th>unixReviewTime</th>\n",
       "      <th>vote</th>\n",
       "      <th>verified</th>\n",
       "      <th>reviewTime</th>\n",
       "      <th>style</th>\n",
       "      <th>reviewerName</th>\n",
       "      <th>reviewText</th>\n",
       "      <th>summary</th>\n",
       "      <th>image</th>\n",
       "    </tr>\n",
       "  </thead>\n",
       "  <tbody>\n",
       "    <tr>\n",
       "      <th>0</th>\n",
       "      <td>6673F1740E03573BCD64238FE711FC69</td>\n",
       "      <td>9C856D4A18E1355783B3B28B7ECC1848</td>\n",
       "      <td>1451520000</td>\n",
       "      <td>9</td>\n",
       "      <td>True</td>\n",
       "      <td>12 31, 2015</td>\n",
       "      <td>{'Format:': ' MP3 Music'}</td>\n",
       "      <td>8D88BB79AAC50277AEE82FCFD77F6744</td>\n",
       "      <td>Finding the Beatles all over again - and bette...</td>\n",
       "      <td>I sit listening - with my jaw to the floor - H...</td>\n",
       "      <td>None</td>\n",
       "    </tr>\n",
       "    <tr>\n",
       "      <th>1</th>\n",
       "      <td>690819436E20BB31657AF6B58B984DD4</td>\n",
       "      <td>6E9ABBD26A27C2B2851D1EC34A01CBDC</td>\n",
       "      <td>1113523200</td>\n",
       "      <td>9</td>\n",
       "      <td>False</td>\n",
       "      <td>04 15, 2005</td>\n",
       "      <td>{'Format:': ' Audio CD'}</td>\n",
       "      <td>8DC0611245A871AC51BBEEBB85F33A58</td>\n",
       "      <td>These guys can sing!  Such classic tunes...poi...</td>\n",
       "      <td>Under Appreciated....</td>\n",
       "      <td>None</td>\n",
       "    </tr>\n",
       "    <tr>\n",
       "      <th>2</th>\n",
       "      <td>A680D4753F0CEA2252C168A6ACB2B623</td>\n",
       "      <td>B637C3C93E61094474710F456928BE9F</td>\n",
       "      <td>1126137600</td>\n",
       "      <td>None</td>\n",
       "      <td>False</td>\n",
       "      <td>09 8, 2005</td>\n",
       "      <td>None</td>\n",
       "      <td>2259386624CFA0EC53A75A50A9BB57A5</td>\n",
       "      <td>Snoop Doggy Dogg made a classic album, DoggySt...</td>\n",
       "      <td>DoggyStyle</td>\n",
       "      <td>None</td>\n",
       "    </tr>\n",
       "    <tr>\n",
       "      <th>3</th>\n",
       "      <td>F4A966F1FA340B16651D676BC246D227</td>\n",
       "      <td>AA7918E9410D650A076221C7B2934A09</td>\n",
       "      <td>954979200</td>\n",
       "      <td>None</td>\n",
       "      <td>False</td>\n",
       "      <td>04 6, 2000</td>\n",
       "      <td>{'Format:': ' Audio CD'}</td>\n",
       "      <td>7A65A155C993535BC99CBCB39E7161B5</td>\n",
       "      <td>Stevie Nicks Has had Her Moments. I Like Some ...</td>\n",
       "      <td>Pretty Good but a Bit Dated</td>\n",
       "      <td>None</td>\n",
       "    </tr>\n",
       "    <tr>\n",
       "      <th>4</th>\n",
       "      <td>EF59DAF0C00319A48D4784266FD157EE</td>\n",
       "      <td>2293C9B7950A3356B95828419A677720</td>\n",
       "      <td>1477958400</td>\n",
       "      <td>None</td>\n",
       "      <td>True</td>\n",
       "      <td>11 1, 2016</td>\n",
       "      <td>{'Format:': ' Audio CD'}</td>\n",
       "      <td>C69A09446009C500B1364B7DB5510497</td>\n",
       "      <td>Great cd.</td>\n",
       "      <td>Five Stars</td>\n",
       "      <td>None</td>\n",
       "    </tr>\n",
       "    <tr>\n",
       "      <th>...</th>\n",
       "      <td>...</td>\n",
       "      <td>...</td>\n",
       "      <td>...</td>\n",
       "      <td>...</td>\n",
       "      <td>...</td>\n",
       "      <td>...</td>\n",
       "      <td>...</td>\n",
       "      <td>...</td>\n",
       "      <td>...</td>\n",
       "      <td>...</td>\n",
       "      <td>...</td>\n",
       "    </tr>\n",
       "    <tr>\n",
       "      <th>770781</th>\n",
       "      <td>BD91503308A437374C3254EDC8BC24CB</td>\n",
       "      <td>936ED23AF4D23943786BBD44D0F1114B</td>\n",
       "      <td>1136246400</td>\n",
       "      <td>12</td>\n",
       "      <td>True</td>\n",
       "      <td>01 3, 2006</td>\n",
       "      <td>{'Format:': ' Audio CD'}</td>\n",
       "      <td>AAB61000438939C8E6165CFCCF02A488</td>\n",
       "      <td>This was the first Simple Minds album that I b...</td>\n",
       "      <td>Their Most Fully Realized Artistic Studio Stat...</td>\n",
       "      <td>None</td>\n",
       "    </tr>\n",
       "    <tr>\n",
       "      <th>770782</th>\n",
       "      <td>9BC50277D18FAB423AD33C8CE4CC000D</td>\n",
       "      <td>EF922377A87E9D01F50065F2DA1722A8</td>\n",
       "      <td>1290556800</td>\n",
       "      <td>None</td>\n",
       "      <td>False</td>\n",
       "      <td>11 24, 2010</td>\n",
       "      <td>None</td>\n",
       "      <td>0441BC4F6B7BD180769FDCDD8E603560</td>\n",
       "      <td>I have owned a CD copy of this show for at lea...</td>\n",
       "      <td>Forgettable R&amp;H</td>\n",
       "      <td>None</td>\n",
       "    </tr>\n",
       "    <tr>\n",
       "      <th>770783</th>\n",
       "      <td>4062627CA1586E517520483964299349</td>\n",
       "      <td>E1F0B0EBC6A36F33301E4FD0B3D62D52</td>\n",
       "      <td>1311120000</td>\n",
       "      <td>3</td>\n",
       "      <td>False</td>\n",
       "      <td>07 20, 2011</td>\n",
       "      <td>{'Format:': ' Audio CD'}</td>\n",
       "      <td>8AB3EEBF23F3583A4396A57DB291D548</td>\n",
       "      <td>carnival of souls to me is bad i gave my cd aw...</td>\n",
       "      <td>Darren d.</td>\n",
       "      <td>None</td>\n",
       "    </tr>\n",
       "    <tr>\n",
       "      <th>770784</th>\n",
       "      <td>0AE44A6A9176E6A52507B6ABDDA80B00</td>\n",
       "      <td>DDDC81E6B8C3F8C91867F9AECB385135</td>\n",
       "      <td>1111968000</td>\n",
       "      <td>2</td>\n",
       "      <td>False</td>\n",
       "      <td>03 28, 2005</td>\n",
       "      <td>{'Format:': ' Audio CD'}</td>\n",
       "      <td>51B2E62E0A5864316BDB33FD4A729B37</td>\n",
       "      <td>This is an awesome slayer album. I love the th...</td>\n",
       "      <td>awesome slayer cd</td>\n",
       "      <td>None</td>\n",
       "    </tr>\n",
       "    <tr>\n",
       "      <th>770785</th>\n",
       "      <td>E4CDE9C72DB665961BE969B082806619</td>\n",
       "      <td>27FDC1E110DB45E1A7E0CCEABECF8632</td>\n",
       "      <td>1105401600</td>\n",
       "      <td>None</td>\n",
       "      <td>False</td>\n",
       "      <td>01 11, 2005</td>\n",
       "      <td>{'Format:': ' Audio CD'}</td>\n",
       "      <td>A7487BE472C2B632FCE5F097B47F5DE0</td>\n",
       "      <td>Smile is Brian's gift to a sick and troubled w...</td>\n",
       "      <td>Music just doesn't get any better...</td>\n",
       "      <td>None</td>\n",
       "    </tr>\n",
       "  </tbody>\n",
       "</table>\n",
       "<p>770786 rows × 11 columns</p>\n",
       "</div>"
      ],
      "text/plain": [
       "                                    asin                        reviewerID   \n",
       "0       6673F1740E03573BCD64238FE711FC69  9C856D4A18E1355783B3B28B7ECC1848  \\\n",
       "1       690819436E20BB31657AF6B58B984DD4  6E9ABBD26A27C2B2851D1EC34A01CBDC   \n",
       "2       A680D4753F0CEA2252C168A6ACB2B623  B637C3C93E61094474710F456928BE9F   \n",
       "3       F4A966F1FA340B16651D676BC246D227  AA7918E9410D650A076221C7B2934A09   \n",
       "4       EF59DAF0C00319A48D4784266FD157EE  2293C9B7950A3356B95828419A677720   \n",
       "...                                  ...                               ...   \n",
       "770781  BD91503308A437374C3254EDC8BC24CB  936ED23AF4D23943786BBD44D0F1114B   \n",
       "770782  9BC50277D18FAB423AD33C8CE4CC000D  EF922377A87E9D01F50065F2DA1722A8   \n",
       "770783  4062627CA1586E517520483964299349  E1F0B0EBC6A36F33301E4FD0B3D62D52   \n",
       "770784  0AE44A6A9176E6A52507B6ABDDA80B00  DDDC81E6B8C3F8C91867F9AECB385135   \n",
       "770785  E4CDE9C72DB665961BE969B082806619  27FDC1E110DB45E1A7E0CCEABECF8632   \n",
       "\n",
       "        unixReviewTime  vote  verified   reviewTime   \n",
       "0           1451520000     9      True  12 31, 2015  \\\n",
       "1           1113523200     9     False  04 15, 2005   \n",
       "2           1126137600  None     False   09 8, 2005   \n",
       "3            954979200  None     False   04 6, 2000   \n",
       "4           1477958400  None      True   11 1, 2016   \n",
       "...                ...   ...       ...          ...   \n",
       "770781      1136246400    12      True   01 3, 2006   \n",
       "770782      1290556800  None     False  11 24, 2010   \n",
       "770783      1311120000     3     False  07 20, 2011   \n",
       "770784      1111968000     2     False  03 28, 2005   \n",
       "770785      1105401600  None     False  01 11, 2005   \n",
       "\n",
       "                            style                      reviewerName   \n",
       "0       {'Format:': ' MP3 Music'}  8D88BB79AAC50277AEE82FCFD77F6744  \\\n",
       "1        {'Format:': ' Audio CD'}  8DC0611245A871AC51BBEEBB85F33A58   \n",
       "2                            None  2259386624CFA0EC53A75A50A9BB57A5   \n",
       "3        {'Format:': ' Audio CD'}  7A65A155C993535BC99CBCB39E7161B5   \n",
       "4        {'Format:': ' Audio CD'}  C69A09446009C500B1364B7DB5510497   \n",
       "...                           ...                               ...   \n",
       "770781   {'Format:': ' Audio CD'}  AAB61000438939C8E6165CFCCF02A488   \n",
       "770782                       None  0441BC4F6B7BD180769FDCDD8E603560   \n",
       "770783   {'Format:': ' Audio CD'}  8AB3EEBF23F3583A4396A57DB291D548   \n",
       "770784   {'Format:': ' Audio CD'}  51B2E62E0A5864316BDB33FD4A729B37   \n",
       "770785   {'Format:': ' Audio CD'}  A7487BE472C2B632FCE5F097B47F5DE0   \n",
       "\n",
       "                                               reviewText   \n",
       "0       Finding the Beatles all over again - and bette...  \\\n",
       "1       These guys can sing!  Such classic tunes...poi...   \n",
       "2       Snoop Doggy Dogg made a classic album, DoggySt...   \n",
       "3       Stevie Nicks Has had Her Moments. I Like Some ...   \n",
       "4                                               Great cd.   \n",
       "...                                                   ...   \n",
       "770781  This was the first Simple Minds album that I b...   \n",
       "770782  I have owned a CD copy of this show for at lea...   \n",
       "770783  carnival of souls to me is bad i gave my cd aw...   \n",
       "770784  This is an awesome slayer album. I love the th...   \n",
       "770785  Smile is Brian's gift to a sick and troubled w...   \n",
       "\n",
       "                                                  summary image  \n",
       "0       I sit listening - with my jaw to the floor - H...  None  \n",
       "1                                   Under Appreciated....  None  \n",
       "2                                              DoggyStyle  None  \n",
       "3                             Pretty Good but a Bit Dated  None  \n",
       "4                                              Five Stars  None  \n",
       "...                                                   ...   ...  \n",
       "770781  Their Most Fully Realized Artistic Studio Stat...  None  \n",
       "770782                                    Forgettable R&H  None  \n",
       "770783                                          Darren d.  None  \n",
       "770784                                  awesome slayer cd  None  \n",
       "770785               Music just doesn't get any better...  None  \n",
       "\n",
       "[770786 rows x 11 columns]"
      ]
     },
     "execution_count": 45,
     "metadata": {},
     "output_type": "execute_result"
    }
   ],
   "source": [
    "x #73082"
   ]
  },
  {
   "attachments": {},
   "cell_type": "markdown",
   "metadata": {},
   "source": [
    "dropping bots by time of post\n",
    "\n",
    "All the comments are encoded with the date only, no time, so this is not possible"
   ]
  },
  {
   "cell_type": "code",
   "execution_count": null,
   "metadata": {},
   "outputs": [],
   "source": [
    "# test1 = x[x.unixReviewTime % 100 != 0]\n",
    "# test1"
   ]
  },
  {
   "attachments": {},
   "cell_type": "markdown",
   "metadata": {},
   "source": [
    "total number of votes across reviews"
   ]
  },
  {
   "cell_type": "code",
   "execution_count": 52,
   "metadata": {},
   "outputs": [
    {
     "data": {
      "text/plain": [
       "asin\n",
       "0000B049F5B33CD310EB1AB236E20191     6.0\n",
       "00018184A9EC4D270219A296B2580303    45.0\n",
       "000281A9CAC43FF1F335726A390636DA     5.0\n",
       "00030884DF109F325638A6BFD5B13CFF    83.0\n",
       "000325BA25966B5FC701D5D2B5DBA4E0     7.0\n",
       "                                    ... \n",
       "FFFDD3C72D23AF858D6E0ED92612370D    57.0\n",
       "FFFDDE284A73B29B320381487EC7DE9E     8.0\n",
       "FFFEB3EE2372807964F024707D50FB21     0.0\n",
       "FFFF4545AB232D81D0F9B208388BB7AA    11.0\n",
       "FFFF5A3D9CB0B40FF0FE6B95F05D26FE    68.0\n",
       "Name: Total_Votes, Length: 73082, dtype: float64"
      ]
     },
     "execution_count": 52,
     "metadata": {},
     "output_type": "execute_result"
    }
   ],
   "source": [
    "x_copy = x.copy(deep=True)\n",
    "total_review_num = x_copy.vote\n",
    "total_review_num = total_review_num.apply(lambda x: float(x.replace(\",\", \"\")) if type(x) == str  else 0)\n",
    "total_review_num = total_review_num.rename(\"vote\").to_frame()\n",
    "x_copy[\"vote\"] = total_review_num[\"vote\"]\n",
    "total_votes = x_copy.groupby('asin')[\"vote\"].sum(\"vote\")\n",
    "total_votes = total_votes.rename(\"Total_Votes\")\n",
    "total_votes\n",
    "\n"
   ]
  },
  {
   "attachments": {},
   "cell_type": "markdown",
   "metadata": {},
   "source": [
    "groupby() testing"
   ]
  },
  {
   "cell_type": "code",
   "execution_count": null,
   "metadata": {},
   "outputs": [],
   "source": [
    "# tests = range(5)\n",
    "# unique_items = z[\"asin\"].nunique()\n",
    "# print(\"ui: \", unique_items)\n",
    "\n",
    "# asin = z[\"asin\"].values\n",
    "# print(\"asin: \",asin)\n",
    "# avg_votes = np.zeros(len(asin))\n",
    "\n",
    "# for i in tests: # eventually all\n",
    "#     item = zgrouped.get_group(asin[i])\n",
    "#     avg_votes[i] = item[\"vote\"].fillna(0).astype(int).mean()\n",
    "\n",
    "# print(\"avg_votes: \", avg_votes[0:5])"
   ]
  },
  {
   "attachments": {},
   "cell_type": "markdown",
   "metadata": {},
   "source": [
    "Percent of reviews with images"
   ]
  },
  {
   "cell_type": "code",
   "execution_count": 53,
   "metadata": {},
   "outputs": [],
   "source": [
    "#total = ts.groupby('asin')[\"reviewerID\"].count()\n",
    "with_image = x[x.image.astype('string') != \"None\"]\n",
    "with_image = with_image.groupby('asin')[\"image\"].count()\n",
    "#print(with_image)\n",
    "#print(total)\n",
    "with_image_percentage = with_image/reviewCount\n",
    "#with_image_percentage = with_image_percentage[with_image_percentage > 0]\n",
    "with_image_percentage = with_image_percentage.apply(lambda x: x if x > 0  else 0)\n",
    "# returning rn with NaN instead of 0, not sure if thats fine or not??\n",
    "\n",
    "#with_image_percentage = with_image_percentage[with_image_percentage > 0]\n",
    "with_image_percentage = with_image_percentage.rename(\"%_Image\")"
   ]
  },
  {
   "attachments": {},
   "cell_type": "markdown",
   "metadata": {},
   "source": [
    "Making a feature vector\n",
    "currently has number of reviews, percentage of reviews with images, percentage of reviews that are verified, and total votes across all reviews"
   ]
  },
  {
   "cell_type": "code",
   "execution_count": null,
   "metadata": {},
   "outputs": [],
   "source": [
    "# feature_vector = reviewCount.rename(\"Review_NUM\")\n",
    "# feature_vector = feature_vector.to_frame().merge(with_image_percentage.rename(\"Image_PC\").to_frame(), left_index=True, right_index=True)\n",
    "# feature_vector = feature_vector.merge(percent_verified.rename(\"Verified_PC\").to_frame(), left_index=True, right_index=True)\n",
    "# # fxx = feature_vector[feature_vector.Image_PC > 0]\n",
    "# # fxx = \n",
    "# feature_vector = feature_vector.merge(total_votes.rename(\"Total_Votes\").to_frame(), left_index=True, right_index=True)\n",
    "# feature_vector"
   ]
  },
  {
   "attachments": {},
   "cell_type": "markdown",
   "metadata": {},
   "source": [
    "Since I commented out the feature vector, here are the names of each individual feature:\n",
    "\n",
    "reviewCount\n",
    "\n",
    "with_image_percentage\n",
    "\n",
    "percent_verified\n",
    "\n",
    "total_votes\n",
    "\n",
    "\n",
    "Hope this clears it up. lmk if its confusing -Daniel"
   ]
  },
  {
   "attachments": {},
   "cell_type": "markdown",
   "metadata": {},
   "source": [
    "# Text Analysis"
   ]
  },
  {
   "cell_type": "code",
   "execution_count": null,
   "metadata": {},
   "outputs": [],
   "source": [
    "testdata = x.groupby(\"asin\").get_group(\"0000B049F5B33CD310EB1AB236E20191\")\n",
    "\n",
    "# np.mean(len(str(testdata[\"reviewText\"]).split()))"
   ]
  },
  {
   "attachments": {},
   "cell_type": "markdown",
   "metadata": {},
   "source": [
    "Length of Reviews Feature"
   ]
  },
  {
   "cell_type": "code",
   "execution_count": 54,
   "metadata": {},
   "outputs": [],
   "source": [
    "reviewlength = x.groupby('asin')[\"reviewText\"].apply(lambda x: x.str.split().str.len().mean())\n",
    "reviewlength = reviewlength.fillna(0).rename(\"Review_Length\")\n",
    "\n",
    "summarylength = x.groupby('asin')[\"summary\"].apply(lambda x: x.str.split().str.len().mean())\n",
    "summarylength = summarylength.fillna(0).rename(\"Summary_Length\")\n"
   ]
  },
  {
   "cell_type": "markdown",
   "metadata": {},
   "source": [
    "Percentage Uppercase Feature:"
   ]
  },
  {
   "cell_type": "code",
   "execution_count": 55,
   "metadata": {},
   "outputs": [],
   "source": [
    "# def count_cap(str):\n",
    "#     stripped = ''.join(str.split())\n",
    "#     return sum(c.isupper() for c in ''.join(stripped))/len(stripped)\n",
    "\n",
    "RpercentCap = x.groupby('asin')[\"reviewText\"].apply(lambda x: (x.str.count(\"[A-Z]\")/x.str.len()).mean())\n",
    "RpercentCap = RpercentCap.fillna(0).rename(\"Review_Percent_Uppercase\")\n",
    "\n",
    "SpercentCap = x.groupby('asin')[\"summary\"].apply(lambda x: (x.str.count(\"[A-Z]\")/x.str.len()).mean())\n",
    "SpercentCap = SpercentCap.fillna(0).rename(\"Summary_Percent_Uppercase\")\n"
   ]
  },
  {
   "cell_type": "markdown",
   "metadata": {},
   "source": [
    "Actual Awesomeness Feature: # times the word \"awesome\" is used per review"
   ]
  },
  {
   "cell_type": "code",
   "execution_count": 56,
   "metadata": {},
   "outputs": [],
   "source": [
    "actualAwesomeness = x.groupby('asin')[\"reviewText\"].apply(lambda x: (x.str.count(\"[Aa]wesome\")).mean())\n",
    "actualAwesomeness = actualAwesomeness.fillna(0).rename(\"Actual_Awesomeness\")"
   ]
  },
  {
   "attachments": {},
   "cell_type": "markdown",
   "metadata": {},
   "source": [
    "# Sentiment Analysis"
   ]
  },
  {
   "cell_type": "code",
   "execution_count": null,
   "metadata": {},
   "outputs": [],
   "source": [
    "## Helper function for sentiment\n",
    "def review_sentiment(text):\n",
    "    sia = sentiment.SentimentIntensityAnalyzer()\n",
    "    return sia.polarity_scores(text)[\"compound\"]\n",
    "\n",
    "## just some examples to gut check\n",
    "# print(review_sentiment(\"Ugh, what a terrible, horrible, no good, very bad day\"))\n",
    "# print(review_sentiment(\"I went to the store today\"))\n",
    "# print(review_sentiment(\"I absolutely love my favorite best friend\"))"
   ]
  },
  {
   "attachments": {},
   "cell_type": "markdown",
   "metadata": {},
   "source": [
    "apply sentiment analysis to data"
   ]
  },
  {
   "cell_type": "code",
   "execution_count": 57,
   "metadata": {},
   "outputs": [],
   "source": [
    "sia = sentiment.SentimentIntensityAnalyzer()\n",
    "RavgSentiment = x.groupby('asin')[\"reviewText\"].apply(lambda x: np.mean(sia.polarity_scores(x.to_string())[\"compound\"]))\n",
    "RavgSentiment = RavgSentiment.fillna(0).rename(\"Review_Avg_Sentiment\")\n",
    "\n",
    "SavgSentiment = x.groupby('asin')[\"summary\"].apply(lambda x: np.mean(sia.polarity_scores(x.to_string())[\"compound\"]))\n",
    "SavgSentiment = SavgSentiment.fillna(0).rename(\"Summary_Avg_Sentiment\")\n",
    "\n",
    "# tests = range(1)\n",
    "# unique_items = z[\"asin\"].nunique()\n",
    "# print(\"ui: \", unique_items)\n",
    "\n",
    "# asin = z[\"asin\"].unique()\n",
    "# # print(\"asin: \",asin[tests])\n",
    "# avg_votes = np.zeros(len(asin))\n",
    "\n",
    "# for i in tests: # eventually all\n",
    "#     item = zgrouped.get_group(asin[i])\n",
    "#     avg_votes[i] = item[\"vote\"].fillna(0).astype(int).mean()\n",
    "#     print(len(item))\n",
    "#     sentiments = map(review_sentiment,item[\"reviewText\"].values[0:1000])\n",
    "    \n",
    "#     print(list(sentiments))\n",
    "\n",
    "# print(\"avg_votes: \", avg_votes[0:5])\n"
   ]
  },
  {
   "attachments": {},
   "cell_type": "markdown",
   "metadata": {},
   "source": [
    "For reference: What x,y should look like"
   ]
  },
  {
   "cell_type": "code",
   "execution_count": null,
   "metadata": {},
   "outputs": [],
   "source": [
    "from sklearn.datasets import load_iris\n",
    "\n",
    "iris = load_iris()\n",
    "\n",
    "#iris.data\n",
    "#iris.target"
   ]
  },
  {
   "attachments": {},
   "cell_type": "markdown",
   "metadata": {},
   "source": [
    "# Testing prep\n",
    "\n",
    "Put feature vector with col 1 as 'asin' to *z*, answers to *y*"
   ]
  },
  {
   "attachments": {},
   "cell_type": "markdown",
   "metadata": {},
   "source": [
    "Currently using features:\n",
    "\n",
    "Name                    |     Column Name\n",
    "\n",
    "reviewCount                    Review_Count\n",
    "\n",
    "with_image_percentage          %_Image\n",
    "\n",
    "percent_verified               %_Verified\n",
    "\n",
    "total_votes                    Total_Votes\n",
    "\n",
    "reviewlength                   Review_Length\n",
    "\n",
    "summarylength                  Summary_Length\n",
    "\n",
    "RpercentCap                    Review_%_Uppercase\n",
    "\n",
    "SpercentCap                    Summary_%_Uppercase\n",
    "\n",
    "actualAwesomeness              Actual_Awesomeness\n",
    "\n",
    "RavgSentiment                  Review_Avg_Sentiment\n",
    "\n",
    "SavgSentiment                  Summary_Avg_Sentiment\n",
    "\n",
    "\n",
    "//For pres\n",
    "//makeup of one we chose\n",
    "//how we got there aka ones that didn't work\n",
    "//why not - take a guess at why it didn't work as well"
   ]
  },
  {
   "cell_type": "code",
   "execution_count": 111,
   "metadata": {},
   "outputs": [],
   "source": [
    "#combine all individual features into one dataFrame\n",
    "\n",
    "#enter any features to be combined here! \n",
    "#   They must be pd dataFrames with the 'asin' column for this to work\n",
    "features = [reviewCount,percent_verified,total_votes,RavgSentiment,SavgSentiment,reviewlength,summarylength]\n",
    "\n",
    "z = x['asin']\n",
    "for f in features:\n",
    "    z = pd.merge(z,f,'inner','asin')\n",
    "\n",
    "#combine resultant data with correct answers \n",
    "temp = pd.merge(z,y,'inner','asin') \n",
    "temp = temp.groupby(\"asin\").mean()\n",
    "\n",
    "#split into features (x) and awesomeness (y), which now row correspond but don't have an 'asin' col anymore\n",
    "# merged_x = temp.drop(['asin','awesomeness'], axis=1)\n",
    "merged_x = temp.drop(['awesomeness'], axis=1)\n",
    "merged_y = temp[\"awesomeness\"]"
   ]
  },
  {
   "attachments": {},
   "cell_type": "markdown",
   "metadata": {},
   "source": [
    "Test example: \n",
    "\n",
    "*Gaussian Naive Bayes with tfidf*"
   ]
  },
  {
   "cell_type": "code",
   "execution_count": null,
   "metadata": {},
   "outputs": [],
   "source": [
    "from sklearn.model_selection import train_test_split\n",
    "\n",
    "from sklearn.naive_bayes import GaussianNB\n",
    "gnb = GaussianNB()\n",
    "\n",
    "from sklearn.feature_extraction.text import TfidfVectorizer\n",
    "tfidf = TfidfVectorizer()\n",
    "\n",
    "#split data\n",
    "x_train, x_test, y_train, y_test = train_test_split(x, y, test_size=0.5, random_state=0)\n",
    "\n",
    "#train and apply tfidf\n",
    "    # fit = make vocab \n",
    "    # transform = turn words -> numbers\n",
    "x_train = tfidf.fit_transform(x_train).toarray()\n",
    "x_test = tfidf.transform(x_test).toarray()\n",
    "\n",
    "#make prediction\n",
    "y_pred = gnb.fit(x_train, y_train).predict(x_test)\n",
    "\n",
    "#print accuracy\n",
    "print(f\"Number of mislabeled points out of a total {x_test.shape[0]} points : {(y_test != y_pred).sum()}\")"
   ]
  },
  {
   "attachments": {},
   "cell_type": "markdown",
   "metadata": {},
   "source": [
    "# Models\n",
    "\n",
    "(choose one)"
   ]
  },
  {
   "attachments": {},
   "cell_type": "markdown",
   "metadata": {},
   "source": [
    "Support Vector Machine (SVM)"
   ]
  },
  {
   "cell_type": "code",
   "execution_count": 58,
   "metadata": {},
   "outputs": [],
   "source": [
    "from sklearn import svm\n",
    "\n",
    "#kernel type\n",
    "#‘linear’, ‘poly’, ‘rbf’, ‘sigmoid’, ‘precomputed’\n",
    "kernel = 'rbf'\n",
    "\n",
    "#if kernel type = 'poly', degree of poly\n",
    "degree = 3\n",
    "\n",
    "#whether to enable probability estimates (will slow it down a lot)\n",
    "probability = True\n",
    "\n",
    "#tau - penalty for errors is inversely proportional to C\n",
    "C = 0.5\n",
    "\n",
    "param_grid = [{'kernel': ['linear','poly','rbf','sigmoid','precomputed'],\n",
    "            'C': [0.25,0.5,0.75,1]}]\n",
    "\n",
    "model = svm.SVC(C=C, kernel=kernel, degree=degree, probability=probability)"
   ]
  },
  {
   "attachments": {},
   "cell_type": "markdown",
   "metadata": {},
   "source": [
    "Basic Gaussian Naive Bayes"
   ]
  },
  {
   "cell_type": "code",
   "execution_count": null,
   "metadata": {},
   "outputs": [],
   "source": [
    "from sklearn.naive_bayes import GaussianNB\n",
    "\n",
    "model = GaussianNB()"
   ]
  },
  {
   "attachments": {},
   "cell_type": "markdown",
   "metadata": {},
   "source": [
    "Decision Tree"
   ]
  },
  {
   "cell_type": "code",
   "execution_count": 128,
   "metadata": {},
   "outputs": [],
   "source": [
    "from sklearn import tree\n",
    "\n",
    "#choose from 'entropy', 'gini', 'log_loss'\n",
    "criterion = 'entropy'\n",
    "\n",
    "    ###STOPPING CONDITIONS\n",
    "#max height/depth of the tree OR None if no limit\n",
    "max_depth = None\n",
    "\n",
    "#if sat(N) < n_samples*this, don't try to split it any further\n",
    "min_samples_split = .01\n",
    "\n",
    "    ###OTHER\n",
    "#if min(sat(nodes after a split)) < n_samples*this, split not considered \n",
    "#       (aka model isnt allowed to create leaf nodes with < n_samples*this samples)\n",
    "#       (smooths the model, avoids splits like 2000 -> 1999 vs 1)\n",
    "min_samples_leaf = 20\n",
    "\n",
    "param_grid = [{'criterion': ['entropy','gini','log_loss'],\n",
    "            'max_depth': [None,5,10,15],\n",
    "            'min_samples_split': [2,0.01,0.05,0.1,0.2],\n",
    "            'min_samples_leaf':[2,0.01,0.05,0.1,0.2]}]\n",
    "\n",
    "model = tree.DecisionTreeClassifier(criterion=criterion, max_depth=max_depth, min_samples_split=min_samples_split, min_samples_leaf=min_samples_leaf)"
   ]
  },
  {
   "attachments": {},
   "cell_type": "markdown",
   "metadata": {},
   "source": [
    "Decision Tree - See what it looks like! \n",
    "\n",
    "(only run if the model is a decision tree)\n",
    "\n",
    "*note: this trains the model on the whole dataset, so don't do before testing!*"
   ]
  },
  {
   "cell_type": "code",
   "execution_count": null,
   "metadata": {},
   "outputs": [],
   "source": [
    "model.fit(merged_x,merged_y)\n",
    "tree.plot_tree(model)"
   ]
  },
  {
   "attachments": {},
   "cell_type": "markdown",
   "metadata": {},
   "source": [
    "K-Nearest Neighbors"
   ]
  },
  {
   "cell_type": "code",
   "execution_count": null,
   "metadata": {},
   "outputs": [],
   "source": [
    "from sklearn.neighbors import KNeighborsClassifier\n",
    "\n",
    "#number of neighbors\n",
    "n_neighbors = 5\n",
    "\n",
    "#do you want proximity to effect influence neighbors have or not\n",
    "# 'uniform' or 'distance'\n",
    "weights='uniform'\n",
    "\n",
    "#leaf size passed to trees\n",
    "leaf_size=30\n",
    "\n",
    "# param_grid = [{'n_neighbors': [5,7,9,11],\n",
    "#             'weights': ['uniform','distance'],\n",
    "#             'leaf_size':[15,20,25,30]}] -> f1: 0.67, {'leaf_size': 15, 'n_neighbors': 11, 'weights': 'uniform'}\n",
    "\n",
    "# param_grid = [{'n_neighbors': [9,11,15,19,23],\n",
    "#              'weights': ['uniform','distance'],\n",
    "#              'leaf_size':[5,10,15,20]}] -> f1: 0.65, {'leaf_size': 5, 'n_neighbors': 23, 'weights': 'uniform'}\n",
    "\n",
    "# param_grid = [{'n_neighbors': [11,22,33,44,55],\n",
    "#              'weights': ['uniform','distance'],\n",
    "#              'leaf_size':[1,2,3,4,5,6,7,8,9,10,11,12]}] -> f1: 0.63....... {'leaf_size': 1, 'n_neighbors': 55, 'weights': 'uniform'}\n",
    "\n",
    "param_grid = [{'n_neighbors': [11,22,33,44,55],\n",
    "             'weights': ['uniform','distance'],\n",
    "             'leaf_size':[1,2,3,4,5,6,7,8,9,10,11,12]}]\n",
    "\n",
    "model = KNeighborsClassifier(n_neighbors=n_neighbors, weights=weights, leaf_size=leaf_size, n_jobs=-1)"
   ]
  },
  {
   "attachments": {},
   "cell_type": "markdown",
   "metadata": {},
   "source": [
    "Logistic Regression"
   ]
  },
  {
   "cell_type": "code",
   "execution_count": 102,
   "metadata": {},
   "outputs": [],
   "source": [
    "from sklearn.linear_model import LogisticRegression\n",
    "\n",
    "#norm of the penalty\n",
    "#‘l1’, ‘l2’, ‘elasticnet’, None\n",
    "penalty = 'l2'\n",
    "\n",
    "#inverse of regulation strength tau - how much do errors cost?\n",
    "C = 0.5\n",
    "\n",
    "#algorithm to compute optimization problem. Probs wont do much other than speed\n",
    "#‘lbfgs’, ‘liblinear’, ‘newton-cg’, ‘newton-cholesky’, ‘sag’, ‘saga’\n",
    "solver = 'sag'\n",
    "\n",
    "max_iter=1000\n",
    "\n",
    "# param_grid = [{'penalty': ['l1','l2','elasticnet',None],\n",
    "#             'C': [0.25,0.5,0.75,1],\n",
    "#             'solver': ['lbfgs','newton-cg','newton-cholesky','sag','saga'],\n",
    "#             'max_iter': [1000,500,100]}]        \n",
    "# -> {'C': 0.5, 'max_iter': 500, 'penalty': 'l2', 'solver': 'sag'}\n",
    "# f1: 0.6916044272473679\n",
    "\n",
    "# param_grid = [{'C': [0.4,0.45,0.5,0.55,0.6],\n",
    "#             'solver': ['lbfgs','newton-cg','newton-cholesky','sag','saga'],\n",
    "#             'max_iter': [700,600,500,400,300]}]\n",
    "# -> {'C': 0.5, 'max_iter': 500, 'penalty': 'l2', 'solver': 'sag'}\n",
    "# f1: same\n",
    "\n",
    "model = LogisticRegression(penalty=penalty, C=C, solver=solver, max_iter=max_iter, n_jobs=-1)"
   ]
  },
  {
   "attachments": {},
   "cell_type": "markdown",
   "metadata": {},
   "source": [
    "Try nonlinear regression by manipulating given features:"
   ]
  },
  {
   "cell_type": "code",
   "execution_count": 106,
   "metadata": {},
   "outputs": [],
   "source": [
    "#how to transform features!\n",
    "#np.sqrt, np.log, np.square\n",
    "f = np.sqrt\n",
    "\n",
    "merged_x = merged_x.apply(lambda x: f(x+1))"
   ]
  },
  {
   "attachments": {},
   "cell_type": "markdown",
   "metadata": {},
   "source": [
    "Random Forest"
   ]
  },
  {
   "cell_type": "code",
   "execution_count": 120,
   "metadata": {},
   "outputs": [],
   "source": [
    "from sklearn.ensemble import RandomForestClassifier\n",
    "\n",
    "#number of trees, int\n",
    "n_estimators=150\n",
    "\n",
    "#“gini”, “entropy”, “log_loss”\n",
    "criterion = 'log_loss'\n",
    "\n",
    "#max depth of each tree, int or None\n",
    "max_depth = None\n",
    "\n",
    "#min % of samples to leave in a branch after a split\n",
    "min_samples_split = 0.25\n",
    "\n",
    "#min % of samples to be a leaf node\n",
    "min_samples_leaf = 0.4\n",
    "\n",
    "# param_grid = [{'n_estimators': [50,100,150],\n",
    "#             'criterion': ['gini','entropy','log_loss'],\n",
    "#             'max_depth':[None,10,15,20],\n",
    "#             'min_samples_split':[2,0.01,0.05,0.1,0.2],\n",
    "#             'min_samples_leaf':[2,0.01,0.05,0.1,0.2]}]\n",
    "# -> {'criterion': 'log_loss', 'max_depth': None, 'min_samples_leaf': 0.2, 'min_samples_split': 0.2, 'n_estimators': 150}\n",
    "# f1: 0.686935866983373\n",
    "\n",
    "# param_grid = [{'n_estimators': [125,150,175,200],\n",
    "#             'min_samples_split':[.1,.2,.3],\n",
    "#             'min_samples_leaf':[.1,.2,.3]}]\n",
    "# -> {'min_samples_leaf': 0.3, 'min_samples_split': 0.2, 'n_estimators': 150}\n",
    "# f1: 0.6944863744763707\n",
    "            \n",
    "# param_grid = [{'n_estimators': [140,145,150,155,160],\n",
    "#             'min_samples_split':[.15,.2,.25],\n",
    "#             'min_samples_leaf':[.25,.3,.35,.4]}]\n",
    "# -> {'min_samples_leaf': 0.4, 'min_samples_split': 0.25, 'n_estimators': 150}\n",
    "# f1: 0.6944863744763707\n",
    "\n",
    "# param_grid = [{'min_samples_split':[0.15,0.175,0.2,0.225,0.25,0.275,0.3]}]\n",
    "# -> 0.6944863744763707\n",
    "# {'min_samples_split': 0.25}\n",
    "\n",
    "model = RandomForestClassifier(n_estimators=n_estimators, criterion=criterion, max_depth=max_depth, min_samples_split=min_samples_split, min_samples_leaf=min_samples_leaf, n_jobs=-1)"
   ]
  },
  {
   "attachments": {},
   "cell_type": "markdown",
   "metadata": {},
   "source": [
    "# Boosting!\n",
    "make a model better! goes into *boosted_model*"
   ]
  },
  {
   "attachments": {},
   "cell_type": "markdown",
   "metadata": {},
   "source": [
    "AdaBoost"
   ]
  },
  {
   "cell_type": "code",
   "execution_count": 123,
   "metadata": {},
   "outputs": [],
   "source": [
    "from sklearn.ensemble import AdaBoostClassifier\n",
    "\n",
    "#model to build off of\n",
    "#estimator = model\n",
    "\n",
    "#max number of estimators to compute before terminating testing\n",
    "n_estimators = 50\n",
    "\n",
    "#weight applied to each classifier at each boosting iteration\n",
    "learning_rate = 1.0\n",
    "\n",
    "param_grid = [{'n_estimators': [10,20,30],\n",
    "            'learning_rate': [1,2,3]}]\n",
    "\n",
    "boosted_model = AdaBoostClassifier(estimator=model, n_estimators=n_estimators, learning_rate=learning_rate)"
   ]
  },
  {
   "attachments": {},
   "cell_type": "markdown",
   "metadata": {},
   "source": [
    "Gradient Boosting"
   ]
  },
  {
   "cell_type": "code",
   "execution_count": null,
   "metadata": {},
   "outputs": [],
   "source": [
    "from sklearn.ensemble import HistGradientBoostingClassifier\n",
    "\n",
    "#loss function to use in boosting process\n",
    "#‘log_loss’, ‘auto’, ‘binary_crossentropy’/depreciated, ‘categorical_crossentropy’\n",
    "loss = 'log_loss'\n",
    "\n",
    "#shrinkage - multiplicative value for leaves\n",
    "learning_rate=0.1\n",
    "\n",
    "#maximum iterations for boosting process\n",
    "max_iter=1\n",
    "\n",
    "#maximum leaf nodes/tree\n",
    "max_leaf_nodes=31\n",
    "\n",
    "#max depth/tree or None for infinite\n",
    "max_depth = None\n",
    "\n",
    "#min samples to be a leaf\n",
    "min_samples_leaf=20\n",
    "\n",
    "#regularization parameter, 0 for none\n",
    "l2_regularization=0\n",
    "\n",
    "# param_grid = [{'learning_rate': [0.1,0.3,0.5,0.7,1],\n",
    "#             'max_iter':[50,60],\n",
    "#             'max_leaf_nodes':[25,30,35,40],\n",
    "#             'max_depth':[None,10,15,20],\n",
    "#             'min_samples_leaf':[20,0.01,0.05,0.1,0.2],\n",
    "#             'l2_regularization':[0,0.1,0.2]}] -> f1: 0.67, {'l2_regularization': 0, 'learning_rate': 0.3, 'max_depth': None, 'max_iter': 50, 'max_leaf_nodes': 25, 'min_samples_leaf': 20}\n",
    "\n",
    "# param_grid = [{'learning_rate': [0.2,0.25,0.3,0.35,0.4],\n",
    "#             'max_iter':[30,40,50],\n",
    "#             'max_leaf_nodes':[10,15,20,25],\n",
    "#             'min_samples_leaf':[10,15,20,25,30]}] -> f1: 0.66 {'learning_rate': 0.3, 'max_iter': 30, 'max_leaf_nodes': 10, 'min_samples_leaf': 15}\n",
    "\n",
    "# param_grid = [{'learning_rate': [0.25,0.275,0.3,0.325,0.35],\n",
    "#             'max_iter':[1,10,20,30],\n",
    "#             'max_leaf_nodes':[2,4,6,8,10],\n",
    "#             'min_samples_leaf':[12,13,14,15,16,17,18]}] -> f1: 0.68 {'learning_rate': 0.275, 'max_iter': 1, 'max_leaf_nodes': 4, 'min_samples_leaf': 14}\n",
    "\n",
    "# param_grid = [{'learning_rate': [0.265,0.27,0.275,0.28,0.285],\n",
    "#             'max_leaf_nodes':[2,3,4,5,6],\n",
    "#             'min_samples_leaf':[13,14,15]}] -> f1: 0.68 {'learning_rate': 0.27, 'max_leaf_nodes': 3, 'min_samples_leaf': 15}\n",
    "\n",
    "# param_grid = [{'learning_rate': [0.26,0.2665,0.267,0.2675,0.268,0.2685,0.269,0.2695,0.27,0.2705,0.271,0.2715,0.272,0.2725],\n",
    "#              'max_leaf_nodes':[2,3,4],\n",
    "#              'min_samples_leaf':[13,14,15,16,17],\n",
    "#              'max_iter':[0,1,2,3,4,5,6,7,8,9,10]}] -> f1: 0.684 {'learning_rate': 0.269, 'max_iter': 3, 'max_leaf_nodes': 2, 'min_samples_leaf': 16}\n",
    "\n",
    "param_grid = [{'learning_rate': [0.26,0.2665,0.267],\n",
    "             'max_leaf_nodes':[4,5,6,7,8],\n",
    "             'min_samples_leaf':[13,14,15],\n",
    "             'max_iter':[3,4,5]}] \n",
    "\n",
    "# {'learning_rate': 0.2665, 'max_iter': 4, 'max_leaf_nodes': 4, 'min_samples_leaf': 14}\n",
    "# 0.684137466874185\n",
    "\n",
    "boosted_model = HistGradientBoostingClassifier(loss=loss, learning_rate=learning_rate, max_iter=max_iter, max_leaf_nodes=max_leaf_nodes, max_depth=max_depth, min_samples_leaf=min_samples_leaf, l2_regularization=l2_regularization)"
   ]
  },
  {
   "attachments": {},
   "cell_type": "markdown",
   "metadata": {},
   "source": [
    "Bagging (for speed!)"
   ]
  },
  {
   "cell_type": "code",
   "execution_count": 126,
   "metadata": {},
   "outputs": [],
   "source": [
    "from sklearn.ensemble import BaggingClassifier\n",
    "\n",
    "#number of estimators\n",
    "n_estimators = 50\n",
    "\n",
    "boosted_model = BaggingClassifier(model, max_features=1/n_estimators, n_estimators=n_estimators)"
   ]
  },
  {
   "attachments": {},
   "cell_type": "markdown",
   "metadata": {},
   "source": [
    "# Testing"
   ]
  },
  {
   "attachments": {},
   "cell_type": "markdown",
   "metadata": {},
   "source": [
    "COMBINED NODE FOR TESTING AND PRINTING BC IM LAZY"
   ]
  },
  {
   "cell_type": "code",
   "execution_count": 129,
   "metadata": {},
   "outputs": [
    {
     "name": "stdout",
     "output_type": "stream",
     "text": [
      "----------------------------------------\n",
      "\tAVG, STDEV TEST RESULTS\n",
      "----------------------------------------\n",
      "\t\tMEAN\t\tSTDEV\n",
      "f1:       \t0.6945\t\t0.0001\n",
      "accuracy: \t0.532\t\t0.0001\n",
      "precision:\t0.532\t\t0.0001\n",
      "recall:   \t1.0\t\t0.0\n"
     ]
    }
   ],
   "source": [
    "#desired metrics\n",
    "scoring=['f1','accuracy','precision','recall']\n",
    "\n",
    "#number of \"folds\"\n",
    "k=10\n",
    "\n",
    "cv_results = cross_validate(boosted_model, merged_x, merged_y, cv=k, scoring=scoring)\n",
    "\n",
    "# pretty print results\n",
    "hline = (\"-\"*40)\n",
    "\n",
    "#print means, stdevs\n",
    "print(hline+\"\\n\\tAVG, STDEV TEST RESULTS\\n\"+hline)\n",
    "print(\"\\t\\tMEAN\\t\\tSTDEV\")\n",
    "for m in scoring:\n",
    "        ind = (\"test_\"+m)\n",
    "        test = (m+\":\").ljust(10)\n",
    "        print(f\"{test}\\t{np.round(cv_results[ind].mean(),4)}\\t\\t{np.round(cv_results[ind].std(),4)}\")"
   ]
  },
  {
   "attachments": {},
   "cell_type": "markdown",
   "metadata": {},
   "source": [
    "K-Fold testing \n",
    "\n",
    "(set model to variable *model*)"
   ]
  },
  {
   "cell_type": "code",
   "execution_count": null,
   "metadata": {},
   "outputs": [],
   "source": [
    "#desired metrics\n",
    "scoring=['f1','accuracy','precision','recall']\n",
    "\n",
    "#number of \"folds\"\n",
    "k=10\n",
    "\n",
    "cv_results = cross_validate(model, merged_x, merged_y, cv=k, scoring=scoring)"
   ]
  },
  {
   "attachments": {},
   "cell_type": "markdown",
   "metadata": {},
   "source": [
    "Pretty print results"
   ]
  },
  {
   "cell_type": "code",
   "execution_count": null,
   "metadata": {},
   "outputs": [],
   "source": [
    "hline = (\"-\"*40)\n",
    "\n",
    "#print means, stdevs\n",
    "print(hline+\"\\n\\tAVG, STDEV TEST RESULTS\\n\"+hline)\n",
    "print(\"\\t\\tMEAN\\t\\tSTDEV\")\n",
    "for m in scoring:\n",
    "        ind = (\"test_\"+m)\n",
    "        test = (m+\":\").ljust(10)\n",
    "        print(f\"{test}\\t{np.round(cv_results[ind].mean(),4)}\\t\\t{np.round(cv_results[ind].std(),4)}\")\n",
    "\n",
    "\n",
    "    ##print per test results (if you really want, uncomment)\n",
    "# print(\"\\n\")\n",
    "# print(hline+\"\\n\\tPER TEST RESULTS\\n\"+hline)\n",
    "# for i in range(k):\n",
    "#     print(f\"Test {i}:\")\n",
    "#     for m in scoring:\n",
    "#         ind = (\"test_\"+m)\n",
    "#         test = (m+\":\").ljust(10)\n",
    "#         print(f\"\\t{test} {np.round(cv_results[ind][i],5)}\")"
   ]
  },
  {
   "attachments": {},
   "cell_type": "markdown",
   "metadata": {},
   "source": [
    "Testing Split"
   ]
  },
  {
   "cell_type": "code",
   "execution_count": 34,
   "metadata": {},
   "outputs": [],
   "source": [
    "x_train, x_test, y_train, y_test = train_test_split(merged_x, merged_y, test_size=0.3, random_state=0)"
   ]
  },
  {
   "attachments": {},
   "cell_type": "markdown",
   "metadata": {},
   "source": [
    "Grid Searching for Best Parameters\n",
    "\n",
    "must have parameters for variable in *params*"
   ]
  },
  {
   "cell_type": "code",
   "execution_count": null,
   "metadata": {},
   "outputs": [],
   "source": [
    "from sklearn.model_selection import GridSearchCV\n",
    "\n",
    "grid_search = GridSearchCV(model, param_grid=param_grid, scoring='f1', cv=5)\n",
    "grid_search.fit(merged_x,merged_y)\n",
    "print(grid_search.best_params_)\n",
    "print(grid_search.score(merged_x,merged_y))"
   ]
  },
  {
   "attachments": {},
   "cell_type": "markdown",
   "metadata": {},
   "source": [
    "Optimizing with halving random grid search"
   ]
  },
  {
   "cell_type": "code",
   "execution_count": 119,
   "metadata": {},
   "outputs": [
    {
     "name": "stdout",
     "output_type": "stream",
     "text": [
      "{'min_samples_split': 0.25}\n",
      "0.6944863744763707\n"
     ]
    }
   ],
   "source": [
    "from sklearn.experimental import enable_halving_search_cv\n",
    "from sklearn.model_selection import HalvingGridSearchCV\n",
    "\n",
    "hg_search = HalvingGridSearchCV(model, param_grid=param_grid, scoring='f1', cv=10)\n",
    "hg_search.fit(merged_x,merged_y)\n",
    "print(hg_search.best_params_)\n",
    "print(hg_search.score(merged_x,merged_y))"
   ]
  },
  {
   "attachments": {},
   "cell_type": "markdown",
   "metadata": {},
   "source": [
    "Feature Selection"
   ]
  },
  {
   "cell_type": "code",
   "execution_count": 97,
   "metadata": {},
   "outputs": [
    {
     "ename": "KeyboardInterrupt",
     "evalue": "",
     "output_type": "error",
     "traceback": [
      "\u001b[1;31m---------------------------------------------------------------------------\u001b[0m",
      "\u001b[1;31mKeyboardInterrupt\u001b[0m                         Traceback (most recent call last)",
      "\u001b[1;32m~\\AppData\\Local\\Temp/ipykernel_35868/366889955.py\u001b[0m in \u001b[0;36m<module>\u001b[1;34m\u001b[0m\n\u001b[0;32m      2\u001b[0m \u001b[1;33m\u001b[0m\u001b[0m\n\u001b[0;32m      3\u001b[0m \u001b[0mselector\u001b[0m \u001b[1;33m=\u001b[0m \u001b[0mRFECV\u001b[0m\u001b[1;33m(\u001b[0m\u001b[0mmodel\u001b[0m\u001b[1;33m,\u001b[0m \u001b[0mstep\u001b[0m\u001b[1;33m=\u001b[0m\u001b[1;36m1\u001b[0m\u001b[1;33m,\u001b[0m \u001b[0mcv\u001b[0m\u001b[1;33m=\u001b[0m\u001b[1;36m10\u001b[0m\u001b[1;33m)\u001b[0m\u001b[1;33m\u001b[0m\u001b[1;33m\u001b[0m\u001b[0m\n\u001b[1;32m----> 4\u001b[1;33m \u001b[0mselector\u001b[0m \u001b[1;33m=\u001b[0m \u001b[0mselector\u001b[0m\u001b[1;33m.\u001b[0m\u001b[0mfit\u001b[0m\u001b[1;33m(\u001b[0m\u001b[0mmerged_x\u001b[0m\u001b[1;33m,\u001b[0m\u001b[0mmerged_y\u001b[0m\u001b[1;33m)\u001b[0m\u001b[1;33m\u001b[0m\u001b[1;33m\u001b[0m\u001b[0m\n\u001b[0m\u001b[0;32m      5\u001b[0m \u001b[0mprint\u001b[0m\u001b[1;33m(\u001b[0m\u001b[0mselector\u001b[0m\u001b[1;33m.\u001b[0m\u001b[0msupport_\u001b[0m\u001b[1;33m)\u001b[0m\u001b[1;33m\u001b[0m\u001b[1;33m\u001b[0m\u001b[0m\n\u001b[0;32m      6\u001b[0m \u001b[0mprint\u001b[0m\u001b[1;33m(\u001b[0m\u001b[0mselector\u001b[0m\u001b[1;33m.\u001b[0m\u001b[0mranking_\u001b[0m\u001b[1;33m)\u001b[0m\u001b[1;33m\u001b[0m\u001b[1;33m\u001b[0m\u001b[0m\n",
      "\u001b[1;32mc:\\Users\\zachg\\AppData\\Local\\Programs\\Python\\Python310\\lib\\site-packages\\sklearn\\feature_selection\\_rfe.py\u001b[0m in \u001b[0;36mfit\u001b[1;34m(self, X, y, groups)\u001b[0m\n\u001b[0;32m    723\u001b[0m             \u001b[0mfunc\u001b[0m \u001b[1;33m=\u001b[0m \u001b[0mdelayed\u001b[0m\u001b[1;33m(\u001b[0m\u001b[0m_rfe_single_fit\u001b[0m\u001b[1;33m)\u001b[0m\u001b[1;33m\u001b[0m\u001b[1;33m\u001b[0m\u001b[0m\n\u001b[0;32m    724\u001b[0m \u001b[1;33m\u001b[0m\u001b[0m\n\u001b[1;32m--> 725\u001b[1;33m         scores = parallel(\n\u001b[0m\u001b[0;32m    726\u001b[0m             \u001b[0mfunc\u001b[0m\u001b[1;33m(\u001b[0m\u001b[0mrfe\u001b[0m\u001b[1;33m,\u001b[0m \u001b[0mself\u001b[0m\u001b[1;33m.\u001b[0m\u001b[0mestimator\u001b[0m\u001b[1;33m,\u001b[0m \u001b[0mX\u001b[0m\u001b[1;33m,\u001b[0m \u001b[0my\u001b[0m\u001b[1;33m,\u001b[0m \u001b[0mtrain\u001b[0m\u001b[1;33m,\u001b[0m \u001b[0mtest\u001b[0m\u001b[1;33m,\u001b[0m \u001b[0mscorer\u001b[0m\u001b[1;33m)\u001b[0m\u001b[1;33m\u001b[0m\u001b[1;33m\u001b[0m\u001b[0m\n\u001b[0;32m    727\u001b[0m             \u001b[1;32mfor\u001b[0m \u001b[0mtrain\u001b[0m\u001b[1;33m,\u001b[0m \u001b[0mtest\u001b[0m \u001b[1;32min\u001b[0m \u001b[0mcv\u001b[0m\u001b[1;33m.\u001b[0m\u001b[0msplit\u001b[0m\u001b[1;33m(\u001b[0m\u001b[0mX\u001b[0m\u001b[1;33m,\u001b[0m \u001b[0my\u001b[0m\u001b[1;33m,\u001b[0m \u001b[0mgroups\u001b[0m\u001b[1;33m)\u001b[0m\u001b[1;33m\u001b[0m\u001b[1;33m\u001b[0m\u001b[0m\n",
      "\u001b[1;32mc:\\Users\\zachg\\AppData\\Local\\Programs\\Python\\Python310\\lib\\site-packages\\sklearn\\feature_selection\\_rfe.py\u001b[0m in \u001b[0;36m<genexpr>\u001b[1;34m(.0)\u001b[0m\n\u001b[0;32m    724\u001b[0m \u001b[1;33m\u001b[0m\u001b[0m\n\u001b[0;32m    725\u001b[0m         scores = parallel(\n\u001b[1;32m--> 726\u001b[1;33m             \u001b[0mfunc\u001b[0m\u001b[1;33m(\u001b[0m\u001b[0mrfe\u001b[0m\u001b[1;33m,\u001b[0m \u001b[0mself\u001b[0m\u001b[1;33m.\u001b[0m\u001b[0mestimator\u001b[0m\u001b[1;33m,\u001b[0m \u001b[0mX\u001b[0m\u001b[1;33m,\u001b[0m \u001b[0my\u001b[0m\u001b[1;33m,\u001b[0m \u001b[0mtrain\u001b[0m\u001b[1;33m,\u001b[0m \u001b[0mtest\u001b[0m\u001b[1;33m,\u001b[0m \u001b[0mscorer\u001b[0m\u001b[1;33m)\u001b[0m\u001b[1;33m\u001b[0m\u001b[1;33m\u001b[0m\u001b[0m\n\u001b[0m\u001b[0;32m    727\u001b[0m             \u001b[1;32mfor\u001b[0m \u001b[0mtrain\u001b[0m\u001b[1;33m,\u001b[0m \u001b[0mtest\u001b[0m \u001b[1;32min\u001b[0m \u001b[0mcv\u001b[0m\u001b[1;33m.\u001b[0m\u001b[0msplit\u001b[0m\u001b[1;33m(\u001b[0m\u001b[0mX\u001b[0m\u001b[1;33m,\u001b[0m \u001b[0my\u001b[0m\u001b[1;33m,\u001b[0m \u001b[0mgroups\u001b[0m\u001b[1;33m)\u001b[0m\u001b[1;33m\u001b[0m\u001b[1;33m\u001b[0m\u001b[0m\n\u001b[0;32m    728\u001b[0m         )\n",
      "\u001b[1;32mc:\\Users\\zachg\\AppData\\Local\\Programs\\Python\\Python310\\lib\\site-packages\\sklearn\\feature_selection\\_rfe.py\u001b[0m in \u001b[0;36m_rfe_single_fit\u001b[1;34m(rfe, estimator, X, y, train, test, scorer)\u001b[0m\n\u001b[0;32m     35\u001b[0m     \u001b[0mX_train\u001b[0m\u001b[1;33m,\u001b[0m \u001b[0my_train\u001b[0m \u001b[1;33m=\u001b[0m \u001b[0m_safe_split\u001b[0m\u001b[1;33m(\u001b[0m\u001b[0mestimator\u001b[0m\u001b[1;33m,\u001b[0m \u001b[0mX\u001b[0m\u001b[1;33m,\u001b[0m \u001b[0my\u001b[0m\u001b[1;33m,\u001b[0m \u001b[0mtrain\u001b[0m\u001b[1;33m)\u001b[0m\u001b[1;33m\u001b[0m\u001b[1;33m\u001b[0m\u001b[0m\n\u001b[0;32m     36\u001b[0m     \u001b[0mX_test\u001b[0m\u001b[1;33m,\u001b[0m \u001b[0my_test\u001b[0m \u001b[1;33m=\u001b[0m \u001b[0m_safe_split\u001b[0m\u001b[1;33m(\u001b[0m\u001b[0mestimator\u001b[0m\u001b[1;33m,\u001b[0m \u001b[0mX\u001b[0m\u001b[1;33m,\u001b[0m \u001b[0my\u001b[0m\u001b[1;33m,\u001b[0m \u001b[0mtest\u001b[0m\u001b[1;33m,\u001b[0m \u001b[0mtrain\u001b[0m\u001b[1;33m)\u001b[0m\u001b[1;33m\u001b[0m\u001b[1;33m\u001b[0m\u001b[0m\n\u001b[1;32m---> 37\u001b[1;33m     return rfe._fit(\n\u001b[0m\u001b[0;32m     38\u001b[0m         \u001b[0mX_train\u001b[0m\u001b[1;33m,\u001b[0m\u001b[1;33m\u001b[0m\u001b[1;33m\u001b[0m\u001b[0m\n\u001b[0;32m     39\u001b[0m         \u001b[0my_train\u001b[0m\u001b[1;33m,\u001b[0m\u001b[1;33m\u001b[0m\u001b[1;33m\u001b[0m\u001b[0m\n",
      "\u001b[1;32mc:\\Users\\zachg\\AppData\\Local\\Programs\\Python\\Python310\\lib\\site-packages\\sklearn\\feature_selection\\_rfe.py\u001b[0m in \u001b[0;36m_fit\u001b[1;34m(self, X, y, step_score, **fit_params)\u001b[0m\n\u001b[0;32m    297\u001b[0m                 \u001b[0mprint\u001b[0m\u001b[1;33m(\u001b[0m\u001b[1;34m\"Fitting estimator with %d features.\"\u001b[0m \u001b[1;33m%\u001b[0m \u001b[0mnp\u001b[0m\u001b[1;33m.\u001b[0m\u001b[0msum\u001b[0m\u001b[1;33m(\u001b[0m\u001b[0msupport_\u001b[0m\u001b[1;33m)\u001b[0m\u001b[1;33m)\u001b[0m\u001b[1;33m\u001b[0m\u001b[1;33m\u001b[0m\u001b[0m\n\u001b[0;32m    298\u001b[0m \u001b[1;33m\u001b[0m\u001b[0m\n\u001b[1;32m--> 299\u001b[1;33m             \u001b[0mestimator\u001b[0m\u001b[1;33m.\u001b[0m\u001b[0mfit\u001b[0m\u001b[1;33m(\u001b[0m\u001b[0mX\u001b[0m\u001b[1;33m[\u001b[0m\u001b[1;33m:\u001b[0m\u001b[1;33m,\u001b[0m \u001b[0mfeatures\u001b[0m\u001b[1;33m]\u001b[0m\u001b[1;33m,\u001b[0m \u001b[0my\u001b[0m\u001b[1;33m,\u001b[0m \u001b[1;33m**\u001b[0m\u001b[0mfit_params\u001b[0m\u001b[1;33m)\u001b[0m\u001b[1;33m\u001b[0m\u001b[1;33m\u001b[0m\u001b[0m\n\u001b[0m\u001b[0;32m    300\u001b[0m \u001b[1;33m\u001b[0m\u001b[0m\n\u001b[0;32m    301\u001b[0m             \u001b[1;31m# Get importance and rank them\u001b[0m\u001b[1;33m\u001b[0m\u001b[1;33m\u001b[0m\u001b[0m\n",
      "\u001b[1;32mc:\\Users\\zachg\\AppData\\Local\\Programs\\Python\\Python310\\lib\\site-packages\\daal4py\\sklearn\\_device_offload.py\u001b[0m in \u001b[0;36mwrapper_with_self\u001b[1;34m(self, *args, **kwargs)\u001b[0m\n\u001b[0;32m     86\u001b[0m         \u001b[1;33m@\u001b[0m\u001b[0mwraps\u001b[0m\u001b[1;33m(\u001b[0m\u001b[0mfunc\u001b[0m\u001b[1;33m)\u001b[0m\u001b[1;33m\u001b[0m\u001b[1;33m\u001b[0m\u001b[0m\n\u001b[0;32m     87\u001b[0m         \u001b[1;32mdef\u001b[0m \u001b[0mwrapper_with_self\u001b[0m\u001b[1;33m(\u001b[0m\u001b[0mself\u001b[0m\u001b[1;33m,\u001b[0m \u001b[1;33m*\u001b[0m\u001b[0margs\u001b[0m\u001b[1;33m,\u001b[0m \u001b[1;33m**\u001b[0m\u001b[0mkwargs\u001b[0m\u001b[1;33m)\u001b[0m\u001b[1;33m:\u001b[0m\u001b[1;33m\u001b[0m\u001b[1;33m\u001b[0m\u001b[0m\n\u001b[1;32m---> 88\u001b[1;33m             \u001b[1;32mreturn\u001b[0m \u001b[0mwrapper_impl\u001b[0m\u001b[1;33m(\u001b[0m\u001b[0mself\u001b[0m\u001b[1;33m,\u001b[0m \u001b[1;33m*\u001b[0m\u001b[0margs\u001b[0m\u001b[1;33m,\u001b[0m \u001b[1;33m**\u001b[0m\u001b[0mkwargs\u001b[0m\u001b[1;33m)\u001b[0m\u001b[1;33m\u001b[0m\u001b[1;33m\u001b[0m\u001b[0m\n\u001b[0m\u001b[0;32m     89\u001b[0m         \u001b[1;32mreturn\u001b[0m \u001b[0mwrapper_with_self\u001b[0m\u001b[1;33m\u001b[0m\u001b[1;33m\u001b[0m\u001b[0m\n\u001b[0;32m     90\u001b[0m     \u001b[1;32mreturn\u001b[0m \u001b[0mdecorator\u001b[0m\u001b[1;33m\u001b[0m\u001b[1;33m\u001b[0m\u001b[0m\n",
      "\u001b[1;32mc:\\Users\\zachg\\AppData\\Local\\Programs\\Python\\Python310\\lib\\site-packages\\daal4py\\sklearn\\_device_offload.py\u001b[0m in \u001b[0;36mwrapper_impl\u001b[1;34m(obj, *args, **kwargs)\u001b[0m\n\u001b[0;32m     72\u001b[0m                 \u001b[0musm_iface\u001b[0m \u001b[1;33m=\u001b[0m \u001b[0m_extract_usm_iface\u001b[0m\u001b[1;33m(\u001b[0m\u001b[1;33m*\u001b[0m\u001b[0margs\u001b[0m\u001b[1;33m,\u001b[0m \u001b[1;33m**\u001b[0m\u001b[0mkwargs\u001b[0m\u001b[1;33m)\u001b[0m\u001b[1;33m\u001b[0m\u001b[1;33m\u001b[0m\u001b[0m\n\u001b[0;32m     73\u001b[0m                 \u001b[0mq\u001b[0m\u001b[1;33m,\u001b[0m \u001b[0mhostargs\u001b[0m\u001b[1;33m,\u001b[0m \u001b[0mhostkwargs\u001b[0m \u001b[1;33m=\u001b[0m \u001b[0m_get_host_inputs\u001b[0m\u001b[1;33m(\u001b[0m\u001b[1;33m*\u001b[0m\u001b[0margs\u001b[0m\u001b[1;33m,\u001b[0m \u001b[1;33m**\u001b[0m\u001b[0mkwargs\u001b[0m\u001b[1;33m)\u001b[0m\u001b[1;33m\u001b[0m\u001b[1;33m\u001b[0m\u001b[0m\n\u001b[1;32m---> 74\u001b[1;33m                 \u001b[0mresult\u001b[0m \u001b[1;33m=\u001b[0m \u001b[0m_run_on_device\u001b[0m\u001b[1;33m(\u001b[0m\u001b[0mfunc\u001b[0m\u001b[1;33m,\u001b[0m \u001b[0mq\u001b[0m\u001b[1;33m,\u001b[0m \u001b[0mobj\u001b[0m\u001b[1;33m,\u001b[0m \u001b[1;33m*\u001b[0m\u001b[0mhostargs\u001b[0m\u001b[1;33m,\u001b[0m \u001b[1;33m**\u001b[0m\u001b[0mhostkwargs\u001b[0m\u001b[1;33m)\u001b[0m\u001b[1;33m\u001b[0m\u001b[1;33m\u001b[0m\u001b[0m\n\u001b[0m\u001b[0;32m     75\u001b[0m                 \u001b[1;32mif\u001b[0m \u001b[0musm_iface\u001b[0m \u001b[1;32mis\u001b[0m \u001b[1;32mnot\u001b[0m \u001b[1;32mNone\u001b[0m \u001b[1;32mand\u001b[0m \u001b[0mhasattr\u001b[0m\u001b[1;33m(\u001b[0m\u001b[0mresult\u001b[0m\u001b[1;33m,\u001b[0m \u001b[1;34m'__array_interface__'\u001b[0m\u001b[1;33m)\u001b[0m\u001b[1;33m:\u001b[0m\u001b[1;33m\u001b[0m\u001b[1;33m\u001b[0m\u001b[0m\n\u001b[0;32m     76\u001b[0m                     \u001b[1;32mreturn\u001b[0m \u001b[0m_copy_to_usm\u001b[0m\u001b[1;33m(\u001b[0m\u001b[0mq\u001b[0m\u001b[1;33m,\u001b[0m \u001b[0mresult\u001b[0m\u001b[1;33m)\u001b[0m\u001b[1;33m\u001b[0m\u001b[1;33m\u001b[0m\u001b[0m\n",
      "\u001b[1;32mc:\\Users\\zachg\\AppData\\Local\\Programs\\Python\\Python310\\lib\\site-packages\\daal4py\\sklearn\\_device_offload.py\u001b[0m in \u001b[0;36m_run_on_device\u001b[1;34m(func, queue, obj, *args, **kwargs)\u001b[0m\n\u001b[0;32m     63\u001b[0m                               host_offload_on_fail=host_offload):\n\u001b[0;32m     64\u001b[0m                 \u001b[1;32mreturn\u001b[0m \u001b[0mdispatch_by_obj\u001b[0m\u001b[1;33m(\u001b[0m\u001b[0mobj\u001b[0m\u001b[1;33m,\u001b[0m \u001b[0mfunc\u001b[0m\u001b[1;33m,\u001b[0m \u001b[1;33m*\u001b[0m\u001b[0margs\u001b[0m\u001b[1;33m,\u001b[0m \u001b[1;33m**\u001b[0m\u001b[0mkwargs\u001b[0m\u001b[1;33m)\u001b[0m\u001b[1;33m\u001b[0m\u001b[1;33m\u001b[0m\u001b[0m\n\u001b[1;32m---> 65\u001b[1;33m     \u001b[1;32mreturn\u001b[0m \u001b[0mdispatch_by_obj\u001b[0m\u001b[1;33m(\u001b[0m\u001b[0mobj\u001b[0m\u001b[1;33m,\u001b[0m \u001b[0mfunc\u001b[0m\u001b[1;33m,\u001b[0m \u001b[1;33m*\u001b[0m\u001b[0margs\u001b[0m\u001b[1;33m,\u001b[0m \u001b[1;33m**\u001b[0m\u001b[0mkwargs\u001b[0m\u001b[1;33m)\u001b[0m\u001b[1;33m\u001b[0m\u001b[1;33m\u001b[0m\u001b[0m\n\u001b[0m\u001b[0;32m     66\u001b[0m \u001b[1;33m\u001b[0m\u001b[0m\n\u001b[0;32m     67\u001b[0m \u001b[1;33m\u001b[0m\u001b[0m\n",
      "\u001b[1;32mc:\\Users\\zachg\\AppData\\Local\\Programs\\Python\\Python310\\lib\\site-packages\\daal4py\\sklearn\\_device_offload.py\u001b[0m in \u001b[0;36mdispatch_by_obj\u001b[1;34m(obj, func, *args, **kwargs)\u001b[0m\n\u001b[0;32m     51\u001b[0m     \u001b[1;32mdef\u001b[0m \u001b[0mdispatch_by_obj\u001b[0m\u001b[1;33m(\u001b[0m\u001b[0mobj\u001b[0m\u001b[1;33m,\u001b[0m \u001b[0mfunc\u001b[0m\u001b[1;33m,\u001b[0m \u001b[1;33m*\u001b[0m\u001b[0margs\u001b[0m\u001b[1;33m,\u001b[0m \u001b[1;33m**\u001b[0m\u001b[0mkwargs\u001b[0m\u001b[1;33m)\u001b[0m\u001b[1;33m:\u001b[0m\u001b[1;33m\u001b[0m\u001b[1;33m\u001b[0m\u001b[0m\n\u001b[0;32m     52\u001b[0m         \u001b[1;32mif\u001b[0m \u001b[0mobj\u001b[0m \u001b[1;32mis\u001b[0m \u001b[1;32mnot\u001b[0m \u001b[1;32mNone\u001b[0m\u001b[1;33m:\u001b[0m\u001b[1;33m\u001b[0m\u001b[1;33m\u001b[0m\u001b[0m\n\u001b[1;32m---> 53\u001b[1;33m             \u001b[1;32mreturn\u001b[0m \u001b[0mfunc\u001b[0m\u001b[1;33m(\u001b[0m\u001b[0mobj\u001b[0m\u001b[1;33m,\u001b[0m \u001b[1;33m*\u001b[0m\u001b[0margs\u001b[0m\u001b[1;33m,\u001b[0m \u001b[1;33m**\u001b[0m\u001b[0mkwargs\u001b[0m\u001b[1;33m)\u001b[0m\u001b[1;33m\u001b[0m\u001b[1;33m\u001b[0m\u001b[0m\n\u001b[0m\u001b[0;32m     54\u001b[0m         \u001b[1;32mreturn\u001b[0m \u001b[0mfunc\u001b[0m\u001b[1;33m(\u001b[0m\u001b[1;33m*\u001b[0m\u001b[0margs\u001b[0m\u001b[1;33m,\u001b[0m \u001b[1;33m**\u001b[0m\u001b[0mkwargs\u001b[0m\u001b[1;33m)\u001b[0m\u001b[1;33m\u001b[0m\u001b[1;33m\u001b[0m\u001b[0m\n\u001b[0;32m     55\u001b[0m \u001b[1;33m\u001b[0m\u001b[0m\n",
      "\u001b[1;32mc:\\Users\\zachg\\AppData\\Local\\Programs\\Python\\Python310\\lib\\site-packages\\daal4py\\sklearn\\linear_model\\logistic_path.py\u001b[0m in \u001b[0;36mfit\u001b[1;34m(self, X, y, sample_weight)\u001b[0m\n\u001b[0;32m    929\u001b[0m             \u001b[0mdescriptor\u001b[0m \u001b[1;33m=\u001b[0m \u001b[0mgetattr\u001b[0m\u001b[1;33m(\u001b[0m\u001b[0mwhich\u001b[0m\u001b[1;33m,\u001b[0m \u001b[0mwhat\u001b[0m\u001b[1;33m,\u001b[0m \u001b[1;32mNone\u001b[0m\u001b[1;33m)\u001b[0m\u001b[1;33m\u001b[0m\u001b[1;33m\u001b[0m\u001b[0m\n\u001b[0;32m    930\u001b[0m             \u001b[0msetattr\u001b[0m\u001b[1;33m(\u001b[0m\u001b[0mwhich\u001b[0m\u001b[1;33m,\u001b[0m \u001b[0mwhat\u001b[0m\u001b[1;33m,\u001b[0m \u001b[0mreplacer\u001b[0m\u001b[1;33m)\u001b[0m\u001b[1;33m\u001b[0m\u001b[1;33m\u001b[0m\u001b[0m\n\u001b[1;32m--> 931\u001b[1;33m             \u001b[0mclf\u001b[0m \u001b[1;33m=\u001b[0m \u001b[0msuper\u001b[0m\u001b[1;33m(\u001b[0m\u001b[1;33m)\u001b[0m\u001b[1;33m.\u001b[0m\u001b[0mfit\u001b[0m\u001b[1;33m(\u001b[0m\u001b[0mX\u001b[0m\u001b[1;33m,\u001b[0m \u001b[0my\u001b[0m\u001b[1;33m,\u001b[0m \u001b[0msample_weight\u001b[0m\u001b[1;33m)\u001b[0m\u001b[1;33m\u001b[0m\u001b[1;33m\u001b[0m\u001b[0m\n\u001b[0m\u001b[0;32m    932\u001b[0m             \u001b[0msetattr\u001b[0m\u001b[1;33m(\u001b[0m\u001b[0mwhich\u001b[0m\u001b[1;33m,\u001b[0m \u001b[0mwhat\u001b[0m\u001b[1;33m,\u001b[0m \u001b[0mdescriptor\u001b[0m\u001b[1;33m)\u001b[0m\u001b[1;33m\u001b[0m\u001b[1;33m\u001b[0m\u001b[0m\n\u001b[0;32m    933\u001b[0m             \u001b[1;32mreturn\u001b[0m \u001b[0mclf\u001b[0m\u001b[1;33m\u001b[0m\u001b[1;33m\u001b[0m\u001b[0m\n",
      "\u001b[1;32mc:\\Users\\zachg\\AppData\\Local\\Programs\\Python\\Python310\\lib\\site-packages\\sklearn\\linear_model\\_logistic.py\u001b[0m in \u001b[0;36mfit\u001b[1;34m(self, X, y, sample_weight)\u001b[0m\n\u001b[0;32m   1289\u001b[0m             \u001b[0mn_threads\u001b[0m \u001b[1;33m=\u001b[0m \u001b[1;36m1\u001b[0m\u001b[1;33m\u001b[0m\u001b[1;33m\u001b[0m\u001b[0m\n\u001b[0;32m   1290\u001b[0m \u001b[1;33m\u001b[0m\u001b[0m\n\u001b[1;32m-> 1291\u001b[1;33m         fold_coefs_ = Parallel(n_jobs=self.n_jobs, verbose=self.verbose, prefer=prefer)(\n\u001b[0m\u001b[0;32m   1292\u001b[0m             path_func(\n\u001b[0;32m   1293\u001b[0m                 \u001b[0mX\u001b[0m\u001b[1;33m,\u001b[0m\u001b[1;33m\u001b[0m\u001b[1;33m\u001b[0m\u001b[0m\n",
      "\u001b[1;32mc:\\Users\\zachg\\AppData\\Local\\Programs\\Python\\Python310\\lib\\site-packages\\sklearn\\utils\\parallel.py\u001b[0m in \u001b[0;36m__call__\u001b[1;34m(self, iterable)\u001b[0m\n\u001b[0;32m     61\u001b[0m             \u001b[1;32mfor\u001b[0m \u001b[0mdelayed_func\u001b[0m\u001b[1;33m,\u001b[0m \u001b[0margs\u001b[0m\u001b[1;33m,\u001b[0m \u001b[0mkwargs\u001b[0m \u001b[1;32min\u001b[0m \u001b[0miterable\u001b[0m\u001b[1;33m\u001b[0m\u001b[1;33m\u001b[0m\u001b[0m\n\u001b[0;32m     62\u001b[0m         )\n\u001b[1;32m---> 63\u001b[1;33m         \u001b[1;32mreturn\u001b[0m \u001b[0msuper\u001b[0m\u001b[1;33m(\u001b[0m\u001b[1;33m)\u001b[0m\u001b[1;33m.\u001b[0m\u001b[0m__call__\u001b[0m\u001b[1;33m(\u001b[0m\u001b[0miterable_with_config\u001b[0m\u001b[1;33m)\u001b[0m\u001b[1;33m\u001b[0m\u001b[1;33m\u001b[0m\u001b[0m\n\u001b[0m\u001b[0;32m     64\u001b[0m \u001b[1;33m\u001b[0m\u001b[0m\n\u001b[0;32m     65\u001b[0m \u001b[1;33m\u001b[0m\u001b[0m\n",
      "\u001b[1;32mc:\\Users\\zachg\\AppData\\Local\\Programs\\Python\\Python310\\lib\\site-packages\\joblib\\parallel.py\u001b[0m in \u001b[0;36m__call__\u001b[1;34m(self, iterable)\u001b[0m\n\u001b[0;32m   1083\u001b[0m             \u001b[1;31m# remaining jobs.\u001b[0m\u001b[1;33m\u001b[0m\u001b[1;33m\u001b[0m\u001b[0m\n\u001b[0;32m   1084\u001b[0m             \u001b[0mself\u001b[0m\u001b[1;33m.\u001b[0m\u001b[0m_iterating\u001b[0m \u001b[1;33m=\u001b[0m \u001b[1;32mFalse\u001b[0m\u001b[1;33m\u001b[0m\u001b[1;33m\u001b[0m\u001b[0m\n\u001b[1;32m-> 1085\u001b[1;33m             \u001b[1;32mif\u001b[0m \u001b[0mself\u001b[0m\u001b[1;33m.\u001b[0m\u001b[0mdispatch_one_batch\u001b[0m\u001b[1;33m(\u001b[0m\u001b[0miterator\u001b[0m\u001b[1;33m)\u001b[0m\u001b[1;33m:\u001b[0m\u001b[1;33m\u001b[0m\u001b[1;33m\u001b[0m\u001b[0m\n\u001b[0m\u001b[0;32m   1086\u001b[0m                 \u001b[0mself\u001b[0m\u001b[1;33m.\u001b[0m\u001b[0m_iterating\u001b[0m \u001b[1;33m=\u001b[0m \u001b[0mself\u001b[0m\u001b[1;33m.\u001b[0m\u001b[0m_original_iterator\u001b[0m \u001b[1;32mis\u001b[0m \u001b[1;32mnot\u001b[0m \u001b[1;32mNone\u001b[0m\u001b[1;33m\u001b[0m\u001b[1;33m\u001b[0m\u001b[0m\n\u001b[0;32m   1087\u001b[0m \u001b[1;33m\u001b[0m\u001b[0m\n",
      "\u001b[1;32mc:\\Users\\zachg\\AppData\\Local\\Programs\\Python\\Python310\\lib\\site-packages\\joblib\\parallel.py\u001b[0m in \u001b[0;36mdispatch_one_batch\u001b[1;34m(self, iterator)\u001b[0m\n\u001b[0;32m    899\u001b[0m                 \u001b[1;32mreturn\u001b[0m \u001b[1;32mFalse\u001b[0m\u001b[1;33m\u001b[0m\u001b[1;33m\u001b[0m\u001b[0m\n\u001b[0;32m    900\u001b[0m             \u001b[1;32melse\u001b[0m\u001b[1;33m:\u001b[0m\u001b[1;33m\u001b[0m\u001b[1;33m\u001b[0m\u001b[0m\n\u001b[1;32m--> 901\u001b[1;33m                 \u001b[0mself\u001b[0m\u001b[1;33m.\u001b[0m\u001b[0m_dispatch\u001b[0m\u001b[1;33m(\u001b[0m\u001b[0mtasks\u001b[0m\u001b[1;33m)\u001b[0m\u001b[1;33m\u001b[0m\u001b[1;33m\u001b[0m\u001b[0m\n\u001b[0m\u001b[0;32m    902\u001b[0m                 \u001b[1;32mreturn\u001b[0m \u001b[1;32mTrue\u001b[0m\u001b[1;33m\u001b[0m\u001b[1;33m\u001b[0m\u001b[0m\n\u001b[0;32m    903\u001b[0m \u001b[1;33m\u001b[0m\u001b[0m\n",
      "\u001b[1;32mc:\\Users\\zachg\\AppData\\Local\\Programs\\Python\\Python310\\lib\\site-packages\\joblib\\parallel.py\u001b[0m in \u001b[0;36m_dispatch\u001b[1;34m(self, batch)\u001b[0m\n\u001b[0;32m    817\u001b[0m         \u001b[1;32mwith\u001b[0m \u001b[0mself\u001b[0m\u001b[1;33m.\u001b[0m\u001b[0m_lock\u001b[0m\u001b[1;33m:\u001b[0m\u001b[1;33m\u001b[0m\u001b[1;33m\u001b[0m\u001b[0m\n\u001b[0;32m    818\u001b[0m             \u001b[0mjob_idx\u001b[0m \u001b[1;33m=\u001b[0m \u001b[0mlen\u001b[0m\u001b[1;33m(\u001b[0m\u001b[0mself\u001b[0m\u001b[1;33m.\u001b[0m\u001b[0m_jobs\u001b[0m\u001b[1;33m)\u001b[0m\u001b[1;33m\u001b[0m\u001b[1;33m\u001b[0m\u001b[0m\n\u001b[1;32m--> 819\u001b[1;33m             \u001b[0mjob\u001b[0m \u001b[1;33m=\u001b[0m \u001b[0mself\u001b[0m\u001b[1;33m.\u001b[0m\u001b[0m_backend\u001b[0m\u001b[1;33m.\u001b[0m\u001b[0mapply_async\u001b[0m\u001b[1;33m(\u001b[0m\u001b[0mbatch\u001b[0m\u001b[1;33m,\u001b[0m \u001b[0mcallback\u001b[0m\u001b[1;33m=\u001b[0m\u001b[0mcb\u001b[0m\u001b[1;33m)\u001b[0m\u001b[1;33m\u001b[0m\u001b[1;33m\u001b[0m\u001b[0m\n\u001b[0m\u001b[0;32m    820\u001b[0m             \u001b[1;31m# A job can complete so quickly than its callback is\u001b[0m\u001b[1;33m\u001b[0m\u001b[1;33m\u001b[0m\u001b[0m\n\u001b[0;32m    821\u001b[0m             \u001b[1;31m# called before we get here, causing self._jobs to\u001b[0m\u001b[1;33m\u001b[0m\u001b[1;33m\u001b[0m\u001b[0m\n",
      "\u001b[1;32mc:\\Users\\zachg\\AppData\\Local\\Programs\\Python\\Python310\\lib\\site-packages\\joblib\\_parallel_backends.py\u001b[0m in \u001b[0;36mapply_async\u001b[1;34m(self, func, callback)\u001b[0m\n\u001b[0;32m    206\u001b[0m     \u001b[1;32mdef\u001b[0m \u001b[0mapply_async\u001b[0m\u001b[1;33m(\u001b[0m\u001b[0mself\u001b[0m\u001b[1;33m,\u001b[0m \u001b[0mfunc\u001b[0m\u001b[1;33m,\u001b[0m \u001b[0mcallback\u001b[0m\u001b[1;33m=\u001b[0m\u001b[1;32mNone\u001b[0m\u001b[1;33m)\u001b[0m\u001b[1;33m:\u001b[0m\u001b[1;33m\u001b[0m\u001b[1;33m\u001b[0m\u001b[0m\n\u001b[0;32m    207\u001b[0m         \u001b[1;34m\"\"\"Schedule a func to be run\"\"\"\u001b[0m\u001b[1;33m\u001b[0m\u001b[1;33m\u001b[0m\u001b[0m\n\u001b[1;32m--> 208\u001b[1;33m         \u001b[0mresult\u001b[0m \u001b[1;33m=\u001b[0m \u001b[0mImmediateResult\u001b[0m\u001b[1;33m(\u001b[0m\u001b[0mfunc\u001b[0m\u001b[1;33m)\u001b[0m\u001b[1;33m\u001b[0m\u001b[1;33m\u001b[0m\u001b[0m\n\u001b[0m\u001b[0;32m    209\u001b[0m         \u001b[1;32mif\u001b[0m \u001b[0mcallback\u001b[0m\u001b[1;33m:\u001b[0m\u001b[1;33m\u001b[0m\u001b[1;33m\u001b[0m\u001b[0m\n\u001b[0;32m    210\u001b[0m             \u001b[0mcallback\u001b[0m\u001b[1;33m(\u001b[0m\u001b[0mresult\u001b[0m\u001b[1;33m)\u001b[0m\u001b[1;33m\u001b[0m\u001b[1;33m\u001b[0m\u001b[0m\n",
      "\u001b[1;32mc:\\Users\\zachg\\AppData\\Local\\Programs\\Python\\Python310\\lib\\site-packages\\joblib\\_parallel_backends.py\u001b[0m in \u001b[0;36m__init__\u001b[1;34m(self, batch)\u001b[0m\n\u001b[0;32m    595\u001b[0m         \u001b[1;31m# Don't delay the application, to avoid keeping the input\u001b[0m\u001b[1;33m\u001b[0m\u001b[1;33m\u001b[0m\u001b[0m\n\u001b[0;32m    596\u001b[0m         \u001b[1;31m# arguments in memory\u001b[0m\u001b[1;33m\u001b[0m\u001b[1;33m\u001b[0m\u001b[0m\n\u001b[1;32m--> 597\u001b[1;33m         \u001b[0mself\u001b[0m\u001b[1;33m.\u001b[0m\u001b[0mresults\u001b[0m \u001b[1;33m=\u001b[0m \u001b[0mbatch\u001b[0m\u001b[1;33m(\u001b[0m\u001b[1;33m)\u001b[0m\u001b[1;33m\u001b[0m\u001b[1;33m\u001b[0m\u001b[0m\n\u001b[0m\u001b[0;32m    598\u001b[0m \u001b[1;33m\u001b[0m\u001b[0m\n\u001b[0;32m    599\u001b[0m     \u001b[1;32mdef\u001b[0m \u001b[0mget\u001b[0m\u001b[1;33m(\u001b[0m\u001b[0mself\u001b[0m\u001b[1;33m)\u001b[0m\u001b[1;33m:\u001b[0m\u001b[1;33m\u001b[0m\u001b[1;33m\u001b[0m\u001b[0m\n",
      "\u001b[1;32mc:\\Users\\zachg\\AppData\\Local\\Programs\\Python\\Python310\\lib\\site-packages\\joblib\\parallel.py\u001b[0m in \u001b[0;36m__call__\u001b[1;34m(self)\u001b[0m\n\u001b[0;32m    286\u001b[0m         \u001b[1;31m# change the default number of processes to -1\u001b[0m\u001b[1;33m\u001b[0m\u001b[1;33m\u001b[0m\u001b[0m\n\u001b[0;32m    287\u001b[0m         \u001b[1;32mwith\u001b[0m \u001b[0mparallel_backend\u001b[0m\u001b[1;33m(\u001b[0m\u001b[0mself\u001b[0m\u001b[1;33m.\u001b[0m\u001b[0m_backend\u001b[0m\u001b[1;33m,\u001b[0m \u001b[0mn_jobs\u001b[0m\u001b[1;33m=\u001b[0m\u001b[0mself\u001b[0m\u001b[1;33m.\u001b[0m\u001b[0m_n_jobs\u001b[0m\u001b[1;33m)\u001b[0m\u001b[1;33m:\u001b[0m\u001b[1;33m\u001b[0m\u001b[1;33m\u001b[0m\u001b[0m\n\u001b[1;32m--> 288\u001b[1;33m             return [func(*args, **kwargs)\n\u001b[0m\u001b[0;32m    289\u001b[0m                     for func, args, kwargs in self.items]\n\u001b[0;32m    290\u001b[0m \u001b[1;33m\u001b[0m\u001b[0m\n",
      "\u001b[1;32mc:\\Users\\zachg\\AppData\\Local\\Programs\\Python\\Python310\\lib\\site-packages\\joblib\\parallel.py\u001b[0m in \u001b[0;36m<listcomp>\u001b[1;34m(.0)\u001b[0m\n\u001b[0;32m    286\u001b[0m         \u001b[1;31m# change the default number of processes to -1\u001b[0m\u001b[1;33m\u001b[0m\u001b[1;33m\u001b[0m\u001b[0m\n\u001b[0;32m    287\u001b[0m         \u001b[1;32mwith\u001b[0m \u001b[0mparallel_backend\u001b[0m\u001b[1;33m(\u001b[0m\u001b[0mself\u001b[0m\u001b[1;33m.\u001b[0m\u001b[0m_backend\u001b[0m\u001b[1;33m,\u001b[0m \u001b[0mn_jobs\u001b[0m\u001b[1;33m=\u001b[0m\u001b[0mself\u001b[0m\u001b[1;33m.\u001b[0m\u001b[0m_n_jobs\u001b[0m\u001b[1;33m)\u001b[0m\u001b[1;33m:\u001b[0m\u001b[1;33m\u001b[0m\u001b[1;33m\u001b[0m\u001b[0m\n\u001b[1;32m--> 288\u001b[1;33m             return [func(*args, **kwargs)\n\u001b[0m\u001b[0;32m    289\u001b[0m                     for func, args, kwargs in self.items]\n\u001b[0;32m    290\u001b[0m \u001b[1;33m\u001b[0m\u001b[0m\n",
      "\u001b[1;32mc:\\Users\\zachg\\AppData\\Local\\Programs\\Python\\Python310\\lib\\site-packages\\sklearn\\utils\\parallel.py\u001b[0m in \u001b[0;36m__call__\u001b[1;34m(self, *args, **kwargs)\u001b[0m\n\u001b[0;32m    121\u001b[0m             \u001b[0mconfig\u001b[0m \u001b[1;33m=\u001b[0m \u001b[1;33m{\u001b[0m\u001b[1;33m}\u001b[0m\u001b[1;33m\u001b[0m\u001b[1;33m\u001b[0m\u001b[0m\n\u001b[0;32m    122\u001b[0m         \u001b[1;32mwith\u001b[0m \u001b[0mconfig_context\u001b[0m\u001b[1;33m(\u001b[0m\u001b[1;33m**\u001b[0m\u001b[0mconfig\u001b[0m\u001b[1;33m)\u001b[0m\u001b[1;33m:\u001b[0m\u001b[1;33m\u001b[0m\u001b[1;33m\u001b[0m\u001b[0m\n\u001b[1;32m--> 123\u001b[1;33m             \u001b[1;32mreturn\u001b[0m \u001b[0mself\u001b[0m\u001b[1;33m.\u001b[0m\u001b[0mfunction\u001b[0m\u001b[1;33m(\u001b[0m\u001b[1;33m*\u001b[0m\u001b[0margs\u001b[0m\u001b[1;33m,\u001b[0m \u001b[1;33m**\u001b[0m\u001b[0mkwargs\u001b[0m\u001b[1;33m)\u001b[0m\u001b[1;33m\u001b[0m\u001b[1;33m\u001b[0m\u001b[0m\n\u001b[0m",
      "\u001b[1;32mc:\\Users\\zachg\\AppData\\Local\\Programs\\Python\\Python310\\lib\\site-packages\\daal4py\\sklearn\\_device_offload.py\u001b[0m in \u001b[0;36mwrapper_with_self\u001b[1;34m(self, *args, **kwargs)\u001b[0m\n\u001b[0;32m     86\u001b[0m         \u001b[1;33m@\u001b[0m\u001b[0mwraps\u001b[0m\u001b[1;33m(\u001b[0m\u001b[0mfunc\u001b[0m\u001b[1;33m)\u001b[0m\u001b[1;33m\u001b[0m\u001b[1;33m\u001b[0m\u001b[0m\n\u001b[0;32m     87\u001b[0m         \u001b[1;32mdef\u001b[0m \u001b[0mwrapper_with_self\u001b[0m\u001b[1;33m(\u001b[0m\u001b[0mself\u001b[0m\u001b[1;33m,\u001b[0m \u001b[1;33m*\u001b[0m\u001b[0margs\u001b[0m\u001b[1;33m,\u001b[0m \u001b[1;33m**\u001b[0m\u001b[0mkwargs\u001b[0m\u001b[1;33m)\u001b[0m\u001b[1;33m:\u001b[0m\u001b[1;33m\u001b[0m\u001b[1;33m\u001b[0m\u001b[0m\n\u001b[1;32m---> 88\u001b[1;33m             \u001b[1;32mreturn\u001b[0m \u001b[0mwrapper_impl\u001b[0m\u001b[1;33m(\u001b[0m\u001b[0mself\u001b[0m\u001b[1;33m,\u001b[0m \u001b[1;33m*\u001b[0m\u001b[0margs\u001b[0m\u001b[1;33m,\u001b[0m \u001b[1;33m**\u001b[0m\u001b[0mkwargs\u001b[0m\u001b[1;33m)\u001b[0m\u001b[1;33m\u001b[0m\u001b[1;33m\u001b[0m\u001b[0m\n\u001b[0m\u001b[0;32m     89\u001b[0m         \u001b[1;32mreturn\u001b[0m \u001b[0mwrapper_with_self\u001b[0m\u001b[1;33m\u001b[0m\u001b[1;33m\u001b[0m\u001b[0m\n\u001b[0;32m     90\u001b[0m     \u001b[1;32mreturn\u001b[0m \u001b[0mdecorator\u001b[0m\u001b[1;33m\u001b[0m\u001b[1;33m\u001b[0m\u001b[0m\n",
      "\u001b[1;32mc:\\Users\\zachg\\AppData\\Local\\Programs\\Python\\Python310\\lib\\site-packages\\daal4py\\sklearn\\_device_offload.py\u001b[0m in \u001b[0;36mwrapper_impl\u001b[1;34m(obj, *args, **kwargs)\u001b[0m\n\u001b[0;32m     72\u001b[0m                 \u001b[0musm_iface\u001b[0m \u001b[1;33m=\u001b[0m \u001b[0m_extract_usm_iface\u001b[0m\u001b[1;33m(\u001b[0m\u001b[1;33m*\u001b[0m\u001b[0margs\u001b[0m\u001b[1;33m,\u001b[0m \u001b[1;33m**\u001b[0m\u001b[0mkwargs\u001b[0m\u001b[1;33m)\u001b[0m\u001b[1;33m\u001b[0m\u001b[1;33m\u001b[0m\u001b[0m\n\u001b[0;32m     73\u001b[0m                 \u001b[0mq\u001b[0m\u001b[1;33m,\u001b[0m \u001b[0mhostargs\u001b[0m\u001b[1;33m,\u001b[0m \u001b[0mhostkwargs\u001b[0m \u001b[1;33m=\u001b[0m \u001b[0m_get_host_inputs\u001b[0m\u001b[1;33m(\u001b[0m\u001b[1;33m*\u001b[0m\u001b[0margs\u001b[0m\u001b[1;33m,\u001b[0m \u001b[1;33m**\u001b[0m\u001b[0mkwargs\u001b[0m\u001b[1;33m)\u001b[0m\u001b[1;33m\u001b[0m\u001b[1;33m\u001b[0m\u001b[0m\n\u001b[1;32m---> 74\u001b[1;33m                 \u001b[0mresult\u001b[0m \u001b[1;33m=\u001b[0m \u001b[0m_run_on_device\u001b[0m\u001b[1;33m(\u001b[0m\u001b[0mfunc\u001b[0m\u001b[1;33m,\u001b[0m \u001b[0mq\u001b[0m\u001b[1;33m,\u001b[0m \u001b[0mobj\u001b[0m\u001b[1;33m,\u001b[0m \u001b[1;33m*\u001b[0m\u001b[0mhostargs\u001b[0m\u001b[1;33m,\u001b[0m \u001b[1;33m**\u001b[0m\u001b[0mhostkwargs\u001b[0m\u001b[1;33m)\u001b[0m\u001b[1;33m\u001b[0m\u001b[1;33m\u001b[0m\u001b[0m\n\u001b[0m\u001b[0;32m     75\u001b[0m                 \u001b[1;32mif\u001b[0m \u001b[0musm_iface\u001b[0m \u001b[1;32mis\u001b[0m \u001b[1;32mnot\u001b[0m \u001b[1;32mNone\u001b[0m \u001b[1;32mand\u001b[0m \u001b[0mhasattr\u001b[0m\u001b[1;33m(\u001b[0m\u001b[0mresult\u001b[0m\u001b[1;33m,\u001b[0m \u001b[1;34m'__array_interface__'\u001b[0m\u001b[1;33m)\u001b[0m\u001b[1;33m:\u001b[0m\u001b[1;33m\u001b[0m\u001b[1;33m\u001b[0m\u001b[0m\n\u001b[0;32m     76\u001b[0m                     \u001b[1;32mreturn\u001b[0m \u001b[0m_copy_to_usm\u001b[0m\u001b[1;33m(\u001b[0m\u001b[0mq\u001b[0m\u001b[1;33m,\u001b[0m \u001b[0mresult\u001b[0m\u001b[1;33m)\u001b[0m\u001b[1;33m\u001b[0m\u001b[1;33m\u001b[0m\u001b[0m\n",
      "\u001b[1;32mc:\\Users\\zachg\\AppData\\Local\\Programs\\Python\\Python310\\lib\\site-packages\\daal4py\\sklearn\\_device_offload.py\u001b[0m in \u001b[0;36m_run_on_device\u001b[1;34m(func, queue, obj, *args, **kwargs)\u001b[0m\n\u001b[0;32m     63\u001b[0m                               host_offload_on_fail=host_offload):\n\u001b[0;32m     64\u001b[0m                 \u001b[1;32mreturn\u001b[0m \u001b[0mdispatch_by_obj\u001b[0m\u001b[1;33m(\u001b[0m\u001b[0mobj\u001b[0m\u001b[1;33m,\u001b[0m \u001b[0mfunc\u001b[0m\u001b[1;33m,\u001b[0m \u001b[1;33m*\u001b[0m\u001b[0margs\u001b[0m\u001b[1;33m,\u001b[0m \u001b[1;33m**\u001b[0m\u001b[0mkwargs\u001b[0m\u001b[1;33m)\u001b[0m\u001b[1;33m\u001b[0m\u001b[1;33m\u001b[0m\u001b[0m\n\u001b[1;32m---> 65\u001b[1;33m     \u001b[1;32mreturn\u001b[0m \u001b[0mdispatch_by_obj\u001b[0m\u001b[1;33m(\u001b[0m\u001b[0mobj\u001b[0m\u001b[1;33m,\u001b[0m \u001b[0mfunc\u001b[0m\u001b[1;33m,\u001b[0m \u001b[1;33m*\u001b[0m\u001b[0margs\u001b[0m\u001b[1;33m,\u001b[0m \u001b[1;33m**\u001b[0m\u001b[0mkwargs\u001b[0m\u001b[1;33m)\u001b[0m\u001b[1;33m\u001b[0m\u001b[1;33m\u001b[0m\u001b[0m\n\u001b[0m\u001b[0;32m     66\u001b[0m \u001b[1;33m\u001b[0m\u001b[0m\n\u001b[0;32m     67\u001b[0m \u001b[1;33m\u001b[0m\u001b[0m\n",
      "\u001b[1;32mc:\\Users\\zachg\\AppData\\Local\\Programs\\Python\\Python310\\lib\\site-packages\\daal4py\\sklearn\\_device_offload.py\u001b[0m in \u001b[0;36mdispatch_by_obj\u001b[1;34m(obj, func, *args, **kwargs)\u001b[0m\n\u001b[0;32m     51\u001b[0m     \u001b[1;32mdef\u001b[0m \u001b[0mdispatch_by_obj\u001b[0m\u001b[1;33m(\u001b[0m\u001b[0mobj\u001b[0m\u001b[1;33m,\u001b[0m \u001b[0mfunc\u001b[0m\u001b[1;33m,\u001b[0m \u001b[1;33m*\u001b[0m\u001b[0margs\u001b[0m\u001b[1;33m,\u001b[0m \u001b[1;33m**\u001b[0m\u001b[0mkwargs\u001b[0m\u001b[1;33m)\u001b[0m\u001b[1;33m:\u001b[0m\u001b[1;33m\u001b[0m\u001b[1;33m\u001b[0m\u001b[0m\n\u001b[0;32m     52\u001b[0m         \u001b[1;32mif\u001b[0m \u001b[0mobj\u001b[0m \u001b[1;32mis\u001b[0m \u001b[1;32mnot\u001b[0m \u001b[1;32mNone\u001b[0m\u001b[1;33m:\u001b[0m\u001b[1;33m\u001b[0m\u001b[1;33m\u001b[0m\u001b[0m\n\u001b[1;32m---> 53\u001b[1;33m             \u001b[1;32mreturn\u001b[0m \u001b[0mfunc\u001b[0m\u001b[1;33m(\u001b[0m\u001b[0mobj\u001b[0m\u001b[1;33m,\u001b[0m \u001b[1;33m*\u001b[0m\u001b[0margs\u001b[0m\u001b[1;33m,\u001b[0m \u001b[1;33m**\u001b[0m\u001b[0mkwargs\u001b[0m\u001b[1;33m)\u001b[0m\u001b[1;33m\u001b[0m\u001b[1;33m\u001b[0m\u001b[0m\n\u001b[0m\u001b[0;32m     54\u001b[0m         \u001b[1;32mreturn\u001b[0m \u001b[0mfunc\u001b[0m\u001b[1;33m(\u001b[0m\u001b[1;33m*\u001b[0m\u001b[0margs\u001b[0m\u001b[1;33m,\u001b[0m \u001b[1;33m**\u001b[0m\u001b[0mkwargs\u001b[0m\u001b[1;33m)\u001b[0m\u001b[1;33m\u001b[0m\u001b[1;33m\u001b[0m\u001b[0m\n\u001b[0;32m     55\u001b[0m \u001b[1;33m\u001b[0m\u001b[0m\n",
      "\u001b[1;32mc:\\Users\\zachg\\AppData\\Local\\Programs\\Python\\Python310\\lib\\site-packages\\daal4py\\sklearn\\linear_model\\logistic_path.py\u001b[0m in \u001b[0;36mlogistic_regression_path\u001b[1;34m(X, y, pos_class, Cs, fit_intercept, max_iter, tol, verbose, solver, coef, class_weight, dual, penalty, intercept_scaling, multi_class, random_state, check_input, max_squared_sum, sample_weight, l1_ratio, n_threads)\u001b[0m\n\u001b[0;32m    817\u001b[0m     ):\n\u001b[0;32m    818\u001b[0m         \u001b[1;32mif\u001b[0m \u001b[0msklearn_check_version\u001b[0m\u001b[1;33m(\u001b[0m\u001b[1;34m'1.1'\u001b[0m\u001b[1;33m)\u001b[0m\u001b[1;33m:\u001b[0m\u001b[1;33m\u001b[0m\u001b[1;33m\u001b[0m\u001b[0m\n\u001b[1;32m--> 819\u001b[1;33m             return __logistic_regression_path(\n\u001b[0m\u001b[0;32m    820\u001b[0m                 \u001b[0mX\u001b[0m\u001b[1;33m,\u001b[0m \u001b[0my\u001b[0m\u001b[1;33m,\u001b[0m \u001b[0mpos_class\u001b[0m\u001b[1;33m=\u001b[0m\u001b[0mpos_class\u001b[0m\u001b[1;33m,\u001b[0m\u001b[1;33m\u001b[0m\u001b[1;33m\u001b[0m\u001b[0m\n\u001b[0;32m    821\u001b[0m                 \u001b[0mCs\u001b[0m\u001b[1;33m=\u001b[0m\u001b[0mCs\u001b[0m\u001b[1;33m,\u001b[0m \u001b[0mfit_intercept\u001b[0m\u001b[1;33m=\u001b[0m\u001b[0mfit_intercept\u001b[0m\u001b[1;33m,\u001b[0m\u001b[1;33m\u001b[0m\u001b[1;33m\u001b[0m\u001b[0m\n",
      "\u001b[1;32mc:\\Users\\zachg\\AppData\\Local\\Programs\\Python\\Python310\\lib\\site-packages\\daal4py\\sklearn\\linear_model\\logistic_path.py\u001b[0m in \u001b[0;36m__logistic_regression_path\u001b[1;34m(X, y, pos_class, Cs, fit_intercept, max_iter, tol, verbose, solver, coef, class_weight, dual, penalty, intercept_scaling, multi_class, random_state, check_input, max_squared_sum, sample_weight, l1_ratio, n_threads)\u001b[0m\n\u001b[0;32m    655\u001b[0m                 \u001b[0mbeta\u001b[0m \u001b[1;33m=\u001b[0m \u001b[1;33m(\u001b[0m\u001b[1;36m1.\u001b[0m \u001b[1;33m/\u001b[0m \u001b[0mC\u001b[0m\u001b[1;33m)\u001b[0m \u001b[1;33m*\u001b[0m \u001b[0ml1_ratio\u001b[0m\u001b[1;33m\u001b[0m\u001b[1;33m\u001b[0m\u001b[0m\n\u001b[0;32m    656\u001b[0m \u001b[1;33m\u001b[0m\u001b[0m\n\u001b[1;32m--> 657\u001b[1;33m             w0, n_iter_i, warm_start_sag = sag_solver(\n\u001b[0m\u001b[0;32m    658\u001b[0m                 \u001b[0mX\u001b[0m\u001b[1;33m,\u001b[0m\u001b[1;33m\u001b[0m\u001b[1;33m\u001b[0m\u001b[0m\n\u001b[0;32m    659\u001b[0m                 \u001b[0mtarget\u001b[0m\u001b[1;33m,\u001b[0m\u001b[1;33m\u001b[0m\u001b[1;33m\u001b[0m\u001b[0m\n",
      "\u001b[1;32mc:\\Users\\zachg\\AppData\\Local\\Programs\\Python\\Python310\\lib\\site-packages\\sklearn\\linear_model\\_sag.py\u001b[0m in \u001b[0;36msag_solver\u001b[1;34m(X, y, sample_weight, loss, alpha, beta, max_iter, tol, verbose, random_state, check_input, max_squared_sum, warm_start_mem, is_saga)\u001b[0m\n\u001b[0;32m    323\u001b[0m \u001b[1;33m\u001b[0m\u001b[0m\n\u001b[0;32m    324\u001b[0m     \u001b[0msag\u001b[0m \u001b[1;33m=\u001b[0m \u001b[0msag64\u001b[0m \u001b[1;32mif\u001b[0m \u001b[0mX\u001b[0m\u001b[1;33m.\u001b[0m\u001b[0mdtype\u001b[0m \u001b[1;33m==\u001b[0m \u001b[0mnp\u001b[0m\u001b[1;33m.\u001b[0m\u001b[0mfloat64\u001b[0m \u001b[1;32melse\u001b[0m \u001b[0msag32\u001b[0m\u001b[1;33m\u001b[0m\u001b[1;33m\u001b[0m\u001b[0m\n\u001b[1;32m--> 325\u001b[1;33m     num_seen, n_iter_ = sag(\n\u001b[0m\u001b[0;32m    326\u001b[0m         \u001b[0mdataset\u001b[0m\u001b[1;33m,\u001b[0m\u001b[1;33m\u001b[0m\u001b[1;33m\u001b[0m\u001b[0m\n\u001b[0;32m    327\u001b[0m         \u001b[0mcoef_init\u001b[0m\u001b[1;33m,\u001b[0m\u001b[1;33m\u001b[0m\u001b[1;33m\u001b[0m\u001b[0m\n",
      "\u001b[1;31mKeyboardInterrupt\u001b[0m: "
     ]
    }
   ],
   "source": [
    "from sklearn.feature_selection import RFECV\n",
    "\n",
    "selector = RFECV(model, step=1, cv=10) \n",
    "selector = selector.fit(merged_x,merged_y)\n",
    "print(selector.support_)\n",
    "print(selector.ranking_)"
   ]
  },
  {
   "cell_type": "code",
   "execution_count": 99,
   "metadata": {},
   "outputs": [
    {
     "data": {
      "text/html": [
       "<div>\n",
       "<style scoped>\n",
       "    .dataframe tbody tr th:only-of-type {\n",
       "        vertical-align: middle;\n",
       "    }\n",
       "\n",
       "    .dataframe tbody tr th {\n",
       "        vertical-align: top;\n",
       "    }\n",
       "\n",
       "    .dataframe thead th {\n",
       "        text-align: right;\n",
       "    }\n",
       "</style>\n",
       "<table border=\"1\" class=\"dataframe\">\n",
       "  <thead>\n",
       "    <tr style=\"text-align: right;\">\n",
       "      <th></th>\n",
       "      <th>Review_Count</th>\n",
       "      <th>%_Verified</th>\n",
       "      <th>Total_Votes</th>\n",
       "      <th>Review_Avg_Sentiment</th>\n",
       "      <th>Summary_Avg_Sentiment</th>\n",
       "      <th>Review_Length</th>\n",
       "      <th>Summary_Length</th>\n",
       "    </tr>\n",
       "    <tr>\n",
       "      <th>asin</th>\n",
       "      <th></th>\n",
       "      <th></th>\n",
       "      <th></th>\n",
       "      <th></th>\n",
       "      <th></th>\n",
       "      <th></th>\n",
       "      <th></th>\n",
       "    </tr>\n",
       "  </thead>\n",
       "  <tbody>\n",
       "    <tr>\n",
       "      <th>0000B049F5B33CD310EB1AB236E20191</th>\n",
       "      <td>5.0</td>\n",
       "      <td>1.500000</td>\n",
       "      <td>7.0</td>\n",
       "      <td>1.9233</td>\n",
       "      <td>1.8902</td>\n",
       "      <td>89.500000</td>\n",
       "      <td>5.500000</td>\n",
       "    </tr>\n",
       "    <tr>\n",
       "      <th>00018184A9EC4D270219A296B2580303</th>\n",
       "      <td>19.0</td>\n",
       "      <td>1.166667</td>\n",
       "      <td>46.0</td>\n",
       "      <td>1.8327</td>\n",
       "      <td>1.9619</td>\n",
       "      <td>236.222222</td>\n",
       "      <td>6.166667</td>\n",
       "    </tr>\n",
       "    <tr>\n",
       "      <th>000281A9CAC43FF1F335726A390636DA</th>\n",
       "      <td>5.0</td>\n",
       "      <td>1.750000</td>\n",
       "      <td>6.0</td>\n",
       "      <td>1.4019</td>\n",
       "      <td>0.9484</td>\n",
       "      <td>131.500000</td>\n",
       "      <td>4.500000</td>\n",
       "    </tr>\n",
       "    <tr>\n",
       "      <th>00030884DF109F325638A6BFD5B13CFF</th>\n",
       "      <td>30.0</td>\n",
       "      <td>1.586207</td>\n",
       "      <td>84.0</td>\n",
       "      <td>1.9969</td>\n",
       "      <td>1.9945</td>\n",
       "      <td>80.655172</td>\n",
       "      <td>6.000000</td>\n",
       "    </tr>\n",
       "    <tr>\n",
       "      <th>000325BA25966B5FC701D5D2B5DBA4E0</th>\n",
       "      <td>5.0</td>\n",
       "      <td>2.000000</td>\n",
       "      <td>8.0</td>\n",
       "      <td>1.8257</td>\n",
       "      <td>0.6160</td>\n",
       "      <td>92.500000</td>\n",
       "      <td>4.000000</td>\n",
       "    </tr>\n",
       "    <tr>\n",
       "      <th>...</th>\n",
       "      <td>...</td>\n",
       "      <td>...</td>\n",
       "      <td>...</td>\n",
       "      <td>...</td>\n",
       "      <td>...</td>\n",
       "      <td>...</td>\n",
       "      <td>...</td>\n",
       "    </tr>\n",
       "    <tr>\n",
       "      <th>FFFDD3C72D23AF858D6E0ED92612370D</th>\n",
       "      <td>65.0</td>\n",
       "      <td>1.375000</td>\n",
       "      <td>58.0</td>\n",
       "      <td>1.9992</td>\n",
       "      <td>1.9974</td>\n",
       "      <td>170.984375</td>\n",
       "      <td>6.015625</td>\n",
       "    </tr>\n",
       "    <tr>\n",
       "      <th>FFFDDE284A73B29B320381487EC7DE9E</th>\n",
       "      <td>5.0</td>\n",
       "      <td>1.500000</td>\n",
       "      <td>9.0</td>\n",
       "      <td>1.9640</td>\n",
       "      <td>1.7034</td>\n",
       "      <td>168.250000</td>\n",
       "      <td>4.750000</td>\n",
       "    </tr>\n",
       "    <tr>\n",
       "      <th>FFFEB3EE2372807964F024707D50FB21</th>\n",
       "      <td>3.0</td>\n",
       "      <td>2.000000</td>\n",
       "      <td>1.0</td>\n",
       "      <td>1.1655</td>\n",
       "      <td>1.0772</td>\n",
       "      <td>121.500000</td>\n",
       "      <td>7.000000</td>\n",
       "    </tr>\n",
       "    <tr>\n",
       "      <th>FFFF4545AB232D81D0F9B208388BB7AA</th>\n",
       "      <td>8.0</td>\n",
       "      <td>1.571429</td>\n",
       "      <td>12.0</td>\n",
       "      <td>1.4137</td>\n",
       "      <td>1.9679</td>\n",
       "      <td>189.571429</td>\n",
       "      <td>10.714286</td>\n",
       "    </tr>\n",
       "    <tr>\n",
       "      <th>FFFF5A3D9CB0B40FF0FE6B95F05D26FE</th>\n",
       "      <td>28.0</td>\n",
       "      <td>1.037037</td>\n",
       "      <td>69.0</td>\n",
       "      <td>1.9728</td>\n",
       "      <td>1.9867</td>\n",
       "      <td>215.407407</td>\n",
       "      <td>4.740741</td>\n",
       "    </tr>\n",
       "  </tbody>\n",
       "</table>\n",
       "<p>73082 rows × 7 columns</p>\n",
       "</div>"
      ],
      "text/plain": [
       "                                  Review_Count  %_Verified  Total_Votes   \n",
       "asin                                                                      \n",
       "0000B049F5B33CD310EB1AB236E20191           5.0    1.500000          7.0  \\\n",
       "00018184A9EC4D270219A296B2580303          19.0    1.166667         46.0   \n",
       "000281A9CAC43FF1F335726A390636DA           5.0    1.750000          6.0   \n",
       "00030884DF109F325638A6BFD5B13CFF          30.0    1.586207         84.0   \n",
       "000325BA25966B5FC701D5D2B5DBA4E0           5.0    2.000000          8.0   \n",
       "...                                        ...         ...          ...   \n",
       "FFFDD3C72D23AF858D6E0ED92612370D          65.0    1.375000         58.0   \n",
       "FFFDDE284A73B29B320381487EC7DE9E           5.0    1.500000          9.0   \n",
       "FFFEB3EE2372807964F024707D50FB21           3.0    2.000000          1.0   \n",
       "FFFF4545AB232D81D0F9B208388BB7AA           8.0    1.571429         12.0   \n",
       "FFFF5A3D9CB0B40FF0FE6B95F05D26FE          28.0    1.037037         69.0   \n",
       "\n",
       "                                  Review_Avg_Sentiment  Summary_Avg_Sentiment   \n",
       "asin                                                                            \n",
       "0000B049F5B33CD310EB1AB236E20191                1.9233                 1.8902  \\\n",
       "00018184A9EC4D270219A296B2580303                1.8327                 1.9619   \n",
       "000281A9CAC43FF1F335726A390636DA                1.4019                 0.9484   \n",
       "00030884DF109F325638A6BFD5B13CFF                1.9969                 1.9945   \n",
       "000325BA25966B5FC701D5D2B5DBA4E0                1.8257                 0.6160   \n",
       "...                                                ...                    ...   \n",
       "FFFDD3C72D23AF858D6E0ED92612370D                1.9992                 1.9974   \n",
       "FFFDDE284A73B29B320381487EC7DE9E                1.9640                 1.7034   \n",
       "FFFEB3EE2372807964F024707D50FB21                1.1655                 1.0772   \n",
       "FFFF4545AB232D81D0F9B208388BB7AA                1.4137                 1.9679   \n",
       "FFFF5A3D9CB0B40FF0FE6B95F05D26FE                1.9728                 1.9867   \n",
       "\n",
       "                                  Review_Length  Summary_Length  \n",
       "asin                                                             \n",
       "0000B049F5B33CD310EB1AB236E20191      89.500000        5.500000  \n",
       "00018184A9EC4D270219A296B2580303     236.222222        6.166667  \n",
       "000281A9CAC43FF1F335726A390636DA     131.500000        4.500000  \n",
       "00030884DF109F325638A6BFD5B13CFF      80.655172        6.000000  \n",
       "000325BA25966B5FC701D5D2B5DBA4E0      92.500000        4.000000  \n",
       "...                                         ...             ...  \n",
       "FFFDD3C72D23AF858D6E0ED92612370D     170.984375        6.015625  \n",
       "FFFDDE284A73B29B320381487EC7DE9E     168.250000        4.750000  \n",
       "FFFEB3EE2372807964F024707D50FB21     121.500000        7.000000  \n",
       "FFFF4545AB232D81D0F9B208388BB7AA     189.571429       10.714286  \n",
       "FFFF5A3D9CB0B40FF0FE6B95F05D26FE     215.407407        4.740741  \n",
       "\n",
       "[73082 rows x 7 columns]"
      ]
     },
     "execution_count": 99,
     "metadata": {},
     "output_type": "execute_result"
    }
   ],
   "source": [
    "absx = merged_x.apply(lambda x: x+1)\n",
    "absx"
   ]
  },
  {
   "cell_type": "code",
   "execution_count": 100,
   "metadata": {},
   "outputs": [
    {
     "name": "stdout",
     "output_type": "stream",
     "text": [
      "(73082, 7)\n",
      "[  325.55917172    27.59582185   366.94666861    34.20794125\n",
      "    43.6649522  18508.04915683    63.08723227]\n",
      "['Review_Count' '%_Verified' 'Total_Votes' 'Review_Avg_Sentiment'\n",
      " 'Summary_Avg_Sentiment' 'Review_Length' 'Summary_Length']\n",
      "(73082, 7)\n"
     ]
    }
   ],
   "source": [
    "from sklearn.feature_selection import SelectKBest, chi2\n",
    "\n",
    "print(merged_x.shape)\n",
    "new_x = SelectKBest(chi2, k='all')\n",
    "out = new_x.fit_transform(absx, merged_y)\n",
    "print(new_x.scores_)\n",
    "print(new_x.feature_names_in_)\n",
    "print(out.shape)\n",
    "\n",
    "# SELECTKBEST: [3.25559172e+02 5.59255454e-03 2.75958219e+01 3.66946669e+02\n",
    "#  3.42079412e+01 4.36649522e+01 1.85080492e+04 6.30872323e+01\n",
    "#  7.68359033e-01 3.83305432e-01 1.04268202e-02]\n",
    "# -['Review_Count' '%_Image' '%_Verified' 'Total_Votes'\n",
    "#  'Review_Avg_Sentiment' 'Summary_Avg_Sentiment' 'Review_Length'\n",
    "#  'Summary_Length' 'Summary_Percent_Uppercase' 'Review_Percent_Uppercase'\n",
    "#  'Actual_Awesomeness']\n",
    "#-> RFECV: [1 3 1 1 1 1 1 1 1 2]\n",
    "\n",
    "# SO: \n",
    "# Seems like %_image, actual_awesomeness do the least. Percent_uppercases do the next worst.\n",
    "# -> lets try cutting them out!\n",
    "\n",
    "#->\n",
    "# [  325.55917172    27.59582185   366.94666861    34.20794125\n",
    "#     43.6649522  18508.04915683    63.08723227]\n",
    "# ['Review_Count' '%_Verified' 'Total_Votes' 'Review_Avg_Sentiment'\n",
    "#  'Summary_Avg_Sentiment' 'Review_Length' 'Summary_Length']\n",
    "# -> RFECV2: [4 1 5 1 1 3 2]\n",
    "#"
   ]
  },
  {
   "attachments": {},
   "cell_type": "markdown",
   "metadata": {},
   "source": [
    "ROC Curve"
   ]
  },
  {
   "cell_type": "code",
   "execution_count": 130,
   "metadata": {},
   "outputs": [
    {
     "data": {
      "image/png": "[encoded data removed]",
      "text/plain": [
       "<Figure size 720x720 with 1 Axes>"
      ]
     },
     "metadata": {
      "needs_background": "dark"
     },
     "output_type": "display_data"
    }
   ],
   "source": [
    "y_pred = boosted_model.fit(x_train, y_train).predict(x_test)\n",
    "\n",
    "fpr, tpr, thresholds = metrics.roc_curve(y_test,y_pred)\n",
    "AUROC = metrics.auc(fpr, tpr)\n",
    "\n",
    "disp = metrics.RocCurveDisplay(fpr=fpr,tpr=tpr,roc_auc=AUROC)\n",
    "\n",
    "\n",
    "\n",
    "fig = plt.figure()\n",
    "ax = fig.add_subplot()\n",
    "ax.tick_params(axis='x', colors='white') \n",
    "ax.tick_params(axis='y', colors='white') \n",
    "ax.spines['left'].set_color('white') \n",
    "ax.spines['bottom'].set_color('white') \n",
    "\n",
    "plt.rcParams['figure.figsize'] = [10, 10]\n",
    "plt.xlabel(\"X\",fontsize=20, color='white')\n",
    "plt.ylabel(\"Y\",fontsize=20, color='white')\n",
    "plt.title(\"Area Under ROC Curve\", fontsize = 20, color='white')\n",
    "\n",
    "disp.plot(ax)\n",
    "\n",
    "plt.show()"
   ]
  }
 ],
 "metadata": {
  "kernelspec": {
   "display_name": "Python 3",
   "language": "python",
   "name": "python3"
  },
  "language_info": {
   "codemirror_mode": {
    "name": "ipython",
    "version": 3
   },
   "file_extension": ".py",
   "mimetype": "text/x-python",
   "name": "python",
   "nbconvert_exporter": "python",
   "pygments_lexer": "ipython3",
   "version": "3.10.1"
  },
  "orig_nbformat": 4,
  "vscode": {
   "interpreter": {
    "hash": "aee8b7b246df8f9039afb4144a1f6fd8d2ca17a180786b69acc140d282b71a49"
   }
  }
 },
 "nbformat": 4,
 "nbformat_minor": 2
}
