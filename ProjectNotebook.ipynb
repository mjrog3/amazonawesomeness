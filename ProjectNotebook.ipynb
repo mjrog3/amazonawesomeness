{
 "cells": [
  {
   "attachments": {},
   "cell_type": "markdown",
   "metadata": {},
   "source": [
    "**Imports**\n",
    "\n",
    "Data"
   ]
  },
  {
   "cell_type": "code",
   "execution_count": 3,
   "metadata": {},
   "outputs": [],
   "source": [
    "#enter the path to get to your CDs_and_Vinyl folder below\n",
    "PATH_TO_CDS = '../devided_dataset_v2/CDs_and_Vinyl/'\n",
    "\n",
    "import pandas as pd\n",
    "\n",
    "# Open and load json training files\n",
    "x = pd.read_json(PATH_TO_CDS + 'train/review_training.json')\n",
    "y = pd.read_json(PATH_TO_CDS + 'train/product_training.json')"
   ]
  },
  {
   "attachments": {},
   "cell_type": "markdown",
   "metadata": {},
   "source": [
    "Other"
   ]
  },
  {
   "cell_type": "code",
   "execution_count": 278,
   "metadata": {},
   "outputs": [],
   "source": [
    "import numpy as np\n",
    "from nltk import sentiment\n",
    "from nltk.corpus import stopwords\n",
    "from nltk.tokenize import word_tokenize\n",
    "import string\n",
    "import re\n",
    "from sklearn.model_selection import cross_validate\n",
    "from sklearn import metrics\n",
    "import matplotlib.pyplot as plt\n",
    "from sklearn.model_selection import train_test_split"
   ]
  },
  {
   "attachments": {},
   "cell_type": "markdown",
   "metadata": {},
   "source": [
    "PATCH TO SPEED UP (ONLY IF INTEL CHIP) \n",
    "\n",
    "lmao rip daniel\n",
    "\n",
    "thanks guys -daniel"
   ]
  },
  {
   "cell_type": "code",
   "execution_count": 279,
   "metadata": {},
   "outputs": [
    {
     "name": "stderr",
     "output_type": "stream",
     "text": [
      "Intel(R) Extension for Scikit-learn* enabled (https://github.com/intel/scikit-learn-intelex)\n"
     ]
    }
   ],
   "source": [
    "from sklearnex import patch_sklearn \n",
    "\n",
    "patch_sklearn()"
   ]
  },
  {
   "cell_type": "markdown",
   "metadata": {},
   "source": [
    "**Pre Processing**"
   ]
  },
  {
   "cell_type": "code",
   "execution_count": null,
   "metadata": {},
   "outputs": [],
   "source": [
    "x #770786 entries\n",
    "y #073082 entries"
   ]
  },
  {
   "attachments": {},
   "cell_type": "markdown",
   "metadata": {},
   "source": [
    "# Feature creation "
   ]
  },
  {
   "attachments": {},
   "cell_type": "markdown",
   "metadata": {},
   "source": [
    "Making a sample set to test features:"
   ]
  },
  {
   "cell_type": "code",
   "execution_count": 280,
   "metadata": {},
   "outputs": [
    {
     "data": {
      "text/html": [
       "<div>\n",
       "<style scoped>\n",
       "    .dataframe tbody tr th:only-of-type {\n",
       "        vertical-align: middle;\n",
       "    }\n",
       "\n",
       "    .dataframe tbody tr th {\n",
       "        vertical-align: top;\n",
       "    }\n",
       "\n",
       "    .dataframe thead th {\n",
       "        text-align: right;\n",
       "    }\n",
       "</style>\n",
       "<table border=\"1\" class=\"dataframe\">\n",
       "  <thead>\n",
       "    <tr style=\"text-align: right;\">\n",
       "      <th></th>\n",
       "      <th>asin</th>\n",
       "      <th>reviewerID</th>\n",
       "      <th>unixReviewTime</th>\n",
       "      <th>vote</th>\n",
       "      <th>verified</th>\n",
       "      <th>reviewTime</th>\n",
       "      <th>style</th>\n",
       "      <th>reviewerName</th>\n",
       "      <th>reviewText</th>\n",
       "      <th>summary</th>\n",
       "      <th>image</th>\n",
       "    </tr>\n",
       "  </thead>\n",
       "  <tbody>\n",
       "    <tr>\n",
       "      <th>0</th>\n",
       "      <td>6673F1740E03573BCD64238FE711FC69</td>\n",
       "      <td>9C856D4A18E1355783B3B28B7ECC1848</td>\n",
       "      <td>1451520000</td>\n",
       "      <td>0</td>\n",
       "      <td>True</td>\n",
       "      <td>12 31, 2015</td>\n",
       "      <td>{'Format:': ' MP3 Music'}</td>\n",
       "      <td>8D88BB79AAC50277AEE82FCFD77F6744</td>\n",
       "      <td>Finding the Beatles all over again - and bette...</td>\n",
       "      <td>I sit listening - with my jaw to the floor - H...</td>\n",
       "      <td>None</td>\n",
       "    </tr>\n",
       "    <tr>\n",
       "      <th>1</th>\n",
       "      <td>690819436E20BB31657AF6B58B984DD4</td>\n",
       "      <td>6E9ABBD26A27C2B2851D1EC34A01CBDC</td>\n",
       "      <td>1113523200</td>\n",
       "      <td>0</td>\n",
       "      <td>False</td>\n",
       "      <td>04 15, 2005</td>\n",
       "      <td>{'Format:': ' Audio CD'}</td>\n",
       "      <td>8DC0611245A871AC51BBEEBB85F33A58</td>\n",
       "      <td>These guys can sing!  Such classic tunes...poi...</td>\n",
       "      <td>Under Appreciated....</td>\n",
       "      <td>None</td>\n",
       "    </tr>\n",
       "    <tr>\n",
       "      <th>2</th>\n",
       "      <td>A680D4753F0CEA2252C168A6ACB2B623</td>\n",
       "      <td>B637C3C93E61094474710F456928BE9F</td>\n",
       "      <td>1126137600</td>\n",
       "      <td>0</td>\n",
       "      <td>False</td>\n",
       "      <td>09 8, 2005</td>\n",
       "      <td>None</td>\n",
       "      <td>2259386624CFA0EC53A75A50A9BB57A5</td>\n",
       "      <td>Snoop Doggy Dogg made a classic album, DoggySt...</td>\n",
       "      <td>DoggyStyle</td>\n",
       "      <td>None</td>\n",
       "    </tr>\n",
       "    <tr>\n",
       "      <th>3</th>\n",
       "      <td>F4A966F1FA340B16651D676BC246D227</td>\n",
       "      <td>AA7918E9410D650A076221C7B2934A09</td>\n",
       "      <td>954979200</td>\n",
       "      <td>0</td>\n",
       "      <td>False</td>\n",
       "      <td>04 6, 2000</td>\n",
       "      <td>{'Format:': ' Audio CD'}</td>\n",
       "      <td>7A65A155C993535BC99CBCB39E7161B5</td>\n",
       "      <td>Stevie Nicks Has had Her Moments. I Like Some ...</td>\n",
       "      <td>Pretty Good but a Bit Dated</td>\n",
       "      <td>None</td>\n",
       "    </tr>\n",
       "    <tr>\n",
       "      <th>4</th>\n",
       "      <td>EF59DAF0C00319A48D4784266FD157EE</td>\n",
       "      <td>2293C9B7950A3356B95828419A677720</td>\n",
       "      <td>1477958400</td>\n",
       "      <td>0</td>\n",
       "      <td>True</td>\n",
       "      <td>11 1, 2016</td>\n",
       "      <td>{'Format:': ' Audio CD'}</td>\n",
       "      <td>C69A09446009C500B1364B7DB5510497</td>\n",
       "      <td>Great cd.</td>\n",
       "      <td>Five Stars</td>\n",
       "      <td>None</td>\n",
       "    </tr>\n",
       "    <tr>\n",
       "      <th>...</th>\n",
       "      <td>...</td>\n",
       "      <td>...</td>\n",
       "      <td>...</td>\n",
       "      <td>...</td>\n",
       "      <td>...</td>\n",
       "      <td>...</td>\n",
       "      <td>...</td>\n",
       "      <td>...</td>\n",
       "      <td>...</td>\n",
       "      <td>...</td>\n",
       "      <td>...</td>\n",
       "    </tr>\n",
       "    <tr>\n",
       "      <th>1995</th>\n",
       "      <td>14673A3D627445E270EBD9D11D2F70DD</td>\n",
       "      <td>9C84E3EFF58B759FE040B8938E6BD3DE</td>\n",
       "      <td>1460764800</td>\n",
       "      <td>0</td>\n",
       "      <td>True</td>\n",
       "      <td>04 16, 2016</td>\n",
       "      <td>{'Format:': ' Audio CD'}</td>\n",
       "      <td>1BBF7C11163C6DC130DD1EE87152CFD9</td>\n",
       "      <td>Same review as Vol. 1:  Super jamming!  Inspir...</td>\n",
       "      <td>Super jamming! Inspired me to get my guitar ou...</td>\n",
       "      <td>None</td>\n",
       "    </tr>\n",
       "    <tr>\n",
       "      <th>1996</th>\n",
       "      <td>35A0CA6AE8C14595607D38DAC6525752</td>\n",
       "      <td>3ED9CD1EC55F0D896F93DA465C4712A9</td>\n",
       "      <td>1420243200</td>\n",
       "      <td>0</td>\n",
       "      <td>True</td>\n",
       "      <td>01 3, 2015</td>\n",
       "      <td>{'Format:': ' Audio CD'}</td>\n",
       "      <td>17AD55A9B8384777496330D23E59D520</td>\n",
       "      <td>WONDERFUL PURCHASE, \"Linda Rondstadt: The Coll...</td>\n",
       "      <td>WONDERFUL PURCHASE, \"Linda Rondstadt</td>\n",
       "      <td>None</td>\n",
       "    </tr>\n",
       "    <tr>\n",
       "      <th>1997</th>\n",
       "      <td>1C2F7451F06F0C2958694833095CB947</td>\n",
       "      <td>BA489C468556F643565413143979D571</td>\n",
       "      <td>1388966400</td>\n",
       "      <td>0</td>\n",
       "      <td>True</td>\n",
       "      <td>01 6, 2014</td>\n",
       "      <td>{'Format:': ' Audio CD'}</td>\n",
       "      <td>429889A95D8338A1312654487D673DAA</td>\n",
       "      <td>THIS MUSIC IS NICE. I MEAN WHAT MORE CAN I SAY...</td>\n",
       "      <td>NICE MUSIC</td>\n",
       "      <td>None</td>\n",
       "    </tr>\n",
       "    <tr>\n",
       "      <th>1998</th>\n",
       "      <td>C3D898B23687DE2EBB9350FE17F8CD24</td>\n",
       "      <td>FCF6C84C748B7E345693A45636118FAB</td>\n",
       "      <td>1127174400</td>\n",
       "      <td>0</td>\n",
       "      <td>False</td>\n",
       "      <td>09 20, 2005</td>\n",
       "      <td>{'Format:': ' Audio CD'}</td>\n",
       "      <td>3EA8FAFD8BB387929FBB53DDF4C8DAF9</td>\n",
       "      <td>I  loved listening to the music of Barbara Str...</td>\n",
       "      <td>Barbara and Barry make musical magic together</td>\n",
       "      <td>None</td>\n",
       "    </tr>\n",
       "    <tr>\n",
       "      <th>1999</th>\n",
       "      <td>C9C1C13DAEBB5E688BE6E3B81C1111D6</td>\n",
       "      <td>98C75F3AC4F6AAFD0585CB2EBDB1C81F</td>\n",
       "      <td>1517270400</td>\n",
       "      <td>0</td>\n",
       "      <td>True</td>\n",
       "      <td>01 30, 2018</td>\n",
       "      <td>{'Format:': ' Audio CD'}</td>\n",
       "      <td>B46E2A2B5F3F541CC9D326CB7B2EAA50</td>\n",
       "      <td>Great music</td>\n",
       "      <td>Five Stars</td>\n",
       "      <td>None</td>\n",
       "    </tr>\n",
       "  </tbody>\n",
       "</table>\n",
       "<p>2000 rows × 11 columns</p>\n",
       "</div>"
      ],
      "text/plain": [
       "                                  asin                        reviewerID  \\\n",
       "0     6673F1740E03573BCD64238FE711FC69  9C856D4A18E1355783B3B28B7ECC1848   \n",
       "1     690819436E20BB31657AF6B58B984DD4  6E9ABBD26A27C2B2851D1EC34A01CBDC   \n",
       "2     A680D4753F0CEA2252C168A6ACB2B623  B637C3C93E61094474710F456928BE9F   \n",
       "3     F4A966F1FA340B16651D676BC246D227  AA7918E9410D650A076221C7B2934A09   \n",
       "4     EF59DAF0C00319A48D4784266FD157EE  2293C9B7950A3356B95828419A677720   \n",
       "...                                ...                               ...   \n",
       "1995  14673A3D627445E270EBD9D11D2F70DD  9C84E3EFF58B759FE040B8938E6BD3DE   \n",
       "1996  35A0CA6AE8C14595607D38DAC6525752  3ED9CD1EC55F0D896F93DA465C4712A9   \n",
       "1997  1C2F7451F06F0C2958694833095CB947  BA489C468556F643565413143979D571   \n",
       "1998  C3D898B23687DE2EBB9350FE17F8CD24  FCF6C84C748B7E345693A45636118FAB   \n",
       "1999  C9C1C13DAEBB5E688BE6E3B81C1111D6  98C75F3AC4F6AAFD0585CB2EBDB1C81F   \n",
       "\n",
       "      unixReviewTime  vote  verified   reviewTime                      style  \\\n",
       "0         1451520000     0      True  12 31, 2015  {'Format:': ' MP3 Music'}   \n",
       "1         1113523200     0     False  04 15, 2005   {'Format:': ' Audio CD'}   \n",
       "2         1126137600     0     False   09 8, 2005                       None   \n",
       "3          954979200     0     False   04 6, 2000   {'Format:': ' Audio CD'}   \n",
       "4         1477958400     0      True   11 1, 2016   {'Format:': ' Audio CD'}   \n",
       "...              ...   ...       ...          ...                        ...   \n",
       "1995      1460764800     0      True  04 16, 2016   {'Format:': ' Audio CD'}   \n",
       "1996      1420243200     0      True   01 3, 2015   {'Format:': ' Audio CD'}   \n",
       "1997      1388966400     0      True   01 6, 2014   {'Format:': ' Audio CD'}   \n",
       "1998      1127174400     0     False  09 20, 2005   {'Format:': ' Audio CD'}   \n",
       "1999      1517270400     0      True  01 30, 2018   {'Format:': ' Audio CD'}   \n",
       "\n",
       "                          reviewerName  \\\n",
       "0     8D88BB79AAC50277AEE82FCFD77F6744   \n",
       "1     8DC0611245A871AC51BBEEBB85F33A58   \n",
       "2     2259386624CFA0EC53A75A50A9BB57A5   \n",
       "3     7A65A155C993535BC99CBCB39E7161B5   \n",
       "4     C69A09446009C500B1364B7DB5510497   \n",
       "...                                ...   \n",
       "1995  1BBF7C11163C6DC130DD1EE87152CFD9   \n",
       "1996  17AD55A9B8384777496330D23E59D520   \n",
       "1997  429889A95D8338A1312654487D673DAA   \n",
       "1998  3EA8FAFD8BB387929FBB53DDF4C8DAF9   \n",
       "1999  B46E2A2B5F3F541CC9D326CB7B2EAA50   \n",
       "\n",
       "                                             reviewText  \\\n",
       "0     Finding the Beatles all over again - and bette...   \n",
       "1     These guys can sing!  Such classic tunes...poi...   \n",
       "2     Snoop Doggy Dogg made a classic album, DoggySt...   \n",
       "3     Stevie Nicks Has had Her Moments. I Like Some ...   \n",
       "4                                             Great cd.   \n",
       "...                                                 ...   \n",
       "1995  Same review as Vol. 1:  Super jamming!  Inspir...   \n",
       "1996  WONDERFUL PURCHASE, \"Linda Rondstadt: The Coll...   \n",
       "1997  THIS MUSIC IS NICE. I MEAN WHAT MORE CAN I SAY...   \n",
       "1998  I  loved listening to the music of Barbara Str...   \n",
       "1999                                        Great music   \n",
       "\n",
       "                                                summary image  \n",
       "0     I sit listening - with my jaw to the floor - H...  None  \n",
       "1                                 Under Appreciated....  None  \n",
       "2                                            DoggyStyle  None  \n",
       "3                           Pretty Good but a Bit Dated  None  \n",
       "4                                            Five Stars  None  \n",
       "...                                                 ...   ...  \n",
       "1995  Super jamming! Inspired me to get my guitar ou...  None  \n",
       "1996               WONDERFUL PURCHASE, \"Linda Rondstadt  None  \n",
       "1997                                         NICE MUSIC  None  \n",
       "1998      Barbara and Barry make musical magic together  None  \n",
       "1999                                         Five Stars  None  \n",
       "\n",
       "[2000 rows x 11 columns]"
      ]
     },
     "execution_count": 280,
     "metadata": {},
     "output_type": "execute_result"
    }
   ],
   "source": [
    "#ts = test sample 2 thousand long\n",
    "ts = x[:2000]\n",
    "ts"
   ]
  },
  {
   "cell_type": "code",
   "execution_count": 281,
   "metadata": {},
   "outputs": [
    {
     "data": {
      "text/plain": [
       "asin\n",
       "0000B049F5B33CD310EB1AB236E20191    1.296583e+09\n",
       "00018184A9EC4D270219A296B2580303    1.111282e+09\n",
       "000281A9CAC43FF1F335726A390636DA    1.254960e+09\n",
       "00030884DF109F325638A6BFD5B13CFF    1.315392e+09\n",
       "000325BA25966B5FC701D5D2B5DBA4E0    1.363802e+09\n",
       "                                        ...     \n",
       "FFFDD3C72D23AF858D6E0ED92612370D    1.258704e+09\n",
       "FFFDDE284A73B29B320381487EC7DE9E    1.353758e+09\n",
       "FFFEB3EE2372807964F024707D50FB21    1.349050e+09\n",
       "FFFF4545AB232D81D0F9B208388BB7AA    1.427846e+09\n",
       "FFFF5A3D9CB0B40FF0FE6B95F05D26FE    1.141706e+09\n",
       "Name: unixReviewTime, Length: 73082, dtype: float64"
      ]
     },
     "execution_count": 281,
     "metadata": {},
     "output_type": "execute_result"
    }
   ],
   "source": [
    "unixReviewMean = x.groupby('asin')['unixReviewTime'].mean()\n",
    "unixReviewMean"
   ]
  },
  {
   "cell_type": "code",
   "execution_count": null,
   "metadata": {},
   "outputs": [],
   "source": [
    "dropUnverified.groupby('asin')['unixReviewTime'].mean() #63401 entries!"
   ]
  },
  {
   "attachments": {},
   "cell_type": "markdown",
   "metadata": {},
   "source": [
    "Making a single feature ex"
   ]
  },
  {
   "cell_type": "code",
   "execution_count": 6,
   "metadata": {},
   "outputs": [],
   "source": [
    "dropUnverified = x[x.verified == True]\n",
    "reviewCount = x.groupby('asin')[\"reviewerID\"].count()\n",
    "reviewCount = reviewCount.rename(\"Review_Count\")"
   ]
  },
  {
   "attachments": {},
   "cell_type": "markdown",
   "metadata": {},
   "source": [
    "Percent verified"
   ]
  },
  {
   "cell_type": "code",
   "execution_count": 7,
   "metadata": {},
   "outputs": [],
   "source": [
    "percent_verified = dropUnverified.groupby(\"asin\")[\"reviewerID\"].count()\n",
    "percent_verified = percent_verified/reviewCount\n",
    "percent_verified = percent_verified.apply(lambda x: x if x > 0  else 0)\n",
    "percent_verified = percent_verified.rename(\"%_Verified\")"
   ]
  },
  {
   "cell_type": "code",
   "execution_count": null,
   "metadata": {},
   "outputs": [],
   "source": [
    "x #73082"
   ]
  },
  {
   "attachments": {},
   "cell_type": "markdown",
   "metadata": {},
   "source": [
    "dropping bots by time of post\n",
    "\n",
    "All the comments are encoded with the date only, no time, so this is not possible"
   ]
  },
  {
   "cell_type": "code",
   "execution_count": null,
   "metadata": {},
   "outputs": [],
   "source": [
    "# test1 = x[x.unixReviewTime % 100 != 0]\n",
    "# test1"
   ]
  },
  {
   "attachments": {},
   "cell_type": "markdown",
   "metadata": {},
   "source": [
    "total number of votes across reviews"
   ]
  },
  {
   "cell_type": "code",
   "execution_count": 8,
   "metadata": {},
   "outputs": [
    {
     "data": {
      "text/plain": [
       "asin\n",
       "0000B049F5B33CD310EB1AB236E20191     6.0\n",
       "00018184A9EC4D270219A296B2580303    45.0\n",
       "000281A9CAC43FF1F335726A390636DA     5.0\n",
       "00030884DF109F325638A6BFD5B13CFF    83.0\n",
       "000325BA25966B5FC701D5D2B5DBA4E0     7.0\n",
       "                                    ... \n",
       "FFFDD3C72D23AF858D6E0ED92612370D    57.0\n",
       "FFFDDE284A73B29B320381487EC7DE9E     8.0\n",
       "FFFEB3EE2372807964F024707D50FB21     0.0\n",
       "FFFF4545AB232D81D0F9B208388BB7AA    11.0\n",
       "FFFF5A3D9CB0B40FF0FE6B95F05D26FE    68.0\n",
       "Name: Total_Votes, Length: 73082, dtype: float64"
      ]
     },
     "execution_count": 8,
     "metadata": {},
     "output_type": "execute_result"
    }
   ],
   "source": [
    "x_copy = x.copy(deep=True)\n",
    "total_review_num = x_copy.vote\n",
    "total_review_num = total_review_num.apply(lambda x: float(x.replace(\",\", \"\")) if type(x) == str  else 0)\n",
    "total_review_num = total_review_num.rename(\"vote\").to_frame()\n",
    "x_copy[\"vote\"] = total_review_num[\"vote\"]\n",
    "total_votes = x_copy.groupby('asin')[\"vote\"].sum(\"vote\")\n",
    "total_votes = total_votes.rename(\"Total_Votes\")\n",
    "total_votes\n",
    "\n"
   ]
  },
  {
   "attachments": {},
   "cell_type": "markdown",
   "metadata": {},
   "source": [
    "groupby() testing"
   ]
  },
  {
   "cell_type": "code",
   "execution_count": null,
   "metadata": {},
   "outputs": [],
   "source": [
    "# tests = range(5)\n",
    "# unique_items = z[\"asin\"].nunique()\n",
    "# print(\"ui: \", unique_items)\n",
    "\n",
    "# asin = z[\"asin\"].values\n",
    "# print(\"asin: \",asin)\n",
    "# avg_votes = np.zeros(len(asin))\n",
    "\n",
    "# for i in tests: # eventually all\n",
    "#     item = zgrouped.get_group(asin[i])\n",
    "#     avg_votes[i] = item[\"vote\"].fillna(0).astype(int).mean()\n",
    "\n",
    "# print(\"avg_votes: \", avg_votes[0:5])"
   ]
  },
  {
   "attachments": {},
   "cell_type": "markdown",
   "metadata": {},
   "source": [
    "Percent of reviews with images"
   ]
  },
  {
   "cell_type": "code",
   "execution_count": 9,
   "metadata": {},
   "outputs": [],
   "source": [
    "#total = ts.groupby('asin')[\"reviewerID\"].count()\n",
    "with_image = x[x.image.astype('string') != \"None\"]\n",
    "with_image = with_image.groupby('asin')[\"image\"].count()\n",
    "#print(with_image)\n",
    "#print(total)\n",
    "with_image_percentage = with_image/reviewCount\n",
    "#with_image_percentage = with_image_percentage[with_image_percentage > 0]\n",
    "with_image_percentage = with_image_percentage.apply(lambda x: x if x > 0  else 0)\n",
    "# returning rn with NaN instead of 0, not sure if thats fine or not??\n",
    "\n",
    "#with_image_percentage = with_image_percentage[with_image_percentage > 0]\n",
    "with_image_percentage = with_image_percentage.rename(\"%_Image\")"
   ]
  },
  {
   "attachments": {},
   "cell_type": "markdown",
   "metadata": {},
   "source": [
    "Making a feature vector\n",
    "currently has number of reviews, percentage of reviews with images, percentage of reviews that are verified, and total votes across all reviews"
   ]
  },
  {
   "cell_type": "code",
   "execution_count": null,
   "metadata": {},
   "outputs": [],
   "source": [
    "# feature_vector = reviewCount.rename(\"Review_NUM\")\n",
    "# feature_vector = feature_vector.to_frame().merge(with_image_percentage.rename(\"Image_PC\").to_frame(), left_index=True, right_index=True)\n",
    "# feature_vector = feature_vector.merge(percent_verified.rename(\"Verified_PC\").to_frame(), left_index=True, right_index=True)\n",
    "# # fxx = feature_vector[feature_vector.Image_PC > 0]\n",
    "# # fxx = \n",
    "# feature_vector = feature_vector.merge(total_votes.rename(\"Total_Votes\").to_frame(), left_index=True, right_index=True)\n",
    "# feature_vector"
   ]
  },
  {
   "attachments": {},
   "cell_type": "markdown",
   "metadata": {},
   "source": [
    "Since I commented out the feature vector, here are the names of each individual feature:\n",
    "\n",
    "reviewCount\n",
    "\n",
    "with_image_percentage\n",
    "\n",
    "percent_verified\n",
    "\n",
    "total_votes\n",
    "\n",
    "\n",
    "Hope this clears it up. lmk if its confusing -Daniel"
   ]
  },
  {
   "attachments": {},
   "cell_type": "markdown",
   "metadata": {},
   "source": [
    "# Text Analysis"
   ]
  },
  {
   "cell_type": "code",
   "execution_count": null,
   "metadata": {},
   "outputs": [],
   "source": [
    "testdata = x.groupby(\"asin\").get_group(\"0000B049F5B33CD310EB1AB236E20191\")\n",
    "\n",
    "# np.mean(len(str(testdata[\"reviewText\"]).split()))"
   ]
  },
  {
   "attachments": {},
   "cell_type": "markdown",
   "metadata": {},
   "source": [
    "Length of Reviews Feature"
   ]
  },
  {
   "cell_type": "code",
   "execution_count": 11,
   "metadata": {},
   "outputs": [],
   "source": [
    "reviewlength = x.groupby('asin')[\"reviewText\"].apply(lambda x: x.str.split().str.len().mean())\n",
    "reviewlength = reviewlength.fillna(0).rename(\"Review_Length\")\n",
    "\n",
    "summarylength = x.groupby('asin')[\"summary\"].apply(lambda x: x.str.split().str.len().mean())\n",
    "summarylength = summarylength.fillna(0).rename(\"Summary_Length\")\n"
   ]
  },
  {
   "cell_type": "markdown",
   "metadata": {},
   "source": [
    "Percentage Uppercase Feature:"
   ]
  },
  {
   "cell_type": "code",
   "execution_count": null,
   "metadata": {},
   "outputs": [],
   "source": [
    "# def count_cap(str):\n",
    "#     stripped = ''.join(str.split())\n",
    "#     return sum(c.isupper() for c in ''.join(stripped))/len(stripped)\n",
    "\n",
    "RpercentCap = x.groupby('asin')[\"reviewText\"].apply(lambda x: (x.str.count(\"[A-Z]\")/x.str.len()).mean())\n",
    "RpercentCap = RpercentCap.fillna(0).rename(\"Review_Percent_Uppercase\")\n",
    "\n",
    "SpercentCap = x.groupby('asin')[\"summary\"].apply(lambda x: (x.str.count(\"[A-Z]\")/x.str.len()).mean())\n",
    "SpercentCap = SpercentCap.fillna(0).rename(\"Summary_Percent_Uppercase\")\n"
   ]
  },
  {
   "cell_type": "markdown",
   "metadata": {},
   "source": [
    "Actual Awesomeness Feature: # times the word \"awesome\" is used per review"
   ]
  },
  {
   "cell_type": "code",
   "execution_count": null,
   "metadata": {},
   "outputs": [],
   "source": [
    "actualAwesomeness = x.groupby('asin')[\"reviewText\"].apply(lambda x: (x.str.count(\"[Aa]wesome\")).mean())\n",
    "actualAwesomeness = actualAwesomeness.fillna(0).rename(\"Actual_Awesomeness\")"
   ]
  },
  {
   "attachments": {},
   "cell_type": "markdown",
   "metadata": {},
   "source": [
    "# Sentiment Analysis"
   ]
  },
  {
   "cell_type": "code",
   "execution_count": 282,
   "metadata": {},
   "outputs": [],
   "source": [
    "## Helper function for sentiment\n",
    "def review_sentiment(sia,text):\n",
    "    tokens = word_tokenize(text)\n",
    "    filtered_text = \" \".join([w for w in tokens if w not in stopwords.words(\"English\") and w not in string.punctuation])\n",
    "    # print(filtered_text)\n",
    "    return sia.polarity_scores(filtered_text)[\"compound\"]\n",
    "\n",
    "## just some examples to gut check\n",
    "# print(review_sentiment(\"Ugh, what a terrible, horrible, no good, very bad day\"))\n",
    "# print(review_sentiment(\"I went to the store today\"))\n",
    "# print(review_sentiment(\"I absolutely love my favorite best friend\"))"
   ]
  },
  {
   "attachments": {},
   "cell_type": "markdown",
   "metadata": {},
   "source": [
    "apply sentiment analysis to data"
   ]
  },
  {
   "cell_type": "code",
   "execution_count": 283,
   "metadata": {},
   "outputs": [
    {
     "ename": "KeyboardInterrupt",
     "evalue": "",
     "output_type": "error",
     "traceback": [
      "\u001b[0;31m---------------------------------------------------------------------------\u001b[0m",
      "\u001b[0;31mKeyboardInterrupt\u001b[0m                         Traceback (most recent call last)",
      "\u001b[0;32m/var/folders/9p/sh_j3mrj2z374f2jzhy0z5mm0000gn/T/ipykernel_24474/931239540.py\u001b[0m in \u001b[0;36m<module>\u001b[0;34m\u001b[0m\n\u001b[1;32m      1\u001b[0m \u001b[0msia\u001b[0m \u001b[0;34m=\u001b[0m \u001b[0msentiment\u001b[0m\u001b[0;34m.\u001b[0m\u001b[0mSentimentIntensityAnalyzer\u001b[0m\u001b[0;34m(\u001b[0m\u001b[0;34m)\u001b[0m\u001b[0;34m\u001b[0m\u001b[0;34m\u001b[0m\u001b[0m\n\u001b[0;32m----> 2\u001b[0;31m \u001b[0mRavgSentiment\u001b[0m \u001b[0;34m=\u001b[0m \u001b[0mx\u001b[0m\u001b[0;34m.\u001b[0m\u001b[0mgroupby\u001b[0m\u001b[0;34m(\u001b[0m\u001b[0;34m'asin'\u001b[0m\u001b[0;34m)\u001b[0m\u001b[0;34m[\u001b[0m\u001b[0;34m\"reviewText\"\u001b[0m\u001b[0;34m]\u001b[0m\u001b[0;34m.\u001b[0m\u001b[0mapply\u001b[0m\u001b[0;34m(\u001b[0m\u001b[0;32mlambda\u001b[0m \u001b[0mx\u001b[0m\u001b[0;34m:\u001b[0m \u001b[0mnp\u001b[0m\u001b[0;34m.\u001b[0m\u001b[0mmean\u001b[0m\u001b[0;34m(\u001b[0m\u001b[0mreview_sentiment\u001b[0m\u001b[0;34m(\u001b[0m\u001b[0msia\u001b[0m\u001b[0;34m,\u001b[0m\u001b[0mx\u001b[0m\u001b[0;34m.\u001b[0m\u001b[0mto_string\u001b[0m\u001b[0;34m(\u001b[0m\u001b[0;34m)\u001b[0m\u001b[0;34m)\u001b[0m\u001b[0;34m)\u001b[0m\u001b[0;34m)\u001b[0m\u001b[0;34m\u001b[0m\u001b[0;34m\u001b[0m\u001b[0m\n\u001b[0m\u001b[1;32m      3\u001b[0m \u001b[0mRavgSentiment\u001b[0m \u001b[0;34m=\u001b[0m \u001b[0mRavgSentiment\u001b[0m\u001b[0;34m.\u001b[0m\u001b[0mfillna\u001b[0m\u001b[0;34m(\u001b[0m\u001b[0;36m0\u001b[0m\u001b[0;34m)\u001b[0m\u001b[0;34m.\u001b[0m\u001b[0mrename\u001b[0m\u001b[0;34m(\u001b[0m\u001b[0;34m\"Review_Avg_Sentiment\"\u001b[0m\u001b[0;34m)\u001b[0m\u001b[0;34m\u001b[0m\u001b[0;34m\u001b[0m\u001b[0m\n\u001b[1;32m      4\u001b[0m \u001b[0;34m\u001b[0m\u001b[0m\n\u001b[1;32m      5\u001b[0m \u001b[0msia\u001b[0m \u001b[0;34m=\u001b[0m \u001b[0msentiment\u001b[0m\u001b[0;34m.\u001b[0m\u001b[0mSentimentIntensityAnalyzer\u001b[0m\u001b[0;34m(\u001b[0m\u001b[0;34m)\u001b[0m\u001b[0;34m\u001b[0m\u001b[0;34m\u001b[0m\u001b[0m\n",
      "\u001b[0;32m~/opt/anaconda3/lib/python3.9/site-packages/pandas/core/groupby/generic.py\u001b[0m in \u001b[0;36mapply\u001b[0;34m(self, func, *args, **kwargs)\u001b[0m\n\u001b[1;32m    221\u001b[0m     )\n\u001b[1;32m    222\u001b[0m     \u001b[0;32mdef\u001b[0m \u001b[0mapply\u001b[0m\u001b[0;34m(\u001b[0m\u001b[0mself\u001b[0m\u001b[0;34m,\u001b[0m \u001b[0mfunc\u001b[0m\u001b[0;34m,\u001b[0m \u001b[0;34m*\u001b[0m\u001b[0margs\u001b[0m\u001b[0;34m,\u001b[0m \u001b[0;34m**\u001b[0m\u001b[0mkwargs\u001b[0m\u001b[0;34m)\u001b[0m\u001b[0;34m:\u001b[0m\u001b[0;34m\u001b[0m\u001b[0;34m\u001b[0m\u001b[0m\n\u001b[0;32m--> 223\u001b[0;31m         \u001b[0;32mreturn\u001b[0m \u001b[0msuper\u001b[0m\u001b[0;34m(\u001b[0m\u001b[0;34m)\u001b[0m\u001b[0;34m.\u001b[0m\u001b[0mapply\u001b[0m\u001b[0;34m(\u001b[0m\u001b[0mfunc\u001b[0m\u001b[0;34m,\u001b[0m \u001b[0;34m*\u001b[0m\u001b[0margs\u001b[0m\u001b[0;34m,\u001b[0m \u001b[0;34m**\u001b[0m\u001b[0mkwargs\u001b[0m\u001b[0;34m)\u001b[0m\u001b[0;34m\u001b[0m\u001b[0;34m\u001b[0m\u001b[0m\n\u001b[0m\u001b[1;32m    224\u001b[0m \u001b[0;34m\u001b[0m\u001b[0m\n\u001b[1;32m    225\u001b[0m     \u001b[0;34m@\u001b[0m\u001b[0mdoc\u001b[0m\u001b[0;34m(\u001b[0m\u001b[0m_agg_template\u001b[0m\u001b[0;34m,\u001b[0m \u001b[0mexamples\u001b[0m\u001b[0;34m=\u001b[0m\u001b[0m_agg_examples_doc\u001b[0m\u001b[0;34m,\u001b[0m \u001b[0mklass\u001b[0m\u001b[0;34m=\u001b[0m\u001b[0;34m\"Series\"\u001b[0m\u001b[0;34m)\u001b[0m\u001b[0;34m\u001b[0m\u001b[0;34m\u001b[0m\u001b[0m\n",
      "\u001b[0;32m~/opt/anaconda3/lib/python3.9/site-packages/pandas/core/groupby/groupby.py\u001b[0m in \u001b[0;36mapply\u001b[0;34m(self, func, *args, **kwargs)\u001b[0m\n\u001b[1;32m   1273\u001b[0m         \u001b[0;32mwith\u001b[0m \u001b[0moption_context\u001b[0m\u001b[0;34m(\u001b[0m\u001b[0;34m\"mode.chained_assignment\"\u001b[0m\u001b[0;34m,\u001b[0m \u001b[0;32mNone\u001b[0m\u001b[0;34m)\u001b[0m\u001b[0;34m:\u001b[0m\u001b[0;34m\u001b[0m\u001b[0;34m\u001b[0m\u001b[0m\n\u001b[1;32m   1274\u001b[0m             \u001b[0;32mtry\u001b[0m\u001b[0;34m:\u001b[0m\u001b[0;34m\u001b[0m\u001b[0;34m\u001b[0m\u001b[0m\n\u001b[0;32m-> 1275\u001b[0;31m                 \u001b[0mresult\u001b[0m \u001b[0;34m=\u001b[0m \u001b[0mself\u001b[0m\u001b[0;34m.\u001b[0m\u001b[0m_python_apply_general\u001b[0m\u001b[0;34m(\u001b[0m\u001b[0mf\u001b[0m\u001b[0;34m,\u001b[0m \u001b[0mself\u001b[0m\u001b[0;34m.\u001b[0m\u001b[0m_selected_obj\u001b[0m\u001b[0;34m)\u001b[0m\u001b[0;34m\u001b[0m\u001b[0;34m\u001b[0m\u001b[0m\n\u001b[0m\u001b[1;32m   1276\u001b[0m             \u001b[0;32mexcept\u001b[0m \u001b[0mTypeError\u001b[0m\u001b[0;34m:\u001b[0m\u001b[0;34m\u001b[0m\u001b[0;34m\u001b[0m\u001b[0m\n\u001b[1;32m   1277\u001b[0m                 \u001b[0;31m# gh-20949\u001b[0m\u001b[0;34m\u001b[0m\u001b[0;34m\u001b[0m\u001b[0m\n",
      "\u001b[0;32m~/opt/anaconda3/lib/python3.9/site-packages/pandas/core/groupby/groupby.py\u001b[0m in \u001b[0;36m_python_apply_general\u001b[0;34m(self, f, data)\u001b[0m\n\u001b[1;32m   1307\u001b[0m             \u001b[0mdata\u001b[0m \u001b[0mafter\u001b[0m \u001b[0mapplying\u001b[0m \u001b[0mf\u001b[0m\u001b[0;34m\u001b[0m\u001b[0;34m\u001b[0m\u001b[0m\n\u001b[1;32m   1308\u001b[0m         \"\"\"\n\u001b[0;32m-> 1309\u001b[0;31m         \u001b[0mkeys\u001b[0m\u001b[0;34m,\u001b[0m \u001b[0mvalues\u001b[0m\u001b[0;34m,\u001b[0m \u001b[0mmutated\u001b[0m \u001b[0;34m=\u001b[0m \u001b[0mself\u001b[0m\u001b[0;34m.\u001b[0m\u001b[0mgrouper\u001b[0m\u001b[0;34m.\u001b[0m\u001b[0mapply\u001b[0m\u001b[0;34m(\u001b[0m\u001b[0mf\u001b[0m\u001b[0;34m,\u001b[0m \u001b[0mdata\u001b[0m\u001b[0;34m,\u001b[0m \u001b[0mself\u001b[0m\u001b[0;34m.\u001b[0m\u001b[0maxis\u001b[0m\u001b[0;34m)\u001b[0m\u001b[0;34m\u001b[0m\u001b[0;34m\u001b[0m\u001b[0m\n\u001b[0m\u001b[1;32m   1310\u001b[0m \u001b[0;34m\u001b[0m\u001b[0m\n\u001b[1;32m   1311\u001b[0m         return self._wrap_applied_output(\n",
      "\u001b[0;32m~/opt/anaconda3/lib/python3.9/site-packages/pandas/core/groupby/ops.py\u001b[0m in \u001b[0;36mapply\u001b[0;34m(self, f, data, axis)\u001b[0m\n\u001b[1;32m    839\u001b[0m             \u001b[0;31m# group might be modified\u001b[0m\u001b[0;34m\u001b[0m\u001b[0;34m\u001b[0m\u001b[0m\n\u001b[1;32m    840\u001b[0m             \u001b[0mgroup_axes\u001b[0m \u001b[0;34m=\u001b[0m \u001b[0mgroup\u001b[0m\u001b[0;34m.\u001b[0m\u001b[0maxes\u001b[0m\u001b[0;34m\u001b[0m\u001b[0;34m\u001b[0m\u001b[0m\n\u001b[0;32m--> 841\u001b[0;31m             \u001b[0mres\u001b[0m \u001b[0;34m=\u001b[0m \u001b[0mf\u001b[0m\u001b[0;34m(\u001b[0m\u001b[0mgroup\u001b[0m\u001b[0;34m)\u001b[0m\u001b[0;34m\u001b[0m\u001b[0;34m\u001b[0m\u001b[0m\n\u001b[0m\u001b[1;32m    842\u001b[0m             \u001b[0;32mif\u001b[0m \u001b[0;32mnot\u001b[0m \u001b[0m_is_indexed_like\u001b[0m\u001b[0;34m(\u001b[0m\u001b[0mres\u001b[0m\u001b[0;34m,\u001b[0m \u001b[0mgroup_axes\u001b[0m\u001b[0;34m,\u001b[0m \u001b[0maxis\u001b[0m\u001b[0;34m)\u001b[0m\u001b[0;34m:\u001b[0m\u001b[0;34m\u001b[0m\u001b[0;34m\u001b[0m\u001b[0m\n\u001b[1;32m    843\u001b[0m                 \u001b[0mmutated\u001b[0m \u001b[0;34m=\u001b[0m \u001b[0;32mTrue\u001b[0m\u001b[0;34m\u001b[0m\u001b[0;34m\u001b[0m\u001b[0m\n",
      "\u001b[0;32m/var/folders/9p/sh_j3mrj2z374f2jzhy0z5mm0000gn/T/ipykernel_24474/931239540.py\u001b[0m in \u001b[0;36m<lambda>\u001b[0;34m(x)\u001b[0m\n\u001b[1;32m      1\u001b[0m \u001b[0msia\u001b[0m \u001b[0;34m=\u001b[0m \u001b[0msentiment\u001b[0m\u001b[0;34m.\u001b[0m\u001b[0mSentimentIntensityAnalyzer\u001b[0m\u001b[0;34m(\u001b[0m\u001b[0;34m)\u001b[0m\u001b[0;34m\u001b[0m\u001b[0;34m\u001b[0m\u001b[0m\n\u001b[0;32m----> 2\u001b[0;31m \u001b[0mRavgSentiment\u001b[0m \u001b[0;34m=\u001b[0m \u001b[0mx\u001b[0m\u001b[0;34m.\u001b[0m\u001b[0mgroupby\u001b[0m\u001b[0;34m(\u001b[0m\u001b[0;34m'asin'\u001b[0m\u001b[0;34m)\u001b[0m\u001b[0;34m[\u001b[0m\u001b[0;34m\"reviewText\"\u001b[0m\u001b[0;34m]\u001b[0m\u001b[0;34m.\u001b[0m\u001b[0mapply\u001b[0m\u001b[0;34m(\u001b[0m\u001b[0;32mlambda\u001b[0m \u001b[0mx\u001b[0m\u001b[0;34m:\u001b[0m \u001b[0mnp\u001b[0m\u001b[0;34m.\u001b[0m\u001b[0mmean\u001b[0m\u001b[0;34m(\u001b[0m\u001b[0mreview_sentiment\u001b[0m\u001b[0;34m(\u001b[0m\u001b[0msia\u001b[0m\u001b[0;34m,\u001b[0m\u001b[0mx\u001b[0m\u001b[0;34m.\u001b[0m\u001b[0mto_string\u001b[0m\u001b[0;34m(\u001b[0m\u001b[0;34m)\u001b[0m\u001b[0;34m)\u001b[0m\u001b[0;34m)\u001b[0m\u001b[0;34m)\u001b[0m\u001b[0;34m\u001b[0m\u001b[0;34m\u001b[0m\u001b[0m\n\u001b[0m\u001b[1;32m      3\u001b[0m \u001b[0mRavgSentiment\u001b[0m \u001b[0;34m=\u001b[0m \u001b[0mRavgSentiment\u001b[0m\u001b[0;34m.\u001b[0m\u001b[0mfillna\u001b[0m\u001b[0;34m(\u001b[0m\u001b[0;36m0\u001b[0m\u001b[0;34m)\u001b[0m\u001b[0;34m.\u001b[0m\u001b[0mrename\u001b[0m\u001b[0;34m(\u001b[0m\u001b[0;34m\"Review_Avg_Sentiment\"\u001b[0m\u001b[0;34m)\u001b[0m\u001b[0;34m\u001b[0m\u001b[0;34m\u001b[0m\u001b[0m\n\u001b[1;32m      4\u001b[0m \u001b[0;34m\u001b[0m\u001b[0m\n\u001b[1;32m      5\u001b[0m \u001b[0msia\u001b[0m \u001b[0;34m=\u001b[0m \u001b[0msentiment\u001b[0m\u001b[0;34m.\u001b[0m\u001b[0mSentimentIntensityAnalyzer\u001b[0m\u001b[0;34m(\u001b[0m\u001b[0;34m)\u001b[0m\u001b[0;34m\u001b[0m\u001b[0;34m\u001b[0m\u001b[0m\n",
      "\u001b[0;32m/var/folders/9p/sh_j3mrj2z374f2jzhy0z5mm0000gn/T/ipykernel_24474/3483144612.py\u001b[0m in \u001b[0;36mreview_sentiment\u001b[0;34m(sia, text)\u001b[0m\n\u001b[1;32m      2\u001b[0m \u001b[0;32mdef\u001b[0m \u001b[0mreview_sentiment\u001b[0m\u001b[0;34m(\u001b[0m\u001b[0msia\u001b[0m\u001b[0;34m,\u001b[0m\u001b[0mtext\u001b[0m\u001b[0;34m)\u001b[0m\u001b[0;34m:\u001b[0m\u001b[0;34m\u001b[0m\u001b[0;34m\u001b[0m\u001b[0m\n\u001b[1;32m      3\u001b[0m     \u001b[0mtokens\u001b[0m \u001b[0;34m=\u001b[0m \u001b[0mword_tokenize\u001b[0m\u001b[0;34m(\u001b[0m\u001b[0mtext\u001b[0m\u001b[0;34m)\u001b[0m\u001b[0;34m\u001b[0m\u001b[0;34m\u001b[0m\u001b[0m\n\u001b[0;32m----> 4\u001b[0;31m     \u001b[0mfiltered_text\u001b[0m \u001b[0;34m=\u001b[0m \u001b[0;34m\" \"\u001b[0m\u001b[0;34m.\u001b[0m\u001b[0mjoin\u001b[0m\u001b[0;34m(\u001b[0m\u001b[0;34m[\u001b[0m\u001b[0mw\u001b[0m \u001b[0;32mfor\u001b[0m \u001b[0mw\u001b[0m \u001b[0;32min\u001b[0m \u001b[0mtokens\u001b[0m \u001b[0;32mif\u001b[0m \u001b[0mw\u001b[0m \u001b[0;32mnot\u001b[0m \u001b[0;32min\u001b[0m \u001b[0mstopwords\u001b[0m\u001b[0;34m.\u001b[0m\u001b[0mwords\u001b[0m\u001b[0;34m(\u001b[0m\u001b[0;34m\"English\"\u001b[0m\u001b[0;34m)\u001b[0m \u001b[0;32mand\u001b[0m \u001b[0mw\u001b[0m \u001b[0;32mnot\u001b[0m \u001b[0;32min\u001b[0m \u001b[0mstring\u001b[0m\u001b[0;34m.\u001b[0m\u001b[0mpunctuation\u001b[0m\u001b[0;34m]\u001b[0m\u001b[0;34m)\u001b[0m\u001b[0;34m\u001b[0m\u001b[0;34m\u001b[0m\u001b[0m\n\u001b[0m\u001b[1;32m      5\u001b[0m     \u001b[0;31m# print(filtered_text)\u001b[0m\u001b[0;34m\u001b[0m\u001b[0;34m\u001b[0m\u001b[0m\n\u001b[1;32m      6\u001b[0m     \u001b[0;32mreturn\u001b[0m \u001b[0msia\u001b[0m\u001b[0;34m.\u001b[0m\u001b[0mpolarity_scores\u001b[0m\u001b[0;34m(\u001b[0m\u001b[0mfiltered_text\u001b[0m\u001b[0;34m)\u001b[0m\u001b[0;34m[\u001b[0m\u001b[0;34m\"compound\"\u001b[0m\u001b[0;34m]\u001b[0m\u001b[0;34m\u001b[0m\u001b[0;34m\u001b[0m\u001b[0m\n",
      "\u001b[0;32m/var/folders/9p/sh_j3mrj2z374f2jzhy0z5mm0000gn/T/ipykernel_24474/3483144612.py\u001b[0m in \u001b[0;36m<listcomp>\u001b[0;34m(.0)\u001b[0m\n\u001b[1;32m      2\u001b[0m \u001b[0;32mdef\u001b[0m \u001b[0mreview_sentiment\u001b[0m\u001b[0;34m(\u001b[0m\u001b[0msia\u001b[0m\u001b[0;34m,\u001b[0m\u001b[0mtext\u001b[0m\u001b[0;34m)\u001b[0m\u001b[0;34m:\u001b[0m\u001b[0;34m\u001b[0m\u001b[0;34m\u001b[0m\u001b[0m\n\u001b[1;32m      3\u001b[0m     \u001b[0mtokens\u001b[0m \u001b[0;34m=\u001b[0m \u001b[0mword_tokenize\u001b[0m\u001b[0;34m(\u001b[0m\u001b[0mtext\u001b[0m\u001b[0;34m)\u001b[0m\u001b[0;34m\u001b[0m\u001b[0;34m\u001b[0m\u001b[0m\n\u001b[0;32m----> 4\u001b[0;31m     \u001b[0mfiltered_text\u001b[0m \u001b[0;34m=\u001b[0m \u001b[0;34m\" \"\u001b[0m\u001b[0;34m.\u001b[0m\u001b[0mjoin\u001b[0m\u001b[0;34m(\u001b[0m\u001b[0;34m[\u001b[0m\u001b[0mw\u001b[0m \u001b[0;32mfor\u001b[0m \u001b[0mw\u001b[0m \u001b[0;32min\u001b[0m \u001b[0mtokens\u001b[0m \u001b[0;32mif\u001b[0m \u001b[0mw\u001b[0m \u001b[0;32mnot\u001b[0m \u001b[0;32min\u001b[0m \u001b[0mstopwords\u001b[0m\u001b[0;34m.\u001b[0m\u001b[0mwords\u001b[0m\u001b[0;34m(\u001b[0m\u001b[0;34m\"English\"\u001b[0m\u001b[0;34m)\u001b[0m \u001b[0;32mand\u001b[0m \u001b[0mw\u001b[0m \u001b[0;32mnot\u001b[0m \u001b[0;32min\u001b[0m \u001b[0mstring\u001b[0m\u001b[0;34m.\u001b[0m\u001b[0mpunctuation\u001b[0m\u001b[0;34m]\u001b[0m\u001b[0;34m)\u001b[0m\u001b[0;34m\u001b[0m\u001b[0;34m\u001b[0m\u001b[0m\n\u001b[0m\u001b[1;32m      5\u001b[0m     \u001b[0;31m# print(filtered_text)\u001b[0m\u001b[0;34m\u001b[0m\u001b[0;34m\u001b[0m\u001b[0m\n\u001b[1;32m      6\u001b[0m     \u001b[0;32mreturn\u001b[0m \u001b[0msia\u001b[0m\u001b[0;34m.\u001b[0m\u001b[0mpolarity_scores\u001b[0m\u001b[0;34m(\u001b[0m\u001b[0mfiltered_text\u001b[0m\u001b[0;34m)\u001b[0m\u001b[0;34m[\u001b[0m\u001b[0;34m\"compound\"\u001b[0m\u001b[0;34m]\u001b[0m\u001b[0;34m\u001b[0m\u001b[0;34m\u001b[0m\u001b[0m\n",
      "\u001b[0;32m~/opt/anaconda3/lib/python3.9/site-packages/nltk/corpus/reader/wordlist.py\u001b[0m in \u001b[0;36mwords\u001b[0;34m(self, fileids, ignore_lines_startswith)\u001b[0m\n\u001b[1;32m     19\u001b[0m         return [\n\u001b[1;32m     20\u001b[0m             \u001b[0mline\u001b[0m\u001b[0;34m\u001b[0m\u001b[0;34m\u001b[0m\u001b[0m\n\u001b[0;32m---> 21\u001b[0;31m             \u001b[0;32mfor\u001b[0m \u001b[0mline\u001b[0m \u001b[0;32min\u001b[0m \u001b[0mline_tokenize\u001b[0m\u001b[0;34m(\u001b[0m\u001b[0mself\u001b[0m\u001b[0;34m.\u001b[0m\u001b[0mraw\u001b[0m\u001b[0;34m(\u001b[0m\u001b[0mfileids\u001b[0m\u001b[0;34m)\u001b[0m\u001b[0;34m)\u001b[0m\u001b[0;34m\u001b[0m\u001b[0;34m\u001b[0m\u001b[0m\n\u001b[0m\u001b[1;32m     22\u001b[0m             \u001b[0;32mif\u001b[0m \u001b[0;32mnot\u001b[0m \u001b[0mline\u001b[0m\u001b[0;34m.\u001b[0m\u001b[0mstartswith\u001b[0m\u001b[0;34m(\u001b[0m\u001b[0mignore_lines_startswith\u001b[0m\u001b[0;34m)\u001b[0m\u001b[0;34m\u001b[0m\u001b[0;34m\u001b[0m\u001b[0m\n\u001b[1;32m     23\u001b[0m         ]\n",
      "\u001b[0;32m~/opt/anaconda3/lib/python3.9/site-packages/nltk/tokenize/simple.py\u001b[0m in \u001b[0;36mline_tokenize\u001b[0;34m(text, blanklines)\u001b[0m\n\u001b[1;32m    135\u001b[0m \u001b[0;34m\u001b[0m\u001b[0m\n\u001b[1;32m    136\u001b[0m \u001b[0;32mdef\u001b[0m \u001b[0mline_tokenize\u001b[0m\u001b[0;34m(\u001b[0m\u001b[0mtext\u001b[0m\u001b[0;34m,\u001b[0m \u001b[0mblanklines\u001b[0m\u001b[0;34m=\u001b[0m\u001b[0;34m\"discard\"\u001b[0m\u001b[0;34m)\u001b[0m\u001b[0;34m:\u001b[0m\u001b[0;34m\u001b[0m\u001b[0;34m\u001b[0m\u001b[0m\n\u001b[0;32m--> 137\u001b[0;31m     \u001b[0;32mreturn\u001b[0m \u001b[0mLineTokenizer\u001b[0m\u001b[0;34m(\u001b[0m\u001b[0mblanklines\u001b[0m\u001b[0;34m)\u001b[0m\u001b[0;34m.\u001b[0m\u001b[0mtokenize\u001b[0m\u001b[0;34m(\u001b[0m\u001b[0mtext\u001b[0m\u001b[0;34m)\u001b[0m\u001b[0;34m\u001b[0m\u001b[0;34m\u001b[0m\u001b[0m\n\u001b[0m",
      "\u001b[0;32m~/opt/anaconda3/lib/python3.9/site-packages/nltk/tokenize/simple.py\u001b[0m in \u001b[0;36mtokenize\u001b[0;34m(self, s)\u001b[0m\n\u001b[1;32m    111\u001b[0m \u001b[0;34m\u001b[0m\u001b[0m\n\u001b[1;32m    112\u001b[0m     \u001b[0;32mdef\u001b[0m \u001b[0mtokenize\u001b[0m\u001b[0;34m(\u001b[0m\u001b[0mself\u001b[0m\u001b[0;34m,\u001b[0m \u001b[0ms\u001b[0m\u001b[0;34m)\u001b[0m\u001b[0;34m:\u001b[0m\u001b[0;34m\u001b[0m\u001b[0;34m\u001b[0m\u001b[0m\n\u001b[0;32m--> 113\u001b[0;31m         \u001b[0mlines\u001b[0m \u001b[0;34m=\u001b[0m \u001b[0ms\u001b[0m\u001b[0;34m.\u001b[0m\u001b[0msplitlines\u001b[0m\u001b[0;34m(\u001b[0m\u001b[0;34m)\u001b[0m\u001b[0;34m\u001b[0m\u001b[0;34m\u001b[0m\u001b[0m\n\u001b[0m\u001b[1;32m    114\u001b[0m         \u001b[0;31m# If requested, strip off blank lines.\u001b[0m\u001b[0;34m\u001b[0m\u001b[0;34m\u001b[0m\u001b[0m\n\u001b[1;32m    115\u001b[0m         \u001b[0;32mif\u001b[0m \u001b[0mself\u001b[0m\u001b[0;34m.\u001b[0m\u001b[0m_blanklines\u001b[0m \u001b[0;34m==\u001b[0m \u001b[0;34m\"discard\"\u001b[0m\u001b[0;34m:\u001b[0m\u001b[0;34m\u001b[0m\u001b[0;34m\u001b[0m\u001b[0m\n",
      "\u001b[0;31mKeyboardInterrupt\u001b[0m: "
     ]
    }
   ],
   "source": [
    "sia = sentiment.SentimentIntensityAnalyzer()\n",
    "RavgSentiment = x.groupby('asin')[\"reviewText\"].apply(lambda x: np.mean(review_sentiment(sia,x.to_string())))\n",
    "RavgSentiment = RavgSentiment.fillna(0).rename(\"Review_Avg_Sentiment\")\n",
    "\n",
    "sia = sentiment.SentimentIntensityAnalyzer()\n",
    "SavgSentiment = x.groupby('asin')[\"summary\"].apply(lambda x: np.mean(review_sentiment(sia,x.to_string())))\n",
    "SavgSentiment = RavgSentiment.fillna(0).rename(\"Summary_Avg_Sentiment\")\n",
    "\n",
    "\n",
    "# sia = sentiment.SentimentIntensityAnalyzer()\n",
    "# RavgSentiment = x.groupby('asin')[\"reviewText\"].apply(lambda x: np.mean(sia.polarity_scores(x.to_string())[\"compound\"]))\n",
    "# RavgSentiment = RavgSentiment.fillna(0).rename(\"Review_Avg_Sentiment\")\n",
    "\n",
    "# SavgSentiment = x.groupby('asin')[\"summary\"].apply(lambda x: np.mean(sia.polarity_scores(x.to_string())[\"compound\"]))\n",
    "# SavgSentiment = SavgSentiment.fillna(0).rename(\"Summary_Avg_Sentiment\")\n",
    "\n",
    "# tests = range(1)\n",
    "# unique_items = z[\"asin\"].nunique()\n",
    "# print(\"ui: \", unique_items)\n",
    "\n",
    "# asin = z[\"asin\"].unique()\n",
    "# # print(\"asin: \",asin[tests])\n",
    "# avg_votes = np.zeros(len(asin))\n",
    "\n",
    "# for i in tests: # eventually all\n",
    "#     item = zgrouped.get_group(asin[i])\n",
    "#     avg_votes[i] = item[\"vote\"].fillna(0).astype(int).mean()\n",
    "#     print(len(item))\n",
    "#     sentiments = map(review_sentiment,item[\"reviewText\"].values[0:1000])\n",
    "    \n",
    "#     print(list(sentiments))\n",
    "\n",
    "# print(\"avg_votes: \", avg_votes[0:5])\n"
   ]
  },
  {
   "attachments": {},
   "cell_type": "markdown",
   "metadata": {},
   "source": [
    "For reference: What x,y should look like"
   ]
  },
  {
   "cell_type": "code",
   "execution_count": null,
   "metadata": {},
   "outputs": [],
   "source": [
    "from sklearn.datasets import load_iris\n",
    "\n",
    "iris = load_iris()\n",
    "\n",
    "#iris.data\n",
    "#iris.target"
   ]
  },
  {
   "attachments": {},
   "cell_type": "markdown",
   "metadata": {},
   "source": [
    "# Testing prep\n",
    "\n",
    "Put feature vector with col 1 as 'asin' to *z*, answers to *y*"
   ]
  },
  {
   "attachments": {},
   "cell_type": "markdown",
   "metadata": {},
   "source": [
    "Currently using features:\n",
    "\n",
    "Name                    |     Column Name\n",
    "\n",
    "reviewCount                    Review_Count\n",
    "\n",
    "with_image_percentage          %_Image\n",
    "\n",
    "percent_verified               %_Verified\n",
    "\n",
    "total_votes                    Total_Votes\n",
    "\n",
    "reviewlength                   Review_Length\n",
    "\n",
    "summarylength                  Summary_Length\n",
    "\n",
    "RpercentCap                    Review_%_Uppercase\n",
    "\n",
    "SpercentCap                    Summary_%_Uppercase\n",
    "\n",
    "actualAwesomeness              Actual_Awesomeness\n",
    "\n",
    "RavgSentiment                  Review_Avg_Sentiment\n",
    "\n",
    "SavgSentiment                  Summary_Avg_Sentiment\n",
    "\n",
    "\n",
    "//For pres\n",
    "//makeup of one we chose\n",
    "//how we got there aka ones that didn't work\n",
    "//why not - take a guess at why it didn't work as well"
   ]
  },
  {
   "cell_type": "code",
   "execution_count": 17,
   "metadata": {},
   "outputs": [
    {
     "data": {
      "text/plain": [
       "asin\n",
       "0000B049F5B33CD310EB1AB236E20191    1.0\n",
       "00018184A9EC4D270219A296B2580303    0.0\n",
       "000281A9CAC43FF1F335726A390636DA    0.0\n",
       "00030884DF109F325638A6BFD5B13CFF    1.0\n",
       "000325BA25966B5FC701D5D2B5DBA4E0    0.0\n",
       "                                   ... \n",
       "FFFDD3C72D23AF858D6E0ED92612370D    1.0\n",
       "FFFDDE284A73B29B320381487EC7DE9E    1.0\n",
       "FFFEB3EE2372807964F024707D50FB21    0.0\n",
       "FFFF4545AB232D81D0F9B208388BB7AA    1.0\n",
       "FFFF5A3D9CB0B40FF0FE6B95F05D26FE    1.0\n",
       "Name: awesomeness, Length: 73082, dtype: float64"
      ]
     },
     "execution_count": 17,
     "metadata": {},
     "output_type": "execute_result"
    }
   ],
   "source": [
    "#combine all individual features into one dataFrame\n",
    "\n",
    "#enter any features to be combined here! \n",
    "#   They must be pd dataFrames with the 'asin' column for this to work\n",
    "features = [reviewCount,percent_verified,total_votes,RavgSentiment,SavgSentiment,reviewlength,summarylength]\n",
    "\n",
    "z = x['asin']\n",
    "for f in features:\n",
    "    z = pd.merge(z,f,'inner','asin')\n",
    "\n",
    "#combine resultant data with correct answers \n",
    "temp = pd.merge(z,y,'inner','asin') \n",
    "temp = temp.groupby(\"asin\").mean()\n",
    "\n",
    "\n",
    "#split into features (x) and awesomeness (y), which now row correspond\n",
    "# merged_x = temp.drop(['asin','awesomeness'], axis=1)\n",
    "merged_x = temp.drop(['awesomeness'], axis=1)\n",
    "merged_y = temp[\"awesomeness\"]"
   ]
  },
  {
   "attachments": {},
   "cell_type": "markdown",
   "metadata": {},
   "source": [
    "Test example: \n",
    "\n",
    "*Gaussian Naive Bayes with tfidf*"
   ]
  },
  {
   "cell_type": "code",
   "execution_count": null,
   "metadata": {},
   "outputs": [],
   "source": [
    "from sklearn.model_selection import train_test_split\n",
    "\n",
    "from sklearn.naive_bayes import GaussianNB\n",
    "gnb = GaussianNB()\n",
    "\n",
    "from sklearn.feature_extraction.text import TfidfVectorizer\n",
    "tfidf = TfidfVectorizer()\n",
    "\n",
    "#split data\n",
    "x_train, x_test, y_train, y_test = train_test_split(x, y, test_size=0.5, random_state=0)\n",
    "\n",
    "#train and apply tfidf\n",
    "    # fit = make vocab \n",
    "    # transform = turn words -> numbers\n",
    "x_train = tfidf.fit_transform(x_train).toarray()\n",
    "x_test = tfidf.transform(x_test).toarray()\n",
    "\n",
    "#make prediction\n",
    "y_pred = gnb.fit(x_train, y_train).predict(x_test)\n",
    "\n",
    "#print accuracy\n",
    "print(f\"Number of mislabeled points out of a total {x_test.shape[0]} points : {(y_test != y_pred).sum()}\")"
   ]
  },
  {
   "attachments": {},
   "cell_type": "markdown",
   "metadata": {},
   "source": [
    "# Models\n",
    "\n",
    "(choose one)"
   ]
  },
  {
   "attachments": {},
   "cell_type": "markdown",
   "metadata": {},
   "source": [
    "Support Vector Machine (SVM)"
   ]
  },
  {
   "cell_type": "code",
   "execution_count": 1,
   "metadata": {},
   "outputs": [],
   "source": [
    "from sklearn import svm\n",
    "\n",
    "#kernel type\n",
    "#‘linear’, ‘poly’, ‘rbf’, ‘sigmoid’, ‘precomputed’\n",
    "kernel = 'rbf'\n",
    "\n",
    "#if kernel type = 'poly', degree of poly\n",
    "degree = 3\n",
    "\n",
    "#whether to enable probability estimates (will slow it down a lot)\n",
    "probability = True\n",
    "\n",
    "#tau - penalty for errors is inversely proportional to C\n",
    "C = 0.5\n",
    "\n",
    "param_grid = [{'kernel': ['poly','rbf','sigmoid','precomputed'],\n",
    "            'C': [0.25,0.5,0.75,1]}]\n",
    "\n",
    "svm_model = svm.SVC(C=C, kernel=kernel, degree=degree, probability=probability)"
   ]
  },
  {
   "attachments": {},
   "cell_type": "markdown",
   "metadata": {},
   "source": [
    "Basic Gaussian Naive Bayes"
   ]
  },
  {
   "cell_type": "code",
   "execution_count": 18,
   "metadata": {},
   "outputs": [],
   "source": [
    "from sklearn.naive_bayes import GaussianNB\n",
    "\n",
    "model = GaussianNB()"
   ]
  },
  {
   "attachments": {},
   "cell_type": "markdown",
   "metadata": {},
   "source": [
    "Decision Tree"
   ]
  },
  {
   "cell_type": "code",
   "execution_count": null,
   "metadata": {},
   "outputs": [],
   "source": [
    "from sklearn import tree\n",
    "\n",
    "#choose from 'entropy', 'gini', 'log_loss'\n",
    "criterion = 'entropy'\n",
    "\n",
    "    ###STOPPING CONDITIONS\n",
    "#max height/depth of the tree OR None if no limit\n",
    "max_depth = None\n",
    "\n",
    "#if sat(N) < n_samples*this, don't try to split it any further\n",
    "min_samples_split = .01\n",
    "\n",
    "    ###OTHER\n",
    "#if min(sat(nodes after a split)) < n_samples*this, split not considered \n",
    "#       (aka model isnt allowed to create leaf nodes with < n_samples*this samples)\n",
    "#       (smooths the model, avoids splits like 2000 -> 1999 vs 1)\n",
    "min_samples_leaf = 20\n",
    "\n",
    "param_grid = [{'criterion': ['entropy','gini','log_loss'],\n",
    "            'max_depth': [None,5,10,15],\n",
    "            'min_samples_split': [2,0.01,0.05,0.1,0.2],\n",
    "            'min_samples_leaf':[2,0.01,0.05,0.1,0.2]}]\n",
    "\n",
    "dtree_model = tree.DecisionTreeClassifier(criterion=criterion, max_depth=max_depth, min_samples_split=min_samples_split, min_samples_leaf=min_samples_leaf)"
   ]
  },
  {
   "attachments": {},
   "cell_type": "markdown",
   "metadata": {},
   "source": [
    "Decision Tree - See what it looks like! \n",
    "\n",
    "(only run if the model is a decision tree)\n",
    "\n",
    "*note: this trains the model on the whole dataset, so don't do before testing!*"
   ]
  },
  {
   "cell_type": "code",
   "execution_count": null,
   "metadata": {},
   "outputs": [],
   "source": [
    "model.fit(merged_x,merged_y)\n",
    "tree.plot_tree(model)"
   ]
  },
  {
   "attachments": {},
   "cell_type": "markdown",
   "metadata": {},
   "source": [
    "K-Nearest Neighbors"
   ]
  },
  {
   "cell_type": "code",
   "execution_count": null,
   "metadata": {},
   "outputs": [],
   "source": [
    "from sklearn.neighbors import KNeighborsClassifier\n",
    "\n",
    "#number of neighbors\n",
    "n_neighbors = 5\n",
    "\n",
    "#do you want proximity to effect influence neighbors have or not\n",
    "# 'uniform' or 'distance'\n",
    "weights='uniform'\n",
    "\n",
    "#leaf size passed to trees\n",
    "leaf_size=30\n",
    "\n",
    "# param_grid = [{'n_neighbors': [5,7,9,11],\n",
    "#             'weights': ['uniform','distance'],\n",
    "#             'leaf_size':[15,20,25,30]}] -> f1: 0.67, {'leaf_size': 15, 'n_neighbors': 11, 'weights': 'uniform'}\n",
    "\n",
    "# param_grid = [{'n_neighbors': [9,11,15,19,23],\n",
    "#              'weights': ['uniform','distance'],\n",
    "#              'leaf_size':[5,10,15,20]}] -> f1: 0.65, {'leaf_size': 5, 'n_neighbors': 23, 'weights': 'uniform'}\n",
    "\n",
    "# param_grid = [{'n_neighbors': [11,22,33,44,55],\n",
    "#              'weights': ['uniform','distance'],\n",
    "#              'leaf_size':[1,2,3,4,5,6,7,8,9,10,11,12]}] -> f1: 0.63....... {'leaf_size': 1, 'n_neighbors': 55, 'weights': 'uniform'}\n",
    "\n",
    "param_grid = [{'n_neighbors': [11,22,33,44,55],\n",
    "             'weights': ['uniform','distance'],\n",
    "             'leaf_size':[1,2,3,4,5,6,7,8,9,10,11,12]}]\n",
    "\n",
    "knn_model = KNeighborsClassifier(n_neighbors=n_neighbors, weights=weights, leaf_size=leaf_size, n_jobs=-1)"
   ]
  },
  {
   "attachments": {},
   "cell_type": "markdown",
   "metadata": {},
   "source": [
    "Logistic Regression"
   ]
  },
  {
   "cell_type": "code",
   "execution_count": null,
   "metadata": {},
   "outputs": [],
   "source": [
    "from sklearn.linear_model import LogisticRegression\n",
    "\n",
    "#norm of the penalty\n",
    "#‘l1’, ‘l2’, ‘elasticnet’, None\n",
    "penalty = 'l2'\n",
    "\n",
    "#inverse of regulation strength tau - how much do errors cost?\n",
    "C = 0.5\n",
    "\n",
    "#algorithm to compute optimization problem. Probs wont do much other than speed\n",
    "#‘lbfgs’, ‘liblinear’, ‘newton-cg’, ‘newton-cholesky’, ‘sag’, ‘saga’\n",
    "solver = 'sag'\n",
    "\n",
    "max_iter=1000\n",
    "\n",
    "# param_grid = [{'penalty': ['l1','l2','elasticnet',None],\n",
    "#             'C': [0.25,0.5,0.75,1],\n",
    "#             'solver': ['lbfgs','newton-cg','newton-cholesky','sag','saga'],\n",
    "#             'max_iter': [1000,500,100]}]        \n",
    "# -> {'C': 0.5, 'max_iter': 500, 'penalty': 'l2', 'solver': 'sag'}\n",
    "# f1: 0.6916044272473679\n",
    "\n",
    "# param_grid = [{'C': [0.4,0.45,0.5,0.55,0.6],\n",
    "#             'solver': ['lbfgs','newton-cg','newton-cholesky','sag','saga'],\n",
    "#             'max_iter': [700,600,500,400,300]}]\n",
    "# -> {'C': 0.5, 'max_iter': 500, 'penalty': 'l2', 'solver': 'sag'}\n",
    "# f1: same\n",
    "\n",
    "regression_model = LogisticRegression(penalty=penalty, C=C, solver=solver, max_iter=max_iter, n_jobs=-1)"
   ]
  },
  {
   "attachments": {},
   "cell_type": "markdown",
   "metadata": {},
   "source": [
    "Try nonlinear regression by manipulating given features:"
   ]
  },
  {
   "cell_type": "code",
   "execution_count": null,
   "metadata": {},
   "outputs": [],
   "source": [
    "#how to transform features!\n",
    "#np.sqrt, np.log, np.square\n",
    "f = np.sqrt\n",
    "\n",
    "merged_x = merged_x.apply(lambda x: f(x+1))"
   ]
  },
  {
   "attachments": {},
   "cell_type": "markdown",
   "metadata": {},
   "source": [
    "Random Forest"
   ]
  },
  {
   "cell_type": "code",
   "execution_count": null,
   "metadata": {},
   "outputs": [],
   "source": [
    "from sklearn.ensemble import RandomForestClassifier\n",
    "\n",
    "#number of trees, int\n",
    "n_estimators=150\n",
    "\n",
    "#“gini”, “entropy”, “log_loss”\n",
    "criterion = 'log_loss'\n",
    "\n",
    "#max depth of each tree, int or None\n",
    "max_depth = None\n",
    "\n",
    "#min % of samples to leave in a branch after a split\n",
    "min_samples_split = 0.25\n",
    "\n",
    "#min % of samples to be a leaf node\n",
    "min_samples_leaf = 0.4\n",
    "\n",
    "# param_grid = [{'n_estimators': [50,100,150],\n",
    "#             'criterion': ['gini','entropy','log_loss'],\n",
    "#             'max_depth':[None,10,15,20],\n",
    "#             'min_samples_split':[2,0.01,0.05,0.1,0.2],\n",
    "#             'min_samples_leaf':[2,0.01,0.05,0.1,0.2]}]\n",
    "# -> {'criterion': 'log_loss', 'max_depth': None, 'min_samples_leaf': 0.2, 'min_samples_split': 0.2, 'n_estimators': 150}\n",
    "# f1: 0.686935866983373\n",
    "\n",
    "# param_grid = [{'n_estimators': [125,150,175,200],\n",
    "#             'min_samples_split':[.1,.2,.3],\n",
    "#             'min_samples_leaf':[.1,.2,.3]}]\n",
    "# -> {'min_samples_leaf': 0.3, 'min_samples_split': 0.2, 'n_estimators': 150}\n",
    "# f1: 0.6944863744763707\n",
    "            \n",
    "# param_grid = [{'n_estimators': [140,145,150,155,160],\n",
    "#             'min_samples_split':[.15,.2,.25],\n",
    "#             'min_samples_leaf':[.25,.3,.35,.4]}]\n",
    "# -> {'min_samples_leaf': 0.4, 'min_samples_split': 0.25, 'n_estimators': 150}\n",
    "# f1: 0.6944863744763707\n",
    "\n",
    "# param_grid = [{'min_samples_split':[0.15,0.175,0.2,0.225,0.25,0.275,0.3]}]\n",
    "# -> 0.6944863744763707\n",
    "# {'min_samples_split': 0.25}\n",
    "\n",
    "randomforest_model = RandomForestClassifier(n_estimators=n_estimators, criterion=criterion, max_depth=max_depth, min_samples_split=min_samples_split, min_samples_leaf=min_samples_leaf, n_jobs=-1)"
   ]
  },
  {
   "attachments": {},
   "cell_type": "markdown",
   "metadata": {},
   "source": [
    "# Boosting!\n",
    "make a model better! goes into *boosted_model*"
   ]
  },
  {
   "attachments": {},
   "cell_type": "markdown",
   "metadata": {},
   "source": [
    "AdaBoost"
   ]
  },
  {
   "cell_type": "code",
   "execution_count": null,
   "metadata": {},
   "outputs": [],
   "source": [
    "from sklearn.ensemble import AdaBoostClassifier\n",
    "\n",
    "#model to build off of\n",
    "#estimator = model\n",
    "\n",
    "#max number of estimators to compute before terminating testing\n",
    "n_estimators = 50\n",
    "\n",
    "#weight applied to each classifier at each boosting iteration\n",
    "learning_rate = 1.0\n",
    "\n",
    "param_grid = [{'n_estimators': [10,20,30],\n",
    "            'learning_rate': [1,2,3]}]\n",
    "\n",
    "adaboosted_model = AdaBoostClassifier(estimator=model, n_estimators=n_estimators, learning_rate=learning_rate)"
   ]
  },
  {
   "attachments": {},
   "cell_type": "markdown",
   "metadata": {},
   "source": [
    "Gradient Boosting"
   ]
  },
  {
   "cell_type": "code",
   "execution_count": null,
   "metadata": {},
   "outputs": [],
   "source": [
    "from sklearn.ensemble import HistGradientBoostingClassifier\n",
    "\n",
    "#loss function to use in boosting process\n",
    "#‘log_loss’, ‘auto’, ‘binary_crossentropy’/depreciated, ‘categorical_crossentropy’\n",
    "loss = 'log_loss'\n",
    "\n",
    "#shrinkage - multiplicative value for leaves\n",
    "learning_rate=0.2665\n",
    "\n",
    "#maximum iterations for boosting process\n",
    "max_iter=4\n",
    "\n",
    "#maximum leaf nodes/tree\n",
    "max_leaf_nodes=4\n",
    "\n",
    "#max depth/tree or None for infinite\n",
    "max_depth = None\n",
    "\n",
    "#min samples to be a leaf\n",
    "min_samples_leaf=14\n",
    "\n",
    "#regularization parameter, 0 for none\n",
    "l2_regularization=0\n",
    "\n",
    "# param_grid = [{'learning_rate': [0.1,0.3,0.5,0.7,1],\n",
    "#             'max_iter':[50,60],\n",
    "#             'max_leaf_nodes':[25,30,35,40],\n",
    "#             'max_depth':[None,10,15,20],\n",
    "#             'min_samples_leaf':[20,0.01,0.05,0.1,0.2],\n",
    "#             'l2_regularization':[0,0.1,0.2]}] -> f1: 0.67, {'l2_regularization': 0, 'learning_rate': 0.3, 'max_depth': None, 'max_iter': 50, 'max_leaf_nodes': 25, 'min_samples_leaf': 20}\n",
    "\n",
    "# param_grid = [{'learning_rate': [0.2,0.25,0.3,0.35,0.4],\n",
    "#             'max_iter':[30,40,50],\n",
    "#             'max_leaf_nodes':[10,15,20,25],\n",
    "#             'min_samples_leaf':[10,15,20,25,30]}] -> f1: 0.66 {'learning_rate': 0.3, 'max_iter': 30, 'max_leaf_nodes': 10, 'min_samples_leaf': 15}\n",
    "\n",
    "# param_grid = [{'learning_rate': [0.25,0.275,0.3,0.325,0.35],\n",
    "#             'max_iter':[1,10,20,30],\n",
    "#             'max_leaf_nodes':[2,4,6,8,10],\n",
    "#             'min_samples_leaf':[12,13,14,15,16,17,18]}] -> f1: 0.68 {'learning_rate': 0.275, 'max_iter': 1, 'max_leaf_nodes': 4, 'min_samples_leaf': 14}\n",
    "\n",
    "# param_grid = [{'learning_rate': [0.265,0.27,0.275,0.28,0.285],\n",
    "#             'max_leaf_nodes':[2,3,4,5,6],\n",
    "#             'min_samples_leaf':[13,14,15]}] -> f1: 0.68 {'learning_rate': 0.27, 'max_leaf_nodes': 3, 'min_samples_leaf': 15}\n",
    "\n",
    "# param_grid = [{'learning_rate': [0.26,0.2665,0.267,0.2675,0.268,0.2685,0.269,0.2695,0.27,0.2705,0.271,0.2715,0.272,0.2725],\n",
    "#              'max_leaf_nodes':[2,3,4],\n",
    "#              'min_samples_leaf':[13,14,15,16,17],\n",
    "#              'max_iter':[0,1,2,3,4,5,6,7,8,9,10]}] -> f1: 0.684 {'learning_rate': 0.269, 'max_iter': 3, 'max_leaf_nodes': 2, 'min_samples_leaf': 16}\n",
    "\n",
    "param_grid = [{'learning_rate': [0.26,0.2665,0.267],\n",
    "             'max_leaf_nodes':[4,5,6,7,8],\n",
    "             'min_samples_leaf':[13,14,15],\n",
    "             'max_iter':[3,4,5]}] \n",
    "\n",
    "# {'learning_rate': 0.2665, 'max_iter': 4, 'max_leaf_nodes': 4, 'min_samples_leaf': 14}\n",
    "# 0.684137466874185\n",
    "\n",
    "gradient_boosted_model = HistGradientBoostingClassifier(loss=loss, learning_rate=learning_rate, max_iter=max_iter, max_leaf_nodes=max_leaf_nodes, max_depth=max_depth, min_samples_leaf=min_samples_leaf, l2_regularization=l2_regularization)"
   ]
  },
  {
   "attachments": {},
   "cell_type": "markdown",
   "metadata": {},
   "source": [
    "Bagging (for speed!)"
   ]
  },
  {
   "cell_type": "code",
   "execution_count": 19,
   "metadata": {},
   "outputs": [],
   "source": [
    "from sklearn.ensemble import BaggingClassifier\n",
    "\n",
    "#number of estimators\n",
    "n_estimators = 50\n",
    "\n",
    "bagged_model = BaggingClassifier(model, max_features=1/n_estimators, n_estimators=n_estimators)"
   ]
  },
  {
   "attachments": {},
   "cell_type": "markdown",
   "metadata": {},
   "source": [
    "LATE FUSION"
   ]
  },
  {
   "cell_type": "code",
   "execution_count": null,
   "metadata": {},
   "outputs": [
    {
     "ename": "UnboundLocalError",
     "evalue": "local variable 'model' referenced before assignment",
     "output_type": "error",
     "traceback": [
      "\u001b[1;31m---------------------------------------------------------------------------\u001b[0m\n",
      "\u001b[1;31mUnboundLocalError\u001b[0m                         Traceback (most recent call last)\n",
      "\u001b[1;32m~\\AppData\\Local\\Temp/ipykernel_21636/2313099154.py\u001b[0m in \u001b[0;36m<module>\u001b[1;34m\u001b[0m\n",
      "\u001b[0;32m      3\u001b[0m \u001b[1;33m\u001b[0m\u001b[0m\n",
      "\u001b[0;32m      4\u001b[0m \u001b[1;33m\u001b[0m\u001b[0m\n",
      "\u001b[1;32m----> 5\u001b[1;33m \u001b[0mfusion_pipe\u001b[0m \u001b[1;33m=\u001b[0m \u001b[0mPipeline\u001b[0m\u001b[1;33m(\u001b[0m\u001b[1;33m[\u001b[0m\u001b[1;33m(\u001b[0m\u001b[1;34m'scaler'\u001b[0m\u001b[1;33m,\u001b[0m \u001b[0mStandardScaler\u001b[0m\u001b[1;33m(\u001b[0m\u001b[1;33m)\u001b[0m\u001b[1;33m)\u001b[0m\u001b[1;33m,\u001b[0m \u001b[1;33m(\u001b[0m\u001b[1;34m'model_merging'\u001b[0m\u001b[1;33m,\u001b[0m \u001b[0mfused_models\u001b[0m\u001b[1;33m(\u001b[0m\u001b[1;33m)\u001b[0m\u001b[1;33m)\u001b[0m\u001b[1;33m,\u001b[0m\u001b[1;33m(\u001b[0m\u001b[1;34m'fuser'\u001b[0m\u001b[1;33m,\u001b[0m\u001b[0mmodel\u001b[0m\u001b[1;33m(\u001b[0m\u001b[1;33m)\u001b[0m\u001b[1;33m)\u001b[0m\u001b[1;33m]\u001b[0m\u001b[1;33m)\u001b[0m\u001b[1;33m\u001b[0m\u001b[1;33m\u001b[0m\u001b[0m\n",
      "\u001b[0m\u001b[0;32m      6\u001b[0m \u001b[0mfusion_pipe\u001b[0m\u001b[1;33m.\u001b[0m\u001b[0mfit\u001b[0m\u001b[1;33m(\u001b[0m\u001b[0mx_train\u001b[0m\u001b[1;33m,\u001b[0m\u001b[0my_train\u001b[0m\u001b[1;33m)\u001b[0m\u001b[1;33m\u001b[0m\u001b[1;33m\u001b[0m\u001b[0m\n",
      "\u001b[0;32m      7\u001b[0m \u001b[0mfusion_pipe\u001b[0m\u001b[1;33m.\u001b[0m\u001b[0mscore\u001b[0m\u001b[1;33m(\u001b[0m\u001b[0mx_test\u001b[0m\u001b[1;33m,\u001b[0m\u001b[0my_test\u001b[0m\u001b[1;33m)\u001b[0m\u001b[1;33m\u001b[0m\u001b[1;33m\u001b[0m\u001b[0m\n",
      "\n",
      "\u001b[1;32m~\\AppData\\Local\\Temp/ipykernel_21636/3630512055.py\u001b[0m in \u001b[0;36mfused_models\u001b[1;34m()\u001b[0m\n",
      "\u001b[0;32m      1\u001b[0m \u001b[1;31m#input list models to include\u001b[0m\u001b[1;33m\u001b[0m\u001b[1;33m\u001b[0m\u001b[0m\n",
      "\u001b[0;32m      2\u001b[0m \u001b[1;32mdef\u001b[0m \u001b[0mfused_models\u001b[0m\u001b[1;33m(\u001b[0m\u001b[1;33m)\u001b[0m\u001b[1;33m:\u001b[0m\u001b[1;33m\u001b[0m\u001b[1;33m\u001b[0m\u001b[0m\n",
      "\u001b[1;32m----> 3\u001b[1;33m     \u001b[0mmodels\u001b[0m \u001b[1;33m=\u001b[0m \u001b[1;33m[\u001b[0m\u001b[0mmodel\u001b[0m\u001b[1;33m]\u001b[0m\u001b[1;33m\u001b[0m\u001b[1;33m\u001b[0m\u001b[0m\n",
      "\u001b[0m\u001b[0;32m      4\u001b[0m \u001b[1;33m\u001b[0m\u001b[0m\n",
      "\u001b[0;32m      5\u001b[0m     \u001b[0mper_model_predictions\u001b[0m \u001b[1;33m=\u001b[0m \u001b[1;33m[\u001b[0m\u001b[1;33m]\u001b[0m\u001b[1;33m\u001b[0m\u001b[1;33m\u001b[0m\u001b[0m\n",
      "\n",
      "\u001b[1;31mUnboundLocalError\u001b[0m: local variable 'model' referenced before assignment"
     ]
    }
   ],
   "source": [
    "from sklearn.ensemble import StackingClassifier\n",
    "\n",
    "#which models to use for primary predictions\n",
    "estimators = []\n",
    "\n",
    "#which model to use for final prediction\n",
    "final_estimator = \n",
    "\n",
    "#k for cross validation for training of final_estimator\n",
    "cv = 10\n",
    "\n",
    "late_fused_model = StackingClassifier(estimators=estimators, final_estimator=final_estimator,cv=cv,n_jobs=-1)"
   ]
  },
  {
   "attachments": {},
   "cell_type": "markdown",
   "metadata": {},
   "source": [
    "Standard scaler pipeline"
   ]
  },
  {
   "cell_type": "code",
   "execution_count": null,
   "metadata": {},
   "outputs": [],
   "source": [
    "from sklearn.preprocessing import StandardScaler\n",
    "from sklearn.pipeline import Pipeline\n",
    "\n",
    "pipeline = Pipeline([('scaler', StandardScaler()), ('model',model_name_here)])"
   ]
  },
  {
   "attachments": {},
   "cell_type": "markdown",
   "metadata": {},
   "source": [
    "# Testing"
   ]
  },
  {
   "attachments": {},
   "cell_type": "markdown",
   "metadata": {},
   "source": [
    "COMBINED NODE FOR TESTING AND PRINTING BC IM LAZY"
   ]
  },
  {
   "cell_type": "code",
   "execution_count": 20,
   "metadata": {},
   "outputs": [
    {
     "name": "stdout",
     "output_type": "stream",
     "text": [
      "----------------------------------------\n",
      "\tAVG, STDEV TEST RESULTS\n",
      "----------------------------------------\n",
      "\t\tMEAN\t\tSTDEV\n",
      "f1:       \t0.235\t\t0.2281\n",
      "accuracy: \t0.4926\t\t0.0317\n",
      "precision:\t0.5514\t\t0.0325\n",
      "recall:   \t0.2289\t\t0.311\n"
     ]
    }
   ],
   "source": [
    "#desired metrics\n",
    "scoring=['f1','accuracy','precision','recall']\n",
    "\n",
    "#number of \"folds\"\n",
    "k=10\n",
    "\n",
    "cv_results = cross_validate(pipeline, merged_x, merged_y, cv=k, scoring=scoring)\n",
    "\n",
    "# pretty print results\n",
    "hline = (\"-\"*40)\n",
    "\n",
    "#print means, stdevs\n",
    "print(hline+\"\\n\\tAVG, STDEV TEST RESULTS\\n\"+hline)\n",
    "print(\"\\t\\tMEAN\\t\\tSTDEV\")\n",
    "for m in scoring:\n",
    "        ind = (\"test_\"+m)\n",
    "        test = (m+\":\").ljust(10)\n",
    "        print(f\"{test}\\t{np.round(cv_results[ind].mean(),4)}\\t\\t{np.round(cv_results[ind].std(),4)}\")"
   ]
  },
  {
   "attachments": {},
   "cell_type": "markdown",
   "metadata": {},
   "source": [
    "K-Fold testing \n",
    "\n",
    "(set model to variable *model*)"
   ]
  },
  {
   "cell_type": "code",
   "execution_count": null,
   "metadata": {},
   "outputs": [],
   "source": [
    "#desired metrics\n",
    "scoring=['f1','accuracy','precision','recall']\n",
    "\n",
    "#number of \"folds\"\n",
    "k=10\n",
    "\n",
    "cv_results = cross_validate(model, merged_x, merged_y, cv=k, scoring=scoring)"
   ]
  },
  {
   "attachments": {},
   "cell_type": "markdown",
   "metadata": {},
   "source": [
    "Pretty print results"
   ]
  },
  {
   "cell_type": "code",
   "execution_count": null,
   "metadata": {},
   "outputs": [],
   "source": [
    "hline = (\"-\"*40)\n",
    "\n",
    "#print means, stdevs\n",
    "print(hline+\"\\n\\tAVG, STDEV TEST RESULTS\\n\"+hline)\n",
    "print(\"\\t\\tMEAN\\t\\tSTDEV\")\n",
    "for m in scoring:\n",
    "        ind = (\"test_\"+m)\n",
    "        test = (m+\":\").ljust(10)\n",
    "        print(f\"{test}\\t{np.round(cv_results[ind].mean(),4)}\\t\\t{np.round(cv_results[ind].std(),4)}\")\n",
    "\n",
    "\n",
    "    ##print per test results (if you really want, uncomment)\n",
    "# print(\"\\n\")\n",
    "# print(hline+\"\\n\\tPER TEST RESULTS\\n\"+hline)\n",
    "# for i in range(k):\n",
    "#     print(f\"Test {i}:\")\n",
    "#     for m in scoring:\n",
    "#         ind = (\"test_\"+m)\n",
    "#         test = (m+\":\").ljust(10)\n",
    "#         print(f\"\\t{test} {np.round(cv_results[ind][i],5)}\")"
   ]
  },
  {
   "attachments": {},
   "cell_type": "markdown",
   "metadata": {},
   "source": [
    "Testing Split"
   ]
  },
  {
   "cell_type": "code",
   "execution_count": 21,
   "metadata": {},
   "outputs": [],
   "source": [
    "x_train, x_test, y_train, y_test = train_test_split(merged_x, merged_y, test_size=0.5, random_state=2)"
   ]
  },
  {
   "attachments": {},
   "cell_type": "markdown",
   "metadata": {},
   "source": [
    "Grid Searching for Best Parameters\n",
    "\n",
    "must have parameters for variable in *params*"
   ]
  },
  {
   "cell_type": "code",
   "execution_count": null,
   "metadata": {},
   "outputs": [],
   "source": [
    "from sklearn.model_selection import GridSearchCV\n",
    "\n",
    "grid_search = GridSearchCV(model, param_grid=param_grid, scoring='f1', cv=5)\n",
    "grid_search.fit(merged_x,merged_y)\n",
    "print(grid_search.best_params_)\n",
    "print(grid_search.score(merged_x,merged_y))"
   ]
  },
  {
   "attachments": {},
   "cell_type": "markdown",
   "metadata": {},
   "source": [
    "Optimizing with halving random grid search"
   ]
  },
  {
   "cell_type": "code",
   "execution_count": null,
   "metadata": {},
   "outputs": [],
   "source": [
    "from sklearn.experimental import enable_halving_search_cv\n",
    "from sklearn.model_selection import HalvingGridSearchCV\n",
    "\n",
    "hg_search = HalvingGridSearchCV(model, param_grid=param_grid, scoring='f1', cv=10)\n",
    "hg_search.fit(merged_x,merged_y)\n",
    "print(hg_search.best_params_)\n",
    "print(hg_search.score(merged_x,merged_y))"
   ]
  },
  {
   "attachments": {},
   "cell_type": "markdown",
   "metadata": {},
   "source": [
    "Feature Selection"
   ]
  },
  {
   "cell_type": "code",
   "execution_count": null,
   "metadata": {},
   "outputs": [],
   "source": [
    "from sklearn.feature_selection import RFECV\n",
    "\n",
    "selector = RFECV(model, step=1, cv=10) \n",
    "selector = selector.fit(merged_x,merged_y)\n",
    "print(selector.support_)\n",
    "print(selector.ranking_)"
   ]
  },
  {
   "cell_type": "code",
   "execution_count": null,
   "metadata": {},
   "outputs": [],
   "source": [
    "absx = merged_x.apply(lambda x: x+1)\n",
    "absx"
   ]
  },
  {
   "cell_type": "code",
   "execution_count": null,
   "metadata": {},
   "outputs": [],
   "source": [
    "from sklearn.feature_selection import SelectKBest, chi2\n",
    "\n",
    "print(merged_x.shape)\n",
    "new_x = SelectKBest(chi2, k='all')\n",
    "out = new_x.fit_transform(absx, merged_y)\n",
    "print(new_x.scores_)\n",
    "print(new_x.feature_names_in_)\n",
    "print(out.shape)\n",
    "\n",
    "# SELECTKBEST: [3.25559172e+02 5.59255454e-03 2.75958219e+01 3.66946669e+02\n",
    "#  3.42079412e+01 4.36649522e+01 1.85080492e+04 6.30872323e+01\n",
    "#  7.68359033e-01 3.83305432e-01 1.04268202e-02]\n",
    "# -['Review_Count' '%_Image' '%_Verified' 'Total_Votes'\n",
    "#  'Review_Avg_Sentiment' 'Summary_Avg_Sentiment' 'Review_Length'\n",
    "#  'Summary_Length' 'Summary_Percent_Uppercase' 'Review_Percent_Uppercase'\n",
    "#  'Actual_Awesomeness']\n",
    "#-> RFECV: [1 3 1 1 1 1 1 1 1 2]\n",
    "\n",
    "# SO: \n",
    "# Seems like %_image, actual_awesomeness do the least. Percent_uppercases do the next worst.\n",
    "# -> lets try cutting them out!\n",
    "\n",
    "#->\n",
    "# [  325.55917172    27.59582185   366.94666861    34.20794125\n",
    "#     43.6649522  18508.04915683    63.08723227]\n",
    "# ['Review_Count' '%_Verified' 'Total_Votes' 'Review_Avg_Sentiment'\n",
    "#  'Summary_Avg_Sentiment' 'Review_Length' 'Summary_Length']\n",
    "# -> RFECV2: [4 1 5 1 1 3 2]\n",
    "#"
   ]
  },
  {
   "attachments": {},
   "cell_type": "markdown",
   "metadata": {},
   "source": [
    "ROC Curve"
   ]
  },
  {
   "cell_type": "code",
   "execution_count": 22,
   "metadata": {},
   "outputs": [
    {
     "data": {
      "image/png": "[encoded data removed]",
      "text/plain": [
       "<Figure size 432x288 with 1 Axes>"
      ]
     },
     "metadata": {
      "needs_background": "dark"
     },
     "output_type": "display_data"
    }
   ],
   "source": [
    "y_pred = model.fit(x_train, y_train).predict(x_test)\n",
    "\n",
    "fpr, tpr, thresholds = metrics.roc_curve(y_test,y_pred)\n",
    "AUROC = metrics.auc(fpr, tpr)\n",
    "\n",
    "disp = metrics.RocCurveDisplay(fpr=fpr,tpr=tpr,roc_auc=AUROC)\n",
    "\n",
    "\n",
    "\n",
    "fig = plt.figure()\n",
    "ax = fig.add_subplot()\n",
    "ax.tick_params(axis='x', colors='white') \n",
    "ax.tick_params(axis='y', colors='white') \n",
    "ax.spines['left'].set_color('white') \n",
    "ax.spines['bottom'].set_color('white') \n",
    "\n",
    "plt.rcParams['figure.figsize'] = [10, 10]\n",
    "plt.xlabel(\"X\",fontsize=20, color='white')\n",
    "plt.ylabel(\"Y\",fontsize=20, color='white')\n",
    "plt.title(\"Area Under ROC Curve\", fontsize = 20, color='white')\n",
    "\n",
    "disp.plot(ax)\n",
    "\n",
    "plt.show()"
   ]
  },
  {
   "attachments": {},
   "cell_type": "markdown",
   "metadata": {},
   "source": [
    "# Getting Prediction for Test Data"
   ]
  },
  {
   "attachments": {},
   "cell_type": "markdown",
   "metadata": {},
   "source": [
    "Loading in test training data"
   ]
  },
  {
   "cell_type": "code",
   "execution_count": null,
   "metadata": {},
   "outputs": [],
   "source": [
    "test_x = pd.read_json(PATH_TO_CDS + 'test1/review_test.json')\n",
    "test_y = pd.read_json(PATH_TO_CDS + 'test1/product_test.json')"
   ]
  },
  {
   "attachments": {},
   "cell_type": "markdown",
   "metadata": {},
   "source": [
    "Make prediction"
   ]
  },
  {
   "cell_type": "code",
   "execution_count": null,
   "metadata": {},
   "outputs": [],
   "source": [
    "model.fit(merged_x) #?????\n",
    "predictions = model.predict(test_x)\n",
    "predictions = pd.merge(test_y,predictions,'inner','asin') #not sure if needed"
   ]
  },
  {
   "attachments": {},
   "cell_type": "markdown",
   "metadata": {},
   "source": [
    "Output predictions to file!"
   ]
  },
  {
   "cell_type": "code",
   "execution_count": null,
   "metadata": {},
   "outputs": [],
   "source": [
    "#turn predictions into json\n",
    "json_str = predictions.to_json()\n",
    "\n",
    "#output json to file\n",
    "with open('predictions.json', 'w') as f:\n",
    "    f.write(json_str)"
   ]
  }
 ],
 "metadata": {
  "kernelspec": {
   "display_name": "Python 3",
   "language": "python",
   "name": "python3"
  },
  "language_info": {
   "codemirror_mode": {
    "name": "ipython",
    "version": 3
   },
   "file_extension": ".py",
   "mimetype": "text/x-python",
   "name": "python",
   "nbconvert_exporter": "python",
   "pygments_lexer": "ipython3",
   "version": "3.10.1"
  },
  "orig_nbformat": 4,
  "vscode": {
   "interpreter": {
    "hash": "aee8b7b246df8f9039afb4144a1f6fd8d2ca17a180786b69acc140d282b71a49"
   }
  }
 },
 "nbformat": 4,
 "nbformat_minor": 2
}
