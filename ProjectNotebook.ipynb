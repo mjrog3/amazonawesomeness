{
 "cells": [
  {
   "attachments": {},
   "cell_type": "markdown",
   "metadata": {},
   "source": [
    "**Imports**\n",
    "\n",
    "Data"
   ]
  },
  {
   "cell_type": "code",
   "execution_count": 38,
   "metadata": {},
   "outputs": [],
   "source": [
    "#enter the path to get to your CDs_and_Vinyl folder below\n",
    "PATH_TO_CDS = '../devided_dataset_v2/CDs_and_Vinyl/'\n",
    "\n",
    "import pandas as pd\n",
    "\n",
    "# Open and load json training files\n",
    "x = pd.read_json(PATH_TO_CDS + 'train\\\\review_training.json')\n",
    "y = pd.read_json(PATH_TO_CDS + 'train\\\\product_training.json')"
   ]
  },
  {
   "attachments": {},
   "cell_type": "markdown",
   "metadata": {},
   "source": [
    "Other"
   ]
  },
  {
   "cell_type": "code",
   "execution_count": 40,
   "metadata": {},
   "outputs": [],
   "source": [
    "import numpy as np"
   ]
  },
  {
   "cell_type": "markdown",
   "metadata": {},
   "source": [
    "**Pre Processing**"
   ]
  },
  {
   "cell_type": "code",
   "execution_count": 23,
   "metadata": {},
   "outputs": [],
   "source": [
    "#z = pd.merge(x,y,'inner','asin')\n",
    "#zgrouped = z.groupby(\"asin\")"
   ]
  },
  {
   "cell_type": "code",
   "execution_count": 24,
   "metadata": {},
   "outputs": [
    {
     "data": {
      "text/html": [
       "<div>\n",
       "<style scoped>\n",
       "    .dataframe tbody tr th:only-of-type {\n",
       "        vertical-align: middle;\n",
       "    }\n",
       "\n",
       "    .dataframe tbody tr th {\n",
       "        vertical-align: top;\n",
       "    }\n",
       "\n",
       "    .dataframe thead th {\n",
       "        text-align: right;\n",
       "    }\n",
       "</style>\n",
       "<table border=\"1\" class=\"dataframe\">\n",
       "  <thead>\n",
       "    <tr style=\"text-align: right;\">\n",
       "      <th></th>\n",
       "      <th>asin</th>\n",
       "      <th>awesomeness</th>\n",
       "    </tr>\n",
       "  </thead>\n",
       "  <tbody>\n",
       "    <tr>\n",
       "      <th>0</th>\n",
       "      <td>0000B049F5B33CD310EB1AB236E20191</td>\n",
       "      <td>1</td>\n",
       "    </tr>\n",
       "    <tr>\n",
       "      <th>1</th>\n",
       "      <td>00018184A9EC4D270219A296B2580303</td>\n",
       "      <td>0</td>\n",
       "    </tr>\n",
       "    <tr>\n",
       "      <th>2</th>\n",
       "      <td>000281A9CAC43FF1F335726A390636DA</td>\n",
       "      <td>0</td>\n",
       "    </tr>\n",
       "    <tr>\n",
       "      <th>3</th>\n",
       "      <td>00030884DF109F325638A6BFD5B13CFF</td>\n",
       "      <td>1</td>\n",
       "    </tr>\n",
       "    <tr>\n",
       "      <th>4</th>\n",
       "      <td>000325BA25966B5FC701D5D2B5DBA4E0</td>\n",
       "      <td>0</td>\n",
       "    </tr>\n",
       "    <tr>\n",
       "      <th>...</th>\n",
       "      <td>...</td>\n",
       "      <td>...</td>\n",
       "    </tr>\n",
       "    <tr>\n",
       "      <th>73077</th>\n",
       "      <td>FFFDD3C72D23AF858D6E0ED92612370D</td>\n",
       "      <td>1</td>\n",
       "    </tr>\n",
       "    <tr>\n",
       "      <th>73078</th>\n",
       "      <td>FFFDDE284A73B29B320381487EC7DE9E</td>\n",
       "      <td>1</td>\n",
       "    </tr>\n",
       "    <tr>\n",
       "      <th>73079</th>\n",
       "      <td>FFFEB3EE2372807964F024707D50FB21</td>\n",
       "      <td>0</td>\n",
       "    </tr>\n",
       "    <tr>\n",
       "      <th>73080</th>\n",
       "      <td>FFFF4545AB232D81D0F9B208388BB7AA</td>\n",
       "      <td>1</td>\n",
       "    </tr>\n",
       "    <tr>\n",
       "      <th>73081</th>\n",
       "      <td>FFFF5A3D9CB0B40FF0FE6B95F05D26FE</td>\n",
       "      <td>1</td>\n",
       "    </tr>\n",
       "  </tbody>\n",
       "</table>\n",
       "<p>73082 rows × 2 columns</p>\n",
       "</div>"
      ],
      "text/plain": [
       "                                   asin  awesomeness\n",
       "0      0000B049F5B33CD310EB1AB236E20191            1\n",
       "1      00018184A9EC4D270219A296B2580303            0\n",
       "2      000281A9CAC43FF1F335726A390636DA            0\n",
       "3      00030884DF109F325638A6BFD5B13CFF            1\n",
       "4      000325BA25966B5FC701D5D2B5DBA4E0            0\n",
       "...                                 ...          ...\n",
       "73077  FFFDD3C72D23AF858D6E0ED92612370D            1\n",
       "73078  FFFDDE284A73B29B320381487EC7DE9E            1\n",
       "73079  FFFEB3EE2372807964F024707D50FB21            0\n",
       "73080  FFFF4545AB232D81D0F9B208388BB7AA            1\n",
       "73081  FFFF5A3D9CB0B40FF0FE6B95F05D26FE            1\n",
       "\n",
       "[73082 rows x 2 columns]"
      ]
     },
     "execution_count": 24,
     "metadata": {},
     "output_type": "execute_result"
    }
   ],
   "source": [
    "x #770786 entries\n",
    "y #073082 entries"
   ]
  },
  {
   "attachments": {},
   "cell_type": "markdown",
   "metadata": {},
   "source": [
    "Feature creation testing"
   ]
  },
  {
   "attachments": {},
   "cell_type": "markdown",
   "metadata": {},
   "source": [
    "Making a single feature ex"
   ]
  },
  {
   "cell_type": "code",
   "execution_count": 41,
   "metadata": {},
   "outputs": [
    {
     "data": {
      "text/plain": [
       "asin\n",
       "0000B049F5B33CD310EB1AB236E20191     4\n",
       "00018184A9EC4D270219A296B2580303    18\n",
       "000281A9CAC43FF1F335726A390636DA     4\n",
       "00030884DF109F325638A6BFD5B13CFF    29\n",
       "000325BA25966B5FC701D5D2B5DBA4E0     4\n",
       "                                    ..\n",
       "FFFDD3C72D23AF858D6E0ED92612370D    64\n",
       "FFFDDE284A73B29B320381487EC7DE9E     4\n",
       "FFFEB3EE2372807964F024707D50FB21     2\n",
       "FFFF4545AB232D81D0F9B208388BB7AA     7\n",
       "FFFF5A3D9CB0B40FF0FE6B95F05D26FE    27\n",
       "Name: reviewerID, Length: 73082, dtype: int64"
      ]
     },
     "execution_count": 41,
     "metadata": {},
     "output_type": "execute_result"
    }
   ],
   "source": [
    "reviewCount = x.groupby('asin')[\"reviewerID\"].count()\n",
    "reviewCount"
   ]
  },
  {
   "cell_type": "code",
   "execution_count": 42,
   "metadata": {},
   "outputs": [],
   "source": [
    "unixReviewMean = x.groupby('asin')['unixReviewTime'].mean()\n"
   ]
  },
  {
   "attachments": {},
   "cell_type": "markdown",
   "metadata": {},
   "source": [
    "Dropping ex"
   ]
  },
  {
   "cell_type": "code",
   "execution_count": 27,
   "metadata": {},
   "outputs": [
    {
     "data": {
      "text/html": [
       "<div>\n",
       "<style scoped>\n",
       "    .dataframe tbody tr th:only-of-type {\n",
       "        vertical-align: middle;\n",
       "    }\n",
       "\n",
       "    .dataframe tbody tr th {\n",
       "        vertical-align: top;\n",
       "    }\n",
       "\n",
       "    .dataframe thead th {\n",
       "        text-align: right;\n",
       "    }\n",
       "</style>\n",
       "<table border=\"1\" class=\"dataframe\">\n",
       "  <thead>\n",
       "    <tr style=\"text-align: right;\">\n",
       "      <th></th>\n",
       "      <th>asin</th>\n",
       "      <th>reviewerID</th>\n",
       "      <th>unixReviewTime</th>\n",
       "      <th>vote</th>\n",
       "      <th>verified</th>\n",
       "      <th>reviewTime</th>\n",
       "      <th>style</th>\n",
       "      <th>reviewerName</th>\n",
       "      <th>reviewText</th>\n",
       "      <th>summary</th>\n",
       "      <th>image</th>\n",
       "    </tr>\n",
       "  </thead>\n",
       "  <tbody>\n",
       "    <tr>\n",
       "      <th>1</th>\n",
       "      <td>690819436E20BB31657AF6B58B984DD4</td>\n",
       "      <td>6E9ABBD26A27C2B2851D1EC34A01CBDC</td>\n",
       "      <td>1113523200</td>\n",
       "      <td>9</td>\n",
       "      <td>False</td>\n",
       "      <td>04 15, 2005</td>\n",
       "      <td>{'Format:': ' Audio CD'}</td>\n",
       "      <td>8DC0611245A871AC51BBEEBB85F33A58</td>\n",
       "      <td>These guys can sing!  Such classic tunes...poi...</td>\n",
       "      <td>Under Appreciated....</td>\n",
       "      <td>None</td>\n",
       "    </tr>\n",
       "    <tr>\n",
       "      <th>2</th>\n",
       "      <td>A680D4753F0CEA2252C168A6ACB2B623</td>\n",
       "      <td>B637C3C93E61094474710F456928BE9F</td>\n",
       "      <td>1126137600</td>\n",
       "      <td>None</td>\n",
       "      <td>False</td>\n",
       "      <td>09 8, 2005</td>\n",
       "      <td>None</td>\n",
       "      <td>2259386624CFA0EC53A75A50A9BB57A5</td>\n",
       "      <td>Snoop Doggy Dogg made a classic album, DoggySt...</td>\n",
       "      <td>DoggyStyle</td>\n",
       "      <td>None</td>\n",
       "    </tr>\n",
       "    <tr>\n",
       "      <th>3</th>\n",
       "      <td>F4A966F1FA340B16651D676BC246D227</td>\n",
       "      <td>AA7918E9410D650A076221C7B2934A09</td>\n",
       "      <td>954979200</td>\n",
       "      <td>None</td>\n",
       "      <td>False</td>\n",
       "      <td>04 6, 2000</td>\n",
       "      <td>{'Format:': ' Audio CD'}</td>\n",
       "      <td>7A65A155C993535BC99CBCB39E7161B5</td>\n",
       "      <td>Stevie Nicks Has had Her Moments. I Like Some ...</td>\n",
       "      <td>Pretty Good but a Bit Dated</td>\n",
       "      <td>None</td>\n",
       "    </tr>\n",
       "    <tr>\n",
       "      <th>5</th>\n",
       "      <td>53F7DB69E39E3E6F443107964A197EF2</td>\n",
       "      <td>B62364696E8A2EA88E42FE885749893A</td>\n",
       "      <td>1342483200</td>\n",
       "      <td>None</td>\n",
       "      <td>False</td>\n",
       "      <td>07 17, 2012</td>\n",
       "      <td>{'Format:': ' Audio CD'}</td>\n",
       "      <td>7FE2EED9AE800162228DBCF6FAF57D16</td>\n",
       "      <td>This album is 2 stars because some of the song...</td>\n",
       "      <td>2/5</td>\n",
       "      <td>None</td>\n",
       "    </tr>\n",
       "    <tr>\n",
       "      <th>6</th>\n",
       "      <td>227BB436F8D070C633065188BA5E86B8</td>\n",
       "      <td>44E089A2E50AD3C40460E3476E44FB97</td>\n",
       "      <td>1422835200</td>\n",
       "      <td>None</td>\n",
       "      <td>False</td>\n",
       "      <td>02 2, 2015</td>\n",
       "      <td>None</td>\n",
       "      <td>5FA5B57C2222EBC96BFF92A9837ADE77</td>\n",
       "      <td>The new Rock or Bust album sounds like it was ...</td>\n",
       "      <td>The new Rock or Bust album sounds like it was ...</td>\n",
       "      <td>None</td>\n",
       "    </tr>\n",
       "    <tr>\n",
       "      <th>...</th>\n",
       "      <td>...</td>\n",
       "      <td>...</td>\n",
       "      <td>...</td>\n",
       "      <td>...</td>\n",
       "      <td>...</td>\n",
       "      <td>...</td>\n",
       "      <td>...</td>\n",
       "      <td>...</td>\n",
       "      <td>...</td>\n",
       "      <td>...</td>\n",
       "      <td>...</td>\n",
       "    </tr>\n",
       "    <tr>\n",
       "      <th>770777</th>\n",
       "      <td>D1252C5B6CB821FC38F5681FFEDE7424</td>\n",
       "      <td>067B15441E9FAD6BC033B1F2DA99587E</td>\n",
       "      <td>1282867200</td>\n",
       "      <td>None</td>\n",
       "      <td>False</td>\n",
       "      <td>08 27, 2010</td>\n",
       "      <td>{'Format:': ' Audio CD'}</td>\n",
       "      <td>94D644AB716093162A84FE4D60EEA75E</td>\n",
       "      <td>--superb rockin' soul pop folk music.\\n--tunes...</td>\n",
       "      <td>SHE'S TOPS!</td>\n",
       "      <td>None</td>\n",
       "    </tr>\n",
       "    <tr>\n",
       "      <th>770782</th>\n",
       "      <td>9BC50277D18FAB423AD33C8CE4CC000D</td>\n",
       "      <td>EF922377A87E9D01F50065F2DA1722A8</td>\n",
       "      <td>1290556800</td>\n",
       "      <td>None</td>\n",
       "      <td>False</td>\n",
       "      <td>11 24, 2010</td>\n",
       "      <td>None</td>\n",
       "      <td>0441BC4F6B7BD180769FDCDD8E603560</td>\n",
       "      <td>I have owned a CD copy of this show for at lea...</td>\n",
       "      <td>Forgettable R&amp;H</td>\n",
       "      <td>None</td>\n",
       "    </tr>\n",
       "    <tr>\n",
       "      <th>770783</th>\n",
       "      <td>4062627CA1586E517520483964299349</td>\n",
       "      <td>E1F0B0EBC6A36F33301E4FD0B3D62D52</td>\n",
       "      <td>1311120000</td>\n",
       "      <td>3</td>\n",
       "      <td>False</td>\n",
       "      <td>07 20, 2011</td>\n",
       "      <td>{'Format:': ' Audio CD'}</td>\n",
       "      <td>8AB3EEBF23F3583A4396A57DB291D548</td>\n",
       "      <td>carnival of souls to me is bad i gave my cd aw...</td>\n",
       "      <td>Darren d.</td>\n",
       "      <td>None</td>\n",
       "    </tr>\n",
       "    <tr>\n",
       "      <th>770784</th>\n",
       "      <td>0AE44A6A9176E6A52507B6ABDDA80B00</td>\n",
       "      <td>DDDC81E6B8C3F8C91867F9AECB385135</td>\n",
       "      <td>1111968000</td>\n",
       "      <td>2</td>\n",
       "      <td>False</td>\n",
       "      <td>03 28, 2005</td>\n",
       "      <td>{'Format:': ' Audio CD'}</td>\n",
       "      <td>51B2E62E0A5864316BDB33FD4A729B37</td>\n",
       "      <td>This is an awesome slayer album. I love the th...</td>\n",
       "      <td>awesome slayer cd</td>\n",
       "      <td>None</td>\n",
       "    </tr>\n",
       "    <tr>\n",
       "      <th>770785</th>\n",
       "      <td>E4CDE9C72DB665961BE969B082806619</td>\n",
       "      <td>27FDC1E110DB45E1A7E0CCEABECF8632</td>\n",
       "      <td>1105401600</td>\n",
       "      <td>None</td>\n",
       "      <td>False</td>\n",
       "      <td>01 11, 2005</td>\n",
       "      <td>{'Format:': ' Audio CD'}</td>\n",
       "      <td>A7487BE472C2B632FCE5F097B47F5DE0</td>\n",
       "      <td>Smile is Brian's gift to a sick and troubled w...</td>\n",
       "      <td>Music just doesn't get any better...</td>\n",
       "      <td>None</td>\n",
       "    </tr>\n",
       "  </tbody>\n",
       "</table>\n",
       "<p>369379 rows × 11 columns</p>\n",
       "</div>"
      ],
      "text/plain": [
       "                                    asin                        reviewerID   \n",
       "1       690819436E20BB31657AF6B58B984DD4  6E9ABBD26A27C2B2851D1EC34A01CBDC  \\\n",
       "2       A680D4753F0CEA2252C168A6ACB2B623  B637C3C93E61094474710F456928BE9F   \n",
       "3       F4A966F1FA340B16651D676BC246D227  AA7918E9410D650A076221C7B2934A09   \n",
       "5       53F7DB69E39E3E6F443107964A197EF2  B62364696E8A2EA88E42FE885749893A   \n",
       "6       227BB436F8D070C633065188BA5E86B8  44E089A2E50AD3C40460E3476E44FB97   \n",
       "...                                  ...                               ...   \n",
       "770777  D1252C5B6CB821FC38F5681FFEDE7424  067B15441E9FAD6BC033B1F2DA99587E   \n",
       "770782  9BC50277D18FAB423AD33C8CE4CC000D  EF922377A87E9D01F50065F2DA1722A8   \n",
       "770783  4062627CA1586E517520483964299349  E1F0B0EBC6A36F33301E4FD0B3D62D52   \n",
       "770784  0AE44A6A9176E6A52507B6ABDDA80B00  DDDC81E6B8C3F8C91867F9AECB385135   \n",
       "770785  E4CDE9C72DB665961BE969B082806619  27FDC1E110DB45E1A7E0CCEABECF8632   \n",
       "\n",
       "        unixReviewTime  vote  verified   reviewTime                     style   \n",
       "1           1113523200     9     False  04 15, 2005  {'Format:': ' Audio CD'}  \\\n",
       "2           1126137600  None     False   09 8, 2005                      None   \n",
       "3            954979200  None     False   04 6, 2000  {'Format:': ' Audio CD'}   \n",
       "5           1342483200  None     False  07 17, 2012  {'Format:': ' Audio CD'}   \n",
       "6           1422835200  None     False   02 2, 2015                      None   \n",
       "...                ...   ...       ...          ...                       ...   \n",
       "770777      1282867200  None     False  08 27, 2010  {'Format:': ' Audio CD'}   \n",
       "770782      1290556800  None     False  11 24, 2010                      None   \n",
       "770783      1311120000     3     False  07 20, 2011  {'Format:': ' Audio CD'}   \n",
       "770784      1111968000     2     False  03 28, 2005  {'Format:': ' Audio CD'}   \n",
       "770785      1105401600  None     False  01 11, 2005  {'Format:': ' Audio CD'}   \n",
       "\n",
       "                            reviewerName   \n",
       "1       8DC0611245A871AC51BBEEBB85F33A58  \\\n",
       "2       2259386624CFA0EC53A75A50A9BB57A5   \n",
       "3       7A65A155C993535BC99CBCB39E7161B5   \n",
       "5       7FE2EED9AE800162228DBCF6FAF57D16   \n",
       "6       5FA5B57C2222EBC96BFF92A9837ADE77   \n",
       "...                                  ...   \n",
       "770777  94D644AB716093162A84FE4D60EEA75E   \n",
       "770782  0441BC4F6B7BD180769FDCDD8E603560   \n",
       "770783  8AB3EEBF23F3583A4396A57DB291D548   \n",
       "770784  51B2E62E0A5864316BDB33FD4A729B37   \n",
       "770785  A7487BE472C2B632FCE5F097B47F5DE0   \n",
       "\n",
       "                                               reviewText   \n",
       "1       These guys can sing!  Such classic tunes...poi...  \\\n",
       "2       Snoop Doggy Dogg made a classic album, DoggySt...   \n",
       "3       Stevie Nicks Has had Her Moments. I Like Some ...   \n",
       "5       This album is 2 stars because some of the song...   \n",
       "6       The new Rock or Bust album sounds like it was ...   \n",
       "...                                                   ...   \n",
       "770777  --superb rockin' soul pop folk music.\\n--tunes...   \n",
       "770782  I have owned a CD copy of this show for at lea...   \n",
       "770783  carnival of souls to me is bad i gave my cd aw...   \n",
       "770784  This is an awesome slayer album. I love the th...   \n",
       "770785  Smile is Brian's gift to a sick and troubled w...   \n",
       "\n",
       "                                                  summary image  \n",
       "1                                   Under Appreciated....  None  \n",
       "2                                              DoggyStyle  None  \n",
       "3                             Pretty Good but a Bit Dated  None  \n",
       "5                                                     2/5  None  \n",
       "6       The new Rock or Bust album sounds like it was ...  None  \n",
       "...                                                   ...   ...  \n",
       "770777                                        SHE'S TOPS!  None  \n",
       "770782                                    Forgettable R&H  None  \n",
       "770783                                          Darren d.  None  \n",
       "770784                                  awesome slayer cd  None  \n",
       "770785               Music just doesn't get any better...  None  \n",
       "\n",
       "[369379 rows x 11 columns]"
      ]
     },
     "execution_count": 27,
     "metadata": {},
     "output_type": "execute_result"
    }
   ],
   "source": [
    "dropUnverified = x[x.verified != True]\n",
    "dropUnverified"
   ]
  },
  {
   "attachments": {},
   "cell_type": "markdown",
   "metadata": {},
   "source": [
    "Merging tests"
   ]
  },
  {
   "cell_type": "code",
   "execution_count": 43,
   "metadata": {},
   "outputs": [
    {
     "data": {
      "text/html": [
       "<div>\n",
       "<style scoped>\n",
       "    .dataframe tbody tr th:only-of-type {\n",
       "        vertical-align: middle;\n",
       "    }\n",
       "\n",
       "    .dataframe tbody tr th {\n",
       "        vertical-align: top;\n",
       "    }\n",
       "\n",
       "    .dataframe thead th {\n",
       "        text-align: right;\n",
       "    }\n",
       "</style>\n",
       "<table border=\"1\" class=\"dataframe\">\n",
       "  <thead>\n",
       "    <tr style=\"text-align: right;\">\n",
       "      <th></th>\n",
       "      <th>reviewerID</th>\n",
       "      <th>unixReviewTime</th>\n",
       "    </tr>\n",
       "    <tr>\n",
       "      <th>asin</th>\n",
       "      <th></th>\n",
       "      <th></th>\n",
       "    </tr>\n",
       "  </thead>\n",
       "  <tbody>\n",
       "    <tr>\n",
       "      <th>0000B049F5B33CD310EB1AB236E20191</th>\n",
       "      <td>4</td>\n",
       "      <td>1.296583e+09</td>\n",
       "    </tr>\n",
       "    <tr>\n",
       "      <th>00018184A9EC4D270219A296B2580303</th>\n",
       "      <td>18</td>\n",
       "      <td>1.111282e+09</td>\n",
       "    </tr>\n",
       "    <tr>\n",
       "      <th>000281A9CAC43FF1F335726A390636DA</th>\n",
       "      <td>4</td>\n",
       "      <td>1.254960e+09</td>\n",
       "    </tr>\n",
       "    <tr>\n",
       "      <th>00030884DF109F325638A6BFD5B13CFF</th>\n",
       "      <td>29</td>\n",
       "      <td>1.315392e+09</td>\n",
       "    </tr>\n",
       "    <tr>\n",
       "      <th>000325BA25966B5FC701D5D2B5DBA4E0</th>\n",
       "      <td>4</td>\n",
       "      <td>1.363802e+09</td>\n",
       "    </tr>\n",
       "    <tr>\n",
       "      <th>...</th>\n",
       "      <td>...</td>\n",
       "      <td>...</td>\n",
       "    </tr>\n",
       "    <tr>\n",
       "      <th>FFFDD3C72D23AF858D6E0ED92612370D</th>\n",
       "      <td>64</td>\n",
       "      <td>1.258704e+09</td>\n",
       "    </tr>\n",
       "    <tr>\n",
       "      <th>FFFDDE284A73B29B320381487EC7DE9E</th>\n",
       "      <td>4</td>\n",
       "      <td>1.353758e+09</td>\n",
       "    </tr>\n",
       "    <tr>\n",
       "      <th>FFFEB3EE2372807964F024707D50FB21</th>\n",
       "      <td>2</td>\n",
       "      <td>1.349050e+09</td>\n",
       "    </tr>\n",
       "    <tr>\n",
       "      <th>FFFF4545AB232D81D0F9B208388BB7AA</th>\n",
       "      <td>7</td>\n",
       "      <td>1.427846e+09</td>\n",
       "    </tr>\n",
       "    <tr>\n",
       "      <th>FFFF5A3D9CB0B40FF0FE6B95F05D26FE</th>\n",
       "      <td>27</td>\n",
       "      <td>1.141706e+09</td>\n",
       "    </tr>\n",
       "  </tbody>\n",
       "</table>\n",
       "<p>73082 rows × 2 columns</p>\n",
       "</div>"
      ],
      "text/plain": [
       "                                  reviewerID  unixReviewTime\n",
       "asin                                                        \n",
       "0000B049F5B33CD310EB1AB236E20191           4    1.296583e+09\n",
       "00018184A9EC4D270219A296B2580303          18    1.111282e+09\n",
       "000281A9CAC43FF1F335726A390636DA           4    1.254960e+09\n",
       "00030884DF109F325638A6BFD5B13CFF          29    1.315392e+09\n",
       "000325BA25966B5FC701D5D2B5DBA4E0           4    1.363802e+09\n",
       "...                                      ...             ...\n",
       "FFFDD3C72D23AF858D6E0ED92612370D          64    1.258704e+09\n",
       "FFFDDE284A73B29B320381487EC7DE9E           4    1.353758e+09\n",
       "FFFEB3EE2372807964F024707D50FB21           2    1.349050e+09\n",
       "FFFF4545AB232D81D0F9B208388BB7AA           7    1.427846e+09\n",
       "FFFF5A3D9CB0B40FF0FE6B95F05D26FE          27    1.141706e+09\n",
       "\n",
       "[73082 rows x 2 columns]"
      ]
     },
     "execution_count": 43,
     "metadata": {},
     "output_type": "execute_result"
    }
   ],
   "source": [
    "z = pd.merge(reviewCount,unixReviewMean,'inner','asin')\n",
    "\n",
    "z"
   ]
  },
  {
   "attachments": {},
   "cell_type": "markdown",
   "metadata": {},
   "source": [
    "groupby() testing"
   ]
  },
  {
   "cell_type": "code",
   "execution_count": null,
   "metadata": {},
   "outputs": [],
   "source": [
    "tests = range(5)\n",
    "unique_items = z[\"asin\"].nunique()\n",
    "print(\"ui: \", unique_items)\n",
    "\n",
    "asin = z[\"asin\"].values\n",
    "print(\"asin: \",asin)\n",
    "avg_votes = np.zeros(len(asin))\n",
    "\n",
    "for i in tests: # eventually all\n",
    "    item = zgrouped.get_group(asin[i])\n",
    "    avg_votes[i] = item[\"vote\"].fillna(0).astype(int).mean()\n",
    "\n",
    "print(\"avg_votes: \", avg_votes[0:5])"
   ]
  },
  {
   "attachments": {},
   "cell_type": "markdown",
   "metadata": {},
   "source": [
    "**Testing**"
   ]
  },
  {
   "attachments": {},
   "cell_type": "markdown",
   "metadata": {},
   "source": [
    "Test example: \n",
    "\n",
    "*Gaussian Naive Bayes with tfidf*"
   ]
  },
  {
   "cell_type": "code",
   "execution_count": null,
   "metadata": {},
   "outputs": [],
   "source": [
    "from sklearn.model_selection import train_test_split\n",
    "\n",
    "from sklearn.naive_bayes import GaussianNB\n",
    "gnb = GaussianNB()\n",
    "\n",
    "from sklearn.feature_extraction.text import TfidfVectorizer\n",
    "tfidf = TfidfVectorizer()\n",
    "\n",
    "#split data\n",
    "x_train, x_test, y_train, y_test = train_test_split(x, y, test_size=0.5, random_state=0)\n",
    "\n",
    "#train and apply tfidf\n",
    "    # fit = make vocab \n",
    "    # transform = turn words -> numbers\n",
    "x_train = tfidf.fit_transform(x_train).toarray()\n",
    "x_test = tfidf.transform(x_test).toarray()\n",
    "\n",
    "#make prediction\n",
    "y_pred = gnb.fit(x_train, y_train).predict(x_test)\n",
    "\n",
    "#print accuracy\n",
    "print(f\"Number of mislabeled points out of a total {x_test.shape[0]} points : {(y_test != y_pred).sum()}\")"
   ]
  },
  {
   "attachments": {},
   "cell_type": "markdown",
   "metadata": {},
   "source": [
    "Decision Tree fitting"
   ]
  },
  {
   "cell_type": "code",
   "execution_count": null,
   "metadata": {},
   "outputs": [],
   "source": [
    "from sklearn import tree\n",
    "\n",
    "model = tree.DecisionTreeClassifier()\n",
    "model = model.fit(z, y)\n",
    "\n",
    "#print decision tree!\n",
    "tree.plot_tree(model)"
   ]
  },
  {
   "attachments": {},
   "cell_type": "markdown",
   "metadata": {},
   "source": [
    "Basic Support Vector Machine (SVM)"
   ]
  },
  {
   "cell_type": "code",
   "execution_count": null,
   "metadata": {},
   "outputs": [],
   "source": [
    "from sklearn import svm\n",
    "\n",
    "model = svm.SVC(kernel='linear')"
   ]
  },
  {
   "attachments": {},
   "cell_type": "markdown",
   "metadata": {},
   "source": [
    "Basic Gaussian Naive Bayes"
   ]
  },
  {
   "cell_type": "code",
   "execution_count": 44,
   "metadata": {},
   "outputs": [],
   "source": [
    "from sklearn.naive_bayes import GaussianNB\n",
    "\n",
    "model = GaussianNB()"
   ]
  },
  {
   "attachments": {},
   "cell_type": "markdown",
   "metadata": {},
   "source": [
    "For reference: What x,y should look like"
   ]
  },
  {
   "cell_type": "code",
   "execution_count": null,
   "metadata": {},
   "outputs": [],
   "source": [
    "from sklearn.datasets import load_iris\n",
    "\n",
    "iris = load_iris()\n",
    "\n",
    "#iris.data\n",
    "#iris.target"
   ]
  },
  {
   "attachments": {},
   "cell_type": "markdown",
   "metadata": {},
   "source": [
    "# Testing prep\n",
    "\n",
    "Put feature vector with col 1 as 'asin' to *z*, answers to *y*"
   ]
  },
  {
   "cell_type": "code",
   "execution_count": 45,
   "metadata": {},
   "outputs": [],
   "source": [
    "temp = pd.merge(z,y,'inner','asin')\n",
    "\n",
    "merged_x = temp.drop(['asin','awesomeness'], axis=1)\n",
    "merged_y = temp[\"awesomeness\"]"
   ]
  },
  {
   "attachments": {},
   "cell_type": "markdown",
   "metadata": {},
   "source": [
    "K-Fold testing \n",
    "\n",
    "(set model to variable *model*)"
   ]
  },
  {
   "cell_type": "code",
   "execution_count": 52,
   "metadata": {},
   "outputs": [
    {
     "name": "stdout",
     "output_type": "stream",
     "text": [
      "----------\n",
      "PER TEST RESULTS\n",
      "----------\n",
      "Test 0 results:\n",
      "\tf1: 0.6578676015673335\n",
      "\taccuracy: 0.5460391298399234\n",
      "\tprecision: 0.5490533562822719\n",
      "\trecall: 0.8204732510288066\n",
      "Test 1 results:\n",
      "\tf1: 0.6604100785473834\n",
      "\taccuracy: 0.5445341359967164\n",
      "\tprecision: 0.5472527472527473\n",
      "\trecall: 0.8325617283950617\n",
      "Test 2 results:\n",
      "\tf1: 0.6573397798580393\n",
      "\taccuracy: 0.5441981390257252\n",
      "\tprecision: 0.5477455854620265\n",
      "\trecall: 0.8217592592592593\n",
      "Test 3 results:\n",
      "\tf1: 0.6547261621285848\n",
      "\taccuracy: 0.5436507936507936\n",
      "\tprecision: 0.5479119736614105\n",
      "\trecall: 0.8132716049382716\n",
      "Test 4 results:\n",
      "\tf1: 0.6602880658436214\n",
      "\taccuracy: 0.5481663929939792\n",
      "\tprecision: 0.5502400548696845\n",
      "\trecall: 0.8253600823045267\n",
      "Test 5 results:\n",
      "\tf1: 0.6672788490970308\n",
      "\taccuracy: 0.5537766830870279\n",
      "\tprecision: 0.5530187721968544\n",
      "\trecall: 0.8410493827160493\n",
      "Test 6 results:\n",
      "\tf1: 0.6597094331900961\n",
      "\taccuracy: 0.5448823207443897\n",
      "\tprecision: 0.5477404009514101\n",
      "\trecall: 0.8292181069958847\n",
      "Test 7 results:\n",
      "\tf1: 0.6569478908188587\n",
      "\taccuracy: 0.5459770114942529\n",
      "\tprecision: 0.5491789109766638\n",
      "\trecall: 0.8173398507846669\n",
      "Test 8 results:\n",
      "\tf1: 0.6569011759851454\n",
      "\taccuracy: 0.5448823207443897\n",
      "\tprecision: 0.5483037713104874\n",
      "\trecall: 0.8191407254952405\n",
      "Test 9 results:\n",
      "\tf1: 0.6612438220757826\n",
      "\taccuracy: 0.5498084291187739\n",
      "\tprecision: 0.551244635193133\n",
      "\trecall: 0.8260869565217391\n",
      "----------\n",
      "AVG TEST RESULTS\n",
      "----------\n",
      "\tf1: 0.6592712859111876\n",
      "\taccuracy: 0.5465915356695972\n",
      "\tprecision: 0.549169020815669\n",
      "\trecall: 0.8246260948439506\n"
     ]
    }
   ],
   "source": [
    "from sklearn.model_selection import cross_validate\n",
    "from sklearn import metrics\n",
    "\n",
    "#desired metrics\n",
    "scoring=['f1','accuracy','precision','recall']\n",
    "\n",
    "#number of \"folds\"\n",
    "k=10\n",
    "\n",
    "cv_results = cross_validate(model, merged_x, merged_y, cv=k, scoring=scoring)"
   ]
  },
  {
   "attachments": {},
   "cell_type": "markdown",
   "metadata": {},
   "source": [
    "Pretty print results"
   ]
  },
  {
   "cell_type": "code",
   "execution_count": null,
   "metadata": {},
   "outputs": [],
   "source": [
    "hline = (\"-\"*10)\n",
    "\n",
    "#print per test results\n",
    "print(hline+\"\\nPER TEST RESULTS\\n\"+hline)\n",
    "for i in range(k):\n",
    "    print(f\"Test {i} results:\")\n",
    "    for m in scoring:\n",
    "        ind = (\"test_\"+m)\n",
    "        print(f\"\\t{m}: {cv_results[ind][i]}\")"
   ]
  },
  {
   "cell_type": "code",
   "execution_count": null,
   "metadata": {},
   "outputs": [],
   "source": [
    "#print means\n",
    "print(hline+\"\\nAVG TEST RESULTS\\n\"+hline)\n",
    "for m in scoring:\n",
    "        ind = (\"test_\"+m)\n",
    "        print(f\"\\t{m}: {cv_results[ind].mean()}\")"
   ]
  }
 ],
 "metadata": {
  "interpreter": {
   "hash": "05c71520a0dcab027352e7e322df057036499e029a71d8bd9640db340c648db4"
  },
  "kernelspec": {
   "display_name": "Python 3.9.7 ('base')",
   "language": "python",
   "name": "python3"
  },
  "language_info": {
   "codemirror_mode": {
    "name": "ipython",
    "version": 3
   },
   "file_extension": ".py",
   "mimetype": "text/x-python",
   "name": "python",
   "nbconvert_exporter": "python",
   "pygments_lexer": "ipython3",
   "version": "3.10.1"
  },
  "orig_nbformat": 4
 },
 "nbformat": 4,
 "nbformat_minor": 2
}
