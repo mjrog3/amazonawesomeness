{
 "cells": [
  {
   "attachments": {},
   "cell_type": "markdown",
   "metadata": {},
   "source": [
    "**Imports**\n",
    "\n",
    "Data"
   ]
  },
  {
   "cell_type": "code",
   "execution_count": 101,
   "metadata": {},
   "outputs": [],
   "source": [
    "#enter the path to get to your CDs_and_Vinyl folder below\n",
    "PATH_TO_CDS = '../devided_dataset_v2/CDs_and_Vinyl/'\n",
    "\n",
    "import pandas as pd\n",
    "\n",
    "# Open and load json training files\n",
    "x = pd.read_json(PATH_TO_CDS + 'train/review_training.json')\n",
    "y = pd.read_json(PATH_TO_CDS + 'train/product_training.json')"
   ]
  },
  {
   "attachments": {},
   "cell_type": "markdown",
   "metadata": {},
   "source": [
    "Other"
   ]
  },
  {
   "cell_type": "code",
   "execution_count": 102,
   "metadata": {},
   "outputs": [],
   "source": [
    "import numpy as np\n",
    "from nltk import sentiment\n",
    "import re"
   ]
  },
  {
   "attachments": {},
   "cell_type": "markdown",
   "metadata": {},
   "source": [
    "PATCH TO SPEED UP (ONLY IF INTEL CHIP) \n",
    "\n",
    "lmao rip daniel\n",
    "\n",
    "thanks guys -daniel"
   ]
  },
  {
   "cell_type": "code",
   "execution_count": 103,
   "metadata": {},
   "outputs": [
    {
     "name": "stderr",
     "output_type": "stream",
     "text": [
      "Intel(R) Extension for Scikit-learn* enabled (https://github.com/intel/scikit-learn-intelex)\n"
     ]
    }
   ],
   "source": [
    "from sklearnex import patch_sklearn \n",
    "\n",
    "patch_sklearn()"
   ]
  },
  {
   "cell_type": "markdown",
   "metadata": {},
   "source": [
    "**Pre Processing**"
   ]
  },
  {
   "cell_type": "code",
   "execution_count": 104,
   "metadata": {},
   "outputs": [
    {
     "data": {
      "text/html": [
       "<div>\n",
       "<style scoped>\n",
       "    .dataframe tbody tr th:only-of-type {\n",
       "        vertical-align: middle;\n",
       "    }\n",
       "\n",
       "    .dataframe tbody tr th {\n",
       "        vertical-align: top;\n",
       "    }\n",
       "\n",
       "    .dataframe thead th {\n",
       "        text-align: right;\n",
       "    }\n",
       "</style>\n",
       "<table border=\"1\" class=\"dataframe\">\n",
       "  <thead>\n",
       "    <tr style=\"text-align: right;\">\n",
       "      <th></th>\n",
       "      <th>asin</th>\n",
       "      <th>awesomeness</th>\n",
       "    </tr>\n",
       "  </thead>\n",
       "  <tbody>\n",
       "    <tr>\n",
       "      <th>0</th>\n",
       "      <td>0000B049F5B33CD310EB1AB236E20191</td>\n",
       "      <td>1</td>\n",
       "    </tr>\n",
       "    <tr>\n",
       "      <th>1</th>\n",
       "      <td>00018184A9EC4D270219A296B2580303</td>\n",
       "      <td>0</td>\n",
       "    </tr>\n",
       "    <tr>\n",
       "      <th>2</th>\n",
       "      <td>000281A9CAC43FF1F335726A390636DA</td>\n",
       "      <td>0</td>\n",
       "    </tr>\n",
       "    <tr>\n",
       "      <th>3</th>\n",
       "      <td>00030884DF109F325638A6BFD5B13CFF</td>\n",
       "      <td>1</td>\n",
       "    </tr>\n",
       "    <tr>\n",
       "      <th>4</th>\n",
       "      <td>000325BA25966B5FC701D5D2B5DBA4E0</td>\n",
       "      <td>0</td>\n",
       "    </tr>\n",
       "    <tr>\n",
       "      <th>...</th>\n",
       "      <td>...</td>\n",
       "      <td>...</td>\n",
       "    </tr>\n",
       "    <tr>\n",
       "      <th>73077</th>\n",
       "      <td>FFFDD3C72D23AF858D6E0ED92612370D</td>\n",
       "      <td>1</td>\n",
       "    </tr>\n",
       "    <tr>\n",
       "      <th>73078</th>\n",
       "      <td>FFFDDE284A73B29B320381487EC7DE9E</td>\n",
       "      <td>1</td>\n",
       "    </tr>\n",
       "    <tr>\n",
       "      <th>73079</th>\n",
       "      <td>FFFEB3EE2372807964F024707D50FB21</td>\n",
       "      <td>0</td>\n",
       "    </tr>\n",
       "    <tr>\n",
       "      <th>73080</th>\n",
       "      <td>FFFF4545AB232D81D0F9B208388BB7AA</td>\n",
       "      <td>1</td>\n",
       "    </tr>\n",
       "    <tr>\n",
       "      <th>73081</th>\n",
       "      <td>FFFF5A3D9CB0B40FF0FE6B95F05D26FE</td>\n",
       "      <td>1</td>\n",
       "    </tr>\n",
       "  </tbody>\n",
       "</table>\n",
       "<p>73082 rows × 2 columns</p>\n",
       "</div>"
      ],
      "text/plain": [
       "                                   asin  awesomeness\n",
       "0      0000B049F5B33CD310EB1AB236E20191            1\n",
       "1      00018184A9EC4D270219A296B2580303            0\n",
       "2      000281A9CAC43FF1F335726A390636DA            0\n",
       "3      00030884DF109F325638A6BFD5B13CFF            1\n",
       "4      000325BA25966B5FC701D5D2B5DBA4E0            0\n",
       "...                                 ...          ...\n",
       "73077  FFFDD3C72D23AF858D6E0ED92612370D            1\n",
       "73078  FFFDDE284A73B29B320381487EC7DE9E            1\n",
       "73079  FFFEB3EE2372807964F024707D50FB21            0\n",
       "73080  FFFF4545AB232D81D0F9B208388BB7AA            1\n",
       "73081  FFFF5A3D9CB0B40FF0FE6B95F05D26FE            1\n",
       "\n",
       "[73082 rows x 2 columns]"
      ]
     },
     "execution_count": 104,
     "metadata": {},
     "output_type": "execute_result"
    }
   ],
   "source": [
    "x #770786 entries\n",
    "y #073082 entries"
   ]
  },
  {
   "attachments": {},
   "cell_type": "markdown",
   "metadata": {},
   "source": [
    "# Feature creation "
   ]
  },
  {
   "attachments": {},
   "cell_type": "markdown",
   "metadata": {},
   "source": [
    "Dropping unverified "
   ]
  },
  {
   "cell_type": "code",
   "execution_count": 105,
   "metadata": {},
   "outputs": [
    {
     "data": {
      "text/html": [
       "<div>\n",
       "<style scoped>\n",
       "    .dataframe tbody tr th:only-of-type {\n",
       "        vertical-align: middle;\n",
       "    }\n",
       "\n",
       "    .dataframe tbody tr th {\n",
       "        vertical-align: top;\n",
       "    }\n",
       "\n",
       "    .dataframe thead th {\n",
       "        text-align: right;\n",
       "    }\n",
       "</style>\n",
       "<table border=\"1\" class=\"dataframe\">\n",
       "  <thead>\n",
       "    <tr style=\"text-align: right;\">\n",
       "      <th></th>\n",
       "      <th>asin</th>\n",
       "      <th>reviewerID</th>\n",
       "      <th>unixReviewTime</th>\n",
       "      <th>vote</th>\n",
       "      <th>verified</th>\n",
       "      <th>reviewTime</th>\n",
       "      <th>style</th>\n",
       "      <th>reviewerName</th>\n",
       "      <th>reviewText</th>\n",
       "      <th>summary</th>\n",
       "      <th>image</th>\n",
       "    </tr>\n",
       "  </thead>\n",
       "  <tbody>\n",
       "    <tr>\n",
       "      <th>0</th>\n",
       "      <td>6673F1740E03573BCD64238FE711FC69</td>\n",
       "      <td>9C856D4A18E1355783B3B28B7ECC1848</td>\n",
       "      <td>1451520000</td>\n",
       "      <td>9</td>\n",
       "      <td>True</td>\n",
       "      <td>12 31, 2015</td>\n",
       "      <td>{'Format:': ' MP3 Music'}</td>\n",
       "      <td>8D88BB79AAC50277AEE82FCFD77F6744</td>\n",
       "      <td>Finding the Beatles all over again - and bette...</td>\n",
       "      <td>I sit listening - with my jaw to the floor - H...</td>\n",
       "      <td>None</td>\n",
       "    </tr>\n",
       "    <tr>\n",
       "      <th>4</th>\n",
       "      <td>EF59DAF0C00319A48D4784266FD157EE</td>\n",
       "      <td>2293C9B7950A3356B95828419A677720</td>\n",
       "      <td>1477958400</td>\n",
       "      <td>None</td>\n",
       "      <td>True</td>\n",
       "      <td>11 1, 2016</td>\n",
       "      <td>{'Format:': ' Audio CD'}</td>\n",
       "      <td>C69A09446009C500B1364B7DB5510497</td>\n",
       "      <td>Great cd.</td>\n",
       "      <td>Five Stars</td>\n",
       "      <td>None</td>\n",
       "    </tr>\n",
       "    <tr>\n",
       "      <th>7</th>\n",
       "      <td>7809E907572CA5E262E2F418FD8B3C96</td>\n",
       "      <td>981ACFA8D81F7502F5B3D2E3A0C27F6D</td>\n",
       "      <td>1328140800</td>\n",
       "      <td>3</td>\n",
       "      <td>True</td>\n",
       "      <td>02 2, 2012</td>\n",
       "      <td>{'Format:': ' Audio CD'}</td>\n",
       "      <td>0EE688E03E32F5330F598C3416B96B16</td>\n",
       "      <td>I remembered liking this album in the early 70...</td>\n",
       "      <td>Tastes Change</td>\n",
       "      <td>None</td>\n",
       "    </tr>\n",
       "    <tr>\n",
       "      <th>8</th>\n",
       "      <td>6673F1740E03573BCD64238FE711FC69</td>\n",
       "      <td>607256A8DAC2F8AC4A7DD9FBE88362AC</td>\n",
       "      <td>1524268800</td>\n",
       "      <td>None</td>\n",
       "      <td>True</td>\n",
       "      <td>04 21, 2018</td>\n",
       "      <td>{'Format:': ' Audio CD'}</td>\n",
       "      <td>7296666D422736895842236214110D08</td>\n",
       "      <td>I purchased this item, along with the other Be...</td>\n",
       "      <td>Purchased as a birthday gift for my great-nephew</td>\n",
       "      <td>None</td>\n",
       "    </tr>\n",
       "    <tr>\n",
       "      <th>9</th>\n",
       "      <td>15385624CFBA7E47876256A65B0E97BD</td>\n",
       "      <td>7FAA7FA54AD97F4381A31B07C7A02BF4</td>\n",
       "      <td>1418169600</td>\n",
       "      <td>None</td>\n",
       "      <td>True</td>\n",
       "      <td>12 10, 2014</td>\n",
       "      <td>{'Format:': ' Audio CD'}</td>\n",
       "      <td>07A5390E52A41D628D2DFB185D372273</td>\n",
       "      <td>as advertized</td>\n",
       "      <td>Four Stars</td>\n",
       "      <td>None</td>\n",
       "    </tr>\n",
       "    <tr>\n",
       "      <th>...</th>\n",
       "      <td>...</td>\n",
       "      <td>...</td>\n",
       "      <td>...</td>\n",
       "      <td>...</td>\n",
       "      <td>...</td>\n",
       "      <td>...</td>\n",
       "      <td>...</td>\n",
       "      <td>...</td>\n",
       "      <td>...</td>\n",
       "      <td>...</td>\n",
       "      <td>...</td>\n",
       "    </tr>\n",
       "    <tr>\n",
       "      <th>770775</th>\n",
       "      <td>A22DE13554D263912D60A5AC3176A61F</td>\n",
       "      <td>CB4F99C92EE1B0AE289A2D16F35EB887</td>\n",
       "      <td>1522454400</td>\n",
       "      <td>None</td>\n",
       "      <td>True</td>\n",
       "      <td>03 31, 2018</td>\n",
       "      <td>{'Format:': ' Audio CD'}</td>\n",
       "      <td>344A8B9F2DD045C65F9F6F9B75690388</td>\n",
       "      <td>Excellent</td>\n",
       "      <td>Five Stars</td>\n",
       "      <td>None</td>\n",
       "    </tr>\n",
       "    <tr>\n",
       "      <th>770778</th>\n",
       "      <td>6673F1740E03573BCD64238FE711FC69</td>\n",
       "      <td>08C5725E6F9C3C3E1C50AF09F9CEC21C</td>\n",
       "      <td>1424736000</td>\n",
       "      <td>2</td>\n",
       "      <td>True</td>\n",
       "      <td>02 24, 2015</td>\n",
       "      <td>{'Format:': ' Vinyl'}</td>\n",
       "      <td>750BD346D389A71848003536E8C765CB</td>\n",
       "      <td>I was a kid when the group broke up and had on...</td>\n",
       "      <td>I must say I have never heard these early albu...</td>\n",
       "      <td>None</td>\n",
       "    </tr>\n",
       "    <tr>\n",
       "      <th>770779</th>\n",
       "      <td>151380408EC8DB02F5B800B2369D6744</td>\n",
       "      <td>C4FA68B2E19666D9D4E40D2A49D08716</td>\n",
       "      <td>1418601600</td>\n",
       "      <td>None</td>\n",
       "      <td>True</td>\n",
       "      <td>12 15, 2014</td>\n",
       "      <td>{'Format:': ' Audio CD'}</td>\n",
       "      <td>0D8B93021EA26187591091F3EA26779C</td>\n",
       "      <td>Gave CD to my son</td>\n",
       "      <td>Five Stars</td>\n",
       "      <td>None</td>\n",
       "    </tr>\n",
       "    <tr>\n",
       "      <th>770780</th>\n",
       "      <td>AB43432D406F5A9AC547F5416EAB8165</td>\n",
       "      <td>62C775164FDD036277DA68D5993BF020</td>\n",
       "      <td>1466294400</td>\n",
       "      <td>None</td>\n",
       "      <td>True</td>\n",
       "      <td>06 19, 2016</td>\n",
       "      <td>{'Format:': ' Audio CD'}</td>\n",
       "      <td>A7C4CC942F4D7FA6132973E8AE799833</td>\n",
       "      <td>Great CD</td>\n",
       "      <td>Four Stars</td>\n",
       "      <td>None</td>\n",
       "    </tr>\n",
       "    <tr>\n",
       "      <th>770781</th>\n",
       "      <td>BD91503308A437374C3254EDC8BC24CB</td>\n",
       "      <td>936ED23AF4D23943786BBD44D0F1114B</td>\n",
       "      <td>1136246400</td>\n",
       "      <td>12</td>\n",
       "      <td>True</td>\n",
       "      <td>01 3, 2006</td>\n",
       "      <td>{'Format:': ' Audio CD'}</td>\n",
       "      <td>AAB61000438939C8E6165CFCCF02A488</td>\n",
       "      <td>This was the first Simple Minds album that I b...</td>\n",
       "      <td>Their Most Fully Realized Artistic Studio Stat...</td>\n",
       "      <td>None</td>\n",
       "    </tr>\n",
       "  </tbody>\n",
       "</table>\n",
       "<p>401407 rows × 11 columns</p>\n",
       "</div>"
      ],
      "text/plain": [
       "                                    asin                        reviewerID  \\\n",
       "0       6673F1740E03573BCD64238FE711FC69  9C856D4A18E1355783B3B28B7ECC1848   \n",
       "4       EF59DAF0C00319A48D4784266FD157EE  2293C9B7950A3356B95828419A677720   \n",
       "7       7809E907572CA5E262E2F418FD8B3C96  981ACFA8D81F7502F5B3D2E3A0C27F6D   \n",
       "8       6673F1740E03573BCD64238FE711FC69  607256A8DAC2F8AC4A7DD9FBE88362AC   \n",
       "9       15385624CFBA7E47876256A65B0E97BD  7FAA7FA54AD97F4381A31B07C7A02BF4   \n",
       "...                                  ...                               ...   \n",
       "770775  A22DE13554D263912D60A5AC3176A61F  CB4F99C92EE1B0AE289A2D16F35EB887   \n",
       "770778  6673F1740E03573BCD64238FE711FC69  08C5725E6F9C3C3E1C50AF09F9CEC21C   \n",
       "770779  151380408EC8DB02F5B800B2369D6744  C4FA68B2E19666D9D4E40D2A49D08716   \n",
       "770780  AB43432D406F5A9AC547F5416EAB8165  62C775164FDD036277DA68D5993BF020   \n",
       "770781  BD91503308A437374C3254EDC8BC24CB  936ED23AF4D23943786BBD44D0F1114B   \n",
       "\n",
       "        unixReviewTime  vote  verified   reviewTime  \\\n",
       "0           1451520000     9      True  12 31, 2015   \n",
       "4           1477958400  None      True   11 1, 2016   \n",
       "7           1328140800     3      True   02 2, 2012   \n",
       "8           1524268800  None      True  04 21, 2018   \n",
       "9           1418169600  None      True  12 10, 2014   \n",
       "...                ...   ...       ...          ...   \n",
       "770775      1522454400  None      True  03 31, 2018   \n",
       "770778      1424736000     2      True  02 24, 2015   \n",
       "770779      1418601600  None      True  12 15, 2014   \n",
       "770780      1466294400  None      True  06 19, 2016   \n",
       "770781      1136246400    12      True   01 3, 2006   \n",
       "\n",
       "                            style                      reviewerName  \\\n",
       "0       {'Format:': ' MP3 Music'}  8D88BB79AAC50277AEE82FCFD77F6744   \n",
       "4        {'Format:': ' Audio CD'}  C69A09446009C500B1364B7DB5510497   \n",
       "7        {'Format:': ' Audio CD'}  0EE688E03E32F5330F598C3416B96B16   \n",
       "8        {'Format:': ' Audio CD'}  7296666D422736895842236214110D08   \n",
       "9        {'Format:': ' Audio CD'}  07A5390E52A41D628D2DFB185D372273   \n",
       "...                           ...                               ...   \n",
       "770775   {'Format:': ' Audio CD'}  344A8B9F2DD045C65F9F6F9B75690388   \n",
       "770778      {'Format:': ' Vinyl'}  750BD346D389A71848003536E8C765CB   \n",
       "770779   {'Format:': ' Audio CD'}  0D8B93021EA26187591091F3EA26779C   \n",
       "770780   {'Format:': ' Audio CD'}  A7C4CC942F4D7FA6132973E8AE799833   \n",
       "770781   {'Format:': ' Audio CD'}  AAB61000438939C8E6165CFCCF02A488   \n",
       "\n",
       "                                               reviewText  \\\n",
       "0       Finding the Beatles all over again - and bette...   \n",
       "4                                               Great cd.   \n",
       "7       I remembered liking this album in the early 70...   \n",
       "8       I purchased this item, along with the other Be...   \n",
       "9                                           as advertized   \n",
       "...                                                   ...   \n",
       "770775                                          Excellent   \n",
       "770778  I was a kid when the group broke up and had on...   \n",
       "770779                                  Gave CD to my son   \n",
       "770780                                           Great CD   \n",
       "770781  This was the first Simple Minds album that I b...   \n",
       "\n",
       "                                                  summary image  \n",
       "0       I sit listening - with my jaw to the floor - H...  None  \n",
       "4                                              Five Stars  None  \n",
       "7                                           Tastes Change  None  \n",
       "8        Purchased as a birthday gift for my great-nephew  None  \n",
       "9                                              Four Stars  None  \n",
       "...                                                   ...   ...  \n",
       "770775                                         Five Stars  None  \n",
       "770778  I must say I have never heard these early albu...  None  \n",
       "770779                                         Five Stars  None  \n",
       "770780                                         Four Stars  None  \n",
       "770781  Their Most Fully Realized Artistic Studio Stat...  None  \n",
       "\n",
       "[401407 rows x 11 columns]"
      ]
     },
     "execution_count": 105,
     "metadata": {},
     "output_type": "execute_result"
    }
   ],
   "source": [
    "#RUN ONLY IF YOU ARE OK WITH DROPPING UNVERIFIED\n",
    "\n",
    "dropUnverified = x[x.verified == True]\n",
    "dropUnverified"
   ]
  },
  {
   "attachments": {},
   "cell_type": "markdown",
   "metadata": {},
   "source": [
    "Making a sample set to test features:"
   ]
  },
  {
   "cell_type": "code",
   "execution_count": 106,
   "metadata": {},
   "outputs": [
    {
     "data": {
      "text/html": [
       "<div>\n",
       "<style scoped>\n",
       "    .dataframe tbody tr th:only-of-type {\n",
       "        vertical-align: middle;\n",
       "    }\n",
       "\n",
       "    .dataframe tbody tr th {\n",
       "        vertical-align: top;\n",
       "    }\n",
       "\n",
       "    .dataframe thead th {\n",
       "        text-align: right;\n",
       "    }\n",
       "</style>\n",
       "<table border=\"1\" class=\"dataframe\">\n",
       "  <thead>\n",
       "    <tr style=\"text-align: right;\">\n",
       "      <th></th>\n",
       "      <th>asin</th>\n",
       "      <th>reviewerID</th>\n",
       "      <th>unixReviewTime</th>\n",
       "      <th>vote</th>\n",
       "      <th>verified</th>\n",
       "      <th>reviewTime</th>\n",
       "      <th>style</th>\n",
       "      <th>reviewerName</th>\n",
       "      <th>reviewText</th>\n",
       "      <th>summary</th>\n",
       "      <th>image</th>\n",
       "    </tr>\n",
       "  </thead>\n",
       "  <tbody>\n",
       "    <tr>\n",
       "      <th>0</th>\n",
       "      <td>6673F1740E03573BCD64238FE711FC69</td>\n",
       "      <td>9C856D4A18E1355783B3B28B7ECC1848</td>\n",
       "      <td>1451520000</td>\n",
       "      <td>9</td>\n",
       "      <td>True</td>\n",
       "      <td>12 31, 2015</td>\n",
       "      <td>{'Format:': ' MP3 Music'}</td>\n",
       "      <td>8D88BB79AAC50277AEE82FCFD77F6744</td>\n",
       "      <td>Finding the Beatles all over again - and bette...</td>\n",
       "      <td>I sit listening - with my jaw to the floor - H...</td>\n",
       "      <td>None</td>\n",
       "    </tr>\n",
       "    <tr>\n",
       "      <th>1</th>\n",
       "      <td>690819436E20BB31657AF6B58B984DD4</td>\n",
       "      <td>6E9ABBD26A27C2B2851D1EC34A01CBDC</td>\n",
       "      <td>1113523200</td>\n",
       "      <td>9</td>\n",
       "      <td>False</td>\n",
       "      <td>04 15, 2005</td>\n",
       "      <td>{'Format:': ' Audio CD'}</td>\n",
       "      <td>8DC0611245A871AC51BBEEBB85F33A58</td>\n",
       "      <td>These guys can sing!  Such classic tunes...poi...</td>\n",
       "      <td>Under Appreciated....</td>\n",
       "      <td>None</td>\n",
       "    </tr>\n",
       "    <tr>\n",
       "      <th>2</th>\n",
       "      <td>A680D4753F0CEA2252C168A6ACB2B623</td>\n",
       "      <td>B637C3C93E61094474710F456928BE9F</td>\n",
       "      <td>1126137600</td>\n",
       "      <td>None</td>\n",
       "      <td>False</td>\n",
       "      <td>09 8, 2005</td>\n",
       "      <td>None</td>\n",
       "      <td>2259386624CFA0EC53A75A50A9BB57A5</td>\n",
       "      <td>Snoop Doggy Dogg made a classic album, DoggySt...</td>\n",
       "      <td>DoggyStyle</td>\n",
       "      <td>None</td>\n",
       "    </tr>\n",
       "    <tr>\n",
       "      <th>3</th>\n",
       "      <td>F4A966F1FA340B16651D676BC246D227</td>\n",
       "      <td>AA7918E9410D650A076221C7B2934A09</td>\n",
       "      <td>954979200</td>\n",
       "      <td>None</td>\n",
       "      <td>False</td>\n",
       "      <td>04 6, 2000</td>\n",
       "      <td>{'Format:': ' Audio CD'}</td>\n",
       "      <td>7A65A155C993535BC99CBCB39E7161B5</td>\n",
       "      <td>Stevie Nicks Has had Her Moments. I Like Some ...</td>\n",
       "      <td>Pretty Good but a Bit Dated</td>\n",
       "      <td>None</td>\n",
       "    </tr>\n",
       "    <tr>\n",
       "      <th>4</th>\n",
       "      <td>EF59DAF0C00319A48D4784266FD157EE</td>\n",
       "      <td>2293C9B7950A3356B95828419A677720</td>\n",
       "      <td>1477958400</td>\n",
       "      <td>None</td>\n",
       "      <td>True</td>\n",
       "      <td>11 1, 2016</td>\n",
       "      <td>{'Format:': ' Audio CD'}</td>\n",
       "      <td>C69A09446009C500B1364B7DB5510497</td>\n",
       "      <td>Great cd.</td>\n",
       "      <td>Five Stars</td>\n",
       "      <td>None</td>\n",
       "    </tr>\n",
       "    <tr>\n",
       "      <th>...</th>\n",
       "      <td>...</td>\n",
       "      <td>...</td>\n",
       "      <td>...</td>\n",
       "      <td>...</td>\n",
       "      <td>...</td>\n",
       "      <td>...</td>\n",
       "      <td>...</td>\n",
       "      <td>...</td>\n",
       "      <td>...</td>\n",
       "      <td>...</td>\n",
       "      <td>...</td>\n",
       "    </tr>\n",
       "    <tr>\n",
       "      <th>1995</th>\n",
       "      <td>14673A3D627445E270EBD9D11D2F70DD</td>\n",
       "      <td>9C84E3EFF58B759FE040B8938E6BD3DE</td>\n",
       "      <td>1460764800</td>\n",
       "      <td>None</td>\n",
       "      <td>True</td>\n",
       "      <td>04 16, 2016</td>\n",
       "      <td>{'Format:': ' Audio CD'}</td>\n",
       "      <td>1BBF7C11163C6DC130DD1EE87152CFD9</td>\n",
       "      <td>Same review as Vol. 1:  Super jamming!  Inspir...</td>\n",
       "      <td>Super jamming! Inspired me to get my guitar ou...</td>\n",
       "      <td>None</td>\n",
       "    </tr>\n",
       "    <tr>\n",
       "      <th>1996</th>\n",
       "      <td>35A0CA6AE8C14595607D38DAC6525752</td>\n",
       "      <td>3ED9CD1EC55F0D896F93DA465C4712A9</td>\n",
       "      <td>1420243200</td>\n",
       "      <td>3</td>\n",
       "      <td>True</td>\n",
       "      <td>01 3, 2015</td>\n",
       "      <td>{'Format:': ' Audio CD'}</td>\n",
       "      <td>17AD55A9B8384777496330D23E59D520</td>\n",
       "      <td>WONDERFUL PURCHASE, \"Linda Rondstadt: The Coll...</td>\n",
       "      <td>WONDERFUL PURCHASE, \"Linda Rondstadt</td>\n",
       "      <td>None</td>\n",
       "    </tr>\n",
       "    <tr>\n",
       "      <th>1997</th>\n",
       "      <td>1C2F7451F06F0C2958694833095CB947</td>\n",
       "      <td>BA489C468556F643565413143979D571</td>\n",
       "      <td>1388966400</td>\n",
       "      <td>None</td>\n",
       "      <td>True</td>\n",
       "      <td>01 6, 2014</td>\n",
       "      <td>{'Format:': ' Audio CD'}</td>\n",
       "      <td>429889A95D8338A1312654487D673DAA</td>\n",
       "      <td>THIS MUSIC IS NICE. I MEAN WHAT MORE CAN I SAY...</td>\n",
       "      <td>NICE MUSIC</td>\n",
       "      <td>None</td>\n",
       "    </tr>\n",
       "    <tr>\n",
       "      <th>1998</th>\n",
       "      <td>C3D898B23687DE2EBB9350FE17F8CD24</td>\n",
       "      <td>FCF6C84C748B7E345693A45636118FAB</td>\n",
       "      <td>1127174400</td>\n",
       "      <td>10</td>\n",
       "      <td>False</td>\n",
       "      <td>09 20, 2005</td>\n",
       "      <td>{'Format:': ' Audio CD'}</td>\n",
       "      <td>3EA8FAFD8BB387929FBB53DDF4C8DAF9</td>\n",
       "      <td>I  loved listening to the music of Barbara Str...</td>\n",
       "      <td>Barbara and Barry make musical magic together</td>\n",
       "      <td>None</td>\n",
       "    </tr>\n",
       "    <tr>\n",
       "      <th>1999</th>\n",
       "      <td>C9C1C13DAEBB5E688BE6E3B81C1111D6</td>\n",
       "      <td>98C75F3AC4F6AAFD0585CB2EBDB1C81F</td>\n",
       "      <td>1517270400</td>\n",
       "      <td>None</td>\n",
       "      <td>True</td>\n",
       "      <td>01 30, 2018</td>\n",
       "      <td>{'Format:': ' Audio CD'}</td>\n",
       "      <td>B46E2A2B5F3F541CC9D326CB7B2EAA50</td>\n",
       "      <td>Great music</td>\n",
       "      <td>Five Stars</td>\n",
       "      <td>None</td>\n",
       "    </tr>\n",
       "  </tbody>\n",
       "</table>\n",
       "<p>2000 rows × 11 columns</p>\n",
       "</div>"
      ],
      "text/plain": [
       "                                  asin                        reviewerID  \\\n",
       "0     6673F1740E03573BCD64238FE711FC69  9C856D4A18E1355783B3B28B7ECC1848   \n",
       "1     690819436E20BB31657AF6B58B984DD4  6E9ABBD26A27C2B2851D1EC34A01CBDC   \n",
       "2     A680D4753F0CEA2252C168A6ACB2B623  B637C3C93E61094474710F456928BE9F   \n",
       "3     F4A966F1FA340B16651D676BC246D227  AA7918E9410D650A076221C7B2934A09   \n",
       "4     EF59DAF0C00319A48D4784266FD157EE  2293C9B7950A3356B95828419A677720   \n",
       "...                                ...                               ...   \n",
       "1995  14673A3D627445E270EBD9D11D2F70DD  9C84E3EFF58B759FE040B8938E6BD3DE   \n",
       "1996  35A0CA6AE8C14595607D38DAC6525752  3ED9CD1EC55F0D896F93DA465C4712A9   \n",
       "1997  1C2F7451F06F0C2958694833095CB947  BA489C468556F643565413143979D571   \n",
       "1998  C3D898B23687DE2EBB9350FE17F8CD24  FCF6C84C748B7E345693A45636118FAB   \n",
       "1999  C9C1C13DAEBB5E688BE6E3B81C1111D6  98C75F3AC4F6AAFD0585CB2EBDB1C81F   \n",
       "\n",
       "      unixReviewTime  vote  verified   reviewTime                      style  \\\n",
       "0         1451520000     9      True  12 31, 2015  {'Format:': ' MP3 Music'}   \n",
       "1         1113523200     9     False  04 15, 2005   {'Format:': ' Audio CD'}   \n",
       "2         1126137600  None     False   09 8, 2005                       None   \n",
       "3          954979200  None     False   04 6, 2000   {'Format:': ' Audio CD'}   \n",
       "4         1477958400  None      True   11 1, 2016   {'Format:': ' Audio CD'}   \n",
       "...              ...   ...       ...          ...                        ...   \n",
       "1995      1460764800  None      True  04 16, 2016   {'Format:': ' Audio CD'}   \n",
       "1996      1420243200     3      True   01 3, 2015   {'Format:': ' Audio CD'}   \n",
       "1997      1388966400  None      True   01 6, 2014   {'Format:': ' Audio CD'}   \n",
       "1998      1127174400    10     False  09 20, 2005   {'Format:': ' Audio CD'}   \n",
       "1999      1517270400  None      True  01 30, 2018   {'Format:': ' Audio CD'}   \n",
       "\n",
       "                          reviewerName  \\\n",
       "0     8D88BB79AAC50277AEE82FCFD77F6744   \n",
       "1     8DC0611245A871AC51BBEEBB85F33A58   \n",
       "2     2259386624CFA0EC53A75A50A9BB57A5   \n",
       "3     7A65A155C993535BC99CBCB39E7161B5   \n",
       "4     C69A09446009C500B1364B7DB5510497   \n",
       "...                                ...   \n",
       "1995  1BBF7C11163C6DC130DD1EE87152CFD9   \n",
       "1996  17AD55A9B8384777496330D23E59D520   \n",
       "1997  429889A95D8338A1312654487D673DAA   \n",
       "1998  3EA8FAFD8BB387929FBB53DDF4C8DAF9   \n",
       "1999  B46E2A2B5F3F541CC9D326CB7B2EAA50   \n",
       "\n",
       "                                             reviewText  \\\n",
       "0     Finding the Beatles all over again - and bette...   \n",
       "1     These guys can sing!  Such classic tunes...poi...   \n",
       "2     Snoop Doggy Dogg made a classic album, DoggySt...   \n",
       "3     Stevie Nicks Has had Her Moments. I Like Some ...   \n",
       "4                                             Great cd.   \n",
       "...                                                 ...   \n",
       "1995  Same review as Vol. 1:  Super jamming!  Inspir...   \n",
       "1996  WONDERFUL PURCHASE, \"Linda Rondstadt: The Coll...   \n",
       "1997  THIS MUSIC IS NICE. I MEAN WHAT MORE CAN I SAY...   \n",
       "1998  I  loved listening to the music of Barbara Str...   \n",
       "1999                                        Great music   \n",
       "\n",
       "                                                summary image  \n",
       "0     I sit listening - with my jaw to the floor - H...  None  \n",
       "1                                 Under Appreciated....  None  \n",
       "2                                            DoggyStyle  None  \n",
       "3                           Pretty Good but a Bit Dated  None  \n",
       "4                                            Five Stars  None  \n",
       "...                                                 ...   ...  \n",
       "1995  Super jamming! Inspired me to get my guitar ou...  None  \n",
       "1996               WONDERFUL PURCHASE, \"Linda Rondstadt  None  \n",
       "1997                                         NICE MUSIC  None  \n",
       "1998      Barbara and Barry make musical magic together  None  \n",
       "1999                                         Five Stars  None  \n",
       "\n",
       "[2000 rows x 11 columns]"
      ]
     },
     "execution_count": 106,
     "metadata": {},
     "output_type": "execute_result"
    }
   ],
   "source": [
    "#ts = test sample 2 thousand long\n",
    "ts = x[:2000]\n",
    "ts"
   ]
  },
  {
   "attachments": {},
   "cell_type": "markdown",
   "metadata": {},
   "source": [
    "Making a single feature ex"
   ]
  },
  {
   "cell_type": "code",
   "execution_count": 107,
   "metadata": {},
   "outputs": [],
   "source": [
    "reviewCount = x.groupby('asin')[\"reviewerID\"].count()\n",
    "reviewCount = reviewCount.rename(\"Review_Count\")"
   ]
  },
  {
   "cell_type": "code",
   "execution_count": 108,
   "metadata": {},
   "outputs": [
    {
     "data": {
      "text/plain": [
       "asin\n",
       "0000B049F5B33CD310EB1AB236E20191    1.296583e+09\n",
       "00018184A9EC4D270219A296B2580303    1.111282e+09\n",
       "000281A9CAC43FF1F335726A390636DA    1.254960e+09\n",
       "00030884DF109F325638A6BFD5B13CFF    1.315392e+09\n",
       "000325BA25966B5FC701D5D2B5DBA4E0    1.363802e+09\n",
       "                                        ...     \n",
       "FFFDD3C72D23AF858D6E0ED92612370D    1.258704e+09\n",
       "FFFDDE284A73B29B320381487EC7DE9E    1.353758e+09\n",
       "FFFEB3EE2372807964F024707D50FB21    1.349050e+09\n",
       "FFFF4545AB232D81D0F9B208388BB7AA    1.427846e+09\n",
       "FFFF5A3D9CB0B40FF0FE6B95F05D26FE    1.141706e+09\n",
       "Name: unixReviewTime, Length: 73082, dtype: float64"
      ]
     },
     "execution_count": 108,
     "metadata": {},
     "output_type": "execute_result"
    }
   ],
   "source": [
    "unixReviewMean = x.groupby('asin')['unixReviewTime'].mean()\n",
    "unixReviewMean"
   ]
  },
  {
   "attachments": {},
   "cell_type": "markdown",
   "metadata": {},
   "source": [
    "Percent verified"
   ]
  },
  {
   "cell_type": "code",
   "execution_count": 109,
   "metadata": {},
   "outputs": [],
   "source": [
    "\n",
    "\n",
    "percent_verified = dropUnverified.groupby(\"asin\")[\"reviewerID\"].count()\n",
    "percent_verified = percent_verified/reviewCount\n",
    "percent_verified = percent_verified.apply(lambda x: x if x > 0  else 0)\n",
    "percent_verified = percent_verified.rename(\"%_Verified\")"
   ]
  },
  {
   "attachments": {},
   "cell_type": "markdown",
   "metadata": {},
   "source": [
    "dropping bots by time of post\n",
    "\n",
    "All the comments are encoded with the date only, no time, so this is not possible"
   ]
  },
  {
   "cell_type": "code",
   "execution_count": 110,
   "metadata": {},
   "outputs": [],
   "source": [
    "# test1 = x[x.unixReviewTime % 100 != 0]\n",
    "# test1"
   ]
  },
  {
   "attachments": {},
   "cell_type": "markdown",
   "metadata": {},
   "source": [
    "total number of votes across reviews"
   ]
  },
  {
   "cell_type": "code",
   "execution_count": 111,
   "metadata": {},
   "outputs": [],
   "source": [
    "x_copy = x\n",
    "total_review_num = x_copy.vote\n",
    "total_review_num = total_review_num.apply(lambda x: float(x.replace(\",\", \"\")) if type(x) == str  else 0)\n",
    "total_review_num = total_review_num.rename(\"vote\").to_frame()\n",
    "x_copy[\"vote\"] = total_review_num[\"vote\"]\n",
    "total_votes = x_copy.groupby('asin')[\"vote\"].sum(\"vote\")\n",
    "total_votes = total_votes.rename(\"Total_Votes\")"
   ]
  },
  {
   "attachments": {},
   "cell_type": "markdown",
   "metadata": {},
   "source": [
    "groupby() testing"
   ]
  },
  {
   "cell_type": "code",
   "execution_count": 112,
   "metadata": {},
   "outputs": [],
   "source": [
    "# tests = range(5)\n",
    "# unique_items = z[\"asin\"].nunique()\n",
    "# print(\"ui: \", unique_items)\n",
    "\n",
    "# asin = z[\"asin\"].values\n",
    "# print(\"asin: \",asin)\n",
    "# avg_votes = np.zeros(len(asin))\n",
    "\n",
    "# for i in tests: # eventually all\n",
    "#     item = zgrouped.get_group(asin[i])\n",
    "#     avg_votes[i] = item[\"vote\"].fillna(0).astype(int).mean()\n",
    "\n",
    "# print(\"avg_votes: \", avg_votes[0:5])"
   ]
  },
  {
   "attachments": {},
   "cell_type": "markdown",
   "metadata": {},
   "source": [
    "Percent of reviews with images"
   ]
  },
  {
   "cell_type": "code",
   "execution_count": 113,
   "metadata": {},
   "outputs": [],
   "source": [
    "#total = ts.groupby('asin')[\"reviewerID\"].count()\n",
    "with_image = x[x.image.astype('string') != \"None\"]\n",
    "with_image = with_image.groupby('asin')[\"image\"].count()\n",
    "#print(with_image)\n",
    "#print(total)\n",
    "with_image_percentage = with_image/reviewCount\n",
    "#with_image_percentage = with_image_percentage[with_image_percentage > 0]\n",
    "with_image_percentage = with_image_percentage.apply(lambda x: x if x > 0  else 0)\n",
    "# returning rn with NaN instead of 0, not sure if thats fine or not??\n",
    "\n",
    "#with_image_percentage = with_image_percentage[with_image_percentage > 0]\n",
    "with_image_percentage = with_image_percentage.rename(\"%_Image\")"
   ]
  },
  {
   "attachments": {},
   "cell_type": "markdown",
   "metadata": {},
   "source": [
    "Making a feature vector\n",
    "currently has number of reviews, percentage of reviews with images, percentage of reviews that are verified, and total votes across all reviews"
   ]
  },
  {
   "cell_type": "code",
   "execution_count": 114,
   "metadata": {},
   "outputs": [],
   "source": [
    "# feature_vector = reviewCount.rename(\"Review_NUM\")\n",
    "# feature_vector = feature_vector.to_frame().merge(with_image_percentage.rename(\"Image_PC\").to_frame(), left_index=True, right_index=True)\n",
    "# feature_vector = feature_vector.merge(percent_verified.rename(\"Verified_PC\").to_frame(), left_index=True, right_index=True)\n",
    "# # fxx = feature_vector[feature_vector.Image_PC > 0]\n",
    "# # fxx = \n",
    "# feature_vector = feature_vector.merge(total_votes.rename(\"Total_Votes\").to_frame(), left_index=True, right_index=True)\n",
    "# feature_vector"
   ]
  },
  {
   "attachments": {},
   "cell_type": "markdown",
   "metadata": {},
   "source": [
    "Since I commented out the feature vector, here are the names of each individual feature:\n",
    "\n",
    "reviewCount\n",
    "\n",
    "with_image_percentage\n",
    "\n",
    "percent_verified\n",
    "\n",
    "total_votes\n",
    "\n",
    "\n",
    "Hope this clears it up. lmk if its confusing -Daniel"
   ]
  },
  {
   "attachments": {},
   "cell_type": "markdown",
   "metadata": {},
   "source": [
    "# Text Analysis"
   ]
  },
  {
   "cell_type": "code",
   "execution_count": 115,
   "metadata": {},
   "outputs": [],
   "source": [
    "testdata = x.groupby(\"asin\").get_group(\"0000B049F5B33CD310EB1AB236E20191\")\n",
    "\n",
    "# np.mean(len(str(testdata[\"reviewText\"]).split()))"
   ]
  },
  {
   "attachments": {},
   "cell_type": "markdown",
   "metadata": {},
   "source": [
    "Length of Reviews Feature"
   ]
  },
  {
   "cell_type": "code",
   "execution_count": 116,
   "metadata": {},
   "outputs": [],
   "source": [
    "reviewlength = x.groupby('asin')[\"reviewText\"].apply(lambda x: x.str.split().str.len().mean())\n",
    "reviewlength = reviewlength.fillna(0).rename(\"Review_Length\")\n"
   ]
  },
  {
   "cell_type": "markdown",
   "metadata": {},
   "source": [
    "Percentage Uppercase Feature:"
   ]
  },
  {
   "cell_type": "code",
   "execution_count": 117,
   "metadata": {},
   "outputs": [],
   "source": [
    "# def count_cap(str):\n",
    "#     stripped = ''.join(str.split())\n",
    "#     return sum(c.isupper() for c in ''.join(stripped))/len(stripped)\n",
    "\n",
    "percentCap = x.groupby('asin')[\"reviewText\"].apply(lambda x: (x.str.count(\"[A-Z]\")/x.str.len()).mean())\n",
    "percentCap = percentCap.fillna(0).rename(\"Percent_Uppercase\")\n",
    "\n"
   ]
  },
  {
   "cell_type": "markdown",
   "metadata": {},
   "source": [
    "Actual Awesomeness Feature: # times the word \"awesome\" is used per review"
   ]
  },
  {
   "cell_type": "code",
   "execution_count": 118,
   "metadata": {},
   "outputs": [],
   "source": [
    "actualAwesomeness = x.groupby('asin')[\"reviewText\"].apply(lambda x: (x.str.count(\"[Aa]wesome\")).mean())\n",
    "actualAwesomeness = actualAwesomeness.fillna(0).rename(\"Actual_Awesomeness\")"
   ]
  },
  {
   "attachments": {},
   "cell_type": "markdown",
   "metadata": {},
   "source": [
    "# Sentiment Analysis"
   ]
  },
  {
   "cell_type": "code",
   "execution_count": 119,
   "metadata": {},
   "outputs": [],
   "source": [
    "## Helper function for sentiment\n",
    "def review_sentiment(text):\n",
    "    sia = sentiment.SentimentIntensityAnalyzer()\n",
    "    return sia.polarity_scores(text)[\"compound\"]\n",
    "\n",
    "## just some examples to gut check\n",
    "# print(review_sentiment(\"Ugh, what a terrible, horrible, no good, very bad day\"))\n",
    "# print(review_sentiment(\"I went to the store today\"))\n",
    "# print(review_sentiment(\"I absolutely love my favorite best friend\"))"
   ]
  },
  {
   "attachments": {},
   "cell_type": "markdown",
   "metadata": {},
   "source": [
    "apply sentiment analysis to data"
   ]
  },
  {
   "cell_type": "code",
   "execution_count": 126,
   "metadata": {},
   "outputs": [
    {
     "ename": "TypeError",
     "evalue": "'str' object is not callable",
     "output_type": "error",
     "traceback": [
      "\u001b[0;31m---------------------------------------------------------------------------\u001b[0m",
      "\u001b[0;31mTypeError\u001b[0m                                 Traceback (most recent call last)",
      "\u001b[0;32m~/opt/anaconda3/lib/python3.9/site-packages/pandas/core/groupby/groupby.py\u001b[0m in \u001b[0;36mapply\u001b[0;34m(self, func, *args, **kwargs)\u001b[0m\n\u001b[1;32m   1274\u001b[0m             \u001b[0;32mtry\u001b[0m\u001b[0;34m:\u001b[0m\u001b[0;34m\u001b[0m\u001b[0;34m\u001b[0m\u001b[0m\n\u001b[0;32m-> 1275\u001b[0;31m                 \u001b[0mresult\u001b[0m \u001b[0;34m=\u001b[0m \u001b[0mself\u001b[0m\u001b[0;34m.\u001b[0m\u001b[0m_python_apply_general\u001b[0m\u001b[0;34m(\u001b[0m\u001b[0mf\u001b[0m\u001b[0;34m,\u001b[0m \u001b[0mself\u001b[0m\u001b[0;34m.\u001b[0m\u001b[0m_selected_obj\u001b[0m\u001b[0;34m)\u001b[0m\u001b[0;34m\u001b[0m\u001b[0;34m\u001b[0m\u001b[0m\n\u001b[0m\u001b[1;32m   1276\u001b[0m             \u001b[0;32mexcept\u001b[0m \u001b[0mTypeError\u001b[0m\u001b[0;34m:\u001b[0m\u001b[0;34m\u001b[0m\u001b[0;34m\u001b[0m\u001b[0m\n",
      "\u001b[0;32m~/opt/anaconda3/lib/python3.9/site-packages/pandas/core/groupby/groupby.py\u001b[0m in \u001b[0;36m_python_apply_general\u001b[0;34m(self, f, data)\u001b[0m\n\u001b[1;32m   1308\u001b[0m         \"\"\"\n\u001b[0;32m-> 1309\u001b[0;31m         \u001b[0mkeys\u001b[0m\u001b[0;34m,\u001b[0m \u001b[0mvalues\u001b[0m\u001b[0;34m,\u001b[0m \u001b[0mmutated\u001b[0m \u001b[0;34m=\u001b[0m \u001b[0mself\u001b[0m\u001b[0;34m.\u001b[0m\u001b[0mgrouper\u001b[0m\u001b[0;34m.\u001b[0m\u001b[0mapply\u001b[0m\u001b[0;34m(\u001b[0m\u001b[0mf\u001b[0m\u001b[0;34m,\u001b[0m \u001b[0mdata\u001b[0m\u001b[0;34m,\u001b[0m \u001b[0mself\u001b[0m\u001b[0;34m.\u001b[0m\u001b[0maxis\u001b[0m\u001b[0;34m)\u001b[0m\u001b[0;34m\u001b[0m\u001b[0;34m\u001b[0m\u001b[0m\n\u001b[0m\u001b[1;32m   1310\u001b[0m \u001b[0;34m\u001b[0m\u001b[0m\n",
      "\u001b[0;32m~/opt/anaconda3/lib/python3.9/site-packages/pandas/core/groupby/ops.py\u001b[0m in \u001b[0;36mapply\u001b[0;34m(self, f, data, axis)\u001b[0m\n\u001b[1;32m    840\u001b[0m             \u001b[0mgroup_axes\u001b[0m \u001b[0;34m=\u001b[0m \u001b[0mgroup\u001b[0m\u001b[0;34m.\u001b[0m\u001b[0maxes\u001b[0m\u001b[0;34m\u001b[0m\u001b[0;34m\u001b[0m\u001b[0m\n\u001b[0;32m--> 841\u001b[0;31m             \u001b[0mres\u001b[0m \u001b[0;34m=\u001b[0m \u001b[0mf\u001b[0m\u001b[0;34m(\u001b[0m\u001b[0mgroup\u001b[0m\u001b[0;34m)\u001b[0m\u001b[0;34m\u001b[0m\u001b[0;34m\u001b[0m\u001b[0m\n\u001b[0m\u001b[1;32m    842\u001b[0m             \u001b[0;32mif\u001b[0m \u001b[0;32mnot\u001b[0m \u001b[0m_is_indexed_like\u001b[0m\u001b[0;34m(\u001b[0m\u001b[0mres\u001b[0m\u001b[0;34m,\u001b[0m \u001b[0mgroup_axes\u001b[0m\u001b[0;34m,\u001b[0m \u001b[0maxis\u001b[0m\u001b[0;34m)\u001b[0m\u001b[0;34m:\u001b[0m\u001b[0;34m\u001b[0m\u001b[0;34m\u001b[0m\u001b[0m\n",
      "\u001b[0;32m/var/folders/9p/sh_j3mrj2z374f2jzhy0z5mm0000gn/T/ipykernel_24474/3635082091.py\u001b[0m in \u001b[0;36m<lambda>\u001b[0;34m(x)\u001b[0m\n\u001b[1;32m      1\u001b[0m \u001b[0msia\u001b[0m \u001b[0;34m=\u001b[0m \u001b[0msentiment\u001b[0m\u001b[0;34m.\u001b[0m\u001b[0mSentimentIntensityAnalyzer\u001b[0m\u001b[0;34m(\u001b[0m\u001b[0;34m)\u001b[0m\u001b[0;34m\u001b[0m\u001b[0;34m\u001b[0m\u001b[0m\n\u001b[0;32m----> 2\u001b[0;31m \u001b[0mavgSentiment\u001b[0m \u001b[0;34m=\u001b[0m \u001b[0mx\u001b[0m\u001b[0;34m.\u001b[0m\u001b[0mgroupby\u001b[0m\u001b[0;34m(\u001b[0m\u001b[0;34m'asin'\u001b[0m\u001b[0;34m)\u001b[0m\u001b[0;34m[\u001b[0m\u001b[0;34m\"reviewText\"\u001b[0m\u001b[0;34m]\u001b[0m\u001b[0;34m.\u001b[0m\u001b[0mapply\u001b[0m\u001b[0;34m(\u001b[0m\u001b[0;32mlambda\u001b[0m \u001b[0mx\u001b[0m\u001b[0;34m:\u001b[0m \u001b[0mnp\u001b[0m\u001b[0;34m.\u001b[0m\u001b[0mmean\u001b[0m\u001b[0;34m(\u001b[0m\u001b[0msia\u001b[0m\u001b[0;34m.\u001b[0m\u001b[0mpolarity_scores\u001b[0m\u001b[0;34m(\u001b[0m\u001b[0mstr\u001b[0m\u001b[0;34m(\u001b[0m\u001b[0mx\u001b[0m\u001b[0;34m)\u001b[0m\u001b[0;34m)\u001b[0m\u001b[0;34m[\u001b[0m\u001b[0;34m\"compound\"\u001b[0m\u001b[0;34m]\u001b[0m\u001b[0;34m)\u001b[0m\u001b[0;34m)\u001b[0m\u001b[0;34m\u001b[0m\u001b[0;34m\u001b[0m\u001b[0m\n\u001b[0m\u001b[1;32m      3\u001b[0m \u001b[0mavgSentiment\u001b[0m \u001b[0;34m=\u001b[0m \u001b[0mavgSentiment\u001b[0m\u001b[0;34m.\u001b[0m\u001b[0mfillna\u001b[0m\u001b[0;34m(\u001b[0m\u001b[0;36m0\u001b[0m\u001b[0;34m)\u001b[0m\u001b[0;34m.\u001b[0m\u001b[0mrename\u001b[0m\u001b[0;34m(\u001b[0m\u001b[0;34m\"Avg_Sentiment\"\u001b[0m\u001b[0;34m)\u001b[0m\u001b[0;34m\u001b[0m\u001b[0;34m\u001b[0m\u001b[0m\n",
      "\u001b[0;31mTypeError\u001b[0m: 'str' object is not callable",
      "\nDuring handling of the above exception, another exception occurred:\n",
      "\u001b[0;31mTypeError\u001b[0m                                 Traceback (most recent call last)",
      "\u001b[0;32m/var/folders/9p/sh_j3mrj2z374f2jzhy0z5mm0000gn/T/ipykernel_24474/3635082091.py\u001b[0m in \u001b[0;36m<module>\u001b[0;34m\u001b[0m\n\u001b[1;32m      1\u001b[0m \u001b[0msia\u001b[0m \u001b[0;34m=\u001b[0m \u001b[0msentiment\u001b[0m\u001b[0;34m.\u001b[0m\u001b[0mSentimentIntensityAnalyzer\u001b[0m\u001b[0;34m(\u001b[0m\u001b[0;34m)\u001b[0m\u001b[0;34m\u001b[0m\u001b[0;34m\u001b[0m\u001b[0m\n\u001b[0;32m----> 2\u001b[0;31m \u001b[0mavgSentiment\u001b[0m \u001b[0;34m=\u001b[0m \u001b[0mx\u001b[0m\u001b[0;34m.\u001b[0m\u001b[0mgroupby\u001b[0m\u001b[0;34m(\u001b[0m\u001b[0;34m'asin'\u001b[0m\u001b[0;34m)\u001b[0m\u001b[0;34m[\u001b[0m\u001b[0;34m\"reviewText\"\u001b[0m\u001b[0;34m]\u001b[0m\u001b[0;34m.\u001b[0m\u001b[0mapply\u001b[0m\u001b[0;34m(\u001b[0m\u001b[0;32mlambda\u001b[0m \u001b[0mx\u001b[0m\u001b[0;34m:\u001b[0m \u001b[0mnp\u001b[0m\u001b[0;34m.\u001b[0m\u001b[0mmean\u001b[0m\u001b[0;34m(\u001b[0m\u001b[0msia\u001b[0m\u001b[0;34m.\u001b[0m\u001b[0mpolarity_scores\u001b[0m\u001b[0;34m(\u001b[0m\u001b[0mstr\u001b[0m\u001b[0;34m(\u001b[0m\u001b[0mx\u001b[0m\u001b[0;34m)\u001b[0m\u001b[0;34m)\u001b[0m\u001b[0;34m[\u001b[0m\u001b[0;34m\"compound\"\u001b[0m\u001b[0;34m]\u001b[0m\u001b[0;34m)\u001b[0m\u001b[0;34m)\u001b[0m\u001b[0;34m\u001b[0m\u001b[0;34m\u001b[0m\u001b[0m\n\u001b[0m\u001b[1;32m      3\u001b[0m \u001b[0mavgSentiment\u001b[0m \u001b[0;34m=\u001b[0m \u001b[0mavgSentiment\u001b[0m\u001b[0;34m.\u001b[0m\u001b[0mfillna\u001b[0m\u001b[0;34m(\u001b[0m\u001b[0;36m0\u001b[0m\u001b[0;34m)\u001b[0m\u001b[0;34m.\u001b[0m\u001b[0mrename\u001b[0m\u001b[0;34m(\u001b[0m\u001b[0;34m\"Avg_Sentiment\"\u001b[0m\u001b[0;34m)\u001b[0m\u001b[0;34m\u001b[0m\u001b[0;34m\u001b[0m\u001b[0m\n\u001b[1;32m      4\u001b[0m \u001b[0;34m\u001b[0m\u001b[0m\n\u001b[1;32m      5\u001b[0m \u001b[0;31m# tests = range(1)\u001b[0m\u001b[0;34m\u001b[0m\u001b[0;34m\u001b[0m\u001b[0m\n",
      "\u001b[0;32m~/opt/anaconda3/lib/python3.9/site-packages/pandas/core/groupby/generic.py\u001b[0m in \u001b[0;36mapply\u001b[0;34m(self, func, *args, **kwargs)\u001b[0m\n\u001b[1;32m    221\u001b[0m     )\n\u001b[1;32m    222\u001b[0m     \u001b[0;32mdef\u001b[0m \u001b[0mapply\u001b[0m\u001b[0;34m(\u001b[0m\u001b[0mself\u001b[0m\u001b[0;34m,\u001b[0m \u001b[0mfunc\u001b[0m\u001b[0;34m,\u001b[0m \u001b[0;34m*\u001b[0m\u001b[0margs\u001b[0m\u001b[0;34m,\u001b[0m \u001b[0;34m**\u001b[0m\u001b[0mkwargs\u001b[0m\u001b[0;34m)\u001b[0m\u001b[0;34m:\u001b[0m\u001b[0;34m\u001b[0m\u001b[0;34m\u001b[0m\u001b[0m\n\u001b[0;32m--> 223\u001b[0;31m         \u001b[0;32mreturn\u001b[0m \u001b[0msuper\u001b[0m\u001b[0;34m(\u001b[0m\u001b[0;34m)\u001b[0m\u001b[0;34m.\u001b[0m\u001b[0mapply\u001b[0m\u001b[0;34m(\u001b[0m\u001b[0mfunc\u001b[0m\u001b[0;34m,\u001b[0m \u001b[0;34m*\u001b[0m\u001b[0margs\u001b[0m\u001b[0;34m,\u001b[0m \u001b[0;34m**\u001b[0m\u001b[0mkwargs\u001b[0m\u001b[0;34m)\u001b[0m\u001b[0;34m\u001b[0m\u001b[0;34m\u001b[0m\u001b[0m\n\u001b[0m\u001b[1;32m    224\u001b[0m \u001b[0;34m\u001b[0m\u001b[0m\n\u001b[1;32m    225\u001b[0m     \u001b[0;34m@\u001b[0m\u001b[0mdoc\u001b[0m\u001b[0;34m(\u001b[0m\u001b[0m_agg_template\u001b[0m\u001b[0;34m,\u001b[0m \u001b[0mexamples\u001b[0m\u001b[0;34m=\u001b[0m\u001b[0m_agg_examples_doc\u001b[0m\u001b[0;34m,\u001b[0m \u001b[0mklass\u001b[0m\u001b[0;34m=\u001b[0m\u001b[0;34m\"Series\"\u001b[0m\u001b[0;34m)\u001b[0m\u001b[0;34m\u001b[0m\u001b[0;34m\u001b[0m\u001b[0m\n",
      "\u001b[0;32m~/opt/anaconda3/lib/python3.9/site-packages/pandas/core/groupby/groupby.py\u001b[0m in \u001b[0;36mapply\u001b[0;34m(self, func, *args, **kwargs)\u001b[0m\n\u001b[1;32m   1284\u001b[0m \u001b[0;34m\u001b[0m\u001b[0m\n\u001b[1;32m   1285\u001b[0m                 \u001b[0;32mwith\u001b[0m \u001b[0mgroup_selection_context\u001b[0m\u001b[0;34m(\u001b[0m\u001b[0mself\u001b[0m\u001b[0;34m)\u001b[0m\u001b[0;34m:\u001b[0m\u001b[0;34m\u001b[0m\u001b[0;34m\u001b[0m\u001b[0m\n\u001b[0;32m-> 1286\u001b[0;31m                     \u001b[0;32mreturn\u001b[0m \u001b[0mself\u001b[0m\u001b[0;34m.\u001b[0m\u001b[0m_python_apply_general\u001b[0m\u001b[0;34m(\u001b[0m\u001b[0mf\u001b[0m\u001b[0;34m,\u001b[0m \u001b[0mself\u001b[0m\u001b[0;34m.\u001b[0m\u001b[0m_selected_obj\u001b[0m\u001b[0;34m)\u001b[0m\u001b[0;34m\u001b[0m\u001b[0;34m\u001b[0m\u001b[0m\n\u001b[0m\u001b[1;32m   1287\u001b[0m \u001b[0;34m\u001b[0m\u001b[0m\n\u001b[1;32m   1288\u001b[0m         \u001b[0;32mreturn\u001b[0m \u001b[0mresult\u001b[0m\u001b[0;34m\u001b[0m\u001b[0;34m\u001b[0m\u001b[0m\n",
      "\u001b[0;32m~/opt/anaconda3/lib/python3.9/site-packages/pandas/core/groupby/groupby.py\u001b[0m in \u001b[0;36m_python_apply_general\u001b[0;34m(self, f, data)\u001b[0m\n\u001b[1;32m   1307\u001b[0m             \u001b[0mdata\u001b[0m \u001b[0mafter\u001b[0m \u001b[0mapplying\u001b[0m \u001b[0mf\u001b[0m\u001b[0;34m\u001b[0m\u001b[0;34m\u001b[0m\u001b[0m\n\u001b[1;32m   1308\u001b[0m         \"\"\"\n\u001b[0;32m-> 1309\u001b[0;31m         \u001b[0mkeys\u001b[0m\u001b[0;34m,\u001b[0m \u001b[0mvalues\u001b[0m\u001b[0;34m,\u001b[0m \u001b[0mmutated\u001b[0m \u001b[0;34m=\u001b[0m \u001b[0mself\u001b[0m\u001b[0;34m.\u001b[0m\u001b[0mgrouper\u001b[0m\u001b[0;34m.\u001b[0m\u001b[0mapply\u001b[0m\u001b[0;34m(\u001b[0m\u001b[0mf\u001b[0m\u001b[0;34m,\u001b[0m \u001b[0mdata\u001b[0m\u001b[0;34m,\u001b[0m \u001b[0mself\u001b[0m\u001b[0;34m.\u001b[0m\u001b[0maxis\u001b[0m\u001b[0;34m)\u001b[0m\u001b[0;34m\u001b[0m\u001b[0;34m\u001b[0m\u001b[0m\n\u001b[0m\u001b[1;32m   1310\u001b[0m \u001b[0;34m\u001b[0m\u001b[0m\n\u001b[1;32m   1311\u001b[0m         return self._wrap_applied_output(\n",
      "\u001b[0;32m~/opt/anaconda3/lib/python3.9/site-packages/pandas/core/groupby/ops.py\u001b[0m in \u001b[0;36mapply\u001b[0;34m(self, f, data, axis)\u001b[0m\n\u001b[1;32m    839\u001b[0m             \u001b[0;31m# group might be modified\u001b[0m\u001b[0;34m\u001b[0m\u001b[0;34m\u001b[0m\u001b[0m\n\u001b[1;32m    840\u001b[0m             \u001b[0mgroup_axes\u001b[0m \u001b[0;34m=\u001b[0m \u001b[0mgroup\u001b[0m\u001b[0;34m.\u001b[0m\u001b[0maxes\u001b[0m\u001b[0;34m\u001b[0m\u001b[0;34m\u001b[0m\u001b[0m\n\u001b[0;32m--> 841\u001b[0;31m             \u001b[0mres\u001b[0m \u001b[0;34m=\u001b[0m \u001b[0mf\u001b[0m\u001b[0;34m(\u001b[0m\u001b[0mgroup\u001b[0m\u001b[0;34m)\u001b[0m\u001b[0;34m\u001b[0m\u001b[0;34m\u001b[0m\u001b[0m\n\u001b[0m\u001b[1;32m    842\u001b[0m             \u001b[0;32mif\u001b[0m \u001b[0;32mnot\u001b[0m \u001b[0m_is_indexed_like\u001b[0m\u001b[0;34m(\u001b[0m\u001b[0mres\u001b[0m\u001b[0;34m,\u001b[0m \u001b[0mgroup_axes\u001b[0m\u001b[0;34m,\u001b[0m \u001b[0maxis\u001b[0m\u001b[0;34m)\u001b[0m\u001b[0;34m:\u001b[0m\u001b[0;34m\u001b[0m\u001b[0;34m\u001b[0m\u001b[0m\n\u001b[1;32m    843\u001b[0m                 \u001b[0mmutated\u001b[0m \u001b[0;34m=\u001b[0m \u001b[0;32mTrue\u001b[0m\u001b[0;34m\u001b[0m\u001b[0;34m\u001b[0m\u001b[0m\n",
      "\u001b[0;32m/var/folders/9p/sh_j3mrj2z374f2jzhy0z5mm0000gn/T/ipykernel_24474/3635082091.py\u001b[0m in \u001b[0;36m<lambda>\u001b[0;34m(x)\u001b[0m\n\u001b[1;32m      1\u001b[0m \u001b[0msia\u001b[0m \u001b[0;34m=\u001b[0m \u001b[0msentiment\u001b[0m\u001b[0;34m.\u001b[0m\u001b[0mSentimentIntensityAnalyzer\u001b[0m\u001b[0;34m(\u001b[0m\u001b[0;34m)\u001b[0m\u001b[0;34m\u001b[0m\u001b[0;34m\u001b[0m\u001b[0m\n\u001b[0;32m----> 2\u001b[0;31m \u001b[0mavgSentiment\u001b[0m \u001b[0;34m=\u001b[0m \u001b[0mx\u001b[0m\u001b[0;34m.\u001b[0m\u001b[0mgroupby\u001b[0m\u001b[0;34m(\u001b[0m\u001b[0;34m'asin'\u001b[0m\u001b[0;34m)\u001b[0m\u001b[0;34m[\u001b[0m\u001b[0;34m\"reviewText\"\u001b[0m\u001b[0;34m]\u001b[0m\u001b[0;34m.\u001b[0m\u001b[0mapply\u001b[0m\u001b[0;34m(\u001b[0m\u001b[0;32mlambda\u001b[0m \u001b[0mx\u001b[0m\u001b[0;34m:\u001b[0m \u001b[0mnp\u001b[0m\u001b[0;34m.\u001b[0m\u001b[0mmean\u001b[0m\u001b[0;34m(\u001b[0m\u001b[0msia\u001b[0m\u001b[0;34m.\u001b[0m\u001b[0mpolarity_scores\u001b[0m\u001b[0;34m(\u001b[0m\u001b[0mstr\u001b[0m\u001b[0;34m(\u001b[0m\u001b[0mx\u001b[0m\u001b[0;34m)\u001b[0m\u001b[0;34m)\u001b[0m\u001b[0;34m[\u001b[0m\u001b[0;34m\"compound\"\u001b[0m\u001b[0;34m]\u001b[0m\u001b[0;34m)\u001b[0m\u001b[0;34m)\u001b[0m\u001b[0;34m\u001b[0m\u001b[0;34m\u001b[0m\u001b[0m\n\u001b[0m\u001b[1;32m      3\u001b[0m \u001b[0mavgSentiment\u001b[0m \u001b[0;34m=\u001b[0m \u001b[0mavgSentiment\u001b[0m\u001b[0;34m.\u001b[0m\u001b[0mfillna\u001b[0m\u001b[0;34m(\u001b[0m\u001b[0;36m0\u001b[0m\u001b[0;34m)\u001b[0m\u001b[0;34m.\u001b[0m\u001b[0mrename\u001b[0m\u001b[0;34m(\u001b[0m\u001b[0;34m\"Avg_Sentiment\"\u001b[0m\u001b[0;34m)\u001b[0m\u001b[0;34m\u001b[0m\u001b[0;34m\u001b[0m\u001b[0m\n\u001b[1;32m      4\u001b[0m \u001b[0;34m\u001b[0m\u001b[0m\n\u001b[1;32m      5\u001b[0m \u001b[0;31m# tests = range(1)\u001b[0m\u001b[0;34m\u001b[0m\u001b[0;34m\u001b[0m\u001b[0m\n",
      "\u001b[0;31mTypeError\u001b[0m: 'str' object is not callable"
     ]
    }
   ],
   "source": [
    "sia = sentiment.SentimentIntensityAnalyzer()\n",
    "avgSentiment = x.groupby('asin')[\"reviewText\"].apply(lambda x: np.mean(sia.polarity_scores(str(x))[\"compound\"]))\n",
    "avgSentiment = avgSentiment.fillna(0).rename(\"Avg_Sentiment\")\n",
    "\n",
    "# tests = range(1)\n",
    "# unique_items = z[\"asin\"].nunique()\n",
    "# print(\"ui: \", unique_items)\n",
    "\n",
    "# asin = z[\"asin\"].unique()\n",
    "# # print(\"asin: \",asin[tests])\n",
    "# avg_votes = np.zeros(len(asin))\n",
    "\n",
    "# for i in tests: # eventually all\n",
    "#     item = zgrouped.get_group(asin[i])\n",
    "#     avg_votes[i] = item[\"vote\"].fillna(0).astype(int).mean()\n",
    "#     print(len(item))\n",
    "#     sentiments = map(review_sentiment,item[\"reviewText\"].values[0:1000])\n",
    "    \n",
    "#     print(list(sentiments))\n",
    "\n",
    "# print(\"avg_votes: \", avg_votes[0:5])\n"
   ]
  },
  {
   "attachments": {},
   "cell_type": "markdown",
   "metadata": {},
   "source": [
    "Test example: \n",
    "\n",
    "*Gaussian Naive Bayes with tfidf*"
   ]
  },
  {
   "cell_type": "code",
   "execution_count": null,
   "metadata": {},
   "outputs": [],
   "source": [
    "from sklearn.model_selection import train_test_split\n",
    "\n",
    "from sklearn.naive_bayes import GaussianNB\n",
    "gnb = GaussianNB()\n",
    "\n",
    "from sklearn.feature_extraction.text import TfidfVectorizer\n",
    "tfidf = TfidfVectorizer()\n",
    "\n",
    "#split data\n",
    "x_train, x_test, y_train, y_test = train_test_split(x, y, test_size=0.5, random_state=0)\n",
    "\n",
    "#train and apply tfidf\n",
    "    # fit = make vocab \n",
    "    # transform = turn words -> numbers\n",
    "x_train = tfidf.fit_transform(x_train).toarray()\n",
    "x_test = tfidf.transform(x_test).toarray()\n",
    "\n",
    "#make prediction\n",
    "y_pred = gnb.fit(x_train, y_train).predict(x_test)\n",
    "\n",
    "#print accuracy\n",
    "print(f\"Number of mislabeled points out of a total {x_test.shape[0]} points : {(y_test != y_pred).sum()}\")"
   ]
  },
  {
   "attachments": {},
   "cell_type": "markdown",
   "metadata": {},
   "source": [
    "# Models\n",
    "\n",
    "(choose one)"
   ]
  },
  {
   "attachments": {},
   "cell_type": "markdown",
   "metadata": {},
   "source": [
    "Basic Support Vector Machine (SVM)"
   ]
  },
  {
   "cell_type": "code",
   "execution_count": null,
   "metadata": {},
   "outputs": [],
   "source": [
    "from sklearn import svm\n",
    "\n",
    "model = svm.SVC(kernel='rbf')"
   ]
  },
  {
   "attachments": {},
   "cell_type": "markdown",
   "metadata": {},
   "source": [
    "Basic Gaussian Naive Bayes"
   ]
  },
  {
   "cell_type": "code",
   "execution_count": null,
   "metadata": {},
   "outputs": [],
   "source": [
    "from sklearn.naive_bayes import GaussianNB\n",
    "\n",
    "model = GaussianNB()"
   ]
  },
  {
   "attachments": {},
   "cell_type": "markdown",
   "metadata": {},
   "source": [
    "Decision Tree"
   ]
  },
  {
   "cell_type": "code",
   "execution_count": null,
   "metadata": {},
   "outputs": [],
   "source": [
    "from sklearn import tree\n",
    "\n",
    "#choose from 'entropy', 'gini', 'log_loss'\n",
    "criterion = 'entropy'\n",
    "\n",
    "    ###STOPPING CONDITIONS\n",
    "#max height/depth of the tree\n",
    "max_depth = 4\n",
    "\n",
    "#if sat(N) < n_samples*this, don't try to split it any further\n",
    "min_samples_split = .01\n",
    "\n",
    "    ###OTHER\n",
    "#if min(sat(nodes after a split)) < n_samples*this, split not considered \n",
    "#       (aka model isnt allowed to create leaf nodes with < n_samples*this samples)\n",
    "#       (smooths the model, avoids splits like 2000 -> 1999 vs 1)\n",
    "min_samples_leaf = .01\n",
    "\n",
    "model = tree.DecisionTreeClassifier(criterion=criterion, max_depth=max_depth, min_samples_split=min_samples_split, min_samples_leaf=min_samples_leaf)"
   ]
  },
  {
   "attachments": {},
   "cell_type": "markdown",
   "metadata": {},
   "source": [
    "For reference: What x,y should look like"
   ]
  },
  {
   "cell_type": "code",
   "execution_count": null,
   "metadata": {},
   "outputs": [],
   "source": [
    "from sklearn.datasets import load_iris\n",
    "\n",
    "iris = load_iris()\n",
    "\n",
    "#iris.data\n",
    "#iris.target"
   ]
  },
  {
   "attachments": {},
   "cell_type": "markdown",
   "metadata": {},
   "source": [
    "# Testing prep\n",
    "\n",
    "Put feature vector with col 1 as 'asin' to *z*, answers to *y*"
   ]
  },
  {
   "attachments": {},
   "cell_type": "markdown",
   "metadata": {},
   "source": [
    "Currently using features:\n",
    "\n",
    "Name                    |     Column Name\n",
    "\n",
    "reviewCount                    Review_Count\n",
    "\n",
    "with_image_percentage          %_Image\n",
    "\n",
    "percent_verified               %_Verified\n",
    "\n",
    "total_votes                    Total_Votes\n",
    "\n",
    "reviewlength                   Review_Length\n",
    "\n",
    "percentCap                     %_Uppercase\n",
    "\n",
    "actualAwesomeness              Actual_Awesomeness\n",
    "\n",
    "avgSentiment                   Avg_Sentiment"
   ]
  },
  {
   "cell_type": "code",
   "execution_count": null,
   "metadata": {},
   "outputs": [],
   "source": [
    "#combine all individual features into one dataFrame\n",
    "\n",
    "#enter any features to be combined here! \n",
    "#   They must be pd dataFrames with the 'asin' column for this to work\n",
    "features = [reviewCount,with_image_percentage,percent_verified,total_votes,avgSentiment]#reviewlength,percentCap,actualAwesomeness]\n",
    "\n",
    "z = x['asin']\n",
    "for f in features:\n",
    "    z = pd.merge(z,f,'inner','asin')\n",
    "\n",
    "#combine resultant data with correct answers \n",
    "temp = pd.merge(z,y,'inner','asin') \n",
    "temp = temp.groupby(\"asin\").mean()\n",
    "\n",
    "#split into features (x) and awesomeness (y), which now row correspond but don't have an 'asin' col anymore\n",
    "# merged_x = temp.drop(['asin','awesomeness'], axis=1)\n",
    "merged_x = temp.drop(['awesomeness'], axis=1)\n",
    "merged_y = temp[\"awesomeness\"]\n",
    "\n",
    "merged_x = merged_x.dropna() #not sure why but need this, since 2 rows are empty"
   ]
  },
  {
   "attachments": {},
   "cell_type": "markdown",
   "metadata": {},
   "source": [
    "Decision Tree - See what it looks like! \n",
    "\n",
    "(only run if the model is a decision tree)\n",
    "\n",
    "*note: this trains the model on the whole dataset, so don't do before testing!*"
   ]
  },
  {
   "cell_type": "code",
   "execution_count": null,
   "metadata": {},
   "outputs": [],
   "source": [
    "model.fit(merged_x,merged_y)\n",
    "tree.plot_tree(model)"
   ]
  },
  {
   "attachments": {},
   "cell_type": "markdown",
   "metadata": {},
   "source": [
    "# Testing"
   ]
  },
  {
   "attachments": {},
   "cell_type": "markdown",
   "metadata": {},
   "source": [
    "K-Fold testing \n",
    "\n",
    "(set model to variable *model*)"
   ]
  },
  {
   "cell_type": "code",
   "execution_count": null,
   "metadata": {},
   "outputs": [],
   "source": [
    "from sklearn.model_selection import cross_validate\n",
    "from sklearn import metrics\n",
    "\n",
    "#desired metrics\n",
    "scoring=['f1','accuracy','precision','recall']\n",
    "\n",
    "#number of \"folds\"\n",
    "k=10\n",
    "\n",
    "cv_results = cross_validate(model, merged_x, merged_y, cv=k, scoring=scoring)"
   ]
  },
  {
   "attachments": {},
   "cell_type": "markdown",
   "metadata": {},
   "source": [
    "Pretty print results"
   ]
  },
  {
   "cell_type": "code",
   "execution_count": null,
   "metadata": {},
   "outputs": [
    {
     "name": "stdout",
     "output_type": "stream",
     "text": [
      "----------------------------------------\n",
      "\tAVG, STDEV TEST RESULTS\n",
      "----------------------------------------\n",
      "\t\tMEAN\t\tSTDEV\n",
      "f1:       \t0.1266\t\t0.175\n",
      "accuracy: \t0.4784\t\t0.0232\n",
      "precision:\t0.5389\t\t0.0348\n",
      "recall:   \t0.1122\t\t0.2273\n"
     ]
    }
   ],
   "source": [
    "hline = (\"-\"*40)\n",
    "\n",
    "#print means, stdevs\n",
    "print(hline+\"\\n\\tAVG, STDEV TEST RESULTS\\n\"+hline)\n",
    "print(\"\\t\\tMEAN\\t\\tSTDEV\")\n",
    "for m in scoring:\n",
    "        ind = (\"test_\"+m)\n",
    "        test = (m+\":\").ljust(10)\n",
    "        print(f\"{test}\\t{np.round(cv_results[ind].mean(),4)}\\t\\t{np.round(cv_results[ind].std(),4)}\")\n",
    "\n",
    "\n",
    "    ##print per test results (if you really want, uncomment)\n",
    "# print(\"\\n\")\n",
    "# print(hline+\"\\n\\tPER TEST RESULTS\\n\"+hline)\n",
    "# for i in range(k):\n",
    "#     print(f\"Test {i}:\")\n",
    "#     for m in scoring:\n",
    "#         ind = (\"test_\"+m)\n",
    "#         test = (m+\":\").ljust(10)\n",
    "#         print(f\"\\t{test} {np.round(cv_results[ind][i],5)}\")"
   ]
  }
 ],
 "metadata": {
  "kernelspec": {
   "display_name": "Python 3",
   "language": "python",
   "name": "python3"
  },
  "language_info": {
   "codemirror_mode": {
    "name": "ipython",
    "version": 3
   },
   "file_extension": ".py",
   "mimetype": "text/x-python",
   "name": "python",
   "nbconvert_exporter": "python",
   "pygments_lexer": "ipython3",
   "version": "3.10.1"
  },
  "orig_nbformat": 4,
  "vscode": {
   "interpreter": {
    "hash": "aee8b7b246df8f9039afb4144a1f6fd8d2ca17a180786b69acc140d282b71a49"
   }
  }
 },
 "nbformat": 4,
 "nbformat_minor": 2
}
