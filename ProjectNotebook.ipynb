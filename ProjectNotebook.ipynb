{
 "cells": [
  {
   "attachments": {},
   "cell_type": "markdown",
   "metadata": {},
   "source": [
    "**Imports**\n",
    "\n",
    "Data"
   ]
  },
  {
   "cell_type": "code",
   "execution_count": null,
   "metadata": {},
   "outputs": [],
   "source": [
    "#enter the path to get to your CDs_and_Vinyl folder below\n",
    "PATH_TO_CDS = '../devided_dataset_v2/CDs_and_Vinyl/'\n",
    "\n",
    "import pandas as pd\n",
    "\n",
    "# Open and load json training files\n",
    "x = pd.read_json(PATH_TO_CDS + 'train/review_training.json')\n",
    "y = pd.read_json(PATH_TO_CDS + 'train/product_training.json')"
   ]
  },
  {
   "attachments": {},
   "cell_type": "markdown",
   "metadata": {},
   "source": [
    "Other"
   ]
  },
  {
   "cell_type": "code",
   "execution_count": 19,
   "metadata": {},
   "outputs": [],
   "source": [
    "import numpy as np\n",
    "from nltk import sentiment\n",
    "import re"
   ]
  },
  {
   "attachments": {},
   "cell_type": "markdown",
   "metadata": {},
   "source": [
    "PATCH TO SPEED UP (ONLY IF INTEL CHIP) \n",
    "\n",
    "lmao rip daniel\n",
    "\n",
    "thanks guys -daniel"
   ]
  },
  {
   "cell_type": "code",
   "execution_count": 12,
   "metadata": {},
   "outputs": [
    {
     "name": "stderr",
     "output_type": "stream",
     "text": [
      "Intel(R) Extension for Scikit-learn* enabled (https://github.com/intel/scikit-learn-intelex)\n"
     ]
    }
   ],
   "source": [
    "from sklearnex import patch_sklearn \n",
    "\n",
    "patch_sklearn()"
   ]
  },
  {
   "cell_type": "markdown",
   "metadata": {},
   "source": [
    "**Pre Processing**"
   ]
  },
  {
   "cell_type": "code",
   "execution_count": null,
   "metadata": {},
   "outputs": [],
   "source": [
    "x #770786 entries\n",
    "y #073082 entries"
   ]
  },
  {
   "attachments": {},
   "cell_type": "markdown",
   "metadata": {},
   "source": [
    "# Feature creation "
   ]
  },
  {
   "attachments": {},
   "cell_type": "markdown",
   "metadata": {},
   "source": [
    "Dropping unverified "
   ]
  },
  {
   "cell_type": "code",
   "execution_count": 4,
   "metadata": {},
   "outputs": [
    {
     "data": {
      "text/html": [
       "<div>\n",
       "<style scoped>\n",
       "    .dataframe tbody tr th:only-of-type {\n",
       "        vertical-align: middle;\n",
       "    }\n",
       "\n",
       "    .dataframe tbody tr th {\n",
       "        vertical-align: top;\n",
       "    }\n",
       "\n",
       "    .dataframe thead th {\n",
       "        text-align: right;\n",
       "    }\n",
       "</style>\n",
       "<table border=\"1\" class=\"dataframe\">\n",
       "  <thead>\n",
       "    <tr style=\"text-align: right;\">\n",
       "      <th></th>\n",
       "      <th>asin</th>\n",
       "      <th>reviewerID</th>\n",
       "      <th>unixReviewTime</th>\n",
       "      <th>vote</th>\n",
       "      <th>verified</th>\n",
       "      <th>reviewTime</th>\n",
       "      <th>style</th>\n",
       "      <th>reviewerName</th>\n",
       "      <th>reviewText</th>\n",
       "      <th>summary</th>\n",
       "      <th>image</th>\n",
       "    </tr>\n",
       "  </thead>\n",
       "  <tbody>\n",
       "    <tr>\n",
       "      <th>0</th>\n",
       "      <td>6673F1740E03573BCD64238FE711FC69</td>\n",
       "      <td>9C856D4A18E1355783B3B28B7ECC1848</td>\n",
       "      <td>1451520000</td>\n",
       "      <td>9</td>\n",
       "      <td>True</td>\n",
       "      <td>12 31, 2015</td>\n",
       "      <td>{'Format:': ' MP3 Music'}</td>\n",
       "      <td>8D88BB79AAC50277AEE82FCFD77F6744</td>\n",
       "      <td>Finding the Beatles all over again - and bette...</td>\n",
       "      <td>I sit listening - with my jaw to the floor - H...</td>\n",
       "      <td>None</td>\n",
       "    </tr>\n",
       "    <tr>\n",
       "      <th>4</th>\n",
       "      <td>EF59DAF0C00319A48D4784266FD157EE</td>\n",
       "      <td>2293C9B7950A3356B95828419A677720</td>\n",
       "      <td>1477958400</td>\n",
       "      <td>None</td>\n",
       "      <td>True</td>\n",
       "      <td>11 1, 2016</td>\n",
       "      <td>{'Format:': ' Audio CD'}</td>\n",
       "      <td>C69A09446009C500B1364B7DB5510497</td>\n",
       "      <td>Great cd.</td>\n",
       "      <td>Five Stars</td>\n",
       "      <td>None</td>\n",
       "    </tr>\n",
       "    <tr>\n",
       "      <th>7</th>\n",
       "      <td>7809E907572CA5E262E2F418FD8B3C96</td>\n",
       "      <td>981ACFA8D81F7502F5B3D2E3A0C27F6D</td>\n",
       "      <td>1328140800</td>\n",
       "      <td>3</td>\n",
       "      <td>True</td>\n",
       "      <td>02 2, 2012</td>\n",
       "      <td>{'Format:': ' Audio CD'}</td>\n",
       "      <td>0EE688E03E32F5330F598C3416B96B16</td>\n",
       "      <td>I remembered liking this album in the early 70...</td>\n",
       "      <td>Tastes Change</td>\n",
       "      <td>None</td>\n",
       "    </tr>\n",
       "    <tr>\n",
       "      <th>8</th>\n",
       "      <td>6673F1740E03573BCD64238FE711FC69</td>\n",
       "      <td>607256A8DAC2F8AC4A7DD9FBE88362AC</td>\n",
       "      <td>1524268800</td>\n",
       "      <td>None</td>\n",
       "      <td>True</td>\n",
       "      <td>04 21, 2018</td>\n",
       "      <td>{'Format:': ' Audio CD'}</td>\n",
       "      <td>7296666D422736895842236214110D08</td>\n",
       "      <td>I purchased this item, along with the other Be...</td>\n",
       "      <td>Purchased as a birthday gift for my great-nephew</td>\n",
       "      <td>None</td>\n",
       "    </tr>\n",
       "    <tr>\n",
       "      <th>9</th>\n",
       "      <td>15385624CFBA7E47876256A65B0E97BD</td>\n",
       "      <td>7FAA7FA54AD97F4381A31B07C7A02BF4</td>\n",
       "      <td>1418169600</td>\n",
       "      <td>None</td>\n",
       "      <td>True</td>\n",
       "      <td>12 10, 2014</td>\n",
       "      <td>{'Format:': ' Audio CD'}</td>\n",
       "      <td>07A5390E52A41D628D2DFB185D372273</td>\n",
       "      <td>as advertized</td>\n",
       "      <td>Four Stars</td>\n",
       "      <td>None</td>\n",
       "    </tr>\n",
       "    <tr>\n",
       "      <th>...</th>\n",
       "      <td>...</td>\n",
       "      <td>...</td>\n",
       "      <td>...</td>\n",
       "      <td>...</td>\n",
       "      <td>...</td>\n",
       "      <td>...</td>\n",
       "      <td>...</td>\n",
       "      <td>...</td>\n",
       "      <td>...</td>\n",
       "      <td>...</td>\n",
       "      <td>...</td>\n",
       "    </tr>\n",
       "    <tr>\n",
       "      <th>770775</th>\n",
       "      <td>A22DE13554D263912D60A5AC3176A61F</td>\n",
       "      <td>CB4F99C92EE1B0AE289A2D16F35EB887</td>\n",
       "      <td>1522454400</td>\n",
       "      <td>None</td>\n",
       "      <td>True</td>\n",
       "      <td>03 31, 2018</td>\n",
       "      <td>{'Format:': ' Audio CD'}</td>\n",
       "      <td>344A8B9F2DD045C65F9F6F9B75690388</td>\n",
       "      <td>Excellent</td>\n",
       "      <td>Five Stars</td>\n",
       "      <td>None</td>\n",
       "    </tr>\n",
       "    <tr>\n",
       "      <th>770778</th>\n",
       "      <td>6673F1740E03573BCD64238FE711FC69</td>\n",
       "      <td>08C5725E6F9C3C3E1C50AF09F9CEC21C</td>\n",
       "      <td>1424736000</td>\n",
       "      <td>2</td>\n",
       "      <td>True</td>\n",
       "      <td>02 24, 2015</td>\n",
       "      <td>{'Format:': ' Vinyl'}</td>\n",
       "      <td>750BD346D389A71848003536E8C765CB</td>\n",
       "      <td>I was a kid when the group broke up and had on...</td>\n",
       "      <td>I must say I have never heard these early albu...</td>\n",
       "      <td>None</td>\n",
       "    </tr>\n",
       "    <tr>\n",
       "      <th>770779</th>\n",
       "      <td>151380408EC8DB02F5B800B2369D6744</td>\n",
       "      <td>C4FA68B2E19666D9D4E40D2A49D08716</td>\n",
       "      <td>1418601600</td>\n",
       "      <td>None</td>\n",
       "      <td>True</td>\n",
       "      <td>12 15, 2014</td>\n",
       "      <td>{'Format:': ' Audio CD'}</td>\n",
       "      <td>0D8B93021EA26187591091F3EA26779C</td>\n",
       "      <td>Gave CD to my son</td>\n",
       "      <td>Five Stars</td>\n",
       "      <td>None</td>\n",
       "    </tr>\n",
       "    <tr>\n",
       "      <th>770780</th>\n",
       "      <td>AB43432D406F5A9AC547F5416EAB8165</td>\n",
       "      <td>62C775164FDD036277DA68D5993BF020</td>\n",
       "      <td>1466294400</td>\n",
       "      <td>None</td>\n",
       "      <td>True</td>\n",
       "      <td>06 19, 2016</td>\n",
       "      <td>{'Format:': ' Audio CD'}</td>\n",
       "      <td>A7C4CC942F4D7FA6132973E8AE799833</td>\n",
       "      <td>Great CD</td>\n",
       "      <td>Four Stars</td>\n",
       "      <td>None</td>\n",
       "    </tr>\n",
       "    <tr>\n",
       "      <th>770781</th>\n",
       "      <td>BD91503308A437374C3254EDC8BC24CB</td>\n",
       "      <td>936ED23AF4D23943786BBD44D0F1114B</td>\n",
       "      <td>1136246400</td>\n",
       "      <td>12</td>\n",
       "      <td>True</td>\n",
       "      <td>01 3, 2006</td>\n",
       "      <td>{'Format:': ' Audio CD'}</td>\n",
       "      <td>AAB61000438939C8E6165CFCCF02A488</td>\n",
       "      <td>This was the first Simple Minds album that I b...</td>\n",
       "      <td>Their Most Fully Realized Artistic Studio Stat...</td>\n",
       "      <td>None</td>\n",
       "    </tr>\n",
       "  </tbody>\n",
       "</table>\n",
       "<p>401407 rows × 11 columns</p>\n",
       "</div>"
      ],
      "text/plain": [
       "                                    asin                        reviewerID   \n",
       "0       6673F1740E03573BCD64238FE711FC69  9C856D4A18E1355783B3B28B7ECC1848  \\\n",
       "4       EF59DAF0C00319A48D4784266FD157EE  2293C9B7950A3356B95828419A677720   \n",
       "7       7809E907572CA5E262E2F418FD8B3C96  981ACFA8D81F7502F5B3D2E3A0C27F6D   \n",
       "8       6673F1740E03573BCD64238FE711FC69  607256A8DAC2F8AC4A7DD9FBE88362AC   \n",
       "9       15385624CFBA7E47876256A65B0E97BD  7FAA7FA54AD97F4381A31B07C7A02BF4   \n",
       "...                                  ...                               ...   \n",
       "770775  A22DE13554D263912D60A5AC3176A61F  CB4F99C92EE1B0AE289A2D16F35EB887   \n",
       "770778  6673F1740E03573BCD64238FE711FC69  08C5725E6F9C3C3E1C50AF09F9CEC21C   \n",
       "770779  151380408EC8DB02F5B800B2369D6744  C4FA68B2E19666D9D4E40D2A49D08716   \n",
       "770780  AB43432D406F5A9AC547F5416EAB8165  62C775164FDD036277DA68D5993BF020   \n",
       "770781  BD91503308A437374C3254EDC8BC24CB  936ED23AF4D23943786BBD44D0F1114B   \n",
       "\n",
       "        unixReviewTime  vote  verified   reviewTime   \n",
       "0           1451520000     9      True  12 31, 2015  \\\n",
       "4           1477958400  None      True   11 1, 2016   \n",
       "7           1328140800     3      True   02 2, 2012   \n",
       "8           1524268800  None      True  04 21, 2018   \n",
       "9           1418169600  None      True  12 10, 2014   \n",
       "...                ...   ...       ...          ...   \n",
       "770775      1522454400  None      True  03 31, 2018   \n",
       "770778      1424736000     2      True  02 24, 2015   \n",
       "770779      1418601600  None      True  12 15, 2014   \n",
       "770780      1466294400  None      True  06 19, 2016   \n",
       "770781      1136246400    12      True   01 3, 2006   \n",
       "\n",
       "                            style                      reviewerName   \n",
       "0       {'Format:': ' MP3 Music'}  8D88BB79AAC50277AEE82FCFD77F6744  \\\n",
       "4        {'Format:': ' Audio CD'}  C69A09446009C500B1364B7DB5510497   \n",
       "7        {'Format:': ' Audio CD'}  0EE688E03E32F5330F598C3416B96B16   \n",
       "8        {'Format:': ' Audio CD'}  7296666D422736895842236214110D08   \n",
       "9        {'Format:': ' Audio CD'}  07A5390E52A41D628D2DFB185D372273   \n",
       "...                           ...                               ...   \n",
       "770775   {'Format:': ' Audio CD'}  344A8B9F2DD045C65F9F6F9B75690388   \n",
       "770778      {'Format:': ' Vinyl'}  750BD346D389A71848003536E8C765CB   \n",
       "770779   {'Format:': ' Audio CD'}  0D8B93021EA26187591091F3EA26779C   \n",
       "770780   {'Format:': ' Audio CD'}  A7C4CC942F4D7FA6132973E8AE799833   \n",
       "770781   {'Format:': ' Audio CD'}  AAB61000438939C8E6165CFCCF02A488   \n",
       "\n",
       "                                               reviewText   \n",
       "0       Finding the Beatles all over again - and bette...  \\\n",
       "4                                               Great cd.   \n",
       "7       I remembered liking this album in the early 70...   \n",
       "8       I purchased this item, along with the other Be...   \n",
       "9                                           as advertized   \n",
       "...                                                   ...   \n",
       "770775                                          Excellent   \n",
       "770778  I was a kid when the group broke up and had on...   \n",
       "770779                                  Gave CD to my son   \n",
       "770780                                           Great CD   \n",
       "770781  This was the first Simple Minds album that I b...   \n",
       "\n",
       "                                                  summary image  \n",
       "0       I sit listening - with my jaw to the floor - H...  None  \n",
       "4                                              Five Stars  None  \n",
       "7                                           Tastes Change  None  \n",
       "8        Purchased as a birthday gift for my great-nephew  None  \n",
       "9                                              Four Stars  None  \n",
       "...                                                   ...   ...  \n",
       "770775                                         Five Stars  None  \n",
       "770778  I must say I have never heard these early albu...  None  \n",
       "770779                                         Five Stars  None  \n",
       "770780                                         Four Stars  None  \n",
       "770781  Their Most Fully Realized Artistic Studio Stat...  None  \n",
       "\n",
       "[401407 rows x 11 columns]"
      ]
     },
     "execution_count": 4,
     "metadata": {},
     "output_type": "execute_result"
    }
   ],
   "source": [
    "#RUN ONLY IF YOU ARE OK WITH DROPPING UNVERIFIED\n",
    "\n",
    "dropUnverified = x[x.verified == True]\n",
    "dropUnverified"
   ]
  },
  {
   "attachments": {},
   "cell_type": "markdown",
   "metadata": {},
   "source": [
    "Making a sample set to test features:"
   ]
  },
  {
   "cell_type": "code",
   "execution_count": null,
   "metadata": {},
   "outputs": [],
   "source": [
    "#ts = test sample 2 thousand long\n",
    "ts = x[:2000]\n",
    "ts"
   ]
  },
  {
   "attachments": {},
   "cell_type": "markdown",
   "metadata": {},
   "source": [
    "Making a single feature ex"
   ]
  },
  {
   "cell_type": "code",
   "execution_count": 6,
   "metadata": {},
   "outputs": [],
   "source": [
    "reviewCount = x.groupby('asin')[\"reviewerID\"].count()\n",
    "reviewCount = reviewCount.rename(\"Review_NUM\")"
   ]
  },
  {
   "cell_type": "code",
   "execution_count": null,
   "metadata": {},
   "outputs": [],
   "source": [
    "unixReviewMean = x.groupby('asin')['unixReviewTime'].mean()\n",
    "unixReviewMean"
   ]
  },
  {
   "attachments": {},
   "cell_type": "markdown",
   "metadata": {},
   "source": [
    "Percent verified"
   ]
  },
  {
   "cell_type": "code",
   "execution_count": 7,
   "metadata": {},
   "outputs": [],
   "source": [
    "\n",
    "\n",
    "percent_verified = dropUnverified.groupby(\"asin\")[\"reviewerID\"].count()\n",
    "percent_verified = percent_verified/reviewCount\n",
    "percent_verified = percent_verified.apply(lambda x: x if x > 0  else 0)\n",
    "percent_verified = percent_verified.rename(\"Verified_PC\")"
   ]
  },
  {
   "attachments": {},
   "cell_type": "markdown",
   "metadata": {},
   "source": [
    "dropping bots by time of post\n",
    "\n",
    "All the comments are encoded with the date only, no time, so this is not possible"
   ]
  },
  {
   "cell_type": "code",
   "execution_count": null,
   "metadata": {},
   "outputs": [],
   "source": [
    "# test1 = x[x.unixReviewTime % 100 != 0]\n",
    "# test1"
   ]
  },
  {
   "attachments": {},
   "cell_type": "markdown",
   "metadata": {},
   "source": [
    "total number of votes across reviews"
   ]
  },
  {
   "cell_type": "code",
   "execution_count": 8,
   "metadata": {},
   "outputs": [],
   "source": [
    "x_copy = x\n",
    "total_review_num = x_copy.vote\n",
    "total_review_num = total_review_num.apply(lambda x: float(x.replace(\",\", \"\")) if type(x) == str  else 0)\n",
    "total_review_num = total_review_num.rename(\"vote\").to_frame()\n",
    "x_copy[\"vote\"] = total_review_num[\"vote\"]\n",
    "total_votes = x_copy.groupby('asin')[\"vote\"].sum(\"vote\")\n",
    "total_votes = total_votes.rename(\"Total_Votes\")"
   ]
  },
  {
   "attachments": {},
   "cell_type": "markdown",
   "metadata": {},
   "source": [
    "groupby() testing"
   ]
  },
  {
   "cell_type": "code",
   "execution_count": null,
   "metadata": {},
   "outputs": [],
   "source": [
    "# tests = range(5)\n",
    "# unique_items = z[\"asin\"].nunique()\n",
    "# print(\"ui: \", unique_items)\n",
    "\n",
    "# asin = z[\"asin\"].values\n",
    "# print(\"asin: \",asin)\n",
    "# avg_votes = np.zeros(len(asin))\n",
    "\n",
    "# for i in tests: # eventually all\n",
    "#     item = zgrouped.get_group(asin[i])\n",
    "#     avg_votes[i] = item[\"vote\"].fillna(0).astype(int).mean()\n",
    "\n",
    "# print(\"avg_votes: \", avg_votes[0:5])"
   ]
  },
  {
   "attachments": {},
   "cell_type": "markdown",
   "metadata": {},
   "source": [
    "Percent of reviews with images"
   ]
  },
  {
   "cell_type": "code",
   "execution_count": 9,
   "metadata": {},
   "outputs": [],
   "source": [
    "#total = ts.groupby('asin')[\"reviewerID\"].count()\n",
    "with_image = x[x.image.astype('string') != \"None\"]\n",
    "with_image = with_image.groupby('asin')[\"image\"].count()\n",
    "#print(with_image)\n",
    "#print(total)\n",
    "with_image_percentage = with_image/reviewCount\n",
    "#with_image_percentage = with_image_percentage[with_image_percentage > 0]\n",
    "with_image_percentage = with_image_percentage.apply(lambda x: x if x > 0  else 0)\n",
    "# returning rn with NaN instead of 0, not sure if thats fine or not??\n",
    "\n",
    "#with_image_percentage = with_image_percentage[with_image_percentage > 0]\n",
    "with_image_percentage = with_image_percentage.rename(\"Image_PC\")"
   ]
  },
  {
   "attachments": {},
   "cell_type": "markdown",
   "metadata": {},
   "source": [
    "Making a feature vector\n",
    "currently has number of reviews, percentage of reviews with images, percentage of reviews that are verified, and total votes across all reviews"
   ]
  },
  {
   "cell_type": "code",
   "execution_count": null,
   "metadata": {},
   "outputs": [],
   "source": [
    "# feature_vector = reviewCount.rename(\"Review_NUM\")\n",
    "# feature_vector = feature_vector.to_frame().merge(with_image_percentage.rename(\"Image_PC\").to_frame(), left_index=True, right_index=True)\n",
    "# feature_vector = feature_vector.merge(percent_verified.rename(\"Verified_PC\").to_frame(), left_index=True, right_index=True)\n",
    "# # fxx = feature_vector[feature_vector.Image_PC > 0]\n",
    "# # fxx = \n",
    "# feature_vector = feature_vector.merge(total_votes.rename(\"Total_Votes\").to_frame(), left_index=True, right_index=True)\n",
    "# feature_vector"
   ]
  },
  {
   "attachments": {},
   "cell_type": "markdown",
   "metadata": {},
   "source": [
    "Since I commented out the feature vector, here are the names of each individual feature:\n",
    "\n",
    "reviewCount\n",
    "\n",
    "with_image_percentage\n",
    "\n",
    "percent_verified\n",
    "\n",
    "total_votes\n",
    "\n",
    "\n",
    "Hope this clears it up. lmk if its confusing -Daniel"
   ]
  },
  {
   "attachments": {},
   "cell_type": "markdown",
   "metadata": {},
   "source": [
    "# Text Analysis"
   ]
  },
  {
   "cell_type": "code",
   "execution_count": null,
   "metadata": {},
   "outputs": [],
   "source": [
    "testdata = x.groupby(\"asin\").get_group(\"0000B049F5B33CD310EB1AB236E20191\")\n",
    "\n",
    "# np.mean(len(str(testdata[\"reviewText\"]).split()))"
   ]
  },
  {
   "attachments": {},
   "cell_type": "markdown",
   "metadata": {},
   "source": [
    "Length of Reviews Feature"
   ]
  },
  {
   "cell_type": "code",
   "execution_count": 10,
   "metadata": {},
   "outputs": [],
   "source": [
    "reviewlength = x.groupby('asin')[\"reviewText\"].apply(lambda x: x.str.split().str.len().mean())\n",
    "reviewlength = reviewlength.rename(\"reviewLength\")"
   ]
  },
  {
   "cell_type": "markdown",
   "metadata": {},
   "source": [
    "Percentage Uppercase Feature:"
   ]
  },
  {
   "cell_type": "code",
   "execution_count": 11,
   "metadata": {},
   "outputs": [],
   "source": [
    "# def count_cap(str):\n",
    "#     stripped = ''.join(str.split())\n",
    "#     return sum(c.isupper() for c in ''.join(stripped))/len(stripped)\n",
    "\n",
    "percentCap = x.groupby('asin')[\"reviewText\"].apply(lambda x: (x.str.count(\"[A-Z]\")/x.str.len()).mean())\n",
    "percentCap = percentCap.rename(\"percentUppercase\")\n"
   ]
  },
  {
   "cell_type": "markdown",
   "metadata": {},
   "source": [
    "Actual Awesomeness Feature: # times the word \"awesome\" is used per review"
   ]
  },
  {
   "cell_type": "code",
   "execution_count": 13,
   "metadata": {},
   "outputs": [
    {
     "data": {
      "text/plain": [
       "asin\n",
       "0000B049F5B33CD310EB1AB236E20191    0.000000\n",
       "00018184A9EC4D270219A296B2580303    0.055556\n",
       "000281A9CAC43FF1F335726A390636DA    0.000000\n",
       "00030884DF109F325638A6BFD5B13CFF    0.068966\n",
       "000325BA25966B5FC701D5D2B5DBA4E0    0.500000\n",
       "                                      ...   \n",
       "FFFDD3C72D23AF858D6E0ED92612370D    0.125000\n",
       "FFFDDE284A73B29B320381487EC7DE9E    0.000000\n",
       "FFFEB3EE2372807964F024707D50FB21    0.000000\n",
       "FFFF4545AB232D81D0F9B208388BB7AA    0.000000\n",
       "FFFF5A3D9CB0B40FF0FE6B95F05D26FE    0.185185\n",
       "Name: actualAwesomeness, Length: 73082, dtype: float64"
      ]
     },
     "execution_count": 13,
     "metadata": {},
     "output_type": "execute_result"
    }
   ],
   "source": [
    "actualAwesomeness = x.groupby('asin')[\"reviewText\"].apply(lambda x: (x.str.count(\"[Aa]wesome\")).mean())\n",
    "actualAwesomeness = actualAwesomeness.rename(\"actualAwesomeness\")\n",
    "actualAwesomeness"
   ]
  },
  {
   "attachments": {},
   "cell_type": "markdown",
   "metadata": {},
   "source": [
    "# Sentiment Analysis"
   ]
  },
  {
   "cell_type": "code",
   "execution_count": 14,
   "metadata": {},
   "outputs": [],
   "source": [
    "## Helper function for sentiment\n",
    "def review_sentiment(text):\n",
    "    sia = sentiment.SentimentIntensityAnalyzer()\n",
    "    return sia.polarity_scores(text)[\"compound\"]\n",
    "\n",
    "## just some examples to gut check\n",
    "# print(review_sentiment(\"Ugh, what a terrible, horrible, no good, very bad day\"))\n",
    "# print(review_sentiment(\"I went to the store today\"))\n",
    "# print(review_sentiment(\"I absolutely love my favorite best friend\"))"
   ]
  },
  {
   "attachments": {},
   "cell_type": "markdown",
   "metadata": {},
   "source": [
    "apply sentiment analysis to data"
   ]
  },
  {
   "cell_type": "code",
   "execution_count": 22,
   "metadata": {},
   "outputs": [],
   "source": [
    "sia = sentiment.SentimentIntensityAnalyzer()\n",
    "avgSentiment = x.groupby('asin')[\"reviewText\"].apply(lambda x: np.mean(sia.polarity_scores(str(x))[\"compound\"]))\n",
    "\n",
    "# tests = range(1)\n",
    "# unique_items = z[\"asin\"].nunique()\n",
    "# print(\"ui: \", unique_items)\n",
    "\n",
    "# asin = z[\"asin\"].unique()\n",
    "# # print(\"asin: \",asin[tests])\n",
    "# avg_votes = np.zeros(len(asin))\n",
    "\n",
    "# for i in tests: # eventually all\n",
    "#     item = zgrouped.get_group(asin[i])\n",
    "#     avg_votes[i] = item[\"vote\"].fillna(0).astype(int).mean()\n",
    "#     print(len(item))\n",
    "#     sentiments = map(review_sentiment,item[\"reviewText\"].values[0:1000])\n",
    "    \n",
    "#     print(list(sentiments))\n",
    "\n",
    "# print(\"avg_votes: \", avg_votes[0:5])"
   ]
  },
  {
   "attachments": {},
   "cell_type": "markdown",
   "metadata": {},
   "source": [
    "Test example: \n",
    "\n",
    "*Gaussian Naive Bayes with tfidf*"
   ]
  },
  {
   "cell_type": "code",
   "execution_count": null,
   "metadata": {},
   "outputs": [],
   "source": [
    "from sklearn.model_selection import train_test_split\n",
    "\n",
    "from sklearn.naive_bayes import GaussianNB\n",
    "gnb = GaussianNB()\n",
    "\n",
    "from sklearn.feature_extraction.text import TfidfVectorizer\n",
    "tfidf = TfidfVectorizer()\n",
    "\n",
    "#split data\n",
    "x_train, x_test, y_train, y_test = train_test_split(x, y, test_size=0.5, random_state=0)\n",
    "\n",
    "#train and apply tfidf\n",
    "    # fit = make vocab \n",
    "    # transform = turn words -> numbers\n",
    "x_train = tfidf.fit_transform(x_train).toarray()\n",
    "x_test = tfidf.transform(x_test).toarray()\n",
    "\n",
    "#make prediction\n",
    "y_pred = gnb.fit(x_train, y_train).predict(x_test)\n",
    "\n",
    "#print accuracy\n",
    "print(f\"Number of mislabeled points out of a total {x_test.shape[0]} points : {(y_test != y_pred).sum()}\")"
   ]
  },
  {
   "attachments": {},
   "cell_type": "markdown",
   "metadata": {},
   "source": [
    "# Models\n",
    "\n",
    "(choose one)"
   ]
  },
  {
   "attachments": {},
   "cell_type": "markdown",
   "metadata": {},
   "source": [
    "Basic Support Vector Machine (SVM)"
   ]
  },
  {
   "cell_type": "code",
   "execution_count": 23,
   "metadata": {},
   "outputs": [],
   "source": [
    "from sklearn import svm\n",
    "\n",
    "model = svm.SVC(kernel='rbf')"
   ]
  },
  {
   "attachments": {},
   "cell_type": "markdown",
   "metadata": {},
   "source": [
    "Basic Gaussian Naive Bayes"
   ]
  },
  {
   "cell_type": "code",
   "execution_count": 24,
   "metadata": {},
   "outputs": [],
   "source": [
    "from sklearn.naive_bayes import GaussianNB\n",
    "\n",
    "model = GaussianNB()"
   ]
  },
  {
   "attachments": {},
   "cell_type": "markdown",
   "metadata": {},
   "source": [
    "Decision Tree"
   ]
  },
  {
   "cell_type": "code",
   "execution_count": null,
   "metadata": {},
   "outputs": [],
   "source": [
    "from sklearn import tree\n",
    "\n",
    "#choose from 'entropy', 'gini', 'log_loss'\n",
    "criterion = 'entropy'\n",
    "\n",
    "    ###STOPPING CONDITIONS\n",
    "#max height/depth of the tree\n",
    "max_depth = 4\n",
    "\n",
    "#if sat(N) < n_samples*this, don't try to split it any further\n",
    "min_samples_split = .01\n",
    "\n",
    "    ###OTHER\n",
    "#if min(sat(nodes after a split)) < n_samples*this, split not considered \n",
    "#       (aka model isnt allowed to create leaf nodes with < n_samples*this samples)\n",
    "#       (smooths the model, avoids splits like 2000 -> 1999 vs 1)\n",
    "min_samples_leaf = .01\n",
    "\n",
    "model = tree.DecisionTreeClassifier(criterion=criterion, max_depth=max_depth, min_samples_split=min_samples_split, min_samples_leaf=min_samples_leaf)"
   ]
  },
  {
   "attachments": {},
   "cell_type": "markdown",
   "metadata": {},
   "source": [
    "For reference: What x,y should look like"
   ]
  },
  {
   "cell_type": "code",
   "execution_count": null,
   "metadata": {},
   "outputs": [],
   "source": [
    "from sklearn.datasets import load_iris\n",
    "\n",
    "iris = load_iris()\n",
    "\n",
    "#iris.data\n",
    "#iris.target"
   ]
  },
  {
   "attachments": {},
   "cell_type": "markdown",
   "metadata": {},
   "source": [
    "# Testing prep\n",
    "\n",
    "Put feature vector with col 1 as 'asin' to *z*, answers to *y*"
   ]
  },
  {
   "cell_type": "code",
   "execution_count": 34,
   "metadata": {},
   "outputs": [
    {
     "ename": "ValueError",
     "evalue": "No axis named reviewNum for object type Series",
     "output_type": "error",
     "traceback": [
      "\u001b[1;31m---------------------------------------------------------------------------\u001b[0m",
      "\u001b[1;31mKeyError\u001b[0m                                  Traceback (most recent call last)",
      "\u001b[1;32mc:\\Users\\zachg\\AppData\\Local\\Programs\\Python\\Python310\\lib\\site-packages\\pandas\\core\\generic.py\u001b[0m in \u001b[0;36m_get_axis_number\u001b[1;34m(cls, axis)\u001b[0m\n\u001b[0;32m    512\u001b[0m         \u001b[1;32mtry\u001b[0m\u001b[1;33m:\u001b[0m\u001b[1;33m\u001b[0m\u001b[1;33m\u001b[0m\u001b[0m\n\u001b[1;32m--> 513\u001b[1;33m             \u001b[1;32mreturn\u001b[0m \u001b[0mcls\u001b[0m\u001b[1;33m.\u001b[0m\u001b[0m_AXIS_TO_AXIS_NUMBER\u001b[0m\u001b[1;33m[\u001b[0m\u001b[0maxis\u001b[0m\u001b[1;33m]\u001b[0m\u001b[1;33m\u001b[0m\u001b[1;33m\u001b[0m\u001b[0m\n\u001b[0m\u001b[0;32m    514\u001b[0m         \u001b[1;32mexcept\u001b[0m \u001b[0mKeyError\u001b[0m\u001b[1;33m:\u001b[0m\u001b[1;33m\u001b[0m\u001b[1;33m\u001b[0m\u001b[0m\n",
      "\u001b[1;31mKeyError\u001b[0m: 'reviewNum'",
      "\nDuring handling of the above exception, another exception occurred:\n",
      "\u001b[1;31mValueError\u001b[0m                                Traceback (most recent call last)",
      "\u001b[1;32m~\\AppData\\Local\\Temp/ipykernel_29796/1051769401.py\u001b[0m in \u001b[0;36m<module>\u001b[1;34m\u001b[0m\n\u001b[1;32m----> 1\u001b[1;33m \u001b[0mreviewCount\u001b[0m\u001b[1;33m.\u001b[0m\u001b[0mmax\u001b[0m\u001b[1;33m(\u001b[0m\u001b[0maxis\u001b[0m\u001b[1;33m=\u001b[0m\u001b[1;34m\"reviewNum\"\u001b[0m\u001b[1;33m)\u001b[0m\u001b[1;33m\u001b[0m\u001b[1;33m\u001b[0m\u001b[0m\n\u001b[0m",
      "\u001b[1;32mc:\\Users\\zachg\\AppData\\Local\\Programs\\Python\\Python310\\lib\\site-packages\\pandas\\core\\generic.py\u001b[0m in \u001b[0;36mmax\u001b[1;34m(self, axis, skipna, numeric_only, **kwargs)\u001b[0m\n\u001b[0;32m  11651\u001b[0m             \u001b[1;33m**\u001b[0m\u001b[0mkwargs\u001b[0m\u001b[1;33m,\u001b[0m\u001b[1;33m\u001b[0m\u001b[1;33m\u001b[0m\u001b[0m\n\u001b[0;32m  11652\u001b[0m         ):\n\u001b[1;32m> 11653\u001b[1;33m             \u001b[1;32mreturn\u001b[0m \u001b[0mNDFrame\u001b[0m\u001b[1;33m.\u001b[0m\u001b[0mmax\u001b[0m\u001b[1;33m(\u001b[0m\u001b[0mself\u001b[0m\u001b[1;33m,\u001b[0m \u001b[0maxis\u001b[0m\u001b[1;33m,\u001b[0m \u001b[0mskipna\u001b[0m\u001b[1;33m,\u001b[0m \u001b[0mnumeric_only\u001b[0m\u001b[1;33m,\u001b[0m \u001b[1;33m**\u001b[0m\u001b[0mkwargs\u001b[0m\u001b[1;33m)\u001b[0m\u001b[1;33m\u001b[0m\u001b[1;33m\u001b[0m\u001b[0m\n\u001b[0m\u001b[0;32m  11654\u001b[0m \u001b[1;33m\u001b[0m\u001b[0m\n\u001b[0;32m  11655\u001b[0m         \u001b[0msetattr\u001b[0m\u001b[1;33m(\u001b[0m\u001b[0mcls\u001b[0m\u001b[1;33m,\u001b[0m \u001b[1;34m\"max\"\u001b[0m\u001b[1;33m,\u001b[0m \u001b[0mmax\u001b[0m\u001b[1;33m)\u001b[0m\u001b[1;33m\u001b[0m\u001b[1;33m\u001b[0m\u001b[0m\n",
      "\u001b[1;32mc:\\Users\\zachg\\AppData\\Local\\Programs\\Python\\Python310\\lib\\site-packages\\pandas\\core\\generic.py\u001b[0m in \u001b[0;36mmax\u001b[1;34m(self, axis, skipna, numeric_only, **kwargs)\u001b[0m\n\u001b[0;32m  11190\u001b[0m         \u001b[1;33m**\u001b[0m\u001b[0mkwargs\u001b[0m\u001b[1;33m,\u001b[0m\u001b[1;33m\u001b[0m\u001b[1;33m\u001b[0m\u001b[0m\n\u001b[0;32m  11191\u001b[0m     ):\n\u001b[1;32m> 11192\u001b[1;33m         return self._stat_function(\n\u001b[0m\u001b[0;32m  11193\u001b[0m             \u001b[1;34m\"max\"\u001b[0m\u001b[1;33m,\u001b[0m\u001b[1;33m\u001b[0m\u001b[1;33m\u001b[0m\u001b[0m\n\u001b[0;32m  11194\u001b[0m             \u001b[0mnanops\u001b[0m\u001b[1;33m.\u001b[0m\u001b[0mnanmax\u001b[0m\u001b[1;33m,\u001b[0m\u001b[1;33m\u001b[0m\u001b[1;33m\u001b[0m\u001b[0m\n",
      "\u001b[1;32mc:\\Users\\zachg\\AppData\\Local\\Programs\\Python\\Python310\\lib\\site-packages\\pandas\\core\\generic.py\u001b[0m in \u001b[0;36m_stat_function\u001b[1;34m(self, name, func, axis, skipna, numeric_only, **kwargs)\u001b[0m\n\u001b[0;32m  11163\u001b[0m         \u001b[0mvalidate_bool_kwarg\u001b[0m\u001b[1;33m(\u001b[0m\u001b[0mskipna\u001b[0m\u001b[1;33m,\u001b[0m \u001b[1;34m\"skipna\"\u001b[0m\u001b[1;33m,\u001b[0m \u001b[0mnone_allowed\u001b[0m\u001b[1;33m=\u001b[0m\u001b[1;32mFalse\u001b[0m\u001b[1;33m)\u001b[0m\u001b[1;33m\u001b[0m\u001b[1;33m\u001b[0m\u001b[0m\n\u001b[0;32m  11164\u001b[0m \u001b[1;33m\u001b[0m\u001b[0m\n\u001b[1;32m> 11165\u001b[1;33m         return self._reduce(\n\u001b[0m\u001b[0;32m  11166\u001b[0m             \u001b[0mfunc\u001b[0m\u001b[1;33m,\u001b[0m \u001b[0mname\u001b[0m\u001b[1;33m=\u001b[0m\u001b[0mname\u001b[0m\u001b[1;33m,\u001b[0m \u001b[0maxis\u001b[0m\u001b[1;33m=\u001b[0m\u001b[0maxis\u001b[0m\u001b[1;33m,\u001b[0m \u001b[0mskipna\u001b[0m\u001b[1;33m=\u001b[0m\u001b[0mskipna\u001b[0m\u001b[1;33m,\u001b[0m \u001b[0mnumeric_only\u001b[0m\u001b[1;33m=\u001b[0m\u001b[0mnumeric_only\u001b[0m\u001b[1;33m\u001b[0m\u001b[1;33m\u001b[0m\u001b[0m\n\u001b[0;32m  11167\u001b[0m         )\n",
      "\u001b[1;32mc:\\Users\\zachg\\AppData\\Local\\Programs\\Python\\Python310\\lib\\site-packages\\pandas\\core\\series.py\u001b[0m in \u001b[0;36m_reduce\u001b[1;34m(self, op, name, axis, skipna, numeric_only, filter_type, **kwds)\u001b[0m\n\u001b[0;32m   4651\u001b[0m \u001b[1;33m\u001b[0m\u001b[0m\n\u001b[0;32m   4652\u001b[0m         \u001b[1;32mif\u001b[0m \u001b[0maxis\u001b[0m \u001b[1;32mis\u001b[0m \u001b[1;32mnot\u001b[0m \u001b[1;32mNone\u001b[0m\u001b[1;33m:\u001b[0m\u001b[1;33m\u001b[0m\u001b[1;33m\u001b[0m\u001b[0m\n\u001b[1;32m-> 4653\u001b[1;33m             \u001b[0mself\u001b[0m\u001b[1;33m.\u001b[0m\u001b[0m_get_axis_number\u001b[0m\u001b[1;33m(\u001b[0m\u001b[0maxis\u001b[0m\u001b[1;33m)\u001b[0m\u001b[1;33m\u001b[0m\u001b[1;33m\u001b[0m\u001b[0m\n\u001b[0m\u001b[0;32m   4654\u001b[0m \u001b[1;33m\u001b[0m\u001b[0m\n\u001b[0;32m   4655\u001b[0m         \u001b[1;32mif\u001b[0m \u001b[0misinstance\u001b[0m\u001b[1;33m(\u001b[0m\u001b[0mdelegate\u001b[0m\u001b[1;33m,\u001b[0m \u001b[0mExtensionArray\u001b[0m\u001b[1;33m)\u001b[0m\u001b[1;33m:\u001b[0m\u001b[1;33m\u001b[0m\u001b[1;33m\u001b[0m\u001b[0m\n",
      "\u001b[1;32mc:\\Users\\zachg\\AppData\\Local\\Programs\\Python\\Python310\\lib\\site-packages\\pandas\\core\\generic.py\u001b[0m in \u001b[0;36m_get_axis_number\u001b[1;34m(cls, axis)\u001b[0m\n\u001b[0;32m    513\u001b[0m             \u001b[1;32mreturn\u001b[0m \u001b[0mcls\u001b[0m\u001b[1;33m.\u001b[0m\u001b[0m_AXIS_TO_AXIS_NUMBER\u001b[0m\u001b[1;33m[\u001b[0m\u001b[0maxis\u001b[0m\u001b[1;33m]\u001b[0m\u001b[1;33m\u001b[0m\u001b[1;33m\u001b[0m\u001b[0m\n\u001b[0;32m    514\u001b[0m         \u001b[1;32mexcept\u001b[0m \u001b[0mKeyError\u001b[0m\u001b[1;33m:\u001b[0m\u001b[1;33m\u001b[0m\u001b[1;33m\u001b[0m\u001b[0m\n\u001b[1;32m--> 515\u001b[1;33m             \u001b[1;32mraise\u001b[0m \u001b[0mValueError\u001b[0m\u001b[1;33m(\u001b[0m\u001b[1;34mf\"No axis named {axis} for object type {cls.__name__}\"\u001b[0m\u001b[1;33m)\u001b[0m\u001b[1;33m\u001b[0m\u001b[1;33m\u001b[0m\u001b[0m\n\u001b[0m\u001b[0;32m    516\u001b[0m \u001b[1;33m\u001b[0m\u001b[0m\n\u001b[0;32m    517\u001b[0m     \u001b[1;33m@\u001b[0m\u001b[0mfinal\u001b[0m\u001b[1;33m\u001b[0m\u001b[1;33m\u001b[0m\u001b[0m\n",
      "\u001b[1;31mValueError\u001b[0m: No axis named reviewNum for object type Series"
     ]
    }
   ],
   "source": [
    "reviewCount.max(axis=\"reviewNum\")"
   ]
  },
  {
   "cell_type": "code",
   "execution_count": 27,
   "metadata": {},
   "outputs": [],
   "source": [
    "#combine all individual features into one dataFrame\n",
    "\n",
    "#enter any features to be combined here! \n",
    "#   They must be pd dataFrames with the 'asin' column for this to work\n",
    "features = [reviewCount,with_image_percentage,percent_verified,total_votes,reviewlength,percentCap,actualAwesomeness,avgSentiment]\n",
    "\n",
    "z = x['asin']\n",
    "for f in features:\n",
    "    z = pd.merge(z,f,'inner','asin')\n",
    "\n",
    "#combine resultant data with correct answers \n",
    "temp = pd.merge(z,y,'inner','asin') \n",
    "temp = temp.groupby(\"asin\").mean()\n",
    "\n",
    "#split into features (x) and awesomeness (y), which now row correspond but don't have an 'asin' col anymore\n",
    "# merged_x = temp.drop(['asin','awesomeness'], axis=1)\n",
    "merged_x = temp.drop(['awesomeness'], axis=1)\n",
    "merged_y = temp[\"awesomeness\"]"
   ]
  },
  {
   "attachments": {},
   "cell_type": "markdown",
   "metadata": {},
   "source": [
    "Decision Tree - See what it looks like! \n",
    "\n",
    "(only run if the model is a decision tree)\n",
    "\n",
    "*note: this trains the model on the whole dataset, so don't do before testing!*"
   ]
  },
  {
   "cell_type": "code",
   "execution_count": null,
   "metadata": {},
   "outputs": [],
   "source": [
    "model.fit(merged_x,merged_y)\n",
    "tree.plot_tree(model)"
   ]
  },
  {
   "attachments": {},
   "cell_type": "markdown",
   "metadata": {},
   "source": [
    "# Testing"
   ]
  },
  {
   "attachments": {},
   "cell_type": "markdown",
   "metadata": {},
   "source": [
    "K-Fold testing \n",
    "\n",
    "(set model to variable *model*)"
   ]
  },
  {
   "cell_type": "code",
   "execution_count": 28,
   "metadata": {},
   "outputs": [
    {
     "ename": "ValueError",
     "evalue": "\nAll the 10 fits failed.\nIt is very likely that your model is misconfigured.\nYou can try to debug the error by setting error_score='raise'.\n\nBelow are more details about the failures:\n--------------------------------------------------------------------------------\n10 fits failed with the following error:\nTraceback (most recent call last):\n  File \"c:\\Users\\zachg\\AppData\\Local\\Programs\\Python\\Python310\\lib\\site-packages\\sklearn\\model_selection\\_validation.py\", line 686, in _fit_and_score\n    estimator.fit(X_train, y_train, **fit_params)\n  File \"c:\\Users\\zachg\\AppData\\Local\\Programs\\Python\\Python310\\lib\\site-packages\\sklearn\\naive_bayes.py\", line 267, in fit\n    return self._partial_fit(\n  File \"c:\\Users\\zachg\\AppData\\Local\\Programs\\Python\\Python310\\lib\\site-packages\\sklearn\\naive_bayes.py\", line 428, in _partial_fit\n    X, y = self._validate_data(X, y, reset=first_call)\n  File \"c:\\Users\\zachg\\AppData\\Local\\Programs\\Python\\Python310\\lib\\site-packages\\sklearn\\base.py\", line 584, in _validate_data\n    X, y = check_X_y(X, y, **check_params)\n  File \"c:\\Users\\zachg\\AppData\\Local\\Programs\\Python\\Python310\\lib\\site-packages\\sklearn\\utils\\validation.py\", line 1106, in check_X_y\n    X = check_array(\n  File \"c:\\Users\\zachg\\AppData\\Local\\Programs\\Python\\Python310\\lib\\site-packages\\sklearn\\utils\\validation.py\", line 921, in check_array\n    _assert_all_finite(\n  File \"c:\\Users\\zachg\\AppData\\Local\\Programs\\Python\\Python310\\lib\\site-packages\\daal4py\\sklearn\\utils\\validation.py\", line 86, in _daal_assert_all_finite\n    raise ValueError(err)\nValueError: Input X contains NaN, infinity or a value too large for dtype('float64').\n",
     "output_type": "error",
     "traceback": [
      "\u001b[1;31m---------------------------------------------------------------------------\u001b[0m",
      "\u001b[1;31mValueError\u001b[0m                                Traceback (most recent call last)",
      "\u001b[1;32m~\\AppData\\Local\\Temp/ipykernel_29796/3724592738.py\u001b[0m in \u001b[0;36m<module>\u001b[1;34m\u001b[0m\n\u001b[0;32m      8\u001b[0m \u001b[0mk\u001b[0m\u001b[1;33m=\u001b[0m\u001b[1;36m10\u001b[0m\u001b[1;33m\u001b[0m\u001b[1;33m\u001b[0m\u001b[0m\n\u001b[0;32m      9\u001b[0m \u001b[1;33m\u001b[0m\u001b[0m\n\u001b[1;32m---> 10\u001b[1;33m \u001b[0mcv_results\u001b[0m \u001b[1;33m=\u001b[0m \u001b[0mcross_validate\u001b[0m\u001b[1;33m(\u001b[0m\u001b[0mmodel\u001b[0m\u001b[1;33m,\u001b[0m \u001b[0mmerged_x\u001b[0m\u001b[1;33m,\u001b[0m \u001b[0mmerged_y\u001b[0m\u001b[1;33m,\u001b[0m \u001b[0mcv\u001b[0m\u001b[1;33m=\u001b[0m\u001b[0mk\u001b[0m\u001b[1;33m,\u001b[0m \u001b[0mscoring\u001b[0m\u001b[1;33m=\u001b[0m\u001b[0mscoring\u001b[0m\u001b[1;33m)\u001b[0m\u001b[1;33m\u001b[0m\u001b[1;33m\u001b[0m\u001b[0m\n\u001b[0m",
      "\u001b[1;32mc:\\Users\\zachg\\AppData\\Local\\Programs\\Python\\Python310\\lib\\site-packages\\sklearn\\model_selection\\_validation.py\u001b[0m in \u001b[0;36mcross_validate\u001b[1;34m(estimator, X, y, groups, scoring, cv, n_jobs, verbose, fit_params, pre_dispatch, return_train_score, return_estimator, error_score)\u001b[0m\n\u001b[0;32m    283\u001b[0m     )\n\u001b[0;32m    284\u001b[0m \u001b[1;33m\u001b[0m\u001b[0m\n\u001b[1;32m--> 285\u001b[1;33m     \u001b[0m_warn_or_raise_about_fit_failures\u001b[0m\u001b[1;33m(\u001b[0m\u001b[0mresults\u001b[0m\u001b[1;33m,\u001b[0m \u001b[0merror_score\u001b[0m\u001b[1;33m)\u001b[0m\u001b[1;33m\u001b[0m\u001b[1;33m\u001b[0m\u001b[0m\n\u001b[0m\u001b[0;32m    286\u001b[0m \u001b[1;33m\u001b[0m\u001b[0m\n\u001b[0;32m    287\u001b[0m     \u001b[1;31m# For callabe scoring, the return type is only know after calling. If the\u001b[0m\u001b[1;33m\u001b[0m\u001b[1;33m\u001b[0m\u001b[0m\n",
      "\u001b[1;32mc:\\Users\\zachg\\AppData\\Local\\Programs\\Python\\Python310\\lib\\site-packages\\sklearn\\model_selection\\_validation.py\u001b[0m in \u001b[0;36m_warn_or_raise_about_fit_failures\u001b[1;34m(results, error_score)\u001b[0m\n\u001b[0;32m    365\u001b[0m                 \u001b[1;34mf\"Below are more details about the failures:\\n{fit_errors_summary}\"\u001b[0m\u001b[1;33m\u001b[0m\u001b[1;33m\u001b[0m\u001b[0m\n\u001b[0;32m    366\u001b[0m             )\n\u001b[1;32m--> 367\u001b[1;33m             \u001b[1;32mraise\u001b[0m \u001b[0mValueError\u001b[0m\u001b[1;33m(\u001b[0m\u001b[0mall_fits_failed_message\u001b[0m\u001b[1;33m)\u001b[0m\u001b[1;33m\u001b[0m\u001b[1;33m\u001b[0m\u001b[0m\n\u001b[0m\u001b[0;32m    368\u001b[0m \u001b[1;33m\u001b[0m\u001b[0m\n\u001b[0;32m    369\u001b[0m         \u001b[1;32melse\u001b[0m\u001b[1;33m:\u001b[0m\u001b[1;33m\u001b[0m\u001b[1;33m\u001b[0m\u001b[0m\n",
      "\u001b[1;31mValueError\u001b[0m: \nAll the 10 fits failed.\nIt is very likely that your model is misconfigured.\nYou can try to debug the error by setting error_score='raise'.\n\nBelow are more details about the failures:\n--------------------------------------------------------------------------------\n10 fits failed with the following error:\nTraceback (most recent call last):\n  File \"c:\\Users\\zachg\\AppData\\Local\\Programs\\Python\\Python310\\lib\\site-packages\\sklearn\\model_selection\\_validation.py\", line 686, in _fit_and_score\n    estimator.fit(X_train, y_train, **fit_params)\n  File \"c:\\Users\\zachg\\AppData\\Local\\Programs\\Python\\Python310\\lib\\site-packages\\sklearn\\naive_bayes.py\", line 267, in fit\n    return self._partial_fit(\n  File \"c:\\Users\\zachg\\AppData\\Local\\Programs\\Python\\Python310\\lib\\site-packages\\sklearn\\naive_bayes.py\", line 428, in _partial_fit\n    X, y = self._validate_data(X, y, reset=first_call)\n  File \"c:\\Users\\zachg\\AppData\\Local\\Programs\\Python\\Python310\\lib\\site-packages\\sklearn\\base.py\", line 584, in _validate_data\n    X, y = check_X_y(X, y, **check_params)\n  File \"c:\\Users\\zachg\\AppData\\Local\\Programs\\Python\\Python310\\lib\\site-packages\\sklearn\\utils\\validation.py\", line 1106, in check_X_y\n    X = check_array(\n  File \"c:\\Users\\zachg\\AppData\\Local\\Programs\\Python\\Python310\\lib\\site-packages\\sklearn\\utils\\validation.py\", line 921, in check_array\n    _assert_all_finite(\n  File \"c:\\Users\\zachg\\AppData\\Local\\Programs\\Python\\Python310\\lib\\site-packages\\daal4py\\sklearn\\utils\\validation.py\", line 86, in _daal_assert_all_finite\n    raise ValueError(err)\nValueError: Input X contains NaN, infinity or a value too large for dtype('float64').\n"
     ]
    }
   ],
   "source": [
    "from sklearn.model_selection import cross_validate\n",
    "from sklearn import metrics\n",
    "\n",
    "#desired metrics\n",
    "scoring=['f1','accuracy','precision','recall']\n",
    "\n",
    "#number of \"folds\"\n",
    "k=10\n",
    "\n",
    "cv_results = cross_validate(model, merged_x, merged_y, cv=k, scoring=scoring)"
   ]
  },
  {
   "attachments": {},
   "cell_type": "markdown",
   "metadata": {},
   "source": [
    "Pretty print results"
   ]
  },
  {
   "cell_type": "code",
   "execution_count": null,
   "metadata": {},
   "outputs": [],
   "source": [
    "hline = (\"-\"*40)\n",
    "\n",
    "#print means, stdevs\n",
    "print(hline+\"\\n\\tAVG, STDEV TEST RESULTS\\n\"+hline)\n",
    "print(\"\\t\\tMEAN\\t\\tSTDEV\")\n",
    "for m in scoring:\n",
    "        ind = (\"test_\"+m)\n",
    "        test = (m+\":\").ljust(10)\n",
    "        print(f\"{test}\\t{np.round(cv_results[ind].mean(),4)}\\t\\t{np.round(cv_results[ind].std(),4)}\")\n",
    "\n",
    "\n",
    "    ##print per test results (if you really want, uncomment)\n",
    "# print(\"\\n\")\n",
    "# print(hline+\"\\n\\tPER TEST RESULTS\\n\"+hline)\n",
    "# for i in range(k):\n",
    "#     print(f\"Test {i}:\")\n",
    "#     for m in scoring:\n",
    "#         ind = (\"test_\"+m)\n",
    "#         test = (m+\":\").ljust(10)\n",
    "#         print(f\"\\t{test} {np.round(cv_results[ind][i],5)}\")"
   ]
  }
 ],
 "metadata": {
  "kernelspec": {
   "display_name": "Python 3",
   "language": "python",
   "name": "python3"
  },
  "language_info": {
   "codemirror_mode": {
    "name": "ipython",
    "version": 3
   },
   "file_extension": ".py",
   "mimetype": "text/x-python",
   "name": "python",
   "nbconvert_exporter": "python",
   "pygments_lexer": "ipython3",
   "version": "3.10.1"
  },
  "orig_nbformat": 4,
  "vscode": {
   "interpreter": {
    "hash": "aee8b7b246df8f9039afb4144a1f6fd8d2ca17a180786b69acc140d282b71a49"
   }
  }
 },
 "nbformat": 4,
 "nbformat_minor": 2
}
